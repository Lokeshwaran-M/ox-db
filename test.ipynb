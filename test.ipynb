{
 "cells": [
  {
   "cell_type": "code",
   "execution_count": 1,
   "metadata": {},
   "outputs": [],
   "source": [
    "from ox_db.oxd import OxDoc"
   ]
  },
  {
   "cell_type": "code",
   "execution_count": 2,
   "metadata": {},
   "outputs": [
    {
     "data": {
      "text/plain": [
       "('note', 'note.oxd')"
      ]
     },
     "execution_count": 2,
     "metadata": {},
     "output_type": "execute_result"
    }
   ],
   "source": [
    "doc = OxDoc(\"note.oxd\")\n",
    "doc.doc, doc.doc_path"
   ]
  },
  {
   "cell_type": "code",
   "execution_count": 30,
   "metadata": {},
   "outputs": [
    {
     "data": {
      "text/plain": [
       "True"
      ]
     },
     "execution_count": 30,
     "metadata": {},
     "output_type": "execute_result"
    }
   ],
   "source": [
    "doc.set(\"k1\", \" dummy data-1\")\n",
    "doc.set(\"k2\", [\" dummy data-1\"])\n",
    "doc.set(\"k3\", {\"data\": \" dummy data-3\"})\n",
    "doc.set(\"null-data\", {\"data\": \"lakajsjnxubebbdiwdiwi\"})"
   ]
  },
  {
   "cell_type": "code",
   "execution_count": 31,
   "metadata": {},
   "outputs": [
    {
     "data": {
      "text/plain": [
       "True"
      ]
     },
     "execution_count": 31,
     "metadata": {},
     "output_type": "execute_result"
    }
   ],
   "source": [
    "doc.set(\"k2\", 2)\n",
    "doc.delete(\"null-data\")"
   ]
  },
  {
   "cell_type": "code",
   "execution_count": 32,
   "metadata": {},
   "outputs": [],
   "source": [
    "new_data = {\"key4\": \"value4\", \"key5\": \"value5\"}\n",
    "doc.add(new_data)"
   ]
  },
  {
   "cell_type": "code",
   "execution_count": 33,
   "metadata": {},
   "outputs": [
    {
     "name": "stdout",
     "output_type": "stream",
     "text": [
      "ox-db :  dummy data-1\n",
      "ox-db : value5\n"
     ]
    },
    {
     "data": {
      "text/plain": [
       "'value5'"
      ]
     },
     "execution_count": 33,
     "metadata": {},
     "output_type": "execute_result"
    }
   ],
   "source": [
    "doc.get(\"k1\")\n",
    "doc.get(\"null-data\")\n",
    "doc.get(\"key5\")"
   ]
  },
  {
   "cell_type": "code",
   "execution_count": 34,
   "metadata": {},
   "outputs": [
    {
     "data": {
      "text/plain": [
       "{'oxd-init': 'data',\n",
       " '33': '55555555555555555555555',\n",
       " 'key2': {'nested': 'value2'},\n",
       " 'dd': 'dddd',\n",
       " 'key4': 'value4',\n",
       " 'key5': 'value5',\n",
       " 'k1': ' dummy data-1',\n",
       " 'k3': {'data': ' dummy data-3'},\n",
       " 'k2': 2}"
      ]
     },
     "execution_count": 34,
     "metadata": {},
     "output_type": "execute_result"
    }
   ],
   "source": [
    "doc.load_data()"
   ]
  },
  {
   "cell_type": "code",
   "execution_count": 35,
   "metadata": {},
   "outputs": [
    {
     "data": {
      "text/plain": [
       "{'oxd-init': 'data',\n",
       " '33': '55555555555555555555555',\n",
       " 'key2': {'nested': 'value2'},\n",
       " 'dd': 'dddd',\n",
       " 'key4': 'value4',\n",
       " 'key5': 'value5',\n",
       " 'k1': ' dummy data-1',\n",
       " 'k3': {'data': ' dummy data-3'},\n",
       " 'k2': 2}"
      ]
     },
     "execution_count": 35,
     "metadata": {},
     "output_type": "execute_result"
    }
   ],
   "source": [
    "doc.compact()"
   ]
  },
  {
   "cell_type": "code",
   "execution_count": null,
   "metadata": {},
   "outputs": [],
   "source": [
    "doc.to_json()"
   ]
  },
  {
   "cell_type": "code",
   "execution_count": 5,
   "metadata": {},
   "outputs": [
    {
     "data": {
      "text/plain": [
       "'note.oxd.zip'"
      ]
     },
     "execution_count": 5,
     "metadata": {},
     "output_type": "execute_result"
    }
   ],
   "source": [
    "doc.zip()"
   ]
  },
  {
   "cell_type": "code",
   "execution_count": 9,
   "metadata": {},
   "outputs": [
    {
     "data": {
      "text/plain": [
       "'./note.oxd'"
      ]
     },
     "execution_count": 9,
     "metadata": {},
     "output_type": "execute_result"
    }
   ],
   "source": [
    "OxDoc.unzip(\"./note.oxd.zip\", \".\")"
   ]
  },
  {
   "cell_type": "code",
   "execution_count": 27,
   "metadata": {},
   "outputs": [
    {
     "data": {
      "text/plain": [
       "str"
      ]
     },
     "execution_count": 27,
     "metadata": {},
     "output_type": "execute_result"
    }
   ],
   "source": [
    "type(\"ss\")"
   ]
  },
  {
   "cell_type": "code",
   "execution_count": 2,
   "metadata": {},
   "outputs": [],
   "source": [
    "import asyncio"
   ]
  },
  {
   "cell_type": "code",
   "execution_count": 25,
   "metadata": {},
   "outputs": [
    {
     "name": "stdout",
     "output_type": "stream",
     "text": [
      "x0\n",
      "x1\n",
      "x1\n",
      "x1\n",
      "x1\n",
      "x1\n",
      "x1\n",
      "x1\n",
      "t0  = dd1\n",
      "t0  = dd2\n",
      "t0  = dd1\n",
      "t0  = dd2\n",
      "t0  = dd1\n",
      "t0  = dd2\n",
      "t0  = dd1\n",
      "t0  = dd2\n",
      "t0  = dd1\n",
      "t0  = dd2\n",
      "t0  = dd1\n",
      "t0  = dd2\n",
      "t0  = dd1\n",
      "t0  = dd2\n",
      "t1  = dd1\n",
      "t1  = dd2\n",
      "t1  = dd1\n",
      "t1  = dd2\n",
      "t1  = dd1\n",
      "t1  = dd2\n",
      "t1  = dd1\n",
      "t1  = dd2\n",
      "t1  = dd1\n",
      "t1  = dd2\n",
      "t1  = dd1\n",
      "t1  = dd2\n",
      "t1  = dd1\n",
      "t1  = dd2\n",
      "x2\n",
      "Data from dd1\n",
      "Data from dd2\n",
      "x3\n",
      "x2\n",
      "Data from dd1\n",
      "Data from dd2\n",
      "x3\n",
      "x2\n",
      "Data from dd1\n",
      "Data from dd2\n",
      "x3\n",
      "x2\n",
      "Data from dd1\n",
      "Data from dd2\n",
      "x3\n",
      "x2\n",
      "Data from dd1\n",
      "Data from dd2\n",
      "x3\n",
      "x2\n",
      "Data from dd1\n",
      "Data from dd2\n",
      "x3\n",
      "x2\n",
      "Data from dd1\n",
      "Data from dd2\n",
      "x3\n",
      "x5\n"
     ]
    }
   ],
   "source": [
    "async def fetch_data(url):\n",
    "    # Simulates making an API call\n",
    "    print(f\"t0  = {url}\")\n",
    "    await asyncio.sleep(10)  # Replace with actual network call\n",
    "    print(f\"t1  = {url}\")\n",
    "    return f\"Data from {url}\"\n",
    "\n",
    "\n",
    "async def main():\n",
    "    tasks = [\n",
    "        fetch_data(\"dd1\"),\n",
    "        fetch_data(\"dd2\"),\n",
    "    ]\n",
    "    print(\"x1\")\n",
    "    results = await asyncio.gather(*tasks)  # Run tasks concurrently\n",
    "    print(\"x2\")\n",
    "    for result in results:\n",
    "        print(result)\n",
    "    print(\"x3\")\n",
    "\n",
    "\n",
    "# Call main coroutine directly (assuming Jupyter notebook environment)\n",
    "print(\"x0\")\n",
    "tasksp = [main(), main() ,main(),main(),main(),main(),main()]\n",
    "\n",
    "await asyncio.gather(*tasksp)\n",
    "\n",
    "print(\"x5\")"
   ]
  },
  {
   "cell_type": "code",
   "execution_count": null,
   "metadata": {},
   "outputs": [],
   "source": []
  }
 ],
 "metadata": {
  "kernelspec": {
   "display_name": "Python 3",
   "language": "python",
   "name": "python3"
  },
  "language_info": {
   "codemirror_mode": {
    "name": "ipython",
    "version": 3
   },
   "file_extension": ".py",
   "mimetype": "text/x-python",
   "name": "python",
   "nbconvert_exporter": "python",
   "pygments_lexer": "ipython3",
   "version": "3.11.9"
  }
 },
 "nbformat": 4,
 "nbformat_minor": 2
}
