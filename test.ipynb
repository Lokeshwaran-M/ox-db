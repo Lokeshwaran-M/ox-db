{
 "cells": [
  {
   "cell_type": "code",
   "execution_count": 1,
   "metadata": {},
   "outputs": [],
   "source": [
    "from ox_db.ai.embed import VectorModel\n",
    "\n",
    "vec = VectorModel()"
   ]
  },
  {
   "cell_type": "code",
   "execution_count": null,
   "metadata": {},
   "outputs": [],
   "source": [
    "vec.model.encode(\"hi this is lokesh\")\n",
    "\n"
   ]
  },
  {
   "cell_type": "code",
   "execution_count": 6,
   "metadata": {},
   "outputs": [
    {
     "data": {
      "text/plain": [
       "{'idx': [0, 4, 2, 1, 3],\n",
       " 'sim_score': [0.9999999971524696,\n",
       "  0.6631633496608047,\n",
       "  0.3579093812627807,\n",
       "  0.25538450104518806,\n",
       "  0.0966380130666007],\n",
       " 'data': ['hi', 'hi lokesh', 'lokesh', 'dd', 'sssss'],\n",
       " 'embed': []}"
      ]
     },
     "execution_count": 6,
     "metadata": {},
     "output_type": "execute_result"
    }
   ],
   "source": [
    "vec.search(\"hi\" ,data=[\"hi\",\"dd\",\"lokesh\",\"sssss\",\"hi lokesh\"],by=\"dp\")"
   ]
  },
  {
   "cell_type": "code",
   "execution_count": 2,
   "metadata": {},
   "outputs": [],
   "source": [
    "data = [\"lok\",\"name\",\"time\",\"date\",\"lokesh\",\"uranium\"]\n",
    "query = \"lokesh\"\n",
    "encoaded_vec_a = vec.generate(\"lokesh\")\n",
    "encoaded_vec_b = vec.generate(\"lokesh\")\n",
    "encoaded_data = vec.generate(data)\n"
   ]
  },
  {
   "cell_type": "code",
   "execution_count": 3,
   "metadata": {},
   "outputs": [],
   "source": [
    "sformat = \"ed\""
   ]
  },
  {
   "cell_type": "code",
   "execution_count": 4,
   "metadata": {},
   "outputs": [
    {
     "data": {
      "text/plain": [
       "{'idx': [0, 1, 4, 2, 3, 5],\n",
       " 'sim_score': [1.021375289974264,\n",
       "  1.0556825550442224,\n",
       "  1.0881680617445162,\n",
       "  1.131192667297774,\n",
       "  1.1786229666185368,\n",
       "  1.2845504279267295]}"
      ]
     },
     "execution_count": 4,
     "metadata": {},
     "output_type": "execute_result"
    }
   ],
   "source": [
    "vec.search(query,doc_embed=encoaded_data,by=sformat)"
   ]
  },
  {
   "cell_type": "code",
   "execution_count": 5,
   "metadata": {},
   "outputs": [
    {
     "data": {
      "text/plain": [
       "0.0"
      ]
     },
     "execution_count": 5,
     "metadata": {},
     "output_type": "execute_result"
    }
   ],
   "source": [
    "vec.sim(encoaded_vec_a[0],encoaded_vec_b[0],sformat)"
   ]
  },
  {
   "cell_type": "code",
   "execution_count": 6,
   "metadata": {},
   "outputs": [
    {
     "data": {
      "text/plain": [
       "{'data': 'hib c uj jc dei ic',\n",
       " 'datax': None,\n",
       " 'embeddings': True,\n",
       " 'description': None,\n",
       " 'metadata': None,\n",
       " 'uid': None}"
      ]
     },
     "execution_count": 6,
     "metadata": {},
     "output_type": "execute_result"
    }
   ],
   "source": [
    "from ox_db.db.types import PushModel\n",
    "\n",
    "PushModel(data=\"hib c uj jc dei ic\").model_dump()"
   ]
  },
  {
   "cell_type": "code",
   "execution_count": 7,
   "metadata": {},
   "outputs": [],
   "source": [
    "from ox_db.db.log import Oxdb\n",
    "\n",
    "db = Oxdb()"
   ]
  },
  {
   "cell_type": "code",
   "execution_count": 8,
   "metadata": {},
   "outputs": [],
   "source": [
    "push = {\"data\":\"testing for shell implimentation\"}\n",
    "search = {\"query\":\"test shell\"}"
   ]
  },
  {
   "cell_type": "code",
   "execution_count": 9,
   "metadata": {},
   "outputs": [
    {
     "data": {
      "text/plain": [
       "{'entries': 1,\n",
       " 'hid': ['f984a05201dba017b84ea76371e4449aa1546cc633992e0af8a8b878f3e769eb'],\n",
       " 'data': ['testing for shell implimentation'],\n",
       " 'description': [None],\n",
       " 'sim_score': [0.06598031375623986],\n",
       " 'index': [{'uid': 'uid',\n",
       "   'doc': 'log-[20_08_2024]',\n",
       "   'time': '05:16:47',\n",
       "   'date': '20-08-2024'}],\n",
       " 'embeddings': []}"
      ]
     },
     "execution_count": 9,
     "metadata": {},
     "output_type": "execute_result"
    }
   ],
   "source": [
    "db.doc.push(**push)\n",
    "db.doc.search(**search)"
   ]
  },
  {
   "cell_type": "code",
   "execution_count": 10,
   "metadata": {},
   "outputs": [],
   "source": [
    "class OxdbShell:\n",
    "    def __init__(self, oxdb):\n",
    "        self.oxdb = oxdb\n",
    "        self.command_mappings = {\n",
    "            \"oxdb.info\": \"oxdb.info()\",\n",
    "            \"info\": \"oxdb.info()\",\n",
    "            \"oxdb.doc.info\": \"oxdb.doc.info()\",\n",
    "            \"doc.info\": \"oxdb.doc.info()\",\n",
    "            \"doc info\": \"oxdb.doc.info()\",\n",
    "            'oxdb.get(\"': \"oxdb.get_db({})\",\n",
    "            'oxdb get \"': \"oxdb.get_db({})\",\n",
    "            'oxdb get(\"': \"oxdb.get_db({})\",\n",
    "            'get(\"': \"oxdb.get_db({})\",\n",
    "            'get \"': \"oxdb.get_db({})\",\n",
    "            'oxdb.doc.get(\"': \"oxdb.doc.get_doc({})\",\n",
    "            'oxdb doc get \"': \"oxdb.doc.get_doc({})\",\n",
    "            'oxdb doc get(\"': \"oxdb.doc.get_doc({})\",\n",
    "            'doc.get(\"': \"oxdb.doc.get_doc({})\",\n",
    "            'doc get \"': \"oxdb.doc.get_doc({})\",\n",
    "            \"oxdb.doc.push(\": \"oxdb.doc.push({})\",\n",
    "            \"doc.push(\": \"oxdb.doc.push({})\",\n",
    "            \"doc push(\": \"oxdb.doc.push({})\",\n",
    "            \"push(\": \"oxdb.doc.push({})\",\n",
    "            \"oxdb.doc.pull(\": \"oxdb.doc.pull({})\",\n",
    "            \"doc.pull(\": \"oxdb.doc.pull({})\",\n",
    "            \"doc pull(\": \"oxdb.doc.pull({})\",\n",
    "            \"pull(\": \"oxdb.doc.pull({})\",\n",
    "            \"oxdb.doc.search(\": \"oxdb.doc.search({})\",\n",
    "            \"doc.search(\": \"oxdb.doc.search({})\",\n",
    "            \"doc search(\": \"oxdb.doc.search({})\",\n",
    "            \"search(\": \"oxdb.doc.search({})\",\n",
    "        }\n",
    "\n",
    "    def validate_command(self, shell_command: str):\n",
    "        for key in self.command_mappings.keys():\n",
    "            if shell_command.startswith(key):\n",
    "                return True\n",
    "        return False\n",
    "\n",
    "    def translate_command(self, shell_command: str):\n",
    "        for key, value in self.command_mappings.items():\n",
    "            if shell_command.startswith(key):\n",
    "                translated_command = value\n",
    "                \n",
    "                if \"{}\" not in value:\n",
    "                    return value\n",
    "                # Handle arguments in quotes for methods like get, push, pull, and search\n",
    "                if not \"(\" in shell_command and '\"' in shell_command and '\"' in shell_command and \"{}\" in value:\n",
    "                    arg_start = shell_command.find('\"')\n",
    "                    arg_end = shell_command.rfind('\"') + 1\n",
    "                    if arg_start != -1 and arg_end != -1:\n",
    "                        args = shell_command[arg_start:arg_end]\n",
    "                        translated_command = value.replace(\"{}\", args)\n",
    "\n",
    "                    print(1, translated_command)\n",
    "                    return translated_command\n",
    "                \n",
    "                # Handle dictionary-style arguments for push, pull, search\n",
    "                if \"{}\" not in shell_command and \"(\" in shell_command and \")\" in shell_command and \"{}\" in value:\n",
    "                    args = shell_command[\n",
    "                        shell_command.find(\"(\") + 1 : shell_command.rfind(\")\")\n",
    "                    ]\n",
    "\n",
    "                    args_string = f\"{args}\"\n",
    "\n",
    "                    translated_command = value.replace(\"{}\", args_string)\n",
    "\n",
    "                    print(2, translated_command)\n",
    "\n",
    "                    return translated_command\n",
    "                                # Handle dictionary-style arguments for push, pull, search\n",
    "                if \"{}\" in shell_command and \"(\" in shell_command and \")\" in shell_command and \"{}\" in value:\n",
    "                    args = shell_command[\n",
    "                        shell_command.find(\"(\") + 1 : shell_command.rfind(\")\")\n",
    "                    ]\n",
    "                    args_string = args\n",
    "                    if \"**\" != args[:2]:\n",
    "                        args_string = \"**{\"+args+\"}\"\n",
    "                    \n",
    "\n",
    "                    translated_command = value.replace(\"{}\", args_string)\n",
    "\n",
    "                    print(2, translated_command)\n",
    "\n",
    "                    return translated_command\n",
    "\n",
    "        return shell_command\n",
    "\n",
    "\n",
    "#"
   ]
  },
  {
   "cell_type": "code",
   "execution_count": 11,
   "metadata": {},
   "outputs": [
    {
     "name": "stdout",
     "output_type": "stream",
     "text": [
      "1 oxdb.get_db(\"mydb\")\n",
      "oxdb.get_db(\"mydb\")\n"
     ]
    }
   ],
   "source": [
    "oxdb_shell = OxdbShell('')\n",
    "shell_command = 'oxdb get \"mydb\"'\n",
    "if oxdb_shell.validate_command(shell_command):\n",
    "    translated = oxdb_shell.translate_command(shell_command)\n",
    "    print(translated)\n",
    "    # This will output: oxdb.doc.get_doc(\"docname\")\n"
   ]
  },
  {
   "cell_type": "code",
   "execution_count": 12,
   "metadata": {},
   "outputs": [
    {
     "name": "stdout",
     "output_type": "stream",
     "text": [
      "2 oxdb.get_db(\"mydb\")\n",
      "2 oxdb.get_db(\"mydb\")\n",
      "1 oxdb.get_db(\"mydb\")\n",
      "1 oxdb.get_db(\"mydb\")\n",
      "2 oxdb.get_db(\"mydb\",\"path\")\n",
      "2 oxdb.get_db(\"mydb\",\"path\")\n",
      "2 oxdb.get_db(\"mydb\",\"path\")\n",
      "2 oxdb.get_db(\"mydb\",\"path\")\n",
      "2 oxdb.doc.get_doc(\"mydoc\")\n",
      "2 oxdb.doc.get_doc(\"mydoc\")\n",
      "1 oxdb.doc.get_doc(\"mydoc\")\n",
      "2 oxdb.doc.push(**{\"uid\": \"177473\", \"document\": \"this is test document\"})\n",
      "2 oxdb.doc.push(**{\"uid\": \"177473\", \"document\": \"this is test document\"})\n",
      "2 oxdb.doc.push(**{\"uid\": \"177473\", \"document\": \"this is test document\"})\n",
      "2 oxdb.doc.push(**{\"uid\": \"177473\", \"document\": \"this is test document\"})\n",
      "2 oxdb.doc.pull(**{\"uid\": \"177473\"})\n",
      "2 oxdb.doc.pull(**{\"uid\": \"177473\"})\n",
      "2 oxdb.doc.pull(**{\"uid\": \"177473\"})\n",
      "2 oxdb.doc.pull(**{\"uid\": \"177473\"})\n",
      "2 oxdb.doc.search({\"query\": \"test\"})\n",
      "2 oxdb.doc.search({\"query\": \"test\"})\n",
      "2 oxdb.doc.search({\"query\": \"test\"})\n",
      "2 oxdb.doc.search({\"query\": \"test\"})\n",
      "All tests passed!\n"
     ]
    }
   ],
   "source": [
    "\n",
    "def test_oxdb_shell():\n",
    "    oxdb_shell = OxdbShell(oxdb=None)  # Mock `oxdb` as None for testing purposes\n",
    "    \n",
    "    # Test cases for `oxdb.info()` command\n",
    "    assert oxdb_shell.validate_command('oxdb.info')\n",
    "    assert oxdb_shell.translate_command('oxdb.info') == 'oxdb.info()'\n",
    "    \n",
    "    assert oxdb_shell.validate_command('info')\n",
    "    assert oxdb_shell.translate_command('info') == 'oxdb.info()'\n",
    "    \n",
    "    # Test cases for `oxdb.doc.info()` command\n",
    "    assert oxdb_shell.validate_command('oxdb.doc.info')\n",
    "    assert oxdb_shell.translate_command('oxdb.doc.info') == 'oxdb.doc.info()'\n",
    "    \n",
    "    assert oxdb_shell.validate_command('doc.info')\n",
    "    assert oxdb_shell.translate_command('doc.info') == 'oxdb.doc.info()'\n",
    "    \n",
    "    assert oxdb_shell.validate_command('doc info')\n",
    "    assert oxdb_shell.translate_command('doc info') == 'oxdb.doc.info()'\n",
    "    \n",
    "    # Test cases for `oxdb.get_db(\"dbname\")` command\n",
    "    assert oxdb_shell.validate_command('oxdb.get(\"mydb\")')\n",
    "    assert oxdb_shell.translate_command('oxdb.get(\"mydb\")') == 'oxdb.get_db(\"mydb\")'\n",
    "    \n",
    "    assert oxdb_shell.validate_command('get(\"mydb\")')\n",
    "    assert oxdb_shell.translate_command('get(\"mydb\")') == 'oxdb.get_db(\"mydb\")'\n",
    "    \n",
    "    assert oxdb_shell.validate_command('oxdb get \"mydb\"')\n",
    "    assert oxdb_shell.translate_command('oxdb get \"mydb\"') == 'oxdb.get_db(\"mydb\")'\n",
    "    \n",
    "    assert oxdb_shell.validate_command('get \"mydb\"')\n",
    "    assert oxdb_shell.translate_command('get \"mydb\"') == 'oxdb.get_db(\"mydb\")'\n",
    "    \n",
    "    # Test cases for `oxdb.get_db(\"dbname\",\"path\")` command\n",
    "    assert oxdb_shell.validate_command('oxdb.get(\"mydb\",\"path\")')\n",
    "    assert oxdb_shell.translate_command('oxdb.get(\"mydb\",\"path\")') == 'oxdb.get_db(\"mydb\",\"path\")'\n",
    "    \n",
    "    assert oxdb_shell.validate_command('get(\"mydb\",\"path\")')\n",
    "    assert oxdb_shell.translate_command('get(\"mydb\",\"path\")') == 'oxdb.get_db(\"mydb\",\"path\")'\n",
    "    \n",
    "    assert oxdb_shell.validate_command('oxdb get(\"mydb\",\"path\")')\n",
    "    assert oxdb_shell.translate_command('oxdb get(\"mydb\",\"path\")') == 'oxdb.get_db(\"mydb\",\"path\")'\n",
    "    \n",
    "    assert oxdb_shell.validate_command('get(\"mydb\",\"path\")')\n",
    "    assert oxdb_shell.translate_command('get(\"mydb\",\"path\")') == 'oxdb.get_db(\"mydb\",\"path\")'\n",
    "    \n",
    "    # Test cases for `oxdb.doc.get_doc(\"docname\")` command\n",
    "    assert oxdb_shell.validate_command('oxdb.doc.get(\"mydoc\")')\n",
    "    assert oxdb_shell.translate_command('oxdb.doc.get(\"mydoc\")') == 'oxdb.doc.get_doc(\"mydoc\")'\n",
    "    \n",
    "    assert oxdb_shell.validate_command('doc.get(\"mydoc\")')\n",
    "    assert oxdb_shell.translate_command('doc.get(\"mydoc\")') == 'oxdb.doc.get_doc(\"mydoc\")'\n",
    "    \n",
    "    assert oxdb_shell.validate_command('doc get \"mydoc\"')\n",
    "    assert oxdb_shell.translate_command('doc get \"mydoc\"') == 'oxdb.doc.get_doc(\"mydoc\")'\n",
    "    \n",
    "    # Test cases for `oxdb.doc.push(**data)` command\n",
    "    data = '**{\"uid\": \"177473\", \"document\": \"this is test document\"}'\n",
    "    assert oxdb_shell.validate_command(f'oxdb.doc.push({data})')\n",
    "    assert oxdb_shell.translate_command(f'oxdb.doc.push({data})') == f'oxdb.doc.push({data})'\n",
    "    \n",
    "    assert oxdb_shell.validate_command(f'doc.push({data})')\n",
    "    assert oxdb_shell.translate_command(f'doc.push({data})') == f'oxdb.doc.push({data})'\n",
    "    \n",
    "    assert oxdb_shell.validate_command(f'doc push({data})')\n",
    "    assert oxdb_shell.translate_command(f'doc push({data})') == f'oxdb.doc.push({data})'\n",
    "    \n",
    "    assert oxdb_shell.validate_command(f'push({data})')\n",
    "    assert oxdb_shell.translate_command(f'push({data})') == f'oxdb.doc.push({data})'\n",
    "    \n",
    "    # Test cases for `oxdb.doc.pull(**data)` command\n",
    "    data = '**{\"uid\": \"177473\"}'\n",
    "    assert oxdb_shell.validate_command(f'oxdb.doc.pull({data})')\n",
    "    assert oxdb_shell.translate_command(f'oxdb.doc.pull({data})') == f'oxdb.doc.pull({data})'\n",
    "    \n",
    "    assert oxdb_shell.validate_command(f'doc.pull({data})')\n",
    "    assert oxdb_shell.translate_command(f'doc.pull({data})') == f'oxdb.doc.pull({data})'\n",
    "    \n",
    "    assert oxdb_shell.validate_command(f'doc pull({data})')\n",
    "    assert oxdb_shell.translate_command(f'doc pull({data})') == f'oxdb.doc.pull({data})'\n",
    "    \n",
    "    assert oxdb_shell.validate_command(f'pull({data})')\n",
    "    assert oxdb_shell.translate_command(f'pull({data})') == f'oxdb.doc.pull({data})'\n",
    "    \n",
    "    # Test cases for `oxdb.doc.search(**data)` command\n",
    "    data = '{\"query\": \"test\"}'\n",
    "    assert oxdb_shell.validate_command(f'oxdb.doc.search({data})')\n",
    "    assert not oxdb_shell.translate_command(f'oxdb.doc.search({data})') == f'oxdb.doc.search(**{data})'\n",
    "    \n",
    "    assert oxdb_shell.validate_command(f'doc.search({data})')\n",
    "    assert not oxdb_shell.translate_command(f'doc.search({data})') == f'oxdb.doc.search(**{data})'\n",
    "    \n",
    "    assert oxdb_shell.validate_command(f'doc search({data})')\n",
    "    assert not oxdb_shell.translate_command(f'doc search({data})') == f'oxdb.doc.search(**{data})'\n",
    "    \n",
    "    assert oxdb_shell.validate_command(f'search({data})')\n",
    "    assert not oxdb_shell.translate_command(f'search({data})') == f'oxdb.doc.search(**{data})'\n",
    "\n",
    "    print(\"All tests passed!\")\n",
    "\n",
    "# Run the test function\n",
    "test_oxdb_shell()\n"
   ]
  },
  {
   "cell_type": "code",
   "execution_count": 1,
   "metadata": {},
   "outputs": [
    {
     "ename": "AttributeError",
     "evalue": "module 'os' has no attribute 'setenv'",
     "output_type": "error",
     "traceback": [
      "\u001b[0;31m---------------------------------------------------------------------------\u001b[0m",
      "\u001b[0;31mAttributeError\u001b[0m                            Traceback (most recent call last)",
      "Cell \u001b[0;32mIn[1], line 6\u001b[0m\n\u001b[1;32m      3\u001b[0m \u001b[38;5;66;03m# Set the environment variable\u001b[39;00m\n\u001b[1;32m      4\u001b[0m os\u001b[38;5;241m.\u001b[39menviron[\u001b[38;5;124m\"\u001b[39m\u001b[38;5;124mOXDB_API_KEY\u001b[39m\u001b[38;5;124m\"\u001b[39m] \u001b[38;5;241m=\u001b[39m \u001b[38;5;124m\"\u001b[39m\u001b[38;5;124mox-db-101\u001b[39m\u001b[38;5;124m\"\u001b[39m\n\u001b[0;32m----> 6\u001b[0m \u001b[43mos\u001b[49m\u001b[38;5;241;43m.\u001b[39;49m\u001b[43msetenv\u001b[49m(\u001b[38;5;124m\"\u001b[39m\u001b[38;5;124mdd\u001b[39m\u001b[38;5;124m\"\u001b[39m)\n\u001b[1;32m      7\u001b[0m \u001b[38;5;66;03m# Access the environment variable\u001b[39;00m\n\u001b[1;32m      8\u001b[0m api_key \u001b[38;5;241m=\u001b[39m os\u001b[38;5;241m.\u001b[39mgetenv(\u001b[38;5;124m\"\u001b[39m\u001b[38;5;124mOXDB_API_KEY\u001b[39m\u001b[38;5;124m\"\u001b[39m)\n",
      "\u001b[0;31mAttributeError\u001b[0m: module 'os' has no attribute 'setenv'"
     ]
    }
   ],
   "source": [
    "import os\n",
    "\n",
    "# Set the environment variable\n",
    "os.environ[\"OXDB_API_KEY\"] = \"ox-db-101\"\n",
    "\n",
    "# Access the environment variable\n",
    "api_key = os.getenv(\"OXDB_API_KEY\")\n",
    "print(api_key)  # Output: your_api_key"
   ]
  },
  {
   "cell_type": "code",
   "execution_count": 14,
   "metadata": {},
   "outputs": [
    {
     "data": {
      "text/plain": [
       "'192.168.29.151'"
      ]
     },
     "execution_count": 14,
     "metadata": {},
     "output_type": "execute_result"
    }
   ],
   "source": [
    "from ox_db.utils.dp import get_local_ip\n",
    "\n",
    "\n",
    "get_local_ip() \n"
   ]
  },
  {
   "cell_type": "code",
   "execution_count": null,
   "metadata": {},
   "outputs": [],
   "source": []
  }
 ],
 "metadata": {
  "kernelspec": {
   "display_name": "Python 3",
   "language": "python",
   "name": "python3"
  },
  "language_info": {
   "codemirror_mode": {
    "name": "ipython",
    "version": 3
   },
   "file_extension": ".py",
   "mimetype": "text/x-python",
   "name": "python",
   "nbconvert_exporter": "python",
   "pygments_lexer": "ipython3",
   "version": "3.11.9"
  }
 },
 "nbformat": 4,
 "nbformat_minor": 2
}
