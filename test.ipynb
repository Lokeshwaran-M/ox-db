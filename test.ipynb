{
 "cells": [
  {
   "cell_type": "code",
   "execution_count": 1,
   "metadata": {},
   "outputs": [],
   "source": [
    "class MyClass:\n",
    "    def __init__(self):\n",
    "        print(\"Object created\")\n",
    "        self.resources = []  # Resources to manage\n",
    "\n",
    "    def __enter__(self):\n",
    "        # Code to execute when entering the context (e.g., acquire resources)\n",
    "        print(\"Entering context\")\n",
    "        self.resources.append(\"Resource 1\")\n",
    "        return self\n",
    "\n",
    "    def __exit__(self, exc_type, exc_val, exc_tb):\n",
    "        # Code to execute when exiting the context (e.g., release resources)\n",
    "        print(\"Exiting context\")\n",
    "        for resource in self.resources:\n",
    "            # Release resource\n",
    "            print(f\"Releasing resource: {resource}\")\n",
    "        return None  # Suppress parent context manager exceptions\n",
    "    \n",
    "    def p(self):\n",
    "        print (self.resources)\n",
    "\n"
   ]
  },
  {
   "cell_type": "code",
   "execution_count": 3,
   "metadata": {},
   "outputs": [
    {
     "name": "stdout",
     "output_type": "stream",
     "text": [
      "Object created\n",
      "Entering context\n",
      "Using object\n",
      "Exiting context\n",
      "Releasing resource: Resource 1\n",
      "Object created\n",
      "[]\n"
     ]
    }
   ],
   "source": [
    "with MyClass() as obj:\n",
    "    # Code using the object\n",
    "    print(\"Using object\")\n",
    "\n",
    "\n",
    "cc = MyClass()\n",
    "\n",
    "cc.p()\n"
   ]
  },
  {
   "cell_type": "code",
   "execution_count": null,
   "metadata": {},
   "outputs": [],
   "source": []
  },
  {
   "cell_type": "code",
   "execution_count": null,
   "metadata": {},
   "outputs": [],
   "source": [
    "import asyncio"
   ]
  },
  {
   "cell_type": "code",
   "execution_count": null,
   "metadata": {},
   "outputs": [],
   "source": [
    "async def fetch_data(url):\n",
    "    # Simulates making an API call\n",
    "    print(f\"t0  = {url}\")\n",
    "    await asyncio.sleep(10)  # Replace with actual network call\n",
    "    print(f\"t1  = {url}\")\n",
    "    return f\"Data from {url}\"\n",
    "\n",
    "\n",
    "async def main():\n",
    "    tasks = [\n",
    "        fetch_data(\"dd1\"),\n",
    "        fetch_data(\"dd2\"),\n",
    "    ]\n",
    "    print(\"x1\")\n",
    "    results = await asyncio.gather(*tasks)  # Run tasks concurrently\n",
    "    print(\"x2\")\n",
    "    for result in results:\n",
    "        print(result)\n",
    "    print(\"x3\")\n",
    "\n",
    "\n",
    "# Call main coroutine directly (assuming Jupyter notebook environment)\n",
    "print(\"x0\")\n",
    "tasksp = [main(), main() ,main(),main(),main(),main(),main()]\n",
    "\n",
    "await asyncio.gather(*tasksp)\n",
    "\n",
    "print(\"x5\")"
   ]
  },
  {
   "cell_type": "code",
   "execution_count": null,
   "metadata": {},
   "outputs": [],
   "source": [
    "import asyncio"
   ]
  },
  {
   "cell_type": "code",
   "execution_count": 11,
   "metadata": {},
   "outputs": [],
   "source": [
    "\n",
    "\n",
    "# Define an asynchronous function\n",
    "async def say_hello():\n",
    "    print(\"Hello\")\n",
    "    await asyncio.sleep(5)  # Simulate an I/O-bound operation with a non-blocking sleep\n",
    "    print(\"World\")\n",
    "    await asyncio.sleep(5)\n",
    "    print(\"Wbbbb\")\n",
    "# Run the asynchronous function using await\n",
    "\n"
   ]
  },
  {
   "cell_type": "code",
   "execution_count": 13,
   "metadata": {},
   "outputs": [
    {
     "name": "stdout",
     "output_type": "stream",
     "text": [
      "Hello\n",
      "World\n",
      "Wbbbb\n"
     ]
    }
   ],
   "source": [
    "await say_hello()"
   ]
  }
 ],
 "metadata": {
  "kernelspec": {
   "display_name": "Python 3",
   "language": "python",
   "name": "python3"
  },
  "language_info": {
   "codemirror_mode": {
    "name": "ipython",
    "version": 3
   },
   "file_extension": ".py",
   "mimetype": "text/x-python",
   "name": "python",
   "nbconvert_exporter": "python",
   "pygments_lexer": "ipython3",
   "version": "3.11.9"
  }
 },
 "nbformat": 4,
 "nbformat_minor": 2
}
