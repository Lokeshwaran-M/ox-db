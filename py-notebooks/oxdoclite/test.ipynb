{
 "cells": [
  {
   "cell_type": "code",
   "execution_count": 3,
   "metadata": {},
   "outputs": [],
   "source": [
    "from oxdb_lite.oxdoc_lite.db.cache import LRUCache"
   ]
  },
  {
   "cell_type": "code",
   "execution_count": 4,
   "metadata": {},
   "outputs": [
    {
     "name": "stdout",
     "output_type": "stream",
     "text": [
      "items\n",
      "Cache state: [('3', ['data', 1, 2]), ('2', 2), ('1', 1)]\n",
      "\n",
      "After access key=1:\n",
      "Cache state: [('1', 1), ('3', ['data', 1, 2]), ('2', 2)]\n",
      "\n",
      "After adding key=4 (evict key=2):\n",
      "\n",
      "Getting key=2 evicted(return None): None\n",
      "Cache state: [(4, 4), ('1', 1), ('3', ['data', 1, 2])]\n",
      "Cache state: [(6, 6), (4, 4)]\n"
     ]
    },
    {
     "data": {
      "text/plain": [
       "[(6, 6), (4, 4)]"
      ]
     },
     "execution_count": 4,
     "metadata": {},
     "output_type": "execute_result"
    }
   ],
   "source": [
    "\n",
    "cache = LRUCache(capacity=3)\n",
    "\n",
    "cache.put(\"1\", 1)  \n",
    "cache.put(\"2\", 2)  \n",
    "cache.put(\"3\", [\"data\",1,2])  \n",
    "\n",
    "print(\"items\")\n",
    "cache.display()\n",
    "\n",
    "cache.get(\"1\")     # Access key=1 to make it most recently used\n",
    "print(\"\\nAfter access key=1:\")\n",
    "cache.display()\n",
    "\n",
    "cache.put(4, 4)  # Add item with key=4, which should evict key=2 (LRU)\n",
    "print(\"\\nAfter adding key=4 (evict key=2):\")\n",
    "\n",
    "print(\"\\nGetting key=2 evicted(return None):\", cache.get(2))\n",
    "cache.display()\n",
    "cache.put(5,5)\n",
    "cache.put(6,6)\n",
    "cache.delete(5)\n",
    "cache.display()"
   ]
  },
  {
   "cell_type": "code",
   "execution_count": 11,
   "metadata": {},
   "outputs": [
    {
     "name": "stdout",
     "output_type": "stream",
     "text": [
      "Cache state: [(6, 6), (4, 55)]\n"
     ]
    },
    {
     "data": {
      "text/plain": [
       "(6, [(6, 6), (4, 55)])"
      ]
     },
     "execution_count": 11,
     "metadata": {},
     "output_type": "execute_result"
    }
   ],
   "source": [
    "cache[4]=55\n",
    "cache[6],cache.display()"
   ]
  },
  {
   "cell_type": "code",
   "execution_count": 1,
   "metadata": {},
   "outputs": [],
   "source": [
    "from oxdoc_lite.db.mem import OxdMem"
   ]
  },
  {
   "cell_type": "code",
   "execution_count": 2,
   "metadata": {},
   "outputs": [],
   "source": [
    "db = OxdMem(\"index\")"
   ]
  },
  {
   "cell_type": "code",
   "execution_count": 1,
   "metadata": {},
   "outputs": [
    {
     "ename": "TypeError",
     "evalue": "OxdMem.__init__() missing 1 required positional argument: 'doc'",
     "output_type": "error",
     "traceback": [
      "\u001b[0;31m---------------------------------------------------------------------------\u001b[0m",
      "\u001b[0;31mTypeError\u001b[0m                                 Traceback (most recent call last)",
      "Cell \u001b[0;32mIn[1], line 4\u001b[0m\n\u001b[1;32m      1\u001b[0m \u001b[38;5;28;01mfrom\u001b[39;00m \u001b[38;5;21;01moxdoc\u001b[39;00m\u001b[38;5;21;01m.\u001b[39;00m\u001b[38;5;21;01mdb\u001b[39;00m\u001b[38;5;21;01m.\u001b[39;00m\u001b[38;5;21;01mmem\u001b[39;00m \u001b[38;5;28;01mimport\u001b[39;00m OxdMem\n\u001b[0;32m----> 4\u001b[0m db \u001b[38;5;241m=\u001b[39m \u001b[43mOxdMem\u001b[49m\u001b[43m(\u001b[49m\u001b[43m)\u001b[49m\n\u001b[1;32m      6\u001b[0m db\u001b[38;5;241m.\u001b[39mset(\u001b[38;5;124m\"\u001b[39m\u001b[38;5;124mk1\u001b[39m\u001b[38;5;124m\"\u001b[39m, \u001b[38;5;124m\"\u001b[39m\u001b[38;5;124mdata\u001b[39m\u001b[38;5;124m\"\u001b[39m)  \u001b[38;5;66;03m# Add a key-value pair\u001b[39;00m\n\u001b[1;32m      7\u001b[0m db\u001b[38;5;241m.\u001b[39mset(\u001b[38;5;124m\"\u001b[39m\u001b[38;5;124mk2\u001b[39m\u001b[38;5;124m\"\u001b[39m, \u001b[38;5;241m30\u001b[39m)  \u001b[38;5;66;03m# Add another key-value pair\u001b[39;00m\n",
      "\u001b[0;31mTypeError\u001b[0m: OxdMem.__init__() missing 1 required positional argument: 'doc'"
     ]
    }
   ],
   "source": [
    "\n",
    "\n",
    "\n",
    "\n",
    "\n",
    "db.set(\"k1\", \"data\")  # Add a key-value pair\n",
    "db.set(\"k2\", 30)  # Add another key-value pair\n",
    "\n",
    "db.display()  # Display the current data\n",
    "\n",
    "print(\"\\nGet 'k1':\", db.get(\"k1\"))  # Retrieve value of 'k1'\n",
    "\n",
    "db.delete(\"k2\")  # Delete 'k2' key\n",
    "\n",
    "db.display()  # Display current data\n",
    "\n",
    "db.flush()\n",
    "db.clear()  # Clear the data"
   ]
  },
  {
   "cell_type": "code",
   "execution_count": null,
   "metadata": {},
   "outputs": [],
   "source": []
  }
 ],
 "metadata": {
  "kernelspec": {
   "display_name": "Python 3",
   "language": "python",
   "name": "python3"
  },
  "language_info": {
   "codemirror_mode": {
    "name": "ipython",
    "version": 3
   },
   "file_extension": ".py",
   "mimetype": "text/x-python",
   "name": "python",
   "nbconvert_exporter": "python",
   "pygments_lexer": "ipython3",
   "version": "3.11.9"
  }
 },
 "nbformat": 4,
 "nbformat_minor": 2
}
