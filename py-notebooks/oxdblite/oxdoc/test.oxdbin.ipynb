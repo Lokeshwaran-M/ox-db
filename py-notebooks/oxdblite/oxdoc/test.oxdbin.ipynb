{
 "cells": [
  {
   "cell_type": "code",
   "execution_count": 2,
   "metadata": {},
   "outputs": [],
   "source": [
    "from oxdb_lite.oxdoc import Oxdbin"
   ]
  },
  {
   "cell_type": "code",
   "execution_count": 2,
   "metadata": {},
   "outputs": [],
   "source": [
    "dd = \"dd\""
   ]
  },
  {
   "cell_type": "code",
   "execution_count": 3,
   "metadata": {},
   "outputs": [
    {
     "data": {
      "text/plain": [
       "(b's\\x00\\x00\\x00\\x02dd', 'dd', True)"
      ]
     },
     "execution_count": 3,
     "metadata": {},
     "output_type": "execute_result"
    }
   ],
   "source": [
    "en = Oxdbin.encode(dd)\n",
    "de = Oxdbin.decode(en)\n",
    "\n",
    "en,de,dd==de"
   ]
  },
  {
   "cell_type": "code",
   "execution_count": 12,
   "metadata": {},
   "outputs": [],
   "source": [
    "s=b's\\x00\\x00\\x00\\x02dd'"
   ]
  },
  {
   "cell_type": "code",
   "execution_count": 19,
   "metadata": {},
   "outputs": [
    {
     "data": {
      "text/plain": [
       "bytes"
      ]
     },
     "execution_count": 19,
     "metadata": {},
     "output_type": "execute_result"
    }
   ],
   "source": [
    "type(s)"
   ]
  },
  {
   "cell_type": "code",
   "execution_count": 18,
   "metadata": {},
   "outputs": [
    {
     "data": {
      "text/plain": [
       "'d'"
      ]
     },
     "execution_count": 18,
     "metadata": {},
     "output_type": "execute_result"
    }
   ],
   "source": [
    "chr(s[6])"
   ]
  },
  {
   "cell_type": "code",
   "execution_count": 10,
   "metadata": {},
   "outputs": [
    {
     "name": "stdout",
     "output_type": "stream",
     "text": [
      "n\u0000\u0000\u0000\u000e\u0000\u0000\u0000\u0000\u0000\u0000\u0000\u0000\u0000\u0000\u0000\u0000\u0000\u0000d\u0000\u0000\u0000\u0001s\u0000\u0000\u0000\u0000s\u0000\u0000\u0000\u000e dummy data-1bd\u0000\u0000\u0000\u0001s\u0000\u0000\u0000\u0000l\u0000\u0000\u0000\u0001s\u0000\u0000\u0000\u000e dummy data-\n"
     ]
    }
   ],
   "source": [
    "def hex_bytes_to_string(hex_bytes):\n",
    "    # Decode hex bytes using 'utf-8' encoding, errors='ignore' to skip non-printable parts\n",
    "    return hex_bytes.decode('utf-8', errors='ignore')\n",
    "\n",
    "# Example hex bytes\n",
    "hex_bytes = b'n\\x00\\x00\\x00\\x0e\\x00\\x00\\x00\\x00\\x00\\x00\\x00\\x00\\x00\\x00\\x00\\x00\\x00\\x00d\\x00\\x00\\x00\\x01s\\x00\\x00\\x00\\x00s\\x00\\x00\\x00\\x0e dummy data-1bd\\x00\\x00\\x00\\x01s\\x00\\x00\\x00\\x00l\\x00\\x00\\x00\\x01s\\x00\\x00\\x00\\x0e dummy data-'\n",
    "\n",
    "# Convert to string\n",
    "string_data = hex_bytes_to_string(hex_bytes)\n",
    "print(string_data)\n"
   ]
  },
  {
   "cell_type": "code",
   "execution_count": 5,
   "metadata": {},
   "outputs": [
    {
     "name": "stdout",
     "output_type": "stream",
     "text": [
      "n..................d....s....s.... dummy data-1bd....s....l....s.... dummy data-\n"
     ]
    }
   ],
   "source": [
    "import string\n",
    "\n",
    "def hex_bytes_to_printable_string(hex_bytes):\n",
    "    # Convert byte string to regular string with placeholders for non-printable chars\n",
    "    return ''.join(chr(b) if chr(b) in string.printable else '.' for b in hex_bytes)\n",
    "\n",
    "# Example usage\n",
    "printable_data = hex_bytes_to_printable_string(hex_bytes)\n",
    "print(printable_data)\n"
   ]
  },
  {
   "cell_type": "code",
   "execution_count": 14,
   "metadata": {},
   "outputs": [
    {
     "name": "stdout",
     "output_type": "stream",
     "text": [
      "[110, 14, 0, 0, 1677721600, 16777216, 115, 29440, 1679822336, 2037214581, 1952539680, 1647390049, 100, 29441, 7077888, 1929445376, 234881024, 1836409888, 1679849837, 761361505]\n"
     ]
    }
   ],
   "source": [
    "import struct\n",
    "import string\n",
    "\n",
    "def hex_bytes_to_mixed_data(hex_bytes):\n",
    "    pos = 0\n",
    "    data = []\n",
    "\n",
    "    while pos < len(hex_bytes):\n",
    "        # Attempt to read 4 bytes as an integer\n",
    "        if len(hex_bytes) - pos >= 4:\n",
    "            try:\n",
    "                # Try to unpack the next 4 bytes as an integer (assuming 32-bit integer)\n",
    "                int_val = struct.unpack('i', hex_bytes[pos:pos+4])[0]\n",
    "                data.append(int_val)\n",
    "                pos += 4\n",
    "                continue  # Move to next position after reading an int\n",
    "            except struct.error:\n",
    "                pass\n",
    "        \n",
    "        # Attempt to read 4 bytes as a float\n",
    "        if len(hex_bytes) - pos >= 4:\n",
    "            try:\n",
    "                # Try to unpack the next 4 bytes as a float (assuming 32-bit float)\n",
    "                float_val = struct.unpack('f', hex_bytes[pos:pos+4])[0]\n",
    "                data.append(float_val)\n",
    "                pos += 4\n",
    "                continue  # Move to next position after reading a float\n",
    "            except struct.error:\n",
    "                pass\n",
    "        \n",
    "        # If it's not an int or float, treat it as a string (printable characters)\n",
    "        char = chr(hex_bytes[pos])\n",
    "        if char in string.printable:\n",
    "            data.append(char)\n",
    "        pos += 1\n",
    "\n",
    "    return data\n",
    "\n",
    "# Example hex bytes\n",
    "#hex_bytes = b'n\\x00\\x00\\x00\\x0e\\x00\\x00\\x00\\x00\\x00\\x00\\x00\\x00\\x00\\x00\\x00\\x00\\x00\\x00d\\x00\\x00\\x00\\x01s\\x00\\x00\\x00\\x00s\\x00\\x00\\x00\\x0e dummy data-1bd\\x00\\x00\\x00\\x01s\\x00\\x00\\x00\\x00l\\x00\\x00\\x00\\x01s\\x00\\x00\\x00\\x0e dummy data-'\n",
    "\n",
    "# Convert hex bytes to mixed data (integers, floats, strings)\n",
    "mixed_data = hex_bytes_to_mixed_data(hex_bytes)\n",
    "print(mixed_data)\n"
   ]
  },
  {
   "cell_type": "code",
   "execution_count": 16,
   "metadata": {},
   "outputs": [
    {
     "name": "stdout",
     "output_type": "stream",
     "text": [
      "123\n",
      "45.67\n",
      "byte data example\n",
      "[1, 2, 3]\n",
      "{'name': 'John', 'age': 30}\n"
     ]
    }
   ],
   "source": [
    "def to_string(data):\n",
    "    if isinstance(data, bytes):\n",
    "        # Decode bytes to string\n",
    "        return data.decode(\"utf-8\", errors=\"ignore\")\n",
    "    else:\n",
    "        # Convert other data types to string using str()\n",
    "        return str(data)\n",
    "\n",
    "# Usage examples:\n",
    "\n",
    "# Integer\n",
    "print(to_string(123))  # '123'\n",
    "\n",
    "# Float\n",
    "print(to_string(45.67))  # '45.67'\n",
    "\n",
    "# Byte data\n",
    "print(to_string(b\"byte data example\"))  # 'byte data example'\n",
    "\n",
    "# List\n",
    "print(to_string([1, 2, 3]))  # '[1, 2, 3]'\n",
    "\n",
    "# Dictionary\n",
    "print(to_string({\"name\": \"John\", \"age\": 30}))  # '{'name': 'John', 'age': 30}'\n"
   ]
  },
  {
   "cell_type": "code",
   "execution_count": 17,
   "metadata": {},
   "outputs": [
    {
     "name": "stdout",
     "output_type": "stream",
     "text": [
      "MyClass(name=Test, value=100)\n"
     ]
    }
   ],
   "source": [
    "class MyClass:\n",
    "    def __init__(self, name, value):\n",
    "        self.name = name\n",
    "        self.value = value\n",
    "\n",
    "    def __str__(self):\n",
    "        return f\"MyClass(name={self.name}, value={self.value})\"\n",
    "\n",
    "obj = MyClass(\"Test\", 100)\n",
    "print(to_string(obj))  # 'MyClass(name=Test, value=100)'\n"
   ]
  },
  {
   "cell_type": "code",
   "execution_count": null,
   "metadata": {},
   "outputs": [],
   "source": [
    "import json\n",
    "\n",
    "\n",
    "json.dumps()"
   ]
  }
 ],
 "metadata": {
  "kernelspec": {
   "display_name": "Python 3",
   "language": "python",
   "name": "python3"
  },
  "language_info": {
   "codemirror_mode": {
    "name": "ipython",
    "version": 3
   },
   "file_extension": ".py",
   "mimetype": "text/x-python",
   "name": "python",
   "nbconvert_exporter": "python",
   "pygments_lexer": "ipython3",
   "version": "3.12.6"
  }
 },
 "nbformat": 4,
 "nbformat_minor": 2
}
