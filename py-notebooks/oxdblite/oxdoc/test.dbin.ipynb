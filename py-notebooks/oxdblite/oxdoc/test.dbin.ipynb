{
 "cells": [
  {
   "cell_type": "code",
   "execution_count": 1,
   "metadata": {},
   "outputs": [],
   "source": [
    "\n",
    "from oxdb_lite.oxdoc.dp import DBin\n",
    "import sys"
   ]
  },
  {
   "cell_type": "code",
   "execution_count": 2,
   "metadata": {},
   "outputs": [],
   "source": [
    "dbin = DBin(method=\"byte\")\n"
   ]
  },
  {
   "cell_type": "code",
   "execution_count": 3,
   "metadata": {},
   "outputs": [],
   "source": [
    "fn = 22\n",
    "#fn = \"a\"*1000000"
   ]
  },
  {
   "cell_type": "code",
   "execution_count": 3,
   "metadata": {},
   "outputs": [
    {
     "data": {
      "text/plain": [
       "b'1'"
      ]
     },
     "execution_count": 3,
     "metadata": {},
     "output_type": "execute_result"
    }
   ],
   "source": [
    "\"1\".encode(\"utf-8\")"
   ]
  },
  {
   "cell_type": "code",
   "execution_count": 6,
   "metadata": {},
   "outputs": [
    {
     "data": {
      "text/plain": [
       "(28, 22, 55, '                 ')"
      ]
     },
     "execution_count": 6,
     "metadata": {},
     "output_type": "execute_result"
    }
   ],
   "source": [
    "\n",
    "import sys\n",
    "\n",
    "\n",
    "en = dbin.encode(22,ctype=\"n\")\n",
    "# ben = dbin.encode(fn,\"bson\")\n",
    "de = dbin.decode(en)\n",
    "\n",
    "sys.getsizeof(fn),len(en),sys.getsizeof(en),de#len(ben),sys.getsizeof(ben),"
   ]
  },
  {
   "cell_type": "code",
   "execution_count": 64,
   "metadata": {},
   "outputs": [],
   "source": [
    "data = {\n",
    "    'data': 'string'*10,\n",
    "    'int': 3010000000,\n",
    "    'list': ['l1', 'l2',1,(1,1)]*10,\n",
    "    'bool': True\n",
    "}"
   ]
  },
  {
   "cell_type": "code",
   "execution_count": 69,
   "metadata": {},
   "outputs": [],
   "source": [
    "mth = \"byte\""
   ]
  },
  {
   "cell_type": "code",
   "execution_count": 70,
   "metadata": {},
   "outputs": [
    {
     "data": {
      "text/plain": [
       "621"
      ]
     },
     "execution_count": 70,
     "metadata": {},
     "output_type": "execute_result"
    }
   ],
   "source": [
    "\n",
    "ed = dbin.encode(data,mth)\n",
    "rd = dbin.decode(ed,mth)\n",
    "# print(\"encoded data : \",ed)\n",
    "# print(\"decoded data : \",rd)\n",
    "sys.getsizeof(ed)\n"
   ]
  },
  {
   "cell_type": "code",
   "execution_count": 1,
   "metadata": {},
   "outputs": [],
   "source": [
    "from oxdoc.db.ld import Oxdld\n",
    "\n",
    "\n",
    "doc = Oxdld(\"note\",data_encoding=\"byte\")"
   ]
  },
  {
   "cell_type": "code",
   "execution_count": 9,
   "metadata": {},
   "outputs": [
    {
     "data": {
      "text/plain": [
       "{'k1': (0, 29),\n",
       " 'd1': (29, 19),\n",
       " 'd2': (48, 19),\n",
       " 'd3': (67, 17),\n",
       " 'key5': (84, 22),\n",
       " 'k2': (106, 19)}"
      ]
     },
     "execution_count": 9,
     "metadata": {},
     "output_type": "execute_result"
    }
   ],
   "source": [
    "doc.index"
   ]
  },
  {
   "cell_type": "code",
   "execution_count": 1,
   "metadata": {},
   "outputs": [],
   "source": [
    "from oxdoc import Oxdbin"
   ]
  },
  {
   "cell_type": "code",
   "execution_count": 2,
   "metadata": {},
   "outputs": [
    {
     "data": {
      "text/plain": [
       "[0,\n",
       " {'': ' dummy data-1b'},\n",
       " {'': [' dummy data-2a']},\n",
       " {'': {'data': ' dummy data-3c'}},\n",
       " {'': {'data': 'lakajsjnxubebbdiwdiwi'}},\n",
       " {'': 1},\n",
       " {'': 14},\n",
       " {'': 'dd'}]"
      ]
     },
     "execution_count": 2,
     "metadata": {},
     "output_type": "execute_result"
    }
   ],
   "source": [
    "with open(\"note.oxdld/note.oxdldd.bin\", \"rb\") as f:\n",
    "    f.seek(0)\n",
    "    data = f.read()\n",
    "#print(data)\n",
    "Oxdbin.decode_all(data)"
   ]
  },
  {
   "cell_type": "code",
   "execution_count": null,
   "metadata": {},
   "outputs": [],
   "source": [
    "def decode_all(data_bytes:bytes):\n",
    "    data = []\n",
    "    data_bytes_len = len(data_bytes)\n",
    "    pos = 0\n",
    "    while pos<data_bytes_len :\n",
    "        datai,pos = Oxdbin.decode(data_bytes,pos=pos,posless=False)\n",
    "        data.append(datai)\n",
    "\n",
    "    return data"
   ]
  },
  {
   "cell_type": "code",
   "execution_count": 2,
   "metadata": {},
   "outputs": [
    {
     "name": "stdout",
     "output_type": "stream",
     "text": [
      "b'n\\x00\\x00\\x00\\x0e\\x00\\x00\\x00\\x00\\x00\\x00\\x00\\x00\\x00\\x00\\x00\\x00\\x00\\x00d\\x00\\x00\\x00\\x01s\\x00\\x00\\x00\\x00s\\x00\\x00\\x00\\x0e dummy data-1bd\\x00\\x00\\x00\\x01s\\x00\\x00\\x00\\x00l\\x00\\x00\\x00\\x01s\\x00\\x00\\x00\\x0e dummy data-2ad\\x00\\x00\\x00\\x01s\\x00\\x00\\x00\\x00d\\x00\\x00\\x00\\x01s\\x00\\x00\\x00\\x04datas\\x00\\x00\\x00\\x0e dummy data-3cd\\x00\\x00\\x00\\x01s\\x00\\x00\\x00\\x00d\\x00\\x00\\x00\\x01s\\x00\\x00\\x00\\x04datas\\x00\\x00\\x00\\x15lakajsjnxubebbdiwdiwid\\x00\\x00\\x00\\x01s\\x00\\x00\\x00\\x00i\\x00\\x00\\x00\\x00\\x00\\x00\\x00\\x01d\\x00\\x00\\x00\\x01s\\x00\\x00\\x00\\x00i\\x00\\x00\\x00\\x00\\x00\\x00\\x00\\x0ed\\x00\\x00\\x00\\x01s\\x00\\x00\\x00\\x00s\\x00\\x00\\x00\\x02dd'\n",
      "n\n",
      "0 n 14 4\n",
      "b'n' b'\\x00\\x00\\x00\\x0e' b'\\x00\\x00\\x00\\x00\\x00\\x00\\x00\\x00\\x00\\x00\\x00\\x00\\x00\\x00'\n",
      "d\n",
      "19 d 1 4\n",
      "b'd' b'\\x00\\x00\\x00\\x01' b's'\n"
     ]
    },
    {
     "ename": "IndexError",
     "evalue": "index out of range",
     "output_type": "error",
     "traceback": [
      "\u001b[0;31m---------------------------------------------------------------------------\u001b[0m",
      "\u001b[0;31mIndexError\u001b[0m                                Traceback (most recent call last)",
      "Cell \u001b[0;32mIn[2], line 52\u001b[0m\n\u001b[1;32m     50\u001b[0m \u001b[38;5;28;01mwith\u001b[39;00m \u001b[38;5;28mopen\u001b[39m(\u001b[38;5;124m\"\u001b[39m\u001b[38;5;124mnote.oxdld/note.oxdldd.bin\u001b[39m\u001b[38;5;124m\"\u001b[39m, \u001b[38;5;124m\"\u001b[39m\u001b[38;5;124mrb\u001b[39m\u001b[38;5;124m\"\u001b[39m) \u001b[38;5;28;01mas\u001b[39;00m file:\n\u001b[1;32m     51\u001b[0m     \u001b[38;5;28mprint\u001b[39m(file\u001b[38;5;241m.\u001b[39mread())\n\u001b[0;32m---> 52\u001b[0m     \u001b[38;5;28mprint\u001b[39m(\u001b[43mextract_data\u001b[49m\u001b[43m(\u001b[49m\u001b[43mfile\u001b[49m\u001b[38;5;241;43m=\u001b[39;49m\u001b[43mfile\u001b[49m\u001b[43m)\u001b[49m)\n",
      "Cell \u001b[0;32mIn[2], line 43\u001b[0m, in \u001b[0;36mextract_data\u001b[0;34m(file)\u001b[0m\n\u001b[1;32m     41\u001b[0m             data[\u001b[38;5;124m\"\u001b[39m\u001b[38;5;124mfreeindex\u001b[39m\u001b[38;5;124m\"\u001b[39m]\u001b[38;5;241m.\u001b[39mappend((start_pos,bdlen))\n\u001b[1;32m     42\u001b[0m         \u001b[38;5;28;01melif\u001b[39;00m btype \u001b[38;5;241m==\u001b[39m \u001b[38;5;124m\"\u001b[39m\u001b[38;5;124md\u001b[39m\u001b[38;5;124m\"\u001b[39m:\n\u001b[0;32m---> 43\u001b[0m             data[pos]\u001b[38;5;241m=\u001b[39m\u001b[43mOxdbin\u001b[49m\u001b[38;5;241;43m.\u001b[39;49m\u001b[43mdecode\u001b[49m\u001b[43m(\u001b[49m\u001b[43m \u001b[49m\u001b[43mdata_bytes\u001b[49m\u001b[38;5;241;43m=\u001b[39;49m\u001b[43mbdata\u001b[49m\u001b[43m \u001b[49m\u001b[43m,\u001b[49m\u001b[43m \u001b[49m\u001b[43mdata_type\u001b[49m\u001b[38;5;241;43m=\u001b[39;49m\u001b[43mbtype\u001b[49m\u001b[43m \u001b[49m\u001b[43m,\u001b[49m\u001b[43mlength\u001b[49m\u001b[38;5;241;43m=\u001b[39;49m\u001b[43mbdlen\u001b[49m\u001b[43m)\u001b[49m\n\u001b[1;32m     44\u001b[0m         pos \u001b[38;5;241m+\u001b[39m\u001b[38;5;241m=\u001b[39m bdlen\n\u001b[1;32m     46\u001b[0m \u001b[38;5;28;01mreturn\u001b[39;00m data\n",
      "File \u001b[0;32m~/Documents/0-lab/ox-ai/ox-doc/oxdoc/oxdbin.py:140\u001b[0m, in \u001b[0;36mOxdbin.decode\u001b[0;34m(data_bytes, data_type, length, pos, posless)\u001b[0m\n\u001b[1;32m    138\u001b[0m \u001b[38;5;28;01mfor\u001b[39;00m _ \u001b[38;5;129;01min\u001b[39;00m \u001b[38;5;28mrange\u001b[39m(length):\n\u001b[1;32m    139\u001b[0m     key, new_pos \u001b[38;5;241m=\u001b[39m Oxdbin\u001b[38;5;241m.\u001b[39mdecode(data_bytes, pos\u001b[38;5;241m=\u001b[39mnew_pos, posless\u001b[38;5;241m=\u001b[39m\u001b[38;5;28;01mFalse\u001b[39;00m)\n\u001b[0;32m--> 140\u001b[0m     value, new_pos \u001b[38;5;241m=\u001b[39m \u001b[43mOxdbin\u001b[49m\u001b[38;5;241;43m.\u001b[39;49m\u001b[43mdecode\u001b[49m\u001b[43m(\u001b[49m\u001b[43mdata_bytes\u001b[49m\u001b[43m,\u001b[49m\u001b[43m \u001b[49m\u001b[43mpos\u001b[49m\u001b[38;5;241;43m=\u001b[39;49m\u001b[43m \u001b[49m\u001b[43mnew_pos\u001b[49m\u001b[43m,\u001b[49m\u001b[43m \u001b[49m\u001b[43mposless\u001b[49m\u001b[38;5;241;43m=\u001b[39;49m\u001b[38;5;28;43;01mFalse\u001b[39;49;00m\u001b[43m)\u001b[49m\n\u001b[1;32m    141\u001b[0m     datas[key] \u001b[38;5;241m=\u001b[39m value\n\u001b[1;32m    142\u001b[0m \u001b[38;5;28;01mif\u001b[39;00m posless:\n",
      "File \u001b[0;32m~/Documents/0-lab/ox-ai/ox-doc/oxdoc/oxdbin.py:73\u001b[0m, in \u001b[0;36mOxdbin.decode\u001b[0;34m(data_bytes, data_type, length, pos, posless)\u001b[0m\n\u001b[1;32m     61\u001b[0m \u001b[38;5;250m\u001b[39m\u001b[38;5;124;03m\"\"\"\u001b[39;00m\n\u001b[1;32m     62\u001b[0m \u001b[38;5;124;03mConvert bytes back to the original data type (string, list, dict, etc.).\u001b[39;00m\n\u001b[1;32m     63\u001b[0m \n\u001b[0;32m   (...)\u001b[0m\n\u001b[1;32m     70\u001b[0m \u001b[38;5;124;03m    tuple: (decoded_data, new_position)\u001b[39;00m\n\u001b[1;32m     71\u001b[0m \u001b[38;5;124;03m\"\"\"\u001b[39;00m\n\u001b[1;32m     72\u001b[0m bssize_len \u001b[38;5;241m=\u001b[39m \u001b[38;5;241m0\u001b[39m\n\u001b[0;32m---> 73\u001b[0m data_type \u001b[38;5;241m=\u001b[39mdata_type \u001b[38;5;129;01mor\u001b[39;00m  \u001b[38;5;28mchr\u001b[39m(\u001b[43mdata_bytes\u001b[49m\u001b[43m[\u001b[49m\u001b[43mpos\u001b[49m\u001b[43m]\u001b[49m)\n\u001b[1;32m     75\u001b[0m \u001b[38;5;28;01mif\u001b[39;00m data_type \u001b[38;5;241m==\u001b[39m \u001b[38;5;124m\"\u001b[39m\u001b[38;5;124mn\u001b[39m\u001b[38;5;124m\"\u001b[39m:\n\u001b[1;32m     76\u001b[0m     \u001b[38;5;28;01mif\u001b[39;00m \u001b[38;5;129;01mnot\u001b[39;00m length:\n",
      "\u001b[0;31mIndexError\u001b[0m: index out of range"
     ]
    }
   ],
   "source": [
    "\n",
    "def extract_data(file):\n",
    "    pos = 0\n",
    "    data = {\"freeindex\":[]}\n",
    "    indict = False\n",
    "    dictdata = {}\n",
    "    while True:\n",
    "\n",
    "        start_pos = pos\n",
    "        file.seek(pos)\n",
    "        \n",
    "        # Read 1 byte, if empty, end of file\n",
    "        btypeb = file.read(1)\n",
    "        \n",
    "        if not btypeb:\n",
    "            break  # End of file\n",
    "\n",
    "        btype = chr(btypeb[0])  # Convert byte to character\n",
    "        print(btype)\n",
    "        bdsize_l = Oxdbin.bdsize_len(btype=btype)\n",
    "        pos =pos+ 1\n",
    "        \n",
    "        file.seek(pos)\n",
    "        bdlenb = file.read(bdsize_l)\n",
    "        if not bdlenb:\n",
    "            break  # End of file\n",
    "\n",
    "        if btype in [\"i\", \"f\"] and indict:\n",
    "            data.append(Oxdbin.decode(btypeb + bdlenb))\n",
    "            pos += bdsize_l\n",
    "\n",
    "        elif btype in [\"d\",\"n\"] and not indict:\n",
    "            bdlen = Oxdbin.decode_bdlen(bdlenb, btype=btype)\n",
    "            pos += bdsize_l\n",
    "            file.seek(pos)\n",
    "            \n",
    "            # Read 'bdlen' bytes, if empty, end of file\n",
    "            bdata = file.read(bdlen)\n",
    "            if not bdata:\n",
    "                break  # End of file\n",
    "            print(start_pos,btype , bdlen , bdsize_l)\n",
    "            print(btypeb , bdlenb , bdata)\n",
    "            if btype ==\"n\":\n",
    "                data[\"freeindex\"].append((start_pos,bdlen))\n",
    "            elif btype == \"d\":\n",
    "                #data[pos]=Oxdbin.decode( data_bytes=bdata , data_type=btype ,length=bdlen)\n",
    "                indict = True\n",
    "                dictdata[\"s\"] = start_pos\n",
    "                dictdata[\"sz\"] = 1+4\n",
    "                dictdata[\"l\"]= bdlen\n",
    "            pos += bdsize_l\n",
    "\n",
    "       \n",
    "        elif indict:\n",
    "            bdlen = Oxdbin.decode_bdlen(bdlenb, btype=btype)\n",
    "            pos += bdsize_l\n",
    "            file.seek(pos)\n",
    "            \n",
    "            # Read 'bdlen' bytes, if empty, end of file\n",
    "            bdata = file.read(bdlen)\n",
    "            if not bdata:\n",
    "                break  # End of file\n",
    "            print(start_pos,btype , bdlen , bdsize_l)\n",
    "            print(btypeb , bdlenb , bdata)\n",
    "            Oxdbin.decode( data_bytes=bdata , data_type=btype ,length=bdlen)\n",
    "            dictdata[\"sz\"]+=1+4+bdlen\n",
    "            pos =pos+bdlen\n",
    "            data[dictdata[\"key\"]]=(dictdata[\"s\"],dictdata[\"sz\"])\n",
    "            indict = False\n",
    "\n",
    "        elif( btype in [\"s\"] )and indict :\n",
    "            \n",
    "     \n",
    "            bdlen = Oxdbin.decode_bdlen(bdlenb, btype=btype)\n",
    "            pos += bdsize_l\n",
    "            file.seek(pos)\n",
    "            \n",
    "            # Read 'bdlen' bytes, if empty, end of file\n",
    "            bdata = file.read(bdlen)\n",
    "            if not bdata:\n",
    "                break  # End of file\n",
    "            print(start_pos,btype , bdlen , bdsize_l)\n",
    "            print(btypeb , bdlenb , bdata)\n",
    "            \n",
    "            key = Oxdbin.decode( data_bytes=bdata , data_type=btype ,length=bdlen)\n",
    "            dictdata[\"sz\"]+=1+4+bdlen\n",
    "            pos =pos+bdlen\n",
    "            data[dictdata[\"key\"]]=(dictdata[\"s\"],dictdata[\"sz\"])\n",
    "            indict = False\n",
    "        elif( btype in [\"s\"] )and indict and not dictdata[\"key\"]:\n",
    "            \n",
    "     \n",
    "            bdlen = Oxdbin.decode_bdlen(bdlenb, btype=btype)\n",
    "            pos += bdsize_l\n",
    "            file.seek(pos)\n",
    "            \n",
    "            # Read 'bdlen' bytes, if empty, end of file\n",
    "            bdata = file.read(bdlen)\n",
    "            if not bdata:\n",
    "                break  # End of file\n",
    "            print(start_pos,btype , bdlen , bdsize_l)\n",
    "            print(btypeb , bdlenb , bdata)\n",
    "            \n",
    "            key = Oxdbin.decode( data_bytes=bdata , data_type=btype ,length=bdlen)\n",
    "            dictdata[\"sz\"]+=1+4+bdlen\n",
    "            dictdata[\"key\"] = key\n",
    "\n",
    "        else:\n",
    "            bdlen = Oxdbin.decode_bdlen(bdlenb, btype=btype)\n",
    "            pos += bdsize_l\n",
    "            file.seek(pos)\n",
    "            \n",
    "            # Read 'bdlen' bytes, if empty, end of file\n",
    "            bdata = file.read(bdlen)\n",
    "            if not bdata:\n",
    "                break  # End of file\n",
    "            print(start_pos,btype , bdlen , bdsize_l)\n",
    "            print(btypeb , bdlenb , bdata)\n",
    "            Oxdbin.decode( data_bytes=bdata , data_type=btype ,length=bdlen)\n",
    "            pos =pos+bdlen\n",
    "            data[dictdata[\"key\"]]=(dictdata[\"s\"],dictdata[\"sz\"])\n",
    "            indict = False\n",
    "\n",
    "\n",
    "\n",
    "    return data\n",
    "\n",
    "\n",
    "\n",
    "with open(\"note.oxdld/note.oxdldd.bin\", \"rb\") as file:\n",
    "    print(file.read())\n",
    "    print(extract_data(file=file))"
   ]
  },
  {
   "cell_type": "code",
   "execution_count": 1,
   "metadata": {},
   "outputs": [
    {
     "name": "stdout",
     "output_type": "stream",
     "text": [
      "n\u0000\u0000\u0000\u000e\u0000\u0000\u0000\u0000\u0000\u0000\u0000\u0000\u0000\u0000\u0000\u0000\u0000\u0000d\u0000\u0000\u0000\u0001s\u0000\u0000\u0000\u0000s\u0000\u0000\u0000\u000e dummy data-1bd\u0000\u0000\u0000\u0001s\u0000\u0000\u0000\u0000l\u0000\u0000\u0000\u0001s\u0000\u0000\u0000\u000e dummy data-\n"
     ]
    }
   ],
   "source": []
  },
  {
   "cell_type": "code",
   "execution_count": null,
   "metadata": {},
   "outputs": [],
   "source": []
  },
  {
   "cell_type": "code",
   "execution_count": 7,
   "metadata": {},
   "outputs": [
    {
     "name": "stdout",
     "output_type": "stream",
     "text": [
      "False\n"
     ]
    }
   ],
   "source": [
    "print(False and 6)"
   ]
  },
  {
   "cell_type": "code",
   "execution_count": 28,
   "metadata": {},
   "outputs": [
    {
     "name": "stdout",
     "output_type": "stream",
     "text": [
      "Decoding with method 'byte' failed with error: index out of range \n",
      "using other methods\n",
      "Decoding with method 'json' failed with error: Expecting value: line 1 column 1 (char 0) \n",
      "using other methods\n",
      "Decoding with method 'bson' failed with error: not enough data for a BSON document \n",
      "using other methods\n"
     ]
    },
    {
     "ename": "ValueError",
     "evalue": "Failed to load data: all methods incompatible",
     "output_type": "error",
     "traceback": [
      "\u001b[0;31m---------------------------------------------------------------------------\u001b[0m",
      "\u001b[0;31mValueError\u001b[0m                                Traceback (most recent call last)",
      "Cell \u001b[0;32mIn[28], line 1\u001b[0m\n\u001b[0;32m----> 1\u001b[0m \u001b[43mdbin\u001b[49m\u001b[38;5;241;43m.\u001b[39;49m\u001b[43mdecode\u001b[49m\u001b[43m(\u001b[49m\u001b[43mdata\u001b[49m\u001b[43m)\u001b[49m\n",
      "File \u001b[0;32m~/Documents/0-lab/ox-ai/ox-doc/oxdoc/dp.py:96\u001b[0m, in \u001b[0;36mDBin.decode\u001b[0;34m(self, data, method)\u001b[0m\n\u001b[1;32m     93\u001b[0m         \u001b[38;5;28;01mcontinue\u001b[39;00m  \u001b[38;5;66;03m# Try the next method if decoding fails\u001b[39;00m\n\u001b[1;32m     95\u001b[0m \u001b[38;5;66;03m# Raise an error if all methods fail\u001b[39;00m\n\u001b[0;32m---> 96\u001b[0m \u001b[38;5;28;01mraise\u001b[39;00m \u001b[38;5;167;01mValueError\u001b[39;00m(\n\u001b[1;32m     97\u001b[0m             \u001b[38;5;124mf\u001b[39m\u001b[38;5;124m\"\u001b[39m\u001b[38;5;124mFailed to load data: all methods incompatible\u001b[39m\u001b[38;5;124m\"\u001b[39m\n\u001b[1;32m     98\u001b[0m         )\n",
      "\u001b[0;31mValueError\u001b[0m: Failed to load data: all methods incompatible"
     ]
    }
   ],
   "source": []
  }
 ],
 "metadata": {
  "kernelspec": {
   "display_name": "Python 3",
   "language": "python",
   "name": "python3"
  },
  "language_info": {
   "codemirror_mode": {
    "name": "ipython",
    "version": 3
   },
   "file_extension": ".py",
   "mimetype": "text/x-python",
   "name": "python",
   "nbconvert_exporter": "python",
   "pygments_lexer": "ipython3",
   "version": "3.11.9"
  }
 },
 "nbformat": 4,
 "nbformat_minor": 2
}
