{
 "cells": [
  {
   "cell_type": "code",
   "execution_count": 1,
   "metadata": {},
   "outputs": [],
   "source": [
    "from oxdb_lite.oxdoc.db import Oxdld\n"
   ]
  },
  {
   "cell_type": "code",
   "execution_count": 2,
   "metadata": {},
   "outputs": [
    {
     "data": {
      "text/plain": [
       "('note', 'note.oxdld')"
      ]
     },
     "execution_count": 2,
     "metadata": {},
     "output_type": "execute_result"
    }
   ],
   "source": [
    "doc = Oxdld('note',\"oxdbin\")\n",
    "doc.doc , doc.doc_path"
   ]
  },
  {
   "cell_type": "code",
   "execution_count": 3,
   "metadata": {},
   "outputs": [
    {
     "data": {
      "text/plain": [
       "'data'"
      ]
     },
     "execution_count": 3,
     "metadata": {},
     "output_type": "execute_result"
    }
   ],
   "source": [
    "doc[\"t1\"]=\"data\"\n",
    "doc[\"t1\"]"
   ]
  },
  {
   "cell_type": "code",
   "execution_count": 4,
   "metadata": {},
   "outputs": [],
   "source": [
    "del doc[\"t1\"]\n",
    "doc[\"t1\"]"
   ]
  },
  {
   "cell_type": "code",
   "execution_count": 5,
   "metadata": {},
   "outputs": [
    {
     "data": {
      "text/plain": [
       "True"
      ]
     },
     "execution_count": 5,
     "metadata": {},
     "output_type": "execute_result"
    }
   ],
   "source": [
    "doc.set(\"k1\",\" dummy data-1b\")\n",
    "doc.set(\"k2\",[\" dummy data-2a\"])\n",
    "doc.set(\"k3\",{\"data\":\" dummy data-3c\"})\n",
    "doc.set(\"null-data\",{\"data\":\"lakajsjnxubebbdiwdiwi\"})"
   ]
  },
  {
   "cell_type": "code",
   "execution_count": 6,
   "metadata": {},
   "outputs": [
    {
     "name": "stdout",
     "output_type": "stream",
     "text": [
      "CPU times: user 721 μs, sys: 98 μs, total: 819 μs\n",
      "Wall time: 539 μs\n"
     ]
    },
    {
     "data": {
      "text/plain": [
       "True"
      ]
     },
     "execution_count": 6,
     "metadata": {},
     "output_type": "execute_result"
    }
   ],
   "source": [
    "%%time\n",
    "doc.add({\"d1\":1,\"d2\":14,\"d3\":\"dd\"})"
   ]
  },
  {
   "cell_type": "code",
   "execution_count": 7,
   "metadata": {},
   "outputs": [
    {
     "data": {
      "text/plain": [
       "{'config': {'data_encoding': 'oxdbin'},\n",
       " 'free_index': {},\n",
       " 'index': {'k1': (19, 29),\n",
       "  'k2': (48, 34),\n",
       "  'k3': (82, 43),\n",
       "  'null-data': (125, 50),\n",
       "  'd1': (0, 19),\n",
       "  'd2': (175, 19),\n",
       "  'd3': (194, 17)}}"
      ]
     },
     "execution_count": 7,
     "metadata": {},
     "output_type": "execute_result"
    }
   ],
   "source": [
    "len(doc)\n",
    "doc.index_data"
   ]
  },
  {
   "cell_type": "code",
   "execution_count": 10,
   "metadata": {},
   "outputs": [
    {
     "name": "stdout",
     "output_type": "stream",
     "text": [
      "b'd\\x00\\x00\\x00\\x01s\\x00\\x00\\x00\\x00i\\x00\\x00\\x00\\x00\\x00\\x00\\x00\\x01d\\x00\\x00\\x00\\x01s\\x00\\x00\\x00\\x00s\\x00\\x00\\x00\\x0e dummy data-1bd\\x00\\x00\\x00\\x01s\\x00\\x00\\x00\\x00l\\x00\\x00\\x00\\x01s\\x00\\x00\\x00\\x0e dummy data-2ad\\x00\\x00\\x00\\x01s\\x00\\x00\\x00\\x00d\\x00\\x00\\x00\\x01s\\x00\\x00\\x00\\x04datas\\x00\\x00\\x00\\x0e dummy data-3cd\\x00\\x00\\x00\\x01s\\x00\\x00\\x00\\x00d\\x00\\x00\\x00\\x01s\\x00\\x00\\x00\\x04datas\\x00\\x00\\x00\\x15lakajsjnxubebbdiwdiwid\\x00\\x00\\x00\\x01s\\x00\\x00\\x00\\x00i\\x00\\x00\\x00\\x00\\x00\\x00\\x00\\x0ed\\x00\\x00\\x00\\x01s\\x00\\x00\\x00\\x00s\\x00\\x00\\x00\\x02dd'\n",
      "[{'': 1}, {'': ' dummy data-1b'}, {'': [' dummy data-2a']}, {'': {'data': ' dummy data-3c'}}, {'': {'data': 'lakajsjnxubebbdiwdiwi'}}, {'': 14}, {'': 'dd'}]\n"
     ]
    }
   ],
   "source": [
    "from oxdb_lite.oxdoc_lite.dp import Oxdbin\n",
    "\n",
    "\n",
    "with open(\"note.oxdld/note.oxdldd.bin\", \"rb\") as f:\n",
    "    f.seek(0)\n",
    "    data = f.read()\n",
    "print(data)\n",
    "print(Oxdbin.decode_all(data))\n"
   ]
  },
  {
   "cell_type": "code",
   "execution_count": 17,
   "metadata": {},
   "outputs": [
    {
     "data": {
      "text/plain": [
       "1077"
      ]
     },
     "execution_count": 17,
     "metadata": {},
     "output_type": "execute_result"
    }
   ],
   "source": [
    "Oxdbin.decode(Oxdbin.encode(1077))"
   ]
  },
  {
   "cell_type": "code",
   "execution_count": null,
   "metadata": {},
   "outputs": [],
   "source": [
    "d = doc.get(\"k2\")\n",
    "\n",
    "d.append(2)\n",
    "doc.set(\"k3\",d)\n"
   ]
  },
  {
   "cell_type": "code",
   "execution_count": null,
   "metadata": {},
   "outputs": [],
   "source": [
    "s = doc.set(\"k2\",2)\n",
    "e = doc.delete(\"null-data\")\n",
    "s,e"
   ]
  },
  {
   "cell_type": "code",
   "execution_count": null,
   "metadata": {},
   "outputs": [],
   "source": [
    "doc.save_index()"
   ]
  },
  {
   "cell_type": "code",
   "execution_count": null,
   "metadata": {},
   "outputs": [],
   "source": [
    "new_data = {'key4': 'value4uuna', 'key5': 'value5c'}\n",
    "doc.add(new_data)"
   ]
  },
  {
   "cell_type": "code",
   "execution_count": null,
   "metadata": {},
   "outputs": [],
   "source": [
    "d1= doc.get(\"key4\")\n",
    "d2=doc.get(\"key5\")\n",
    "d1,d2"
   ]
  },
  {
   "cell_type": "code",
   "execution_count": null,
   "metadata": {},
   "outputs": [],
   "source": [
    "doc.get(\"k1\") ,doc.get(\"k2\") ,doc.get(\"k3\") ,doc.get(\"null-data\"), doc.get(\"key5\"), doc.get(\"key4\")"
   ]
  },
  {
   "cell_type": "code",
   "execution_count": null,
   "metadata": {},
   "outputs": [],
   "source": []
  },
  {
   "cell_type": "code",
   "execution_count": null,
   "metadata": {},
   "outputs": [],
   "source": [
    "doc.load_data()"
   ]
  },
  {
   "cell_type": "code",
   "execution_count": null,
   "metadata": {},
   "outputs": [],
   "source": [
    "doc.delete([\"k3\",\"key4\"])"
   ]
  },
  {
   "cell_type": "code",
   "execution_count": null,
   "metadata": {},
   "outputs": [],
   "source": [
    "doc.compact()"
   ]
  },
  {
   "cell_type": "code",
   "execution_count": null,
   "metadata": {},
   "outputs": [],
   "source": [
    "doc.to_json()"
   ]
  },
  {
   "cell_type": "code",
   "execution_count": null,
   "metadata": {},
   "outputs": [],
   "source": [
    "nnote = Oxdld(\"nnote\")\n",
    "nnote.to_db('./note.oxdld.json')\n",
    "nnote.load_data()"
   ]
  },
  {
   "cell_type": "code",
   "execution_count": null,
   "metadata": {},
   "outputs": [],
   "source": [
    "Oxdld.zip(\"note\")"
   ]
  },
  {
   "cell_type": "code",
   "execution_count": null,
   "metadata": {},
   "outputs": [],
   "source": [
    "Oxdld.unzip(\"./note.oxdld.zip\",\".\")"
   ]
  },
  {
   "cell_type": "code",
   "execution_count": null,
   "metadata": {},
   "outputs": [],
   "source": [
    "#doc.delete_all()"
   ]
  }
 ],
 "metadata": {
  "kernelspec": {
   "display_name": "Python 3",
   "language": "python",
   "name": "python3"
  },
  "language_info": {
   "codemirror_mode": {
    "name": "ipython",
    "version": 3
   },
   "file_extension": ".py",
   "mimetype": "text/x-python",
   "name": "python",
   "nbconvert_exporter": "python",
   "pygments_lexer": "ipython3",
   "version": "3.12.6"
  }
 },
 "nbformat": 4,
 "nbformat_minor": 2
}
