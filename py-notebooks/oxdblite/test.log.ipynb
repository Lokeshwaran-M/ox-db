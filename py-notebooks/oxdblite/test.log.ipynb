{
 "cells": [
  {
   "cell_type": "code",
   "execution_count": 28,
   "metadata": {},
   "outputs": [
    {
     "name": "stdout",
     "output_type": "stream",
     "text": [
      "CPU times: user 2.67 ms, sys: 75 μs, total: 2.74 ms\n",
      "Wall time: 2.75 ms\n"
     ]
    }
   ],
   "source": [
    "%%time\n",
    "from oxdb_lite.core import Oxdb\n",
    "from oxdb_lite import config \n",
    "\n",
    "db = Oxdb(\"test-lg\")"
   ]
  },
  {
   "cell_type": "code",
   "execution_count": 29,
   "metadata": {},
   "outputs": [
    {
     "data": {
      "text/plain": [
       "['test-lg.oxdb_lite', 'hosted.oxdb_lite', '.oxdb_lite']"
      ]
     },
     "execution_count": 29,
     "metadata": {},
     "output_type": "execute_result"
    }
   ],
   "source": [
    "db.get_dbs()"
   ]
  },
  {
   "cell_type": "code",
   "execution_count": 30,
   "metadata": {},
   "outputs": [
    {
     "data": {
      "text/plain": [
       "['test-note', 'log-doc']"
      ]
     },
     "execution_count": 30,
     "metadata": {},
     "output_type": "execute_result"
    }
   ],
   "source": [
    "db.get_docs()"
   ]
  },
  {
   "cell_type": "code",
   "execution_count": 31,
   "metadata": {},
   "outputs": [
    {
     "name": "stdout",
     "output_type": "stream",
     "text": [
      "CPU times: user 5 μs, sys: 0 ns, total: 5 μs\n",
      "Wall time: 9.78 μs\n"
     ]
    }
   ],
   "source": [
    "%time\n",
    "doc = db.get_doc(\"test-note\")"
   ]
  },
  {
   "cell_type": "code",
   "execution_count": 32,
   "metadata": {},
   "outputs": [
    {
     "data": {
      "text/plain": [
       "17"
      ]
     },
     "execution_count": 32,
     "metadata": {},
     "output_type": "execute_result"
    }
   ],
   "source": [
    "doc.len()"
   ]
  },
  {
   "cell_type": "code",
   "execution_count": 33,
   "metadata": {},
   "outputs": [
    {
     "name": "stdout",
     "output_type": "stream",
     "text": [
      "CPU times: user 499 ms, sys: 0 ns, total: 499 ms\n",
      "Wall time: 127 ms\n"
     ]
    },
    {
     "data": {
      "text/plain": [
       "[1]"
      ]
     },
     "execution_count": 33,
     "metadata": {},
     "output_type": "execute_result"
    }
   ],
   "source": [
    "%%time\n",
    "doc.push(\"implementd ox-studio.ui for ui interface now need to clean up all the stuff\",metadata={\"discription\":\"init commit\"})"
   ]
  },
  {
   "cell_type": "code",
   "execution_count": 34,
   "metadata": {},
   "outputs": [
    {
     "name": "stdout",
     "output_type": "stream",
     "text": [
      "CPU times: user 545 ms, sys: 0 ns, total: 545 ms\n",
      "Wall time: 137 ms\n"
     ]
    },
    {
     "data": {
      "text/plain": [
       "[2, 3]"
      ]
     },
     "execution_count": 34,
     "metadata": {},
     "output_type": "execute_result"
    }
   ],
   "source": [
    "%%time\n",
    "data_dict={                \n",
    "            \"data\": [\"example data 1\", \"example data 2\"],\n",
    "            \"datax\": None,\n",
    "            \"embeddings\": True,\n",
    "            \"metadata\": [{\"key1\": \"value1\"}, {\"key2\": \"value2\"}],\n",
    "            \"uid\": [\"uid1\", \"uid2\"]}\n",
    "doc.push(**data_dict)"
   ]
  },
  {
   "cell_type": "code",
   "execution_count": 35,
   "metadata": {},
   "outputs": [
    {
     "name": "stdout",
     "output_type": "stream",
     "text": [
      "CPU times: user 1.24 s, sys: 7.56 ms, total: 1.24 s\n",
      "Wall time: 347 ms\n"
     ]
    },
    {
     "data": {
      "text/plain": [
       "[4, 5, 6, 7]"
      ]
     },
     "execution_count": 35,
     "metadata": {},
     "output_type": "execute_result"
    }
   ],
   "source": [
    "%%time\n",
    "doc.push([\"remember me : need to do code implementation for key lang conversation \",\n",
    "\"remember me : gym time is morning from today  \",\n",
    "\"remember me : base vector db arcchitecture is done  \",\n",
    "\"remember me : need to do more research on deep learning  \"])"
   ]
  },
  {
   "cell_type": "code",
   "execution_count": 36,
   "metadata": {},
   "outputs": [
    {
     "name": "stdout",
     "output_type": "stream",
     "text": [
      "CPU times: user 20 μs, sys: 0 ns, total: 20 μs\n",
      "Wall time: 24.3 μs\n"
     ]
    },
    {
     "data": {
      "text/plain": [
       "{'db': 'test-lg.oxdb_lite',\n",
       " 'db_path': '/home/lokesh/oxdb-lite/test-lg.oxdb_lite',\n",
       " 'doc_name': 'test-note',\n",
       " 'doc_path': '/home/lokesh/oxdb-lite/test-lg.oxdb_lite/test-note',\n",
       " 'doc_entry': 17,\n",
       " 'vec_model': 'sentence-transformers/all-MiniLM-L6-v2'}"
      ]
     },
     "execution_count": 36,
     "metadata": {},
     "output_type": "execute_result"
    }
   ],
   "source": [
    "%%time\n",
    "doc.info()"
   ]
  },
  {
   "cell_type": "code",
   "execution_count": 37,
   "metadata": {},
   "outputs": [
    {
     "name": "stdout",
     "output_type": "stream",
     "text": [
      "CPU times: user 982 ms, sys: 3.91 ms, total: 986 ms\n",
      "Wall time: 249 ms\n"
     ]
    },
    {
     "data": {
      "text/plain": [
       "[11]"
      ]
     },
     "execution_count": 37,
     "metadata": {},
     "output_type": "execute_result"
    }
   ],
   "source": [
    "%%time\n",
    "doc.push(\"need to do : find efficient data store and retrive method  \")\n",
    "doc.push(\"need to do : i need to finesh deamon search asap  \")\n",
    "doc.push(\"need to do : need to sleep  \")\n",
    "doc.push(\"need to do : look out for bugs in code base and fix it   \")"
   ]
  },
  {
   "cell_type": "code",
   "execution_count": 38,
   "metadata": {},
   "outputs": [
    {
     "name": "stdout",
     "output_type": "stream",
     "text": [
      "CPU times: user 997 ms, sys: 180 μs, total: 997 ms\n",
      "Wall time: 251 ms\n"
     ]
    },
    {
     "data": {
      "text/plain": [
       "[12, 13, 14, 15, 16]"
      ]
     },
     "execution_count": 38,
     "metadata": {},
     "output_type": "execute_result"
    }
   ],
   "source": [
    "%%time\n",
    "doc.push(\n",
    "data=[\"Hi I'm OX-AI your AI personal database \",\n",
    "\"I can store your documents with vector embaddings and retrive it based on vector search\",\n",
    "\"I'm currently under development\",\n",
    "\"looking forward to do more to increase your productivity!\",\n",
    "\"Hi I'm your AI personal database and I can store your documents with vector embeddings and retrieve them based on vector search. I'm currently under development, looking forward to doing more to increase your productivity!\"],\n",
    "metadata=[{\"res\": \"assistant\"},None,{\"res\": \"assistant\"},{\"res\": \"assistant\"}],\n",
    "log_time=True,\n",
    ")"
   ]
  },
  {
   "cell_type": "code",
   "execution_count": 39,
   "metadata": {},
   "outputs": [
    {
     "name": "stdout",
     "output_type": "stream",
     "text": [
      "CPU times: user 300 ms, sys: 0 ns, total: 300 ms\n",
      "Wall time: 74.1 ms\n"
     ]
    },
    {
     "data": {
      "text/plain": [
       "[18]"
      ]
     },
     "execution_count": 39,
     "metadata": {},
     "output_type": "execute_result"
    }
   ],
   "source": [
    "%%time\n",
    "doc.push(\"null-data\")"
   ]
  },
  {
   "cell_type": "code",
   "execution_count": 40,
   "metadata": {},
   "outputs": [
    {
     "data": {
      "text/plain": [
       "['18']"
      ]
     },
     "execution_count": 40,
     "metadata": {},
     "output_type": "execute_result"
    }
   ],
   "source": [
    "idx=doc.search_data(\"null\",doc.data_oxd,\"idx\")\n",
    "idx"
   ]
  },
  {
   "cell_type": "code",
   "execution_count": 41,
   "metadata": {},
   "outputs": [
    {
     "data": {
      "text/plain": [
       "['18']"
      ]
     },
     "execution_count": 41,
     "metadata": {},
     "output_type": "execute_result"
    }
   ],
   "source": [
    "doc.delete(idx[0])"
   ]
  },
  {
   "cell_type": "code",
   "execution_count": 42,
   "metadata": {},
   "outputs": [
    {
     "name": "stdout",
     "output_type": "stream",
     "text": [
      "CPU times: user 347 ms, sys: 0 ns, total: 347 ms\n",
      "Wall time: 99.5 ms\n"
     ]
    },
    {
     "data": {
      "text/plain": [
       "{'entries': 1,\n",
       " 'idx': ['5'],\n",
       " 'data': ['remember me : gym time is morning from today  '],\n",
       " 'sim_score': [0.4463955084872185],\n",
       " 'index': [{'doc': 'test-note',\n",
       "   'hid': '8a69e0d4f4bef9c1665b1b73808d05e15557849476f1a144c2199ae888945ed8'}],\n",
       " 'embeddings': []}"
      ]
     },
     "execution_count": 42,
     "metadata": {},
     "output_type": "execute_result"
    }
   ],
   "source": [
    "%%time\n",
    "doc.search(\"remember me\",where_data={\"search_string\":\"gym\"})"
   ]
  },
  {
   "cell_type": "code",
   "execution_count": 43,
   "metadata": {},
   "outputs": [
    {
     "name": "stdout",
     "output_type": "stream",
     "text": [
      "CPU times: user 401 ms, sys: 3.94 ms, total: 405 ms\n",
      "Wall time: 105 ms\n"
     ]
    },
    {
     "data": {
      "text/plain": [
       "[17]"
      ]
     },
     "execution_count": 43,
     "metadata": {},
     "output_type": "execute_result"
    }
   ],
   "source": [
    "%%time\n",
    "doc.push(\n",
    "    \"need to : implement rag system that pulls data from the internet and chunk it and store as knowledge for easy retrivel\"\n",
    ")"
   ]
  },
  {
   "cell_type": "code",
   "execution_count": 44,
   "metadata": {},
   "outputs": [
    {
     "name": "stdout",
     "output_type": "stream",
     "text": [
      "CPU times: user 209 ms, sys: 0 ns, total: 209 ms\n",
      "Wall time: 52.3 ms\n"
     ]
    },
    {
     "data": {
      "text/plain": [
       "{'entries': 3,\n",
       " 'idx': ['12', '15', '14'],\n",
       " 'data': [\"Hi I'm OX-AI your AI personal database \",\n",
       "  'looking forward to do more to increase your productivity!',\n",
       "  \"I'm currently under development\"],\n",
       " 'sim_score': [0.08422736709013229,\n",
       "  0.035051350484307256,\n",
       "  -0.04084236056612295],\n",
       " 'index': [{'doc': 'test-note',\n",
       "   'hid': '990b06caf81a79bbff7cc564689e4aa1d1f805bd7c392e221fd4284a351b34fb',\n",
       "   'time': '23:21:41',\n",
       "   'date': '27-09-2024',\n",
       "   'res': 'assistant'},\n",
       "  {'doc': 'test-note',\n",
       "   'hid': '579dd4ac836c6014428d63a8ba80ebe3255d8a690ba659edf485c59823f270dc',\n",
       "   'time': '23:21:41',\n",
       "   'date': '27-09-2024',\n",
       "   'res': 'assistant'},\n",
       "  {'doc': 'test-note',\n",
       "   'hid': '8b63f7b6f8f5155ca7bfa1a3dfb51c1c00b9cc10de323873c023afdf7a164e56',\n",
       "   'time': '23:21:41',\n",
       "   'date': '27-09-2024',\n",
       "   'res': 'assistant'}],\n",
       " 'embeddings': []}"
      ]
     },
     "execution_count": 44,
     "metadata": {},
     "output_type": "execute_result"
    }
   ],
   "source": [
    "%%time\n",
    "doc.search(\"rag system data chunk\",6,where={\"res\":\"assistant\"})"
   ]
  },
  {
   "cell_type": "code",
   "execution_count": 45,
   "metadata": {},
   "outputs": [
    {
     "name": "stdout",
     "output_type": "stream",
     "text": [
      "CPU times: user 79 μs, sys: 0 ns, total: 79 μs\n",
      "Wall time: 82 μs\n"
     ]
    },
    {
     "data": {
      "text/plain": [
       "{'12': {'doc': 'test-note',\n",
       "  'hid': '990b06caf81a79bbff7cc564689e4aa1d1f805bd7c392e221fd4284a351b34fb',\n",
       "  'time': '23:21:41',\n",
       "  'date': '27-09-2024',\n",
       "  'res': 'assistant'},\n",
       " '14': {'doc': 'test-note',\n",
       "  'hid': '8b63f7b6f8f5155ca7bfa1a3dfb51c1c00b9cc10de323873c023afdf7a164e56',\n",
       "  'time': '23:21:41',\n",
       "  'date': '27-09-2024',\n",
       "  'res': 'assistant'},\n",
       " '15': {'doc': 'test-note',\n",
       "  'hid': '579dd4ac836c6014428d63a8ba80ebe3255d8a690ba659edf485c59823f270dc',\n",
       "  'time': '23:21:41',\n",
       "  'date': '27-09-2024',\n",
       "  'res': 'assistant'}}"
      ]
     },
     "execution_count": 45,
     "metadata": {},
     "output_type": "execute_result"
    }
   ],
   "source": [
    "%%time\n",
    "doc.pull(time='07', where={\"res\":\"assistant\"}, docfile=\".index\")"
   ]
  },
  {
   "cell_type": "code",
   "execution_count": 46,
   "metadata": {},
   "outputs": [
    {
     "name": "stdout",
     "output_type": "stream",
     "text": [
      "CPU times: user 276 μs, sys: 0 ns, total: 276 μs\n",
      "Wall time: 287 μs\n"
     ]
    },
    {
     "data": {
      "text/plain": [
       "{'12': {'doc': 'test-note',\n",
       "  'hid': '990b06caf81a79bbff7cc564689e4aa1d1f805bd7c392e221fd4284a351b34fb',\n",
       "  'time': '23:21:41',\n",
       "  'date': '27-09-2024',\n",
       "  'res': 'assistant'},\n",
       " '14': {'doc': 'test-note',\n",
       "  'hid': '8b63f7b6f8f5155ca7bfa1a3dfb51c1c00b9cc10de323873c023afdf7a164e56',\n",
       "  'time': '23:21:41',\n",
       "  'date': '27-09-2024',\n",
       "  'res': 'assistant'},\n",
       " '15': {'doc': 'test-note',\n",
       "  'hid': '579dd4ac836c6014428d63a8ba80ebe3255d8a690ba659edf485c59823f270dc',\n",
       "  'time': '23:21:41',\n",
       "  'date': '27-09-2024',\n",
       "  'res': 'assistant'}}"
      ]
     },
     "execution_count": 46,
     "metadata": {},
     "output_type": "execute_result"
    }
   ],
   "source": [
    "%%time\n",
    "where = {\"time\":\"9\",\"date\":\"22\",\"res\":\"assistant\"}\n",
    "doc.pull(time=\"9\",where=where,docfile=\".index\")"
   ]
  },
  {
   "cell_type": "code",
   "execution_count": 47,
   "metadata": {},
   "outputs": [
    {
     "name": "stdout",
     "output_type": "stream",
     "text": [
      "CPU times: user 56 μs, sys: 0 ns, total: 56 μs\n",
      "Wall time: 58.9 μs\n"
     ]
    },
    {
     "data": {
      "text/plain": [
       "{}"
      ]
     },
     "execution_count": 47,
     "metadata": {},
     "output_type": "execute_result"
    }
   ],
   "source": [
    "%%time\n",
    "\n",
    "doc.pull(where=where,search_all_filter=True,docfile=\".index\")"
   ]
  },
  {
   "cell_type": "code",
   "execution_count": 48,
   "metadata": {},
   "outputs": [
    {
     "name": "stdout",
     "output_type": "stream",
     "text": [
      "CPU times: user 52 μs, sys: 0 ns, total: 52 μs\n",
      "Wall time: 54.4 μs\n"
     ]
    },
    {
     "data": {
      "text/plain": [
       "['12', '14', '15']"
      ]
     },
     "execution_count": 48,
     "metadata": {},
     "output_type": "execute_result"
    }
   ],
   "source": [
    "%%time\n",
    "idx = doc.search_idx( where=where)\n",
    "idx"
   ]
  },
  {
   "cell_type": "code",
   "execution_count": 49,
   "metadata": {},
   "outputs": [
    {
     "name": "stdout",
     "output_type": "stream",
     "text": [
      "CPU times: user 61 μs, sys: 1e+03 ns, total: 62 μs\n",
      "Wall time: 68.4 μs\n"
     ]
    },
    {
     "data": {
      "text/plain": [
       "{'12': {'doc': 'test-note',\n",
       "  'hid': '990b06caf81a79bbff7cc564689e4aa1d1f805bd7c392e221fd4284a351b34fb',\n",
       "  'time': '23:21:41',\n",
       "  'date': '27-09-2024',\n",
       "  'res': 'assistant'},\n",
       " '14': {'doc': 'test-note',\n",
       "  'hid': '8b63f7b6f8f5155ca7bfa1a3dfb51c1c00b9cc10de323873c023afdf7a164e56',\n",
       "  'time': '23:21:41',\n",
       "  'date': '27-09-2024',\n",
       "  'res': 'assistant'},\n",
       " '15': {'doc': 'test-note',\n",
       "  'hid': '579dd4ac836c6014428d63a8ba80ebe3255d8a690ba659edf485c59823f270dc',\n",
       "  'time': '23:21:41',\n",
       "  'date': '27-09-2024',\n",
       "  'res': 'assistant'}}"
      ]
     },
     "execution_count": 49,
     "metadata": {},
     "output_type": "execute_result"
    }
   ],
   "source": [
    "%%time\n",
    "doc.pull(idx=idx,docfile=\".index\")"
   ]
  },
  {
   "cell_type": "code",
   "execution_count": 50,
   "metadata": {},
   "outputs": [
    {
     "name": "stdout",
     "output_type": "stream",
     "text": [
      "CPU times: user 77 μs, sys: 1e+03 ns, total: 78 μs\n",
      "Wall time: 83.4 μs\n"
     ]
    },
    {
     "data": {
      "text/plain": [
       "{}"
      ]
     },
     "execution_count": 50,
     "metadata": {},
     "output_type": "execute_result"
    }
   ],
   "source": [
    "%%time\n",
    "doc.pull(time=\"22\",docfile=\"data.oxd\")"
   ]
  },
  {
   "cell_type": "code",
   "execution_count": 51,
   "metadata": {},
   "outputs": [
    {
     "name": "stdout",
     "output_type": "stream",
     "text": [
      "CPU times: user 1.14 ms, sys: 23 μs, total: 1.16 ms\n",
      "Wall time: 1.02 ms\n"
     ]
    },
    {
     "data": {
      "text/plain": [
       "{'1': 'implementd ox-studio.ui for ui interface now need to clean up all the stuff',\n",
       " '2': 'example data 1',\n",
       " '3': 'example data 2',\n",
       " '4': 'remember me : need to do code implementation for key lang conversation ',\n",
       " '5': 'remember me : gym time is morning from today  ',\n",
       " '6': 'remember me : base vector db arcchitecture is done  ',\n",
       " '7': 'remember me : need to do more research on deep learning  ',\n",
       " '8': 'need to do : find efficient data store and retrive method  ',\n",
       " '9': 'need to do : i need to finesh deamon search asap  ',\n",
       " '10': 'need to do : need to sleep  ',\n",
       " '11': 'need to do : look out for bugs in code base and fix it   ',\n",
       " '12': \"Hi I'm OX-AI your AI personal database \",\n",
       " '13': 'I can store your documents with vector embaddings and retrive it based on vector search',\n",
       " '14': \"I'm currently under development\",\n",
       " '15': 'looking forward to do more to increase your productivity!',\n",
       " '16': \"Hi I'm your AI personal database and I can store your documents with vector embeddings and retrieve them based on vector search. I'm currently under development, looking forward to doing more to increase your productivity!\",\n",
       " '17': 'need to : implement rag system that pulls data from the internet and chunk it and store as knowledge for easy retrivel'}"
      ]
     },
     "execution_count": 51,
     "metadata": {},
     "output_type": "execute_result"
    }
   ],
   "source": [
    "%%time\n",
    "doc.pull()"
   ]
  },
  {
   "cell_type": "code",
   "execution_count": 52,
   "metadata": {},
   "outputs": [
    {
     "data": {
      "text/plain": [
       "<oxdb_lite.core.log.dbDoc at 0x7f6c6021c7d0>"
      ]
     },
     "execution_count": 52,
     "metadata": {},
     "output_type": "execute_result"
    }
   ],
   "source": [
    "db.get_db(\"test_getdb\")\n",
    "db.get_doc(\"test_getdoc\")"
   ]
  },
  {
   "cell_type": "code",
   "execution_count": 53,
   "metadata": {},
   "outputs": [
    {
     "data": {
      "text/plain": [
       "True"
      ]
     },
     "execution_count": 53,
     "metadata": {},
     "output_type": "execute_result"
    }
   ],
   "source": [
    "db.del_db(\"test_getdb\")\n",
    "db.del_doc(\"test_getdoc\")"
   ]
  },
  {
   "cell_type": "code",
   "execution_count": 54,
   "metadata": {},
   "outputs": [
    {
     "data": {
      "text/plain": [
       "True"
      ]
     },
     "execution_count": 54,
     "metadata": {},
     "output_type": "execute_result"
    }
   ],
   "source": [
    "db.clean_up()"
   ]
  }
 ],
 "metadata": {
  "kernelspec": {
   "display_name": "Python 3",
   "language": "python",
   "name": "python3"
  },
  "language_info": {
   "codemirror_mode": {
    "name": "ipython",
    "version": 3
   },
   "file_extension": ".py",
   "mimetype": "text/x-python",
   "name": "python",
   "nbconvert_exporter": "python",
   "pygments_lexer": "ipython3",
   "version": "3.12.6"
  }
 },
 "nbformat": 4,
 "nbformat_minor": 2
}
