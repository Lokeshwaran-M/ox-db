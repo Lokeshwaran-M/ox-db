{
 "cells": [
  {
   "cell_type": "code",
   "execution_count": 1,
   "metadata": {},
   "outputs": [
    {
     "name": "stdout",
     "output_type": "stream",
     "text": [
      "CPU times: user 780 ms, sys: 22.3 ms, total: 803 ms\n",
      "Wall time: 222 ms\n"
     ]
    }
   ],
   "source": [
    "%%time\n",
    "from oxdb_lite.core import Oxdb\n",
    "from oxdb_lite import config \n",
    "\n",
    "db = Oxdb(\"test-lg\")"
   ]
  },
  {
   "cell_type": "code",
   "execution_count": 2,
   "metadata": {},
   "outputs": [
    {
     "data": {
      "text/plain": [
       "['test-lg.oxdb_lite', '.oxdb_lite']"
      ]
     },
     "execution_count": 2,
     "metadata": {},
     "output_type": "execute_result"
    }
   ],
   "source": [
    "db.get_dbs()"
   ]
  },
  {
   "cell_type": "code",
   "execution_count": 3,
   "metadata": {},
   "outputs": [
    {
     "data": {
      "text/plain": [
       "['test-note', 'log-doc']"
      ]
     },
     "execution_count": 3,
     "metadata": {},
     "output_type": "execute_result"
    }
   ],
   "source": [
    "db.get_docs()"
   ]
  },
  {
   "cell_type": "code",
   "execution_count": 4,
   "metadata": {},
   "outputs": [
    {
     "name": "stdout",
     "output_type": "stream",
     "text": [
      "CPU times: user 4 μs, sys: 1 μs, total: 5 μs\n",
      "Wall time: 7.87 μs\n"
     ]
    }
   ],
   "source": [
    "%time\n",
    "doc = db.get_doc(\"test-note\")"
   ]
  },
  {
   "cell_type": "code",
   "execution_count": 5,
   "metadata": {},
   "outputs": [
    {
     "data": {
      "text/plain": [
       "17"
      ]
     },
     "execution_count": 5,
     "metadata": {},
     "output_type": "execute_result"
    }
   ],
   "source": [
    "doc.len()"
   ]
  },
  {
   "cell_type": "code",
   "execution_count": 6,
   "metadata": {},
   "outputs": [
    {
     "name": "stdout",
     "output_type": "stream",
     "text": [
      "CPU times: user 517 ms, sys: 43.6 ms, total: 561 ms\n",
      "Wall time: 213 ms\n"
     ]
    },
    {
     "data": {
      "text/plain": [
       "[1]"
      ]
     },
     "execution_count": 6,
     "metadata": {},
     "output_type": "execute_result"
    }
   ],
   "source": [
    "%%time\n",
    "doc.push(\"implementd ox-studio.ui for ui interface now need to clean up all the stuff\",metadata={\"discription\":\"init commit\"})"
   ]
  },
  {
   "cell_type": "code",
   "execution_count": 7,
   "metadata": {},
   "outputs": [
    {
     "name": "stdout",
     "output_type": "stream",
     "text": [
      "CPU times: user 485 ms, sys: 3.85 ms, total: 489 ms\n",
      "Wall time: 122 ms\n"
     ]
    },
    {
     "data": {
      "text/plain": [
       "[2, 3]"
      ]
     },
     "execution_count": 7,
     "metadata": {},
     "output_type": "execute_result"
    }
   ],
   "source": [
    "%%time\n",
    "data_dict={                \n",
    "            \"data\": [\"example data 1\", \"example data 2\"],\n",
    "            \"datax\": None,\n",
    "            \"embeddings\": True,\n",
    "            \"metadata\": [{\"key1\": \"value1\"}, {\"key2\": \"value2\"}],\n",
    "            \"uid\": [\"uid1\", \"uid2\"]}\n",
    "doc.push(**data_dict)"
   ]
  },
  {
   "cell_type": "code",
   "execution_count": 8,
   "metadata": {},
   "outputs": [
    {
     "name": "stdout",
     "output_type": "stream",
     "text": [
      "CPU times: user 832 ms, sys: 4.35 ms, total: 836 ms\n",
      "Wall time: 209 ms\n"
     ]
    },
    {
     "data": {
      "text/plain": [
       "[4, 5, 6, 7]"
      ]
     },
     "execution_count": 8,
     "metadata": {},
     "output_type": "execute_result"
    }
   ],
   "source": [
    "%%time\n",
    "doc.push([\"remember me : need to do code implementation for key lang conversation \",\n",
    "\"remember me : gym time is morning from today  \",\n",
    "\"remember me : base vector db arcchitecture is done  \",\n",
    "\"remember me : need to do more research on deep learning  \"])"
   ]
  },
  {
   "cell_type": "code",
   "execution_count": 9,
   "metadata": {},
   "outputs": [
    {
     "name": "stdout",
     "output_type": "stream",
     "text": [
      "CPU times: user 14 μs, sys: 1 μs, total: 15 μs\n",
      "Wall time: 15.7 μs\n"
     ]
    },
    {
     "data": {
      "text/plain": [
       "{'db': 'test-lg.oxdb_lite',\n",
       " 'db_path': '/home/lokesh/oxdb-lite/test-lg.oxdb_lite',\n",
       " 'doc_name': 'test-note',\n",
       " 'doc_path': '/home/lokesh/oxdb-lite/test-lg.oxdb_lite/test-note',\n",
       " 'doc_entry': 17,\n",
       " 'vec_model': 'sentence-transformers/all-MiniLM-L6-v2'}"
      ]
     },
     "execution_count": 9,
     "metadata": {},
     "output_type": "execute_result"
    }
   ],
   "source": [
    "%%time\n",
    "doc.info()"
   ]
  },
  {
   "cell_type": "code",
   "execution_count": 10,
   "metadata": {},
   "outputs": [
    {
     "name": "stdout",
     "output_type": "stream",
     "text": [
      "CPU times: user 938 ms, sys: 3.61 ms, total: 942 ms\n",
      "Wall time: 261 ms\n"
     ]
    },
    {
     "data": {
      "text/plain": [
       "[11]"
      ]
     },
     "execution_count": 10,
     "metadata": {},
     "output_type": "execute_result"
    }
   ],
   "source": [
    "%%time\n",
    "doc.push(\"need to do : find efficient data store and retrive method  \")\n",
    "doc.push(\"need to do : i need to finesh deamon search asap  \")\n",
    "doc.push(\"need to do : need to sleep  \")\n",
    "doc.push(\"need to do : look out for bugs in code base and fix it   \")"
   ]
  },
  {
   "cell_type": "code",
   "execution_count": 11,
   "metadata": {},
   "outputs": [
    {
     "name": "stdout",
     "output_type": "stream",
     "text": [
      "CPU times: user 1.08 s, sys: 12.2 ms, total: 1.09 s\n",
      "Wall time: 272 ms\n"
     ]
    },
    {
     "data": {
      "text/plain": [
       "[12, 13, 14, 15, 16]"
      ]
     },
     "execution_count": 11,
     "metadata": {},
     "output_type": "execute_result"
    }
   ],
   "source": [
    "%%time\n",
    "doc.push(\n",
    "data=[\"Hi I'm OX-AI your AI personal database \",\n",
    "\"I can store your documents with vector embaddings and retrive it based on vector search\",\n",
    "\"I'm currently under development\",\n",
    "\"looking forward to do more to increase your productivity!\",\n",
    "\"Hi I'm your AI personal database and I can store your documents with vector embeddings and retrieve them based on vector search. I'm currently under development, looking forward to doing more to increase your productivity!\"],\n",
    "metadata=[{\"res\": \"assistant\"},None,{\"res\": \"assistant\"},{\"res\": \"assistant\"}],\n",
    "log_time=True,\n",
    ")"
   ]
  },
  {
   "cell_type": "code",
   "execution_count": 12,
   "metadata": {},
   "outputs": [
    {
     "name": "stdout",
     "output_type": "stream",
     "text": [
      "CPU times: user 169 ms, sys: 3.84 ms, total: 173 ms\n",
      "Wall time: 42.6 ms\n"
     ]
    },
    {
     "data": {
      "text/plain": [
       "[18]"
      ]
     },
     "execution_count": 12,
     "metadata": {},
     "output_type": "execute_result"
    }
   ],
   "source": [
    "%%time\n",
    "doc.push(\"null-data\")"
   ]
  },
  {
   "cell_type": "code",
   "execution_count": 13,
   "metadata": {},
   "outputs": [
    {
     "data": {
      "text/plain": [
       "['18']"
      ]
     },
     "execution_count": 13,
     "metadata": {},
     "output_type": "execute_result"
    }
   ],
   "source": [
    "idx=doc.search_data(\"null\",doc.data_oxd,\"idx\")\n",
    "idx"
   ]
  },
  {
   "cell_type": "code",
   "execution_count": 14,
   "metadata": {},
   "outputs": [
    {
     "data": {
      "text/plain": [
       "['18']"
      ]
     },
     "execution_count": 14,
     "metadata": {},
     "output_type": "execute_result"
    }
   ],
   "source": [
    "doc.delete(idx[0])"
   ]
  },
  {
   "cell_type": "code",
   "execution_count": 15,
   "metadata": {},
   "outputs": [
    {
     "name": "stdout",
     "output_type": "stream",
     "text": [
      "CPU times: user 361 ms, sys: 3.76 ms, total: 365 ms\n",
      "Wall time: 98.9 ms\n"
     ]
    },
    {
     "data": {
      "text/plain": [
       "{'entries': 1,\n",
       " 'idx': ['5'],\n",
       " 'data': ['remember me : gym time is morning from today  '],\n",
       " 'sim_score': [0.4463955084872185],\n",
       " 'index': [{'doc': 'test-note',\n",
       "   'hid': '8a69e0d4f4bef9c1665b1b73808d05e15557849476f1a144c2199ae888945ed8'}],\n",
       " 'embeddings': []}"
      ]
     },
     "execution_count": 15,
     "metadata": {},
     "output_type": "execute_result"
    }
   ],
   "source": [
    "%%time\n",
    "doc.search(\"remember me\",where_data={\"search_string\":\"gym\"})"
   ]
  },
  {
   "cell_type": "code",
   "execution_count": 16,
   "metadata": {},
   "outputs": [
    {
     "name": "stdout",
     "output_type": "stream",
     "text": [
      "CPU times: user 226 ms, sys: 0 ns, total: 226 ms\n",
      "Wall time: 60.2 ms\n"
     ]
    },
    {
     "data": {
      "text/plain": [
       "[17]"
      ]
     },
     "execution_count": 16,
     "metadata": {},
     "output_type": "execute_result"
    }
   ],
   "source": [
    "%%time\n",
    "doc.push(\n",
    "    \"need to : implement rag system that pulls data from the internet and chunk it and store as knowledge for easy retrivel\"\n",
    ")"
   ]
  },
  {
   "cell_type": "code",
   "execution_count": 17,
   "metadata": {},
   "outputs": [
    {
     "name": "stdout",
     "output_type": "stream",
     "text": [
      "CPU times: user 182 ms, sys: 0 ns, total: 182 ms\n",
      "Wall time: 54.8 ms\n"
     ]
    },
    {
     "data": {
      "text/plain": [
       "{'entries': 3,\n",
       " 'idx': ['12', '15', '14'],\n",
       " 'data': [\"Hi I'm OX-AI your AI personal database \",\n",
       "  'looking forward to do more to increase your productivity!',\n",
       "  \"I'm currently under development\"],\n",
       " 'sim_score': [0.08422736709013229,\n",
       "  0.035051350484307256,\n",
       "  -0.04084236056612295],\n",
       " 'index': [{'doc': 'test-note',\n",
       "   'hid': '990b06caf81a79bbff7cc564689e4aa1d1f805bd7c392e221fd4284a351b34fb',\n",
       "   'time': '03:01:53',\n",
       "   'date': '27-09-2024',\n",
       "   'res': 'assistant'},\n",
       "  {'doc': 'test-note',\n",
       "   'hid': '579dd4ac836c6014428d63a8ba80ebe3255d8a690ba659edf485c59823f270dc',\n",
       "   'time': '03:01:53',\n",
       "   'date': '27-09-2024',\n",
       "   'res': 'assistant'},\n",
       "  {'doc': 'test-note',\n",
       "   'hid': '8b63f7b6f8f5155ca7bfa1a3dfb51c1c00b9cc10de323873c023afdf7a164e56',\n",
       "   'time': '03:01:53',\n",
       "   'date': '27-09-2024',\n",
       "   'res': 'assistant'}],\n",
       " 'embeddings': []}"
      ]
     },
     "execution_count": 17,
     "metadata": {},
     "output_type": "execute_result"
    }
   ],
   "source": [
    "%%time\n",
    "doc.search(\"rag system data chunk\",6,where={\"res\":\"assistant\"})"
   ]
  },
  {
   "cell_type": "code",
   "execution_count": 18,
   "metadata": {},
   "outputs": [
    {
     "name": "stdout",
     "output_type": "stream",
     "text": [
      "CPU times: user 64 μs, sys: 0 ns, total: 64 μs\n",
      "Wall time: 67.5 μs\n"
     ]
    },
    {
     "data": {
      "text/plain": [
       "{'12': {'doc': 'test-note',\n",
       "  'hid': '990b06caf81a79bbff7cc564689e4aa1d1f805bd7c392e221fd4284a351b34fb',\n",
       "  'time': '03:01:53',\n",
       "  'date': '27-09-2024',\n",
       "  'res': 'assistant'},\n",
       " '14': {'doc': 'test-note',\n",
       "  'hid': '8b63f7b6f8f5155ca7bfa1a3dfb51c1c00b9cc10de323873c023afdf7a164e56',\n",
       "  'time': '03:01:53',\n",
       "  'date': '27-09-2024',\n",
       "  'res': 'assistant'},\n",
       " '15': {'doc': 'test-note',\n",
       "  'hid': '579dd4ac836c6014428d63a8ba80ebe3255d8a690ba659edf485c59823f270dc',\n",
       "  'time': '03:01:53',\n",
       "  'date': '27-09-2024',\n",
       "  'res': 'assistant'}}"
      ]
     },
     "execution_count": 18,
     "metadata": {},
     "output_type": "execute_result"
    }
   ],
   "source": [
    "%%time\n",
    "doc.pull(time='07', where={\"res\":\"assistant\"}, docfile=\".index\")"
   ]
  },
  {
   "cell_type": "code",
   "execution_count": 19,
   "metadata": {},
   "outputs": [
    {
     "name": "stdout",
     "output_type": "stream",
     "text": [
      "CPU times: user 115 μs, sys: 3 μs, total: 118 μs\n",
      "Wall time: 120 μs\n"
     ]
    },
    {
     "data": {
      "text/plain": [
       "{'12': {'doc': 'test-note',\n",
       "  'hid': '990b06caf81a79bbff7cc564689e4aa1d1f805bd7c392e221fd4284a351b34fb',\n",
       "  'time': '03:01:53',\n",
       "  'date': '27-09-2024',\n",
       "  'res': 'assistant'},\n",
       " '14': {'doc': 'test-note',\n",
       "  'hid': '8b63f7b6f8f5155ca7bfa1a3dfb51c1c00b9cc10de323873c023afdf7a164e56',\n",
       "  'time': '03:01:53',\n",
       "  'date': '27-09-2024',\n",
       "  'res': 'assistant'},\n",
       " '15': {'doc': 'test-note',\n",
       "  'hid': '579dd4ac836c6014428d63a8ba80ebe3255d8a690ba659edf485c59823f270dc',\n",
       "  'time': '03:01:53',\n",
       "  'date': '27-09-2024',\n",
       "  'res': 'assistant'}}"
      ]
     },
     "execution_count": 19,
     "metadata": {},
     "output_type": "execute_result"
    }
   ],
   "source": [
    "%%time\n",
    "where = {\"time\":\"9\",\"date\":\"22\",\"res\":\"assistant\"}\n",
    "doc.pull(time=\"9\",where=where,docfile=\".index\")"
   ]
  },
  {
   "cell_type": "code",
   "execution_count": 20,
   "metadata": {},
   "outputs": [
    {
     "name": "stdout",
     "output_type": "stream",
     "text": [
      "CPU times: user 41 μs, sys: 1 μs, total: 42 μs\n",
      "Wall time: 43.9 μs\n"
     ]
    },
    {
     "data": {
      "text/plain": [
       "{}"
      ]
     },
     "execution_count": 20,
     "metadata": {},
     "output_type": "execute_result"
    }
   ],
   "source": [
    "%%time\n",
    "\n",
    "doc.pull(where=where,search_all_filter=True,docfile=\".index\")"
   ]
  },
  {
   "cell_type": "code",
   "execution_count": 21,
   "metadata": {},
   "outputs": [
    {
     "name": "stdout",
     "output_type": "stream",
     "text": [
      "CPU times: user 108 μs, sys: 2 μs, total: 110 μs\n",
      "Wall time: 124 μs\n"
     ]
    },
    {
     "data": {
      "text/plain": [
       "['12', '14', '15']"
      ]
     },
     "execution_count": 21,
     "metadata": {},
     "output_type": "execute_result"
    }
   ],
   "source": [
    "%%time\n",
    "idx = doc.search_idx( where=where)\n",
    "idx"
   ]
  },
  {
   "cell_type": "code",
   "execution_count": 22,
   "metadata": {},
   "outputs": [
    {
     "name": "stdout",
     "output_type": "stream",
     "text": [
      "CPU times: user 22 μs, sys: 1 μs, total: 23 μs\n",
      "Wall time: 24.3 μs\n"
     ]
    },
    {
     "data": {
      "text/plain": [
       "{'12': {'doc': 'test-note',\n",
       "  'hid': '990b06caf81a79bbff7cc564689e4aa1d1f805bd7c392e221fd4284a351b34fb',\n",
       "  'time': '03:01:53',\n",
       "  'date': '27-09-2024',\n",
       "  'res': 'assistant'},\n",
       " '14': {'doc': 'test-note',\n",
       "  'hid': '8b63f7b6f8f5155ca7bfa1a3dfb51c1c00b9cc10de323873c023afdf7a164e56',\n",
       "  'time': '03:01:53',\n",
       "  'date': '27-09-2024',\n",
       "  'res': 'assistant'},\n",
       " '15': {'doc': 'test-note',\n",
       "  'hid': '579dd4ac836c6014428d63a8ba80ebe3255d8a690ba659edf485c59823f270dc',\n",
       "  'time': '03:01:53',\n",
       "  'date': '27-09-2024',\n",
       "  'res': 'assistant'}}"
      ]
     },
     "execution_count": 22,
     "metadata": {},
     "output_type": "execute_result"
    }
   ],
   "source": [
    "%%time\n",
    "doc.pull(idx=idx,docfile=\".index\")"
   ]
  },
  {
   "cell_type": "code",
   "execution_count": 23,
   "metadata": {},
   "outputs": [
    {
     "name": "stdout",
     "output_type": "stream",
     "text": [
      "CPU times: user 81 μs, sys: 1 μs, total: 82 μs\n",
      "Wall time: 86.3 μs\n"
     ]
    },
    {
     "data": {
      "text/plain": [
       "{}"
      ]
     },
     "execution_count": 23,
     "metadata": {},
     "output_type": "execute_result"
    }
   ],
   "source": [
    "%%time\n",
    "doc.pull(time=\"22\",docfile=\"data.oxd\")"
   ]
  },
  {
   "cell_type": "code",
   "execution_count": 24,
   "metadata": {},
   "outputs": [
    {
     "name": "stdout",
     "output_type": "stream",
     "text": [
      "CPU times: user 732 μs, sys: 16 μs, total: 748 μs\n",
      "Wall time: 530 μs\n"
     ]
    },
    {
     "data": {
      "text/plain": [
       "{'1': 'implementd ox-studio.ui for ui interface now need to clean up all the stuff',\n",
       " '2': 'example data 1',\n",
       " '3': 'example data 2',\n",
       " '4': 'remember me : need to do code implementation for key lang conversation ',\n",
       " '5': 'remember me : gym time is morning from today  ',\n",
       " '6': 'remember me : base vector db arcchitecture is done  ',\n",
       " '7': 'remember me : need to do more research on deep learning  ',\n",
       " '8': 'need to do : find efficient data store and retrive method  ',\n",
       " '9': 'need to do : i need to finesh deamon search asap  ',\n",
       " '10': 'need to do : need to sleep  ',\n",
       " '11': 'need to do : look out for bugs in code base and fix it   ',\n",
       " '12': \"Hi I'm OX-AI your AI personal database \",\n",
       " '13': 'I can store your documents with vector embaddings and retrive it based on vector search',\n",
       " '14': \"I'm currently under development\",\n",
       " '15': 'looking forward to do more to increase your productivity!',\n",
       " '16': \"Hi I'm your AI personal database and I can store your documents with vector embeddings and retrieve them based on vector search. I'm currently under development, looking forward to doing more to increase your productivity!\",\n",
       " '17': 'need to : implement rag system that pulls data from the internet and chunk it and store as knowledge for easy retrivel'}"
      ]
     },
     "execution_count": 24,
     "metadata": {},
     "output_type": "execute_result"
    }
   ],
   "source": [
    "%%time\n",
    "doc.pull()"
   ]
  },
  {
   "cell_type": "code",
   "execution_count": 25,
   "metadata": {},
   "outputs": [
    {
     "data": {
      "text/plain": [
       "<oxdb_lite.core.log.dbDoc at 0x7f147c1c9a00>"
      ]
     },
     "execution_count": 25,
     "metadata": {},
     "output_type": "execute_result"
    }
   ],
   "source": [
    "db.get_db(\"test_getdb\")\n",
    "db.get_doc(\"test_getdoc\")"
   ]
  },
  {
   "cell_type": "code",
   "execution_count": 26,
   "metadata": {},
   "outputs": [
    {
     "data": {
      "text/plain": [
       "True"
      ]
     },
     "execution_count": 26,
     "metadata": {},
     "output_type": "execute_result"
    }
   ],
   "source": [
    "db.del_db(\"test_getdb\")\n",
    "db.del_doc(\"test_getdoc\")"
   ]
  },
  {
   "cell_type": "code",
   "execution_count": 27,
   "metadata": {},
   "outputs": [
    {
     "data": {
      "text/plain": [
       "True"
      ]
     },
     "execution_count": 27,
     "metadata": {},
     "output_type": "execute_result"
    }
   ],
   "source": [
    "db.clean_up()"
   ]
  }
 ],
 "metadata": {
  "kernelspec": {
   "display_name": "Python 3",
   "language": "python",
   "name": "python3"
  },
  "language_info": {
   "codemirror_mode": {
    "name": "ipython",
    "version": 3
   },
   "file_extension": ".py",
   "mimetype": "text/x-python",
   "name": "python",
   "nbconvert_exporter": "python",
   "pygments_lexer": "ipython3",
   "version": "3.12.6"
  }
 },
 "nbformat": 4,
 "nbformat_minor": 2
}
