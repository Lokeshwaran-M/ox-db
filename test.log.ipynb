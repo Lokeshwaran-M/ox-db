{
 "cells": [
  {
   "cell_type": "code",
   "execution_count": 3,
   "metadata": {},
   "outputs": [
    {
     "name": "stderr",
     "output_type": "stream",
     "text": [
      "/home/lokesh/.local/lib/python3.11/site-packages/sentence_transformers/cross_encoder/CrossEncoder.py:11: TqdmExperimentalWarning: Using `tqdm.autonotebook.tqdm` in notebook mode. Use `tqdm.tqdm` instead to force console mode (e.g. in jupyter console)\n",
      "  from tqdm.autonotebook import tqdm, trange\n",
      "/home/lokesh/.local/lib/python3.11/site-packages/huggingface_hub/file_download.py:1132: FutureWarning: `resume_download` is deprecated and will be removed in version 1.0.0. Downloads always resume when possible. If you want to force a new download, use `force_download=True`.\n",
      "  warnings.warn(\n"
     ]
    }
   ],
   "source": [
    "from ox_db.db.log import Oxdb\n",
    "\n",
    "db = Oxdb(\"test\")"
   ]
  },
  {
   "cell_type": "code",
   "execution_count": 4,
   "metadata": {},
   "outputs": [],
   "source": [
    "doc = db.get_doc(\"note\")"
   ]
  },
  {
   "cell_type": "code",
   "execution_count": null,
   "metadata": {},
   "outputs": [],
   "source": [
    "doc.push(\"remember me : need to do code implementation for key lang conversation \")\n",
    "doc.push(\"remember me : gym time is morning from today  \")\n",
    "doc.push(\"remember me : base vector db arcchitecture is done  \")\n",
    "doc.push(\"remember me : need to do more research on deep learning  \")"
   ]
  },
  {
   "cell_type": "code",
   "execution_count": null,
   "metadata": {},
   "outputs": [],
   "source": [
    "doc.doc_reg"
   ]
  },
  {
   "cell_type": "code",
   "execution_count": null,
   "metadata": {},
   "outputs": [],
   "source": [
    "doc.push(\"need to do : find efficient data store and retrive method  \")\n",
    "doc.push(\"need to do : i need to finesh deamon search asap  \")\n",
    "doc.push(\"need to do : need to sleep  \")\n",
    "doc.push(\"need to do : look out for bugs in code base and fix it   \")"
   ]
  },
  {
   "cell_type": "code",
   "execution_count": 9,
   "metadata": {},
   "outputs": [
    {
     "data": {
      "text/plain": [
       "'6aaa5849-ab6e-44ae-9298-9fea97253f0c'"
      ]
     },
     "execution_count": 9,
     "metadata": {},
     "output_type": "execute_result"
    }
   ],
   "source": [
    "doc.push(\"Hi I'm OX-AI your AI personal database \", metadata={\"res\": \"assistant\"})\n",
    "doc.push(\n",
    "    \"I can store your documents with vector embaddings and retrive it based on vector search\",\n",
    "    metadata={\"res\": \"assistant\"},\n",
    ")\n",
    "doc.push(\"I'm currently under development\", metadata={\"res\": \"assistant\"})\n",
    "doc.push(\n",
    "    \"looking forward to do more to increase your productivity!\",\n",
    "    metadata={\"res\": \"assistant\"},\n",
    ")\n",
    "doc.push(\n",
    "    \"Hi I'm your AI personal database and I can store your documents with vector embeddings and retrieve them based on vector search. I'm currently under development, looking forward to doing more to increase your productivity!\",\n",
    "    metadata={\"res\": \"assistant\"},\n",
    ")"
   ]
  },
  {
   "cell_type": "code",
   "execution_count": null,
   "metadata": {},
   "outputs": [],
   "source": [
    "doc.push(\"hi\", key=\"time\")"
   ]
  },
  {
   "cell_type": "code",
   "execution_count": null,
   "metadata": {},
   "outputs": [],
   "source": [
    "doc.search(\"hi ox-ai\", 3)"
   ]
  },
  {
   "cell_type": "code",
   "execution_count": null,
   "metadata": {},
   "outputs": [],
   "source": [
    "doc.gen_uid()"
   ]
  },
  {
   "cell_type": "code",
   "execution_count": null,
   "metadata": {},
   "outputs": [],
   "source": [
    "doc.push(\n",
    "    \"need to : implement rag system that pulls data from the internet and chunk it and store as knowledge for easy retrivel\"\n",
    ")"
   ]
  },
  {
   "cell_type": "code",
   "execution_count": 17,
   "metadata": {},
   "outputs": [
    {
     "name": "stdout",
     "output_type": "stream",
     "text": [
      "CPU times: user 47 ms, sys: 0 ns, total: 47 ms\n",
      "Wall time: 14.8 ms\n"
     ]
    },
    {
     "data": {
      "text/plain": [
       "[{'uid': 'cbda5aeb-b27c-42b5-9b65-7fb27f776c13',\n",
       "  'unit': {'data': 'hi', 'description': None}},\n",
       " {'uid': '86731f76-dd0e-437d-add7-a8739636fe68',\n",
       "  'unit': {'data': 'hi', 'description': None}},\n",
       " {'uid': 'aac74c2a-96c6-4d49-9c02-bb7404f062ea',\n",
       "  'unit': {'data': \"Hi I'm OX-AI your AI personal database \",\n",
       "   'description': None}},\n",
       " {'uid': '8af601e6-7bc5-45c9-a1ec-d646d16f21c5',\n",
       "  'unit': {'data': \"Hi I'm OX-AI your AI personal database \",\n",
       "   'description': None}},\n",
       " {'uid': '2020dd1c-c321-45e8-bb05-25ce195f88c1',\n",
       "  'unit': {'data': \"Hi I'm OX-AI your AI personal database \",\n",
       "   'description': None}},\n",
       " {'uid': 'c421a5cd-f7fd-4138-bc62-fc5eb6a934ca',\n",
       "  'unit': {'data': \"Hi I'm OX-AI your AI personal database \",\n",
       "   'description': None}},\n",
       " {'uid': '241d8d88-3c34-40a3-8ee2-b1ad2b6c4084',\n",
       "  'unit': {'data': \"I'm currently under development\", 'description': None}},\n",
       " {'uid': '10ddcfc8-ed90-4db5-9906-056b3f4cf8be',\n",
       "  'unit': {'data': \"I'm currently under development\", 'description': None}},\n",
       " {'uid': '00712353-1f5e-40c8-ba82-617e83781955',\n",
       "  'unit': {'data': \"I'm currently under development\", 'description': None}},\n",
       " {'uid': '92f8f135-c5fb-4bfe-9183-9da1b20764dd',\n",
       "  'unit': {'data': \"I'm currently under development\", 'description': None}}]"
      ]
     },
     "execution_count": 17,
     "metadata": {},
     "output_type": "execute_result"
    }
   ],
   "source": [
    "%%time\n",
    "\n",
    "doc.search(\"rag\",10,where={\"res\":\"assistant\"})"
   ]
  },
  {
   "cell_type": "code",
   "execution_count": 8,
   "metadata": {},
   "outputs": [
    {
     "name": "stdout",
     "output_type": "stream",
     "text": [
      "CPU times: user 66 µs, sys: 0 ns, total: 66 µs\n",
      "Wall time: 69.1 µs\n"
     ]
    },
    {
     "data": {
      "text/plain": [
       "[{'uid': 'aac74c2a-96c6-4d49-9c02-bb7404f062ea',\n",
       "  'unit': {'uid': 'aac74c2a-96c6-4d49-9c02-bb7404f062ea',\n",
       "   'key': 'key',\n",
       "   'doc': 'note',\n",
       "   'time': '10:21:32_AM',\n",
       "   'date': '02_07_2024',\n",
       "   'metadata': {'res': 'assistant'},\n",
       "   'data_type': 'str'}},\n",
       " {'uid': '5e7446b6-484d-4bb9-a490-9319d24420d5',\n",
       "  'unit': {'uid': '5e7446b6-484d-4bb9-a490-9319d24420d5',\n",
       "   'key': 'key',\n",
       "   'doc': 'note',\n",
       "   'time': '10:21:32_AM',\n",
       "   'date': '02_07_2024',\n",
       "   'metadata': {'res': 'assistant'},\n",
       "   'data_type': 'str'}},\n",
       " {'uid': '00712353-1f5e-40c8-ba82-617e83781955',\n",
       "  'unit': {'uid': '00712353-1f5e-40c8-ba82-617e83781955',\n",
       "   'key': 'key',\n",
       "   'doc': 'note',\n",
       "   'time': '10:21:32_AM',\n",
       "   'date': '02_07_2024',\n",
       "   'metadata': {'res': 'assistant'},\n",
       "   'data_type': 'str'}},\n",
       " {'uid': '6b5fc7a0-34c7-4268-9cfb-92a4e0bbd4c2',\n",
       "  'unit': {'uid': '6b5fc7a0-34c7-4268-9cfb-92a4e0bbd4c2',\n",
       "   'key': 'key',\n",
       "   'doc': 'note',\n",
       "   'time': '10:21:32_AM',\n",
       "   'date': '02_07_2024',\n",
       "   'metadata': {'res': 'assistant'},\n",
       "   'data_type': 'str'}},\n",
       " {'uid': 'f67474fe-8b66-4352-9331-72d9bf66bd29',\n",
       "  'unit': {'uid': 'f67474fe-8b66-4352-9331-72d9bf66bd29',\n",
       "   'key': 'key',\n",
       "   'doc': 'note',\n",
       "   'time': '10:21:32_AM',\n",
       "   'date': '02_07_2024',\n",
       "   'metadata': {'res': 'assistant'},\n",
       "   'data_type': 'str'}},\n",
       " {'uid': '2020dd1c-c321-45e8-bb05-25ce195f88c1',\n",
       "  'unit': {'uid': '2020dd1c-c321-45e8-bb05-25ce195f88c1',\n",
       "   'key': 'key',\n",
       "   'doc': 'note',\n",
       "   'time': '10:32:48_AM',\n",
       "   'date': '02_07_2024',\n",
       "   'metadata': {'res': 'assistant'},\n",
       "   'data_type': 'str'}},\n",
       " {'uid': '98f26c72-517e-4ffe-8859-0629f8328cfe',\n",
       "  'unit': {'uid': '98f26c72-517e-4ffe-8859-0629f8328cfe',\n",
       "   'key': 'key',\n",
       "   'doc': 'note',\n",
       "   'time': '10:32:48_AM',\n",
       "   'date': '02_07_2024',\n",
       "   'metadata': {'res': 'assistant'},\n",
       "   'data_type': 'str'}},\n",
       " {'uid': '92f8f135-c5fb-4bfe-9183-9da1b20764dd',\n",
       "  'unit': {'uid': '92f8f135-c5fb-4bfe-9183-9da1b20764dd',\n",
       "   'key': 'key',\n",
       "   'doc': 'note',\n",
       "   'time': '10:32:48_AM',\n",
       "   'date': '02_07_2024',\n",
       "   'metadata': {'res': 'assistant'},\n",
       "   'data_type': 'str'}},\n",
       " {'uid': '3dde81fe-029c-4e12-a351-c4645d573955',\n",
       "  'unit': {'uid': '3dde81fe-029c-4e12-a351-c4645d573955',\n",
       "   'key': 'key',\n",
       "   'doc': 'note',\n",
       "   'time': '10:32:48_AM',\n",
       "   'date': '02_07_2024',\n",
       "   'metadata': {'res': 'assistant'},\n",
       "   'data_type': 'str'}},\n",
       " {'uid': '6aaa5849-ab6e-44ae-9298-9fea97253f0c',\n",
       "  'unit': {'uid': '6aaa5849-ab6e-44ae-9298-9fea97253f0c',\n",
       "   'key': 'key',\n",
       "   'doc': 'note',\n",
       "   'time': '10:32:48_AM',\n",
       "   'date': '02_07_2024',\n",
       "   'metadata': {'res': 'assistant'},\n",
       "   'data_type': 'str'}}]"
      ]
     },
     "execution_count": 8,
     "metadata": {},
     "output_type": "execute_result"
    }
   ],
   "source": [
    "%%time\n",
    "doc.pull(time='10', where={\"res\":\"assistant\"}, docfile=\".index\")"
   ]
  },
  {
   "cell_type": "code",
   "execution_count": null,
   "metadata": {},
   "outputs": [],
   "source": [
    "doc.pull(time=\"02\")"
   ]
  },
  {
   "cell_type": "code",
   "execution_count": null,
   "metadata": {},
   "outputs": [],
   "source": [
    "doc.pull(date=\"02_07\")"
   ]
  },
  {
   "cell_type": "code",
   "execution_count": null,
   "metadata": {},
   "outputs": [],
   "source": [
    "uids = doc.search_uid(key=\"time\")"
   ]
  },
  {
   "cell_type": "code",
   "execution_count": null,
   "metadata": {},
   "outputs": [],
   "source": [
    "%%time\n",
    "doc.pull(uid=uids,docfile=\".index\")"
   ]
  },
  {
   "cell_type": "code",
   "execution_count": null,
   "metadata": {},
   "outputs": [],
   "source": [
    "doc.pull(time=\"02\", docfile=\".index\")"
   ]
  }
 ],
 "metadata": {
  "kernelspec": {
   "display_name": "Python 3",
   "language": "python",
   "name": "python3"
  },
  "language_info": {
   "codemirror_mode": {
    "name": "ipython",
    "version": 3
   },
   "file_extension": ".py",
   "mimetype": "text/x-python",
   "name": "python",
   "nbconvert_exporter": "python",
   "pygments_lexer": "ipython3",
   "version": "3.11.9"
  }
 },
 "nbformat": 4,
 "nbformat_minor": 2
}
