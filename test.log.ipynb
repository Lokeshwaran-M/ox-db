{
 "cells": [
  {
   "cell_type": "code",
   "execution_count": 1,
   "metadata": {},
   "outputs": [
    {
     "name": "stderr",
     "output_type": "stream",
     "text": [
      "/home/lokesh/.local/lib/python3.11/site-packages/sentence_transformers/cross_encoder/CrossEncoder.py:11: TqdmExperimentalWarning: Using `tqdm.autonotebook.tqdm` in notebook mode. Use `tqdm.tqdm` instead to force console mode (e.g. in jupyter console)\n",
      "  from tqdm.autonotebook import tqdm, trange\n",
      "/home/lokesh/.local/lib/python3.11/site-packages/huggingface_hub/file_download.py:1132: FutureWarning: `resume_download` is deprecated and will be removed in version 1.0.0. Downloads always resume when possible. If you want to force a new download, use `force_download=True`.\n",
      "  warnings.warn(\n"
     ]
    }
   ],
   "source": [
    "from ox_db.db.log import Oxdb\n",
    "\n",
    "db = Oxdb(\"test-lg1\")"
   ]
  },
  {
   "cell_type": "code",
   "execution_count": 2,
   "metadata": {},
   "outputs": [],
   "source": [
    "doc = db.get_doc(\"note\")"
   ]
  },
  {
   "cell_type": "code",
   "execution_count": 3,
   "metadata": {},
   "outputs": [
    {
     "data": {
      "text/plain": [
       "'50fed4eb-cbd6-4960-8e43-81a4175cb562'"
      ]
     },
     "execution_count": 3,
     "metadata": {},
     "output_type": "execute_result"
    }
   ],
   "source": [
    "doc.push(\"remember me : need to do code implementation for key lang conversation \")\n",
    "doc.push(\"remember me : gym time is morning from today  \")\n",
    "doc.push(\"remember me : base vector db arcchitecture is done  \")\n",
    "doc.push(\"remember me : need to do more research on deep learning  \")"
   ]
  },
  {
   "cell_type": "code",
   "execution_count": 4,
   "metadata": {},
   "outputs": [
    {
     "data": {
      "text/plain": [
       "{'entry': 4, 'vec_model': 'sentence-transformers/all-MiniLM-L6-v2'}"
      ]
     },
     "execution_count": 4,
     "metadata": {},
     "output_type": "execute_result"
    }
   ],
   "source": [
    "doc.doc_reg"
   ]
  },
  {
   "cell_type": "code",
   "execution_count": 5,
   "metadata": {},
   "outputs": [
    {
     "data": {
      "text/plain": [
       "'44e6825d-8690-4d45-b4a5-9dc9935cf8d4'"
      ]
     },
     "execution_count": 5,
     "metadata": {},
     "output_type": "execute_result"
    }
   ],
   "source": [
    "doc.push(\"need to do : find efficient data store and retrive method  \")\n",
    "doc.push(\"need to do : i need to finesh deamon search asap  \")\n",
    "doc.push(\"need to do : need to sleep  \")\n",
    "doc.push(\"need to do : look out for bugs in code base and fix it   \")"
   ]
  },
  {
   "cell_type": "code",
   "execution_count": 6,
   "metadata": {},
   "outputs": [
    {
     "data": {
      "text/plain": [
       "'b6612ed6-1db4-467b-9071-9b0dbe175336'"
      ]
     },
     "execution_count": 6,
     "metadata": {},
     "output_type": "execute_result"
    }
   ],
   "source": [
    "doc.push(\"Hi I'm OX-AI your AI personal database \", metadata={\"res\": \"assistant\"})\n",
    "doc.push(\n",
    "    \"I can store your documents with vector embaddings and retrive it based on vector search\",\n",
    "    metadata={\"res\": \"assistant\"},\n",
    ")\n",
    "doc.push(\"I'm currently under development\", metadata={\"res\": \"assistant\"})\n",
    "doc.push(\n",
    "    \"looking forward to do more to increase your productivity!\",\n",
    "    metadata={\"res\": \"assistant\"},\n",
    ")\n",
    "doc.push(\n",
    "    \"Hi I'm your AI personal database and I can store your documents with vector embeddings and retrieve them based on vector search. I'm currently under development, looking forward to doing more to increase your productivity!\",\n",
    "    metadata={\"res\": \"assistant\"},\n",
    ")"
   ]
  },
  {
   "cell_type": "code",
   "execution_count": 7,
   "metadata": {},
   "outputs": [
    {
     "data": {
      "text/plain": [
       "'02013d9a-de20-4e54-94ce-7d8b56879124'"
      ]
     },
     "execution_count": 7,
     "metadata": {},
     "output_type": "execute_result"
    }
   ],
   "source": [
    "doc.push(\"hi\", key=\"time\")"
   ]
  },
  {
   "cell_type": "code",
   "execution_count": 8,
   "metadata": {},
   "outputs": [
    {
     "data": {
      "text/plain": [
       "[{'uid': 'dce59725-7252-4bc4-a3a8-167351264802',\n",
       "  'unit': {'data': \"Hi I'm OX-AI your AI personal database \",\n",
       "   'description': None}},\n",
       " {'uid': '02013d9a-de20-4e54-94ce-7d8b56879124',\n",
       "  'unit': {'data': 'hi', 'description': None}},\n",
       " {'uid': '1267b760-179a-40ae-b425-1c9dffed9d82',\n",
       "  'unit': {'data': 'remember me : gym time is morning from today  ',\n",
       "   'description': None}}]"
      ]
     },
     "execution_count": 8,
     "metadata": {},
     "output_type": "execute_result"
    }
   ],
   "source": [
    "doc.search(\"hi ox-ai\", 3)"
   ]
  },
  {
   "cell_type": "code",
   "execution_count": 9,
   "metadata": {},
   "outputs": [
    {
     "data": {
      "text/plain": [
       "'7d330fa4-4f0c-4f43-b266-ed399eb1878e'"
      ]
     },
     "execution_count": 9,
     "metadata": {},
     "output_type": "execute_result"
    }
   ],
   "source": [
    "doc.push(\n",
    "    \"need to : implement rag system that pulls data from the internet and chunk it and store as knowledge for easy retrivel\"\n",
    ")"
   ]
  },
  {
   "cell_type": "code",
   "execution_count": 10,
   "metadata": {},
   "outputs": [
    {
     "name": "stdout",
     "output_type": "stream",
     "text": [
      "CPU times: user 64.2 ms, sys: 0 ns, total: 64.2 ms\n",
      "Wall time: 21.5 ms\n"
     ]
    },
    {
     "data": {
      "text/plain": [
       "[{'uid': '170c72b6-01fd-4fab-9839-f9e46f6f27dc',\n",
       "  'unit': {'data': \"I'm currently under development\", 'description': None}},\n",
       " {'uid': '0ee969ab-0c29-4ca3-8320-4e8282ecbd31',\n",
       "  'unit': {'data': 'looking forward to do more to increase your productivity!',\n",
       "   'description': None}},\n",
       " {'uid': 'dce59725-7252-4bc4-a3a8-167351264802',\n",
       "  'unit': {'data': \"Hi I'm OX-AI your AI personal database \",\n",
       "   'description': None}},\n",
       " {'uid': 'eea34f99-1a7c-46b5-8404-7619e57a188d',\n",
       "  'unit': {'data': 'I can store your documents with vector embaddings and retrive it based on vector search',\n",
       "   'description': None}},\n",
       " {'uid': 'b6612ed6-1db4-467b-9071-9b0dbe175336',\n",
       "  'unit': {'data': \"Hi I'm your AI personal database and I can store your documents with vector embeddings and retrieve them based on vector search. I'm currently under development, looking forward to doing more to increase your productivity!\",\n",
       "   'description': None}}]"
      ]
     },
     "execution_count": 10,
     "metadata": {},
     "output_type": "execute_result"
    }
   ],
   "source": [
    "%%time\n",
    "\n",
    "doc.search(\"rag\",10,where={\"res\":\"assistant\"})"
   ]
  },
  {
   "cell_type": "code",
   "execution_count": 11,
   "metadata": {},
   "outputs": [
    {
     "name": "stdout",
     "output_type": "stream",
     "text": [
      "CPU times: user 53 µs, sys: 13 µs, total: 66 µs\n",
      "Wall time: 70.3 µs\n"
     ]
    },
    {
     "data": {
      "text/plain": [
       "[{'uid': 'dce59725-7252-4bc4-a3a8-167351264802',\n",
       "  'unit': {'uid': 'dce59725-7252-4bc4-a3a8-167351264802',\n",
       "   'key': 'key',\n",
       "   'doc': 'note',\n",
       "   'time': '12:42:00',\n",
       "   'date': '11-07-2024',\n",
       "   'metadata': {'res': 'assistant'},\n",
       "   'data_type': 'str'}},\n",
       " {'uid': 'eea34f99-1a7c-46b5-8404-7619e57a188d',\n",
       "  'unit': {'uid': 'eea34f99-1a7c-46b5-8404-7619e57a188d',\n",
       "   'key': 'key',\n",
       "   'doc': 'note',\n",
       "   'time': '12:42:00',\n",
       "   'date': '11-07-2024',\n",
       "   'metadata': {'res': 'assistant'},\n",
       "   'data_type': 'str'}},\n",
       " {'uid': '170c72b6-01fd-4fab-9839-f9e46f6f27dc',\n",
       "  'unit': {'uid': '170c72b6-01fd-4fab-9839-f9e46f6f27dc',\n",
       "   'key': 'key',\n",
       "   'doc': 'note',\n",
       "   'time': '12:42:00',\n",
       "   'date': '11-07-2024',\n",
       "   'metadata': {'res': 'assistant'},\n",
       "   'data_type': 'str'}},\n",
       " {'uid': '0ee969ab-0c29-4ca3-8320-4e8282ecbd31',\n",
       "  'unit': {'uid': '0ee969ab-0c29-4ca3-8320-4e8282ecbd31',\n",
       "   'key': 'key',\n",
       "   'doc': 'note',\n",
       "   'time': '12:42:00',\n",
       "   'date': '11-07-2024',\n",
       "   'metadata': {'res': 'assistant'},\n",
       "   'data_type': 'str'}},\n",
       " {'uid': 'b6612ed6-1db4-467b-9071-9b0dbe175336',\n",
       "  'unit': {'uid': 'b6612ed6-1db4-467b-9071-9b0dbe175336',\n",
       "   'key': 'key',\n",
       "   'doc': 'note',\n",
       "   'time': '12:42:00',\n",
       "   'date': '11-07-2024',\n",
       "   'metadata': {'res': 'assistant'},\n",
       "   'data_type': 'str'}}]"
      ]
     },
     "execution_count": 11,
     "metadata": {},
     "output_type": "execute_result"
    }
   ],
   "source": [
    "%%time\n",
    "doc.pull(time='12', where={\"res\":\"assistant\"}, docfile=\".index\")"
   ]
  },
  {
   "cell_type": "code",
   "execution_count": 12,
   "metadata": {},
   "outputs": [
    {
     "data": {
      "text/plain": [
       "[{'uid': '68630096-1747-4ddc-a185-fc180882822b',\n",
       "  'unit': {'uid': '68630096-1747-4ddc-a185-fc180882822b',\n",
       "   'key': 'key',\n",
       "   'doc': 'note',\n",
       "   'time': '12:41:59',\n",
       "   'date': '11-07-2024',\n",
       "   'metadata': None,\n",
       "   'data_type': 'str'}},\n",
       " {'uid': '1267b760-179a-40ae-b425-1c9dffed9d82',\n",
       "  'unit': {'uid': '1267b760-179a-40ae-b425-1c9dffed9d82',\n",
       "   'key': 'key',\n",
       "   'doc': 'note',\n",
       "   'time': '12:41:59',\n",
       "   'date': '11-07-2024',\n",
       "   'metadata': None,\n",
       "   'data_type': 'str'}},\n",
       " {'uid': '1053cdc0-e1db-41ef-824a-fed7a6a2ea99',\n",
       "  'unit': {'uid': '1053cdc0-e1db-41ef-824a-fed7a6a2ea99',\n",
       "   'key': 'key',\n",
       "   'doc': 'note',\n",
       "   'time': '12:41:59',\n",
       "   'date': '11-07-2024',\n",
       "   'metadata': None,\n",
       "   'data_type': 'str'}},\n",
       " {'uid': '50fed4eb-cbd6-4960-8e43-81a4175cb562',\n",
       "  'unit': {'uid': '50fed4eb-cbd6-4960-8e43-81a4175cb562',\n",
       "   'key': 'key',\n",
       "   'doc': 'note',\n",
       "   'time': '12:41:59',\n",
       "   'date': '11-07-2024',\n",
       "   'metadata': None,\n",
       "   'data_type': 'str'}},\n",
       " {'uid': '916042f0-73d6-4363-a8e6-0144a32b7c4a',\n",
       "  'unit': {'uid': '916042f0-73d6-4363-a8e6-0144a32b7c4a',\n",
       "   'key': 'key',\n",
       "   'doc': 'note',\n",
       "   'time': '12:41:59',\n",
       "   'date': '11-07-2024',\n",
       "   'metadata': None,\n",
       "   'data_type': 'str'}},\n",
       " {'uid': 'cffaee4b-5455-4a2c-a584-d0afa44fc33b',\n",
       "  'unit': {'uid': 'cffaee4b-5455-4a2c-a584-d0afa44fc33b',\n",
       "   'key': 'key',\n",
       "   'doc': 'note',\n",
       "   'time': '12:41:59',\n",
       "   'date': '11-07-2024',\n",
       "   'metadata': None,\n",
       "   'data_type': 'str'}},\n",
       " {'uid': '494705c8-e452-4271-a83d-addfd67fbb03',\n",
       "  'unit': {'uid': '494705c8-e452-4271-a83d-addfd67fbb03',\n",
       "   'key': 'key',\n",
       "   'doc': 'note',\n",
       "   'time': '12:41:59',\n",
       "   'date': '11-07-2024',\n",
       "   'metadata': None,\n",
       "   'data_type': 'str'}},\n",
       " {'uid': '44e6825d-8690-4d45-b4a5-9dc9935cf8d4',\n",
       "  'unit': {'uid': '44e6825d-8690-4d45-b4a5-9dc9935cf8d4',\n",
       "   'key': 'key',\n",
       "   'doc': 'note',\n",
       "   'time': '12:41:59',\n",
       "   'date': '11-07-2024',\n",
       "   'metadata': None,\n",
       "   'data_type': 'str'}},\n",
       " {'uid': 'dce59725-7252-4bc4-a3a8-167351264802',\n",
       "  'unit': {'uid': 'dce59725-7252-4bc4-a3a8-167351264802',\n",
       "   'key': 'key',\n",
       "   'doc': 'note',\n",
       "   'time': '12:42:00',\n",
       "   'date': '11-07-2024',\n",
       "   'metadata': {'res': 'assistant'},\n",
       "   'data_type': 'str'}},\n",
       " {'uid': 'eea34f99-1a7c-46b5-8404-7619e57a188d',\n",
       "  'unit': {'uid': 'eea34f99-1a7c-46b5-8404-7619e57a188d',\n",
       "   'key': 'key',\n",
       "   'doc': 'note',\n",
       "   'time': '12:42:00',\n",
       "   'date': '11-07-2024',\n",
       "   'metadata': {'res': 'assistant'},\n",
       "   'data_type': 'str'}},\n",
       " {'uid': '170c72b6-01fd-4fab-9839-f9e46f6f27dc',\n",
       "  'unit': {'uid': '170c72b6-01fd-4fab-9839-f9e46f6f27dc',\n",
       "   'key': 'key',\n",
       "   'doc': 'note',\n",
       "   'time': '12:42:00',\n",
       "   'date': '11-07-2024',\n",
       "   'metadata': {'res': 'assistant'},\n",
       "   'data_type': 'str'}},\n",
       " {'uid': '0ee969ab-0c29-4ca3-8320-4e8282ecbd31',\n",
       "  'unit': {'uid': '0ee969ab-0c29-4ca3-8320-4e8282ecbd31',\n",
       "   'key': 'key',\n",
       "   'doc': 'note',\n",
       "   'time': '12:42:00',\n",
       "   'date': '11-07-2024',\n",
       "   'metadata': {'res': 'assistant'},\n",
       "   'data_type': 'str'}},\n",
       " {'uid': 'b6612ed6-1db4-467b-9071-9b0dbe175336',\n",
       "  'unit': {'uid': 'b6612ed6-1db4-467b-9071-9b0dbe175336',\n",
       "   'key': 'key',\n",
       "   'doc': 'note',\n",
       "   'time': '12:42:00',\n",
       "   'date': '11-07-2024',\n",
       "   'metadata': {'res': 'assistant'},\n",
       "   'data_type': 'str'}},\n",
       " {'uid': '02013d9a-de20-4e54-94ce-7d8b56879124',\n",
       "  'unit': {'uid': '02013d9a-de20-4e54-94ce-7d8b56879124',\n",
       "   'key': 'time',\n",
       "   'doc': 'note',\n",
       "   'time': '12:42:00',\n",
       "   'date': '11-07-2024',\n",
       "   'metadata': None,\n",
       "   'data_type': 'str'}},\n",
       " {'uid': '7d330fa4-4f0c-4f43-b266-ed399eb1878e',\n",
       "  'unit': {'uid': '7d330fa4-4f0c-4f43-b266-ed399eb1878e',\n",
       "   'key': 'key',\n",
       "   'doc': 'note',\n",
       "   'time': '12:42:00',\n",
       "   'date': '11-07-2024',\n",
       "   'metadata': None,\n",
       "   'data_type': 'str'}}]"
      ]
     },
     "execution_count": 12,
     "metadata": {},
     "output_type": "execute_result"
    }
   ],
   "source": [
    "doc.pull(time=\"12\",docfile=\".index\")"
   ]
  },
  {
   "cell_type": "code",
   "execution_count": 13,
   "metadata": {},
   "outputs": [
    {
     "data": {
      "text/plain": [
       "[{'uid': '68630096-1747-4ddc-a185-fc180882822b',\n",
       "  'unit': {'data': 'remember me : need to do code implementation for key lang conversation ',\n",
       "   'description': None}},\n",
       " {'uid': '1267b760-179a-40ae-b425-1c9dffed9d82',\n",
       "  'unit': {'data': 'remember me : gym time is morning from today  ',\n",
       "   'description': None}},\n",
       " {'uid': '1053cdc0-e1db-41ef-824a-fed7a6a2ea99',\n",
       "  'unit': {'data': 'remember me : base vector db arcchitecture is done  ',\n",
       "   'description': None}},\n",
       " {'uid': '50fed4eb-cbd6-4960-8e43-81a4175cb562',\n",
       "  'unit': {'data': 'remember me : need to do more research on deep learning  ',\n",
       "   'description': None}},\n",
       " {'uid': '916042f0-73d6-4363-a8e6-0144a32b7c4a',\n",
       "  'unit': {'data': 'need to do : find efficient data store and retrive method  ',\n",
       "   'description': None}},\n",
       " {'uid': 'cffaee4b-5455-4a2c-a584-d0afa44fc33b',\n",
       "  'unit': {'data': 'need to do : i need to finesh deamon search asap  ',\n",
       "   'description': None}},\n",
       " {'uid': '494705c8-e452-4271-a83d-addfd67fbb03',\n",
       "  'unit': {'data': 'need to do : need to sleep  ', 'description': None}},\n",
       " {'uid': '44e6825d-8690-4d45-b4a5-9dc9935cf8d4',\n",
       "  'unit': {'data': 'need to do : look out for bugs in code base and fix it   ',\n",
       "   'description': None}},\n",
       " {'uid': 'dce59725-7252-4bc4-a3a8-167351264802',\n",
       "  'unit': {'data': \"Hi I'm OX-AI your AI personal database \",\n",
       "   'description': None}},\n",
       " {'uid': 'eea34f99-1a7c-46b5-8404-7619e57a188d',\n",
       "  'unit': {'data': 'I can store your documents with vector embaddings and retrive it based on vector search',\n",
       "   'description': None}},\n",
       " {'uid': '170c72b6-01fd-4fab-9839-f9e46f6f27dc',\n",
       "  'unit': {'data': \"I'm currently under development\", 'description': None}},\n",
       " {'uid': '0ee969ab-0c29-4ca3-8320-4e8282ecbd31',\n",
       "  'unit': {'data': 'looking forward to do more to increase your productivity!',\n",
       "   'description': None}},\n",
       " {'uid': 'b6612ed6-1db4-467b-9071-9b0dbe175336',\n",
       "  'unit': {'data': \"Hi I'm your AI personal database and I can store your documents with vector embeddings and retrieve them based on vector search. I'm currently under development, looking forward to doing more to increase your productivity!\",\n",
       "   'description': None}},\n",
       " {'uid': '02013d9a-de20-4e54-94ce-7d8b56879124',\n",
       "  'unit': {'data': 'hi', 'description': None}},\n",
       " {'uid': '7d330fa4-4f0c-4f43-b266-ed399eb1878e',\n",
       "  'unit': {'data': 'need to : implement rag system that pulls data from the internet and chunk it and store as knowledge for easy retrivel',\n",
       "   'description': None}}]"
      ]
     },
     "execution_count": 13,
     "metadata": {},
     "output_type": "execute_result"
    }
   ],
   "source": [
    "doc.pull(date=\"11-07\")"
   ]
  },
  {
   "cell_type": "code",
   "execution_count": 14,
   "metadata": {},
   "outputs": [],
   "source": [
    "uids = doc.search_uid(key=\"time\")"
   ]
  },
  {
   "cell_type": "code",
   "execution_count": 15,
   "metadata": {},
   "outputs": [
    {
     "name": "stdout",
     "output_type": "stream",
     "text": [
      "CPU times: user 12 µs, sys: 3 µs, total: 15 µs\n",
      "Wall time: 18.8 µs\n"
     ]
    },
    {
     "data": {
      "text/plain": [
       "[{'uid': '02013d9a-de20-4e54-94ce-7d8b56879124',\n",
       "  'unit': {'uid': '02013d9a-de20-4e54-94ce-7d8b56879124',\n",
       "   'key': 'time',\n",
       "   'doc': 'note',\n",
       "   'time': '12:42:00',\n",
       "   'date': '11-07-2024',\n",
       "   'metadata': None,\n",
       "   'data_type': 'str'}}]"
      ]
     },
     "execution_count": 15,
     "metadata": {},
     "output_type": "execute_result"
    }
   ],
   "source": [
    "%%time\n",
    "doc.pull(uid=uids,docfile=\".index\")"
   ]
  },
  {
   "cell_type": "code",
   "execution_count": 16,
   "metadata": {},
   "outputs": [
    {
     "data": {
      "text/plain": [
       "[]"
      ]
     },
     "execution_count": 16,
     "metadata": {},
     "output_type": "execute_result"
    }
   ],
   "source": [
    "doc.pull(time=\"02\", docfile=\".index\")"
   ]
  }
 ],
 "metadata": {
  "kernelspec": {
   "display_name": "Python 3",
   "language": "python",
   "name": "python3"
  },
  "language_info": {
   "codemirror_mode": {
    "name": "ipython",
    "version": 3
   },
   "file_extension": ".py",
   "mimetype": "text/x-python",
   "name": "python",
   "nbconvert_exporter": "python",
   "pygments_lexer": "ipython3",
   "version": "3.11.9"
  }
 },
 "nbformat": 4,
 "nbformat_minor": 2
}
