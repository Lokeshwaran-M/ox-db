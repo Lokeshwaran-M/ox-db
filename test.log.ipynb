{
 "cells": [
  {
   "cell_type": "code",
   "execution_count": 1,
   "metadata": {},
   "outputs": [
    {
     "name": "stderr",
     "output_type": "stream",
     "text": [
      "/home/lokesh/.local/lib/python3.11/site-packages/sentence_transformers/cross_encoder/CrossEncoder.py:11: TqdmExperimentalWarning: Using `tqdm.autonotebook.tqdm` in notebook mode. Use `tqdm.tqdm` instead to force console mode (e.g. in jupyter console)\n",
      "  from tqdm.autonotebook import tqdm, trange\n",
      "/home/lokesh/.local/lib/python3.11/site-packages/huggingface_hub/file_download.py:1132: FutureWarning: `resume_download` is deprecated and will be removed in version 1.0.0. Downloads always resume when possible. If you want to force a new download, use `force_download=True`.\n",
      "  warnings.warn(\n"
     ]
    }
   ],
   "source": [
    "from ox_db.db.log import Oxdb\n",
    "\n",
    "db = Oxdb(\"test-lg1\")"
   ]
  },
  {
   "cell_type": "code",
   "execution_count": 2,
   "metadata": {},
   "outputs": [],
   "source": [
    "doc = db.get_doc(\"note\")"
   ]
  },
  {
   "cell_type": "code",
   "execution_count": 3,
   "metadata": {},
   "outputs": [
    {
     "data": {
      "text/plain": [
       "'9925afba-f818-465a-9fbd-9a2a78285eb1'"
      ]
     },
     "execution_count": 3,
     "metadata": {},
     "output_type": "execute_result"
    }
   ],
   "source": [
    "doc.push(\"remember me : need to do code implementation for key lang conversation \")\n",
    "doc.push(\"remember me : gym time is morning from today  \")\n",
    "doc.push(\"remember me : base vector db arcchitecture is done  \")\n",
    "doc.push(\"remember me : need to do more research on deep learning  \")"
   ]
  },
  {
   "cell_type": "code",
   "execution_count": 4,
   "metadata": {},
   "outputs": [
    {
     "data": {
      "text/plain": [
       "{'entry': 4, 'vec_model': 'sentence-transformers/all-MiniLM-L6-v2'}"
      ]
     },
     "execution_count": 4,
     "metadata": {},
     "output_type": "execute_result"
    }
   ],
   "source": [
    "doc.doc_reg"
   ]
  },
  {
   "cell_type": "code",
   "execution_count": 5,
   "metadata": {},
   "outputs": [
    {
     "data": {
      "text/plain": [
       "'8284072a-33ff-4986-ae96-40581a9ba4cb'"
      ]
     },
     "execution_count": 5,
     "metadata": {},
     "output_type": "execute_result"
    }
   ],
   "source": [
    "doc.push(\"need to do : find efficient data store and retrive method  \")\n",
    "doc.push(\"need to do : i need to finesh deamon search asap  \")\n",
    "doc.push(\"need to do : need to sleep  \")\n",
    "doc.push(\"need to do : look out for bugs in code base and fix it   \")"
   ]
  },
  {
   "cell_type": "code",
   "execution_count": 6,
   "metadata": {},
   "outputs": [
    {
     "data": {
      "text/plain": [
       "'be5d13ed-fc9d-401a-9442-f27358de17cb'"
      ]
     },
     "execution_count": 6,
     "metadata": {},
     "output_type": "execute_result"
    }
   ],
   "source": [
    "doc.push(\"Hi I'm OX-AI your AI personal database \", metadata={\"res\": \"assistant\"})\n",
    "doc.push(\n",
    "    \"I can store your documents with vector embaddings and retrive it based on vector search\",\n",
    "    metadata={\"res\": \"assistant\"},\n",
    ")\n",
    "doc.push(\"I'm currently under development\", metadata={\"res\": \"assistant\"})\n",
    "doc.push(\n",
    "    \"looking forward to do more to increase your productivity!\",\n",
    "    metadata={\"res\": \"assistant\"},\n",
    ")\n",
    "doc.push(\n",
    "    \"Hi I'm your AI personal database and I can store your documents with vector embeddings and retrieve them based on vector search. I'm currently under development, looking forward to doing more to increase your productivity!\",\n",
    "    metadata={\"res\": \"assistant\"},\n",
    ")"
   ]
  },
  {
   "cell_type": "code",
   "execution_count": 7,
   "metadata": {},
   "outputs": [
    {
     "data": {
      "text/plain": [
       "'2d47c512-aa64-44d5-88d5-f35916807bdc'"
      ]
     },
     "execution_count": 7,
     "metadata": {},
     "output_type": "execute_result"
    }
   ],
   "source": [
    "doc.push(\"hi\", key=\"time\")"
   ]
  },
  {
   "cell_type": "code",
   "execution_count": 8,
   "metadata": {},
   "outputs": [
    {
     "data": {
      "text/plain": [
       "[{'uid': '78bb4056-c840-40e4-8885-d0a2ada6a4f3',\n",
       "  'unit': {'data': \"Hi I'm OX-AI your AI personal database \",\n",
       "   'description': None}},\n",
       " {'uid': '2d47c512-aa64-44d5-88d5-f35916807bdc',\n",
       "  'unit': {'data': 'hi', 'description': None}},\n",
       " {'uid': '7bd41cf8-c8eb-4e5d-8279-93734ed47df6',\n",
       "  'unit': {'data': 'remember me : gym time is morning from today  ',\n",
       "   'description': None}}]"
      ]
     },
     "execution_count": 8,
     "metadata": {},
     "output_type": "execute_result"
    }
   ],
   "source": [
    "doc.search(\"hi ox-ai\", 3)"
   ]
  },
  {
   "cell_type": "code",
   "execution_count": 12,
   "metadata": {},
   "outputs": [
    {
     "data": {
      "text/plain": [
       "'5c53312e-0ea4-4312-b49e-7bf8d3eb03a1'"
      ]
     },
     "execution_count": 12,
     "metadata": {},
     "output_type": "execute_result"
    }
   ],
   "source": [
    "doc.push(\n",
    "    \"need to : implement rag system that pulls data from the internet and chunk it and store as knowledge for easy retrivel\"\n",
    ")"
   ]
  },
  {
   "cell_type": "code",
   "execution_count": 13,
   "metadata": {},
   "outputs": [
    {
     "name": "stdout",
     "output_type": "stream",
     "text": [
      "CPU times: user 38.3 ms, sys: 0 ns, total: 38.3 ms\n",
      "Wall time: 14.5 ms\n"
     ]
    },
    {
     "data": {
      "text/plain": [
       "[{'uid': '4311a331-10c9-4cff-80eb-f0f21d8fbb89',\n",
       "  'unit': {'data': \"I'm currently under development\", 'description': None}},\n",
       " {'uid': 'bb60fe30-cbc9-45ea-82bf-6d98272357ce',\n",
       "  'unit': {'data': 'looking forward to do more to increase your productivity!',\n",
       "   'description': None}},\n",
       " {'uid': '78bb4056-c840-40e4-8885-d0a2ada6a4f3',\n",
       "  'unit': {'data': \"Hi I'm OX-AI your AI personal database \",\n",
       "   'description': None}},\n",
       " {'uid': '05305c3e-ef42-4261-acd8-33127472fda0',\n",
       "  'unit': {'data': 'I can store your documents with vector embaddings and retrive it based on vector search',\n",
       "   'description': None}},\n",
       " {'uid': 'be5d13ed-fc9d-401a-9442-f27358de17cb',\n",
       "  'unit': {'data': \"Hi I'm your AI personal database and I can store your documents with vector embeddings and retrieve them based on vector search. I'm currently under development, looking forward to doing more to increase your productivity!\",\n",
       "   'description': None}}]"
      ]
     },
     "execution_count": 13,
     "metadata": {},
     "output_type": "execute_result"
    }
   ],
   "source": [
    "%%time\n",
    "\n",
    "doc.search(\"rag\",10,where={\"res\":\"assistant\"})"
   ]
  },
  {
   "cell_type": "code",
   "execution_count": 20,
   "metadata": {},
   "outputs": [
    {
     "name": "stdout",
     "output_type": "stream",
     "text": [
      "CPU times: user 41 µs, sys: 11 µs, total: 52 µs\n",
      "Wall time: 53.6 µs\n"
     ]
    },
    {
     "data": {
      "text/plain": [
       "[]"
      ]
     },
     "execution_count": 20,
     "metadata": {},
     "output_type": "execute_result"
    }
   ],
   "source": [
    "%%time\n",
    "doc.pull(time='10', where={\"res\":\"assistant\"}, docfile=\".index\")"
   ]
  },
  {
   "cell_type": "code",
   "execution_count": 21,
   "metadata": {},
   "outputs": [
    {
     "data": {
      "text/plain": [
       "[{'uid': '74c1008a-1e18-47df-a39c-cb4f001c55e0',\n",
       "  'unit': {'data': 'remember me : need to do code implementation for key lang conversation ',\n",
       "   'description': None}},\n",
       " {'uid': '7bd41cf8-c8eb-4e5d-8279-93734ed47df6',\n",
       "  'unit': {'data': 'remember me : gym time is morning from today  ',\n",
       "   'description': None}},\n",
       " {'uid': 'aa502711-9843-41b6-ae8f-b6cb29339330',\n",
       "  'unit': {'data': 'remember me : base vector db arcchitecture is done  ',\n",
       "   'description': None}},\n",
       " {'uid': '9925afba-f818-465a-9fbd-9a2a78285eb1',\n",
       "  'unit': {'data': 'remember me : need to do more research on deep learning  ',\n",
       "   'description': None}},\n",
       " {'uid': 'a7d47e31-e17d-4556-aa68-8a386121ac41',\n",
       "  'unit': {'data': 'need to do : find efficient data store and retrive method  ',\n",
       "   'description': None}},\n",
       " {'uid': 'c6524696-12ed-40c2-97f4-1e689ee18cdc',\n",
       "  'unit': {'data': 'need to do : i need to finesh deamon search asap  ',\n",
       "   'description': None}},\n",
       " {'uid': '4edda58b-2b1e-4c16-b494-a184af7a5deb',\n",
       "  'unit': {'data': 'need to do : need to sleep  ', 'description': None}},\n",
       " {'uid': '8284072a-33ff-4986-ae96-40581a9ba4cb',\n",
       "  'unit': {'data': 'need to do : look out for bugs in code base and fix it   ',\n",
       "   'description': None}},\n",
       " {'uid': '78bb4056-c840-40e4-8885-d0a2ada6a4f3',\n",
       "  'unit': {'data': \"Hi I'm OX-AI your AI personal database \",\n",
       "   'description': None}},\n",
       " {'uid': '05305c3e-ef42-4261-acd8-33127472fda0',\n",
       "  'unit': {'data': 'I can store your documents with vector embaddings and retrive it based on vector search',\n",
       "   'description': None}},\n",
       " {'uid': '4311a331-10c9-4cff-80eb-f0f21d8fbb89',\n",
       "  'unit': {'data': \"I'm currently under development\", 'description': None}},\n",
       " {'uid': 'bb60fe30-cbc9-45ea-82bf-6d98272357ce',\n",
       "  'unit': {'data': 'looking forward to do more to increase your productivity!',\n",
       "   'description': None}},\n",
       " {'uid': 'be5d13ed-fc9d-401a-9442-f27358de17cb',\n",
       "  'unit': {'data': \"Hi I'm your AI personal database and I can store your documents with vector embeddings and retrieve them based on vector search. I'm currently under development, looking forward to doing more to increase your productivity!\",\n",
       "   'description': None}},\n",
       " {'uid': '2d47c512-aa64-44d5-88d5-f35916807bdc',\n",
       "  'unit': {'data': 'hi', 'description': None}},\n",
       " {'uid': '5c53312e-0ea4-4312-b49e-7bf8d3eb03a1',\n",
       "  'unit': {'data': 'need to : implement rag system that pulls data from the internet and chunk it and store as knowledge for easy retrivel',\n",
       "   'description': None}}]"
      ]
     },
     "execution_count": 21,
     "metadata": {},
     "output_type": "execute_result"
    }
   ],
   "source": [
    "doc.pull(time=\"02\")"
   ]
  },
  {
   "cell_type": "code",
   "execution_count": 22,
   "metadata": {},
   "outputs": [
    {
     "data": {
      "text/plain": [
       "[]"
      ]
     },
     "execution_count": 22,
     "metadata": {},
     "output_type": "execute_result"
    }
   ],
   "source": [
    "doc.pull(date=\"02_07\")"
   ]
  },
  {
   "cell_type": "code",
   "execution_count": 17,
   "metadata": {},
   "outputs": [],
   "source": [
    "uids = doc.search_uid(key=\"time\")"
   ]
  },
  {
   "cell_type": "code",
   "execution_count": 25,
   "metadata": {},
   "outputs": [
    {
     "name": "stdout",
     "output_type": "stream",
     "text": [
      "CPU times: user 10 µs, sys: 0 ns, total: 10 µs\n",
      "Wall time: 12.6 µs\n"
     ]
    },
    {
     "data": {
      "text/plain": [
       "[{'uid': '2d47c512-aa64-44d5-88d5-f35916807bdc',\n",
       "  'unit': {'uid': '2d47c512-aa64-44d5-88d5-f35916807bdc',\n",
       "   'key': 'time',\n",
       "   'doc': 'note',\n",
       "   'time': '02:17:22_AM',\n",
       "   'date': '05_07_2024',\n",
       "   'metadata': None,\n",
       "   'data_type': 'str'}}]"
      ]
     },
     "execution_count": 25,
     "metadata": {},
     "output_type": "execute_result"
    }
   ],
   "source": [
    "%%time\n",
    "doc.pull(uid=uids,docfile=\".index\")"
   ]
  },
  {
   "cell_type": "code",
   "execution_count": 19,
   "metadata": {},
   "outputs": [
    {
     "data": {
      "text/plain": [
       "[{'uid': '74c1008a-1e18-47df-a39c-cb4f001c55e0',\n",
       "  'unit': {'uid': '74c1008a-1e18-47df-a39c-cb4f001c55e0',\n",
       "   'key': 'key',\n",
       "   'doc': 'note',\n",
       "   'time': '02:17:22_AM',\n",
       "   'date': '05_07_2024',\n",
       "   'metadata': None,\n",
       "   'data_type': 'str'}},\n",
       " {'uid': '7bd41cf8-c8eb-4e5d-8279-93734ed47df6',\n",
       "  'unit': {'uid': '7bd41cf8-c8eb-4e5d-8279-93734ed47df6',\n",
       "   'key': 'key',\n",
       "   'doc': 'note',\n",
       "   'time': '02:17:22_AM',\n",
       "   'date': '05_07_2024',\n",
       "   'metadata': None,\n",
       "   'data_type': 'str'}},\n",
       " {'uid': 'aa502711-9843-41b6-ae8f-b6cb29339330',\n",
       "  'unit': {'uid': 'aa502711-9843-41b6-ae8f-b6cb29339330',\n",
       "   'key': 'key',\n",
       "   'doc': 'note',\n",
       "   'time': '02:17:22_AM',\n",
       "   'date': '05_07_2024',\n",
       "   'metadata': None,\n",
       "   'data_type': 'str'}},\n",
       " {'uid': '9925afba-f818-465a-9fbd-9a2a78285eb1',\n",
       "  'unit': {'uid': '9925afba-f818-465a-9fbd-9a2a78285eb1',\n",
       "   'key': 'key',\n",
       "   'doc': 'note',\n",
       "   'time': '02:17:22_AM',\n",
       "   'date': '05_07_2024',\n",
       "   'metadata': None,\n",
       "   'data_type': 'str'}},\n",
       " {'uid': 'a7d47e31-e17d-4556-aa68-8a386121ac41',\n",
       "  'unit': {'uid': 'a7d47e31-e17d-4556-aa68-8a386121ac41',\n",
       "   'key': 'key',\n",
       "   'doc': 'note',\n",
       "   'time': '02:17:22_AM',\n",
       "   'date': '05_07_2024',\n",
       "   'metadata': None,\n",
       "   'data_type': 'str'}},\n",
       " {'uid': 'c6524696-12ed-40c2-97f4-1e689ee18cdc',\n",
       "  'unit': {'uid': 'c6524696-12ed-40c2-97f4-1e689ee18cdc',\n",
       "   'key': 'key',\n",
       "   'doc': 'note',\n",
       "   'time': '02:17:22_AM',\n",
       "   'date': '05_07_2024',\n",
       "   'metadata': None,\n",
       "   'data_type': 'str'}},\n",
       " {'uid': '4edda58b-2b1e-4c16-b494-a184af7a5deb',\n",
       "  'unit': {'uid': '4edda58b-2b1e-4c16-b494-a184af7a5deb',\n",
       "   'key': 'key',\n",
       "   'doc': 'note',\n",
       "   'time': '02:17:22_AM',\n",
       "   'date': '05_07_2024',\n",
       "   'metadata': None,\n",
       "   'data_type': 'str'}},\n",
       " {'uid': '8284072a-33ff-4986-ae96-40581a9ba4cb',\n",
       "  'unit': {'uid': '8284072a-33ff-4986-ae96-40581a9ba4cb',\n",
       "   'key': 'key',\n",
       "   'doc': 'note',\n",
       "   'time': '02:17:22_AM',\n",
       "   'date': '05_07_2024',\n",
       "   'metadata': None,\n",
       "   'data_type': 'str'}},\n",
       " {'uid': '78bb4056-c840-40e4-8885-d0a2ada6a4f3',\n",
       "  'unit': {'uid': '78bb4056-c840-40e4-8885-d0a2ada6a4f3',\n",
       "   'key': 'key',\n",
       "   'doc': 'note',\n",
       "   'time': '02:17:22_AM',\n",
       "   'date': '05_07_2024',\n",
       "   'metadata': {'res': 'assistant'},\n",
       "   'data_type': 'str'}},\n",
       " {'uid': '05305c3e-ef42-4261-acd8-33127472fda0',\n",
       "  'unit': {'uid': '05305c3e-ef42-4261-acd8-33127472fda0',\n",
       "   'key': 'key',\n",
       "   'doc': 'note',\n",
       "   'time': '02:17:22_AM',\n",
       "   'date': '05_07_2024',\n",
       "   'metadata': {'res': 'assistant'},\n",
       "   'data_type': 'str'}},\n",
       " {'uid': '4311a331-10c9-4cff-80eb-f0f21d8fbb89',\n",
       "  'unit': {'uid': '4311a331-10c9-4cff-80eb-f0f21d8fbb89',\n",
       "   'key': 'key',\n",
       "   'doc': 'note',\n",
       "   'time': '02:17:22_AM',\n",
       "   'date': '05_07_2024',\n",
       "   'metadata': {'res': 'assistant'},\n",
       "   'data_type': 'str'}},\n",
       " {'uid': 'bb60fe30-cbc9-45ea-82bf-6d98272357ce',\n",
       "  'unit': {'uid': 'bb60fe30-cbc9-45ea-82bf-6d98272357ce',\n",
       "   'key': 'key',\n",
       "   'doc': 'note',\n",
       "   'time': '02:17:22_AM',\n",
       "   'date': '05_07_2024',\n",
       "   'metadata': {'res': 'assistant'},\n",
       "   'data_type': 'str'}},\n",
       " {'uid': 'be5d13ed-fc9d-401a-9442-f27358de17cb',\n",
       "  'unit': {'uid': 'be5d13ed-fc9d-401a-9442-f27358de17cb',\n",
       "   'key': 'key',\n",
       "   'doc': 'note',\n",
       "   'time': '02:17:22_AM',\n",
       "   'date': '05_07_2024',\n",
       "   'metadata': {'res': 'assistant'},\n",
       "   'data_type': 'str'}},\n",
       " {'uid': '2d47c512-aa64-44d5-88d5-f35916807bdc',\n",
       "  'unit': {'uid': '2d47c512-aa64-44d5-88d5-f35916807bdc',\n",
       "   'key': 'time',\n",
       "   'doc': 'note',\n",
       "   'time': '02:17:22_AM',\n",
       "   'date': '05_07_2024',\n",
       "   'metadata': None,\n",
       "   'data_type': 'str'}},\n",
       " {'uid': '5c53312e-0ea4-4312-b49e-7bf8d3eb03a1',\n",
       "  'unit': {'uid': '5c53312e-0ea4-4312-b49e-7bf8d3eb03a1',\n",
       "   'key': 'key',\n",
       "   'doc': 'note',\n",
       "   'time': '02:17:56_AM',\n",
       "   'date': '05_07_2024',\n",
       "   'metadata': None,\n",
       "   'data_type': 'str'}}]"
      ]
     },
     "execution_count": 19,
     "metadata": {},
     "output_type": "execute_result"
    }
   ],
   "source": [
    "doc.pull(time=\"02\", docfile=\".index\")"
   ]
  }
 ],
 "metadata": {
  "kernelspec": {
   "display_name": "Python 3",
   "language": "python",
   "name": "python3"
  },
  "language_info": {
   "codemirror_mode": {
    "name": "ipython",
    "version": 3
   },
   "file_extension": ".py",
   "mimetype": "text/x-python",
   "name": "python",
   "nbconvert_exporter": "python",
   "pygments_lexer": "ipython3",
   "version": "3.11.9"
  }
 },
 "nbformat": 4,
 "nbformat_minor": 2
}
