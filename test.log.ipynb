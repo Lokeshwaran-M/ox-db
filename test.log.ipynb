{
 "cells": [
  {
   "cell_type": "code",
   "execution_count": 19,
   "metadata": {},
   "outputs": [
    {
     "name": "stdout",
     "output_type": "stream",
     "text": [
      "CPU times: user 2.74 ms, sys: 579 μs, total: 3.32 ms\n",
      "Wall time: 63.1 ms\n"
     ]
    }
   ],
   "source": [
    "%%time\n",
    "from ox_db.db.log import Oxdb\n",
    "\n",
    "db = Oxdb(\"test-lg\")"
   ]
  },
  {
   "cell_type": "code",
   "execution_count": 20,
   "metadata": {},
   "outputs": [
    {
     "name": "stdout",
     "output_type": "stream",
     "text": [
      "CPU times: user 287 μs, sys: 4.07 ms, total: 4.36 ms\n",
      "Wall time: 54.8 ms\n"
     ]
    }
   ],
   "source": [
    "%%time\n",
    "doc = db.get_doc(\"test-note\")"
   ]
  },
  {
   "cell_type": "code",
   "execution_count": 21,
   "metadata": {},
   "outputs": [
    {
     "name": "stdout",
     "output_type": "stream",
     "text": [
      "CPU times: user 237 ms, sys: 0 ns, total: 237 ms\n",
      "Wall time: 61.9 ms\n"
     ]
    },
    {
     "data": {
      "text/plain": [
       "['2256a9093b0fb42776034aedb22c742df9dd88d9a650254e32cb3461bc0290a1']"
      ]
     },
     "execution_count": 21,
     "metadata": {},
     "output_type": "execute_result"
    }
   ],
   "source": [
    "%%time\n",
    "doc.push(\"implementd ox-studio.ui for ui interface now need to clean up all the stuff\")"
   ]
  },
  {
   "cell_type": "code",
   "execution_count": 22,
   "metadata": {},
   "outputs": [
    {
     "name": "stdout",
     "output_type": "stream",
     "text": [
      "CPU times: user 422 ms, sys: 0 ns, total: 422 ms\n",
      "Wall time: 110 ms\n"
     ]
    },
    {
     "data": {
      "text/plain": [
       "['bc94d30c63395b6973dc797b130369a59aebfa8fbf9e215b0848afc47724d38d',\n",
       " '477f174138adfd0ea6cbb7c44137817ff990b7c8cf7216e95b1e8d8a78420d38']"
      ]
     },
     "execution_count": 22,
     "metadata": {},
     "output_type": "execute_result"
    }
   ],
   "source": [
    "%%time\n",
    "data_dict={                \n",
    "            \"data\": [\"example data 1\", \"example data 2\"],\n",
    "            \"datax\": None,\n",
    "            \"embeddings\": True,\n",
    "            \"description\": [\"description 1\", \"description 2\"],\n",
    "            \"metadata\": [{\"key1\": \"value1\"}, {\"key2\": \"value2\"}],\n",
    "            \"uid\": [\"uid1\", \"uid2\"]}\n",
    "doc.push(**data_dict)"
   ]
  },
  {
   "cell_type": "code",
   "execution_count": 23,
   "metadata": {},
   "outputs": [
    {
     "name": "stdout",
     "output_type": "stream",
     "text": [
      "CPU times: user 884 ms, sys: 0 ns, total: 884 ms\n",
      "Wall time: 240 ms\n"
     ]
    },
    {
     "data": {
      "text/plain": [
       "['e11471c9165b8a76554b6f783e107211646dde31c6c3582175210d2fcca6ffcf',\n",
       " '8a69e0d4f4bef9c1665b1b73808d05e15557849476f1a144c2199ae888945ed8',\n",
       " '8c471cf4703cd54ce775c452bb61f40b8aeb89a1389608c322d684abcc5c93a2',\n",
       " '96c26beefade871da16c73a4e898c0c4c8b81f4d734af5b50be391798d8aed4d']"
      ]
     },
     "execution_count": 23,
     "metadata": {},
     "output_type": "execute_result"
    }
   ],
   "source": [
    "%%time\n",
    "doc.push([\"remember me : need to do code implementation for key lang conversation \",\n",
    "\"remember me : gym time is morning from today  \",\n",
    "\"remember me : base vector db arcchitecture is done  \",\n",
    "\"remember me : need to do more research on deep learning  \"])"
   ]
  },
  {
   "cell_type": "code",
   "execution_count": 24,
   "metadata": {},
   "outputs": [
    {
     "name": "stdout",
     "output_type": "stream",
     "text": [
      "CPU times: user 5 μs, sys: 1e+03 ns, total: 6 μs\n",
      "Wall time: 8.58 μs\n"
     ]
    },
    {
     "data": {
      "text/plain": [
       "{'db': 'test-lg.oxdb',\n",
       " 'db_path': '/home/lokesh/ox-db/test-lg.oxdb',\n",
       " 'doc_name': 'test-note',\n",
       " 'doc_path': '/home/lokesh/ox-db/test-lg.oxdb/test-note',\n",
       " 'doc_reg': {'entry': 17,\n",
       "  'vec_model': 'sentence-transformers/all-MiniLM-L6-v2'}}"
      ]
     },
     "execution_count": 24,
     "metadata": {},
     "output_type": "execute_result"
    }
   ],
   "source": [
    "%%time\n",
    "doc.info()"
   ]
  },
  {
   "cell_type": "code",
   "execution_count": 25,
   "metadata": {},
   "outputs": [
    {
     "name": "stdout",
     "output_type": "stream",
     "text": [
      "CPU times: user 732 ms, sys: 811 μs, total: 733 ms\n",
      "Wall time: 193 ms\n"
     ]
    },
    {
     "data": {
      "text/plain": [
       "['495f5ad343a32bc3d73211816308027c25dc8061ec59c223a9097fccd85dfcec']"
      ]
     },
     "execution_count": 25,
     "metadata": {},
     "output_type": "execute_result"
    }
   ],
   "source": [
    "%%time\n",
    "doc.push(\"need to do : find efficient data store and retrive method  \")\n",
    "doc.push(\"need to do : i need to finesh deamon search asap  \")\n",
    "doc.push(\"need to do : need to sleep  \")\n",
    "doc.push(\"need to do : look out for bugs in code base and fix it   \")"
   ]
  },
  {
   "cell_type": "code",
   "execution_count": 26,
   "metadata": {},
   "outputs": [
    {
     "name": "stdout",
     "output_type": "stream",
     "text": [
      "CPU times: user 809 ms, sys: 17.7 ms, total: 826 ms\n",
      "Wall time: 211 ms\n"
     ]
    },
    {
     "data": {
      "text/plain": [
       "['990b06caf81a79bbff7cc564689e4aa1d1f805bd7c392e221fd4284a351b34fb',\n",
       " 'a80e560ea4678fd17486b79125afb4c1722104310c2dd0dd4780d02e2ebcca16',\n",
       " '8b63f7b6f8f5155ca7bfa1a3dfb51c1c00b9cc10de323873c023afdf7a164e56',\n",
       " '579dd4ac836c6014428d63a8ba80ebe3255d8a690ba659edf485c59823f270dc',\n",
       " '98648c54cd68c0c00b0905f58d73dc9f389be7b5d4b5126311167a9c0eef006a']"
      ]
     },
     "execution_count": 26,
     "metadata": {},
     "output_type": "execute_result"
    }
   ],
   "source": [
    "%%time\n",
    "doc.push(\n",
    "data=[\"Hi I'm OX-AI your AI personal database \",\n",
    "\"I can store your documents with vector embaddings and retrive it based on vector search\",\n",
    "\"I'm currently under development\",\n",
    "\"looking forward to do more to increase your productivity!\",\n",
    "\"Hi I'm your AI personal database and I can store your documents with vector embeddings and retrieve them based on vector search. I'm currently under development, looking forward to doing more to increase your productivity!\"],\n",
    "metadata=[{\"res\": \"assistant\"},None,{\"res\": \"assistant\"},{\"res\": \"assistant\"}],\n",
    ")"
   ]
  },
  {
   "cell_type": "code",
   "execution_count": 27,
   "metadata": {},
   "outputs": [
    {
     "name": "stdout",
     "output_type": "stream",
     "text": [
      "CPU times: user 210 ms, sys: 294 μs, total: 210 ms\n",
      "Wall time: 55 ms\n"
     ]
    },
    {
     "data": {
      "text/plain": [
       "{'entries': 1,\n",
       " 'hid': ['8a69e0d4f4bef9c1665b1b73808d05e15557849476f1a144c2199ae888945ed8'],\n",
       " 'data': ['remember me : gym time is morning from today  '],\n",
       " 'description': [None],\n",
       " 'sim_score': [0.4463955084872185],\n",
       " 'index': [{'doc': 'test-note', 'time': '20:49:23', 'date': '31-08-2024'}],\n",
       " 'embeddings': []}"
      ]
     },
     "execution_count": 27,
     "metadata": {},
     "output_type": "execute_result"
    }
   ],
   "source": [
    "%%time\n",
    "doc.search(\"remember me\",where_data={\"search_string\":\"gym\"})"
   ]
  },
  {
   "cell_type": "code",
   "execution_count": 28,
   "metadata": {},
   "outputs": [
    {
     "name": "stdout",
     "output_type": "stream",
     "text": [
      "CPU times: user 227 ms, sys: 2.83 ms, total: 230 ms\n",
      "Wall time: 58.8 ms\n"
     ]
    },
    {
     "data": {
      "text/plain": [
       "['42010d63e5c57b0f100b47d99fcebd774c501142e25c8f929d7d0cc968f19113']"
      ]
     },
     "execution_count": 28,
     "metadata": {},
     "output_type": "execute_result"
    }
   ],
   "source": [
    "%%time\n",
    "doc.push(\n",
    "    \"need to : implement rag system that pulls data from the internet and chunk it and store as knowledge for easy retrivel\"\n",
    ")"
   ]
  },
  {
   "cell_type": "code",
   "execution_count": 29,
   "metadata": {},
   "outputs": [
    {
     "name": "stdout",
     "output_type": "stream",
     "text": [
      "CPU times: user 221 ms, sys: 0 ns, total: 221 ms\n",
      "Wall time: 53.3 ms\n"
     ]
    },
    {
     "data": {
      "text/plain": [
       "{'entries': 3,\n",
       " 'hid': ['990b06caf81a79bbff7cc564689e4aa1d1f805bd7c392e221fd4284a351b34fb',\n",
       "  '579dd4ac836c6014428d63a8ba80ebe3255d8a690ba659edf485c59823f270dc',\n",
       "  '8b63f7b6f8f5155ca7bfa1a3dfb51c1c00b9cc10de323873c023afdf7a164e56'],\n",
       " 'data': [\"Hi I'm OX-AI your AI personal database \",\n",
       "  'looking forward to do more to increase your productivity!',\n",
       "  \"I'm currently under development\"],\n",
       " 'description': [None, None, None],\n",
       " 'sim_score': [0.08422736709013229,\n",
       "  0.035051350484307256,\n",
       "  -0.04084236056612295],\n",
       " 'index': [{'doc': 'test-note',\n",
       "   'time': '20:49:24',\n",
       "   'date': '31-08-2024',\n",
       "   'res': 'assistant'},\n",
       "  {'doc': 'test-note',\n",
       "   'time': '20:49:24',\n",
       "   'date': '31-08-2024',\n",
       "   'res': 'assistant'},\n",
       "  {'doc': 'test-note',\n",
       "   'time': '20:49:24',\n",
       "   'date': '31-08-2024',\n",
       "   'res': 'assistant'}],\n",
       " 'embeddings': []}"
      ]
     },
     "execution_count": 29,
     "metadata": {},
     "output_type": "execute_result"
    }
   ],
   "source": [
    "%%time\n",
    "doc.search(\"rag system data chunk\",6,where={\"res\":\"assistant\"})"
   ]
  },
  {
   "cell_type": "code",
   "execution_count": 30,
   "metadata": {},
   "outputs": [
    {
     "name": "stdout",
     "output_type": "stream",
     "text": [
      "CPU times: user 21 μs, sys: 3 μs, total: 24 μs\n",
      "Wall time: 25.3 μs\n"
     ]
    },
    {
     "data": {
      "text/plain": [
       "{'990b06caf81a79bbff7cc564689e4aa1d1f805bd7c392e221fd4284a351b34fb': {'doc': 'test-note',\n",
       "  'time': '20:49:24',\n",
       "  'date': '31-08-2024',\n",
       "  'res': 'assistant'},\n",
       " '8b63f7b6f8f5155ca7bfa1a3dfb51c1c00b9cc10de323873c023afdf7a164e56': {'doc': 'test-note',\n",
       "  'time': '20:49:24',\n",
       "  'date': '31-08-2024',\n",
       "  'res': 'assistant'},\n",
       " '579dd4ac836c6014428d63a8ba80ebe3255d8a690ba659edf485c59823f270dc': {'doc': 'test-note',\n",
       "  'time': '20:49:24',\n",
       "  'date': '31-08-2024',\n",
       "  'res': 'assistant'}}"
      ]
     },
     "execution_count": 30,
     "metadata": {},
     "output_type": "execute_result"
    }
   ],
   "source": [
    "%%time\n",
    "doc.pull(time='07', where={\"res\":\"assistant\"}, docfile=\".index\")"
   ]
  },
  {
   "cell_type": "code",
   "execution_count": 38,
   "metadata": {},
   "outputs": [
    {
     "name": "stdout",
     "output_type": "stream",
     "text": [
      "CPU times: user 44 μs, sys: 6 μs, total: 50 μs\n",
      "Wall time: 52.2 μs\n"
     ]
    },
    {
     "data": {
      "text/plain": [
       "{'2256a9093b0fb42776034aedb22c742df9dd88d9a650254e32cb3461bc0290a1': {'doc': 'test-note',\n",
       "  'time': '20:49:23',\n",
       "  'date': '31-08-2024'},\n",
       " 'bc94d30c63395b6973dc797b130369a59aebfa8fbf9e215b0848afc47724d38d': {'doc': 'test-note',\n",
       "  'time': '20:49:23',\n",
       "  'date': '31-08-2024',\n",
       "  'uid': 'uid1',\n",
       "  'key1': 'value1'},\n",
       " '477f174138adfd0ea6cbb7c44137817ff990b7c8cf7216e95b1e8d8a78420d38': {'doc': 'test-note',\n",
       "  'time': '20:49:23',\n",
       "  'date': '31-08-2024',\n",
       "  'uid': 'uid2',\n",
       "  'key2': 'value2'},\n",
       " 'e11471c9165b8a76554b6f783e107211646dde31c6c3582175210d2fcca6ffcf': {'doc': 'test-note',\n",
       "  'time': '20:49:23',\n",
       "  'date': '31-08-2024'},\n",
       " '8a69e0d4f4bef9c1665b1b73808d05e15557849476f1a144c2199ae888945ed8': {'doc': 'test-note',\n",
       "  'time': '20:49:23',\n",
       "  'date': '31-08-2024'},\n",
       " '8c471cf4703cd54ce775c452bb61f40b8aeb89a1389608c322d684abcc5c93a2': {'doc': 'test-note',\n",
       "  'time': '20:49:23',\n",
       "  'date': '31-08-2024'},\n",
       " '96c26beefade871da16c73a4e898c0c4c8b81f4d734af5b50be391798d8aed4d': {'doc': 'test-note',\n",
       "  'time': '20:49:23',\n",
       "  'date': '31-08-2024'},\n",
       " 'd8fbb6847fd7d413e2f8a6664528d7fb88e45ede08012d80174e6b2f79e78521': {'doc': 'test-note',\n",
       "  'time': '20:49:23',\n",
       "  'date': '31-08-2024'},\n",
       " '63289fb104ac62b584a80dec06781188bedff10e94f311b67a6effb9060bbff5': {'doc': 'test-note',\n",
       "  'time': '20:49:23',\n",
       "  'date': '31-08-2024'},\n",
       " 'e60da7110568a7ba4172d78e52535a5050055b61a154bb143f58e06b3f5dc7f7': {'doc': 'test-note',\n",
       "  'time': '20:49:23',\n",
       "  'date': '31-08-2024'},\n",
       " '495f5ad343a32bc3d73211816308027c25dc8061ec59c223a9097fccd85dfcec': {'doc': 'test-note',\n",
       "  'time': '20:49:23',\n",
       "  'date': '31-08-2024'},\n",
       " '990b06caf81a79bbff7cc564689e4aa1d1f805bd7c392e221fd4284a351b34fb': {'doc': 'test-note',\n",
       "  'time': '20:49:24',\n",
       "  'date': '31-08-2024',\n",
       "  'res': 'assistant'},\n",
       " 'a80e560ea4678fd17486b79125afb4c1722104310c2dd0dd4780d02e2ebcca16': {'doc': 'test-note',\n",
       "  'time': '20:49:24',\n",
       "  'date': '31-08-2024'},\n",
       " '8b63f7b6f8f5155ca7bfa1a3dfb51c1c00b9cc10de323873c023afdf7a164e56': {'doc': 'test-note',\n",
       "  'time': '20:49:24',\n",
       "  'date': '31-08-2024',\n",
       "  'res': 'assistant'},\n",
       " '579dd4ac836c6014428d63a8ba80ebe3255d8a690ba659edf485c59823f270dc': {'doc': 'test-note',\n",
       "  'time': '20:49:24',\n",
       "  'date': '31-08-2024',\n",
       "  'res': 'assistant'},\n",
       " '98648c54cd68c0c00b0905f58d73dc9f389be7b5d4b5126311167a9c0eef006a': {'doc': 'test-note',\n",
       "  'time': '20:49:24',\n",
       "  'date': '31-08-2024'},\n",
       " '42010d63e5c57b0f100b47d99fcebd774c501142e25c8f929d7d0cc968f19113': {'doc': 'test-note',\n",
       "  'time': '20:49:24',\n",
       "  'date': '31-08-2024'}}"
      ]
     },
     "execution_count": 38,
     "metadata": {},
     "output_type": "execute_result"
    }
   ],
   "source": [
    "%%time\n",
    "where = {\"time\":\"20\",\"date\":\"31\",\"res\":\"assistant\"}\n",
    "doc.pull(time=\"06:57\",where=where,docfile=\".index\")"
   ]
  },
  {
   "cell_type": "code",
   "execution_count": 47,
   "metadata": {},
   "outputs": [
    {
     "name": "stdout",
     "output_type": "stream",
     "text": [
      "CPU times: user 19 μs, sys: 3 μs, total: 22 μs\n",
      "Wall time: 23.4 μs\n"
     ]
    },
    {
     "data": {
      "text/plain": [
       "{}"
      ]
     },
     "execution_count": 47,
     "metadata": {},
     "output_type": "execute_result"
    }
   ],
   "source": [
    "%%time\n",
    "\n",
    "doc.pull(where=where,search_all_filter=True,docfile=\".index\")"
   ]
  },
  {
   "cell_type": "code",
   "execution_count": 40,
   "metadata": {},
   "outputs": [
    {
     "name": "stdout",
     "output_type": "stream",
     "text": [
      "CPU times: user 59 μs, sys: 8 μs, total: 67 μs\n",
      "Wall time: 71.8 μs\n"
     ]
    },
    {
     "data": {
      "text/plain": [
       "['2256a9093b0fb42776034aedb22c742df9dd88d9a650254e32cb3461bc0290a1',\n",
       " 'bc94d30c63395b6973dc797b130369a59aebfa8fbf9e215b0848afc47724d38d',\n",
       " '477f174138adfd0ea6cbb7c44137817ff990b7c8cf7216e95b1e8d8a78420d38',\n",
       " 'e11471c9165b8a76554b6f783e107211646dde31c6c3582175210d2fcca6ffcf',\n",
       " '8a69e0d4f4bef9c1665b1b73808d05e15557849476f1a144c2199ae888945ed8',\n",
       " '8c471cf4703cd54ce775c452bb61f40b8aeb89a1389608c322d684abcc5c93a2',\n",
       " '96c26beefade871da16c73a4e898c0c4c8b81f4d734af5b50be391798d8aed4d',\n",
       " 'd8fbb6847fd7d413e2f8a6664528d7fb88e45ede08012d80174e6b2f79e78521',\n",
       " '63289fb104ac62b584a80dec06781188bedff10e94f311b67a6effb9060bbff5',\n",
       " 'e60da7110568a7ba4172d78e52535a5050055b61a154bb143f58e06b3f5dc7f7',\n",
       " '495f5ad343a32bc3d73211816308027c25dc8061ec59c223a9097fccd85dfcec',\n",
       " '990b06caf81a79bbff7cc564689e4aa1d1f805bd7c392e221fd4284a351b34fb',\n",
       " 'a80e560ea4678fd17486b79125afb4c1722104310c2dd0dd4780d02e2ebcca16',\n",
       " '8b63f7b6f8f5155ca7bfa1a3dfb51c1c00b9cc10de323873c023afdf7a164e56',\n",
       " '579dd4ac836c6014428d63a8ba80ebe3255d8a690ba659edf485c59823f270dc',\n",
       " '98648c54cd68c0c00b0905f58d73dc9f389be7b5d4b5126311167a9c0eef006a',\n",
       " '42010d63e5c57b0f100b47d99fcebd774c501142e25c8f929d7d0cc968f19113']"
      ]
     },
     "execution_count": 40,
     "metadata": {},
     "output_type": "execute_result"
    }
   ],
   "source": [
    "%%time\n",
    "hids = doc.search_hid( where=where)\n",
    "hids"
   ]
  },
  {
   "cell_type": "code",
   "execution_count": 41,
   "metadata": {},
   "outputs": [
    {
     "name": "stdout",
     "output_type": "stream",
     "text": [
      "CPU times: user 28 μs, sys: 4 μs, total: 32 μs\n",
      "Wall time: 37 μs\n"
     ]
    },
    {
     "data": {
      "text/plain": [
       "{'2256a9093b0fb42776034aedb22c742df9dd88d9a650254e32cb3461bc0290a1': {'doc': 'test-note',\n",
       "  'time': '20:49:23',\n",
       "  'date': '31-08-2024'},\n",
       " 'bc94d30c63395b6973dc797b130369a59aebfa8fbf9e215b0848afc47724d38d': {'doc': 'test-note',\n",
       "  'time': '20:49:23',\n",
       "  'date': '31-08-2024',\n",
       "  'uid': 'uid1',\n",
       "  'key1': 'value1'},\n",
       " '477f174138adfd0ea6cbb7c44137817ff990b7c8cf7216e95b1e8d8a78420d38': {'doc': 'test-note',\n",
       "  'time': '20:49:23',\n",
       "  'date': '31-08-2024',\n",
       "  'uid': 'uid2',\n",
       "  'key2': 'value2'},\n",
       " 'e11471c9165b8a76554b6f783e107211646dde31c6c3582175210d2fcca6ffcf': {'doc': 'test-note',\n",
       "  'time': '20:49:23',\n",
       "  'date': '31-08-2024'},\n",
       " '8a69e0d4f4bef9c1665b1b73808d05e15557849476f1a144c2199ae888945ed8': {'doc': 'test-note',\n",
       "  'time': '20:49:23',\n",
       "  'date': '31-08-2024'},\n",
       " '8c471cf4703cd54ce775c452bb61f40b8aeb89a1389608c322d684abcc5c93a2': {'doc': 'test-note',\n",
       "  'time': '20:49:23',\n",
       "  'date': '31-08-2024'},\n",
       " '96c26beefade871da16c73a4e898c0c4c8b81f4d734af5b50be391798d8aed4d': {'doc': 'test-note',\n",
       "  'time': '20:49:23',\n",
       "  'date': '31-08-2024'},\n",
       " 'd8fbb6847fd7d413e2f8a6664528d7fb88e45ede08012d80174e6b2f79e78521': {'doc': 'test-note',\n",
       "  'time': '20:49:23',\n",
       "  'date': '31-08-2024'},\n",
       " '63289fb104ac62b584a80dec06781188bedff10e94f311b67a6effb9060bbff5': {'doc': 'test-note',\n",
       "  'time': '20:49:23',\n",
       "  'date': '31-08-2024'},\n",
       " 'e60da7110568a7ba4172d78e52535a5050055b61a154bb143f58e06b3f5dc7f7': {'doc': 'test-note',\n",
       "  'time': '20:49:23',\n",
       "  'date': '31-08-2024'},\n",
       " '495f5ad343a32bc3d73211816308027c25dc8061ec59c223a9097fccd85dfcec': {'doc': 'test-note',\n",
       "  'time': '20:49:23',\n",
       "  'date': '31-08-2024'},\n",
       " '990b06caf81a79bbff7cc564689e4aa1d1f805bd7c392e221fd4284a351b34fb': {'doc': 'test-note',\n",
       "  'time': '20:49:24',\n",
       "  'date': '31-08-2024',\n",
       "  'res': 'assistant'},\n",
       " 'a80e560ea4678fd17486b79125afb4c1722104310c2dd0dd4780d02e2ebcca16': {'doc': 'test-note',\n",
       "  'time': '20:49:24',\n",
       "  'date': '31-08-2024'},\n",
       " '8b63f7b6f8f5155ca7bfa1a3dfb51c1c00b9cc10de323873c023afdf7a164e56': {'doc': 'test-note',\n",
       "  'time': '20:49:24',\n",
       "  'date': '31-08-2024',\n",
       "  'res': 'assistant'},\n",
       " '579dd4ac836c6014428d63a8ba80ebe3255d8a690ba659edf485c59823f270dc': {'doc': 'test-note',\n",
       "  'time': '20:49:24',\n",
       "  'date': '31-08-2024',\n",
       "  'res': 'assistant'},\n",
       " '98648c54cd68c0c00b0905f58d73dc9f389be7b5d4b5126311167a9c0eef006a': {'doc': 'test-note',\n",
       "  'time': '20:49:24',\n",
       "  'date': '31-08-2024'},\n",
       " '42010d63e5c57b0f100b47d99fcebd774c501142e25c8f929d7d0cc968f19113': {'doc': 'test-note',\n",
       "  'time': '20:49:24',\n",
       "  'date': '31-08-2024'}}"
      ]
     },
     "execution_count": 41,
     "metadata": {},
     "output_type": "execute_result"
    }
   ],
   "source": [
    "%%time\n",
    "doc.pull(hid=hids,docfile=\".index\")"
   ]
  },
  {
   "cell_type": "code",
   "execution_count": 46,
   "metadata": {},
   "outputs": [
    {
     "name": "stdout",
     "output_type": "stream",
     "text": [
      "CPU times: user 1.57 ms, sys: 0 ns, total: 1.57 ms\n",
      "Wall time: 1.19 ms\n"
     ]
    },
    {
     "data": {
      "text/plain": [
       "{'2256a9093b0fb42776034aedb22c742df9dd88d9a650254e32cb3461bc0290a1': {'data': 'implementd ox-studio.ui for ui interface now need to clean up all the stuff',\n",
       "  'description': None},\n",
       " 'bc94d30c63395b6973dc797b130369a59aebfa8fbf9e215b0848afc47724d38d': {'data': 'example data 1',\n",
       "  'description': 'description 1'},\n",
       " '477f174138adfd0ea6cbb7c44137817ff990b7c8cf7216e95b1e8d8a78420d38': {'data': 'example data 2',\n",
       "  'description': 'description 2'},\n",
       " 'e11471c9165b8a76554b6f783e107211646dde31c6c3582175210d2fcca6ffcf': {'data': 'remember me : need to do code implementation for key lang conversation ',\n",
       "  'description': None},\n",
       " '8a69e0d4f4bef9c1665b1b73808d05e15557849476f1a144c2199ae888945ed8': {'data': 'remember me : gym time is morning from today  ',\n",
       "  'description': None},\n",
       " '8c471cf4703cd54ce775c452bb61f40b8aeb89a1389608c322d684abcc5c93a2': {'data': 'remember me : base vector db arcchitecture is done  ',\n",
       "  'description': None},\n",
       " '96c26beefade871da16c73a4e898c0c4c8b81f4d734af5b50be391798d8aed4d': {'data': 'remember me : need to do more research on deep learning  ',\n",
       "  'description': None},\n",
       " 'd8fbb6847fd7d413e2f8a6664528d7fb88e45ede08012d80174e6b2f79e78521': {'data': 'need to do : find efficient data store and retrive method  ',\n",
       "  'description': None},\n",
       " '63289fb104ac62b584a80dec06781188bedff10e94f311b67a6effb9060bbff5': {'data': 'need to do : i need to finesh deamon search asap  ',\n",
       "  'description': None},\n",
       " 'e60da7110568a7ba4172d78e52535a5050055b61a154bb143f58e06b3f5dc7f7': {'data': 'need to do : need to sleep  ',\n",
       "  'description': None},\n",
       " '495f5ad343a32bc3d73211816308027c25dc8061ec59c223a9097fccd85dfcec': {'data': 'need to do : look out for bugs in code base and fix it   ',\n",
       "  'description': None},\n",
       " '990b06caf81a79bbff7cc564689e4aa1d1f805bd7c392e221fd4284a351b34fb': {'data': \"Hi I'm OX-AI your AI personal database \",\n",
       "  'description': None},\n",
       " 'a80e560ea4678fd17486b79125afb4c1722104310c2dd0dd4780d02e2ebcca16': {'data': 'I can store your documents with vector embaddings and retrive it based on vector search',\n",
       "  'description': None},\n",
       " '8b63f7b6f8f5155ca7bfa1a3dfb51c1c00b9cc10de323873c023afdf7a164e56': {'data': \"I'm currently under development\",\n",
       "  'description': None},\n",
       " '579dd4ac836c6014428d63a8ba80ebe3255d8a690ba659edf485c59823f270dc': {'data': 'looking forward to do more to increase your productivity!',\n",
       "  'description': None},\n",
       " '98648c54cd68c0c00b0905f58d73dc9f389be7b5d4b5126311167a9c0eef006a': {'data': \"Hi I'm your AI personal database and I can store your documents with vector embeddings and retrieve them based on vector search. I'm currently under development, looking forward to doing more to increase your productivity!\",\n",
       "  'description': None},\n",
       " '42010d63e5c57b0f100b47d99fcebd774c501142e25c8f929d7d0cc968f19113': {'data': 'need to : implement rag system that pulls data from the internet and chunk it and store as knowledge for easy retrivel',\n",
       "  'description': None}}"
      ]
     },
     "execution_count": 46,
     "metadata": {},
     "output_type": "execute_result"
    }
   ],
   "source": [
    "%%time\n",
    "doc.pull(time=\"20\",docfile=\"data.oxd\")"
   ]
  },
  {
   "cell_type": "code",
   "execution_count": 43,
   "metadata": {},
   "outputs": [
    {
     "name": "stdout",
     "output_type": "stream",
     "text": [
      "CPU times: user 680 μs, sys: 91 μs, total: 771 μs\n",
      "Wall time: 506 μs\n"
     ]
    },
    {
     "data": {
      "text/plain": [
       "{'2256a9093b0fb42776034aedb22c742df9dd88d9a650254e32cb3461bc0290a1': {'data': 'implementd ox-studio.ui for ui interface now need to clean up all the stuff',\n",
       "  'description': None},\n",
       " 'bc94d30c63395b6973dc797b130369a59aebfa8fbf9e215b0848afc47724d38d': {'data': 'example data 1',\n",
       "  'description': 'description 1'},\n",
       " '477f174138adfd0ea6cbb7c44137817ff990b7c8cf7216e95b1e8d8a78420d38': {'data': 'example data 2',\n",
       "  'description': 'description 2'},\n",
       " 'e11471c9165b8a76554b6f783e107211646dde31c6c3582175210d2fcca6ffcf': {'data': 'remember me : need to do code implementation for key lang conversation ',\n",
       "  'description': None},\n",
       " '8a69e0d4f4bef9c1665b1b73808d05e15557849476f1a144c2199ae888945ed8': {'data': 'remember me : gym time is morning from today  ',\n",
       "  'description': None},\n",
       " '8c471cf4703cd54ce775c452bb61f40b8aeb89a1389608c322d684abcc5c93a2': {'data': 'remember me : base vector db arcchitecture is done  ',\n",
       "  'description': None},\n",
       " '96c26beefade871da16c73a4e898c0c4c8b81f4d734af5b50be391798d8aed4d': {'data': 'remember me : need to do more research on deep learning  ',\n",
       "  'description': None},\n",
       " 'd8fbb6847fd7d413e2f8a6664528d7fb88e45ede08012d80174e6b2f79e78521': {'data': 'need to do : find efficient data store and retrive method  ',\n",
       "  'description': None},\n",
       " '63289fb104ac62b584a80dec06781188bedff10e94f311b67a6effb9060bbff5': {'data': 'need to do : i need to finesh deamon search asap  ',\n",
       "  'description': None},\n",
       " 'e60da7110568a7ba4172d78e52535a5050055b61a154bb143f58e06b3f5dc7f7': {'data': 'need to do : need to sleep  ',\n",
       "  'description': None},\n",
       " '495f5ad343a32bc3d73211816308027c25dc8061ec59c223a9097fccd85dfcec': {'data': 'need to do : look out for bugs in code base and fix it   ',\n",
       "  'description': None},\n",
       " '990b06caf81a79bbff7cc564689e4aa1d1f805bd7c392e221fd4284a351b34fb': {'data': \"Hi I'm OX-AI your AI personal database \",\n",
       "  'description': None},\n",
       " 'a80e560ea4678fd17486b79125afb4c1722104310c2dd0dd4780d02e2ebcca16': {'data': 'I can store your documents with vector embaddings and retrive it based on vector search',\n",
       "  'description': None},\n",
       " '8b63f7b6f8f5155ca7bfa1a3dfb51c1c00b9cc10de323873c023afdf7a164e56': {'data': \"I'm currently under development\",\n",
       "  'description': None},\n",
       " '579dd4ac836c6014428d63a8ba80ebe3255d8a690ba659edf485c59823f270dc': {'data': 'looking forward to do more to increase your productivity!',\n",
       "  'description': None},\n",
       " '98648c54cd68c0c00b0905f58d73dc9f389be7b5d4b5126311167a9c0eef006a': {'data': \"Hi I'm your AI personal database and I can store your documents with vector embeddings and retrieve them based on vector search. I'm currently under development, looking forward to doing more to increase your productivity!\",\n",
       "  'description': None},\n",
       " '42010d63e5c57b0f100b47d99fcebd774c501142e25c8f929d7d0cc968f19113': {'data': 'need to : implement rag system that pulls data from the internet and chunk it and store as knowledge for easy retrivel',\n",
       "  'description': None}}"
      ]
     },
     "execution_count": 43,
     "metadata": {},
     "output_type": "execute_result"
    }
   ],
   "source": [
    "%%time\n",
    "doc.pull()"
   ]
  }
 ],
 "metadata": {
  "kernelspec": {
   "display_name": "Python 3",
   "language": "python",
   "name": "python3"
  },
  "language_info": {
   "codemirror_mode": {
    "name": "ipython",
    "version": 3
   },
   "file_extension": ".py",
   "mimetype": "text/x-python",
   "name": "python",
   "nbconvert_exporter": "python",
   "pygments_lexer": "ipython3",
   "version": "3.11.9"
  }
 },
 "nbformat": 4,
 "nbformat_minor": 2
}
