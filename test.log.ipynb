{
 "cells": [
  {
   "cell_type": "code",
   "execution_count": 1,
   "metadata": {},
   "outputs": [
    {
     "name": "stdout",
     "output_type": "stream",
     "text": [
      "CPU times: user 3.43 s, sys: 1.55 s, total: 4.98 s\n",
      "Wall time: 3.54 s\n"
     ]
    }
   ],
   "source": [
    "%%time\n",
    "from ox_db.db.log import Oxdb\n",
    "\n",
    "db = Oxdb(\"test-lg1\")"
   ]
  },
  {
   "cell_type": "code",
   "execution_count": 2,
   "metadata": {},
   "outputs": [
    {
     "name": "stdout",
     "output_type": "stream",
     "text": [
      "CPU times: user 5.72 ms, sys: 287 μs, total: 6.01 ms\n",
      "Wall time: 63.4 ms\n"
     ]
    }
   ],
   "source": [
    "%%time\n",
    "doc = db.get_doc(\"test-note\")"
   ]
  },
  {
   "cell_type": "code",
   "execution_count": 3,
   "metadata": {},
   "outputs": [
    {
     "name": "stdout",
     "output_type": "stream",
     "text": [
      "CPU times: user 687 ms, sys: 57.6 ms, total: 744 ms\n",
      "Wall time: 249 ms\n"
     ]
    },
    {
     "data": {
      "text/plain": [
       "['2256a9093b0fb42776034aedb22c742df9dd88d9a650254e32cb3461bc0290a1']"
      ]
     },
     "execution_count": 3,
     "metadata": {},
     "output_type": "execute_result"
    }
   ],
   "source": [
    "%%time\n",
    "doc.push(\"implementd ox-studio.ui for ui interface now need to clean up all the stuff\")"
   ]
  },
  {
   "cell_type": "code",
   "execution_count": 4,
   "metadata": {},
   "outputs": [
    {
     "name": "stdout",
     "output_type": "stream",
     "text": [
      "CPU times: user 565 ms, sys: 12.1 ms, total: 577 ms\n",
      "Wall time: 147 ms\n"
     ]
    },
    {
     "data": {
      "text/plain": [
       "['bc94d30c63395b6973dc797b130369a59aebfa8fbf9e215b0848afc47724d38d',\n",
       " '477f174138adfd0ea6cbb7c44137817ff990b7c8cf7216e95b1e8d8a78420d38']"
      ]
     },
     "execution_count": 4,
     "metadata": {},
     "output_type": "execute_result"
    }
   ],
   "source": [
    "%%time\n",
    "data_dict={                \n",
    "            \"data\": [\"example data 1\", \"example data 2\"],\n",
    "            \"datax\": None,\n",
    "            \"embeddings\": True,\n",
    "            \"description\": [\"description 1\", \"description 2\"],\n",
    "            \"metadata\": [{\"key1\": \"value1\"}, {\"key2\": \"value2\"}],\n",
    "            \"uid\": [\"uid1\", \"uid2\"]}\n",
    "doc.push(**data_dict)"
   ]
  },
  {
   "cell_type": "code",
   "execution_count": 5,
   "metadata": {},
   "outputs": [
    {
     "name": "stdout",
     "output_type": "stream",
     "text": [
      "CPU times: user 1.12 s, sys: 16.7 ms, total: 1.14 s\n",
      "Wall time: 284 ms\n"
     ]
    },
    {
     "data": {
      "text/plain": [
       "['e11471c9165b8a76554b6f783e107211646dde31c6c3582175210d2fcca6ffcf',\n",
       " '8a69e0d4f4bef9c1665b1b73808d05e15557849476f1a144c2199ae888945ed8',\n",
       " '8c471cf4703cd54ce775c452bb61f40b8aeb89a1389608c322d684abcc5c93a2',\n",
       " '96c26beefade871da16c73a4e898c0c4c8b81f4d734af5b50be391798d8aed4d']"
      ]
     },
     "execution_count": 5,
     "metadata": {},
     "output_type": "execute_result"
    }
   ],
   "source": [
    "%%time\n",
    "doc.push([\"remember me : need to do code implementation for key lang conversation \",\n",
    "\"remember me : gym time is morning from today  \",\n",
    "\"remember me : base vector db arcchitecture is done  \",\n",
    "\"remember me : need to do more research on deep learning  \"])"
   ]
  },
  {
   "cell_type": "code",
   "execution_count": 6,
   "metadata": {},
   "outputs": [
    {
     "name": "stdout",
     "output_type": "stream",
     "text": [
      "CPU times: user 8 μs, sys: 2 μs, total: 10 μs\n",
      "Wall time: 14.5 μs\n"
     ]
    },
    {
     "data": {
      "text/plain": [
       "{'db': 'test-lg1.oxdb',\n",
       " 'db_path': '/home/lokesh/ox-db/test-lg1.oxdb',\n",
       " 'doc_name': 'test-note',\n",
       " 'doc_path': '/home/lokesh/ox-db/test-lg1.oxdb/test-note',\n",
       " 'doc_reg': {'entry': 17,\n",
       "  'vec_model': 'sentence-transformers/all-MiniLM-L6-v2'}}"
      ]
     },
     "execution_count": 6,
     "metadata": {},
     "output_type": "execute_result"
    }
   ],
   "source": [
    "%%time\n",
    "doc.info()"
   ]
  },
  {
   "cell_type": "code",
   "execution_count": 7,
   "metadata": {},
   "outputs": [
    {
     "name": "stdout",
     "output_type": "stream",
     "text": [
      "CPU times: user 1.18 s, sys: 0 ns, total: 1.18 s\n",
      "Wall time: 317 ms\n"
     ]
    },
    {
     "data": {
      "text/plain": [
       "['495f5ad343a32bc3d73211816308027c25dc8061ec59c223a9097fccd85dfcec']"
      ]
     },
     "execution_count": 7,
     "metadata": {},
     "output_type": "execute_result"
    }
   ],
   "source": [
    "%%time\n",
    "doc.push(\"need to do : find efficient data store and retrive method  \")\n",
    "doc.push(\"need to do : i need to finesh deamon search asap  \")\n",
    "doc.push(\"need to do : need to sleep  \")\n",
    "doc.push(\"need to do : look out for bugs in code base and fix it   \")"
   ]
  },
  {
   "cell_type": "code",
   "execution_count": 8,
   "metadata": {},
   "outputs": [
    {
     "name": "stdout",
     "output_type": "stream",
     "text": [
      "CPU times: user 1.36 s, sys: 4.51 ms, total: 1.36 s\n",
      "Wall time: 340 ms\n"
     ]
    },
    {
     "data": {
      "text/plain": [
       "['990b06caf81a79bbff7cc564689e4aa1d1f805bd7c392e221fd4284a351b34fb',\n",
       " 'a80e560ea4678fd17486b79125afb4c1722104310c2dd0dd4780d02e2ebcca16',\n",
       " '8b63f7b6f8f5155ca7bfa1a3dfb51c1c00b9cc10de323873c023afdf7a164e56',\n",
       " '579dd4ac836c6014428d63a8ba80ebe3255d8a690ba659edf485c59823f270dc',\n",
       " '98648c54cd68c0c00b0905f58d73dc9f389be7b5d4b5126311167a9c0eef006a']"
      ]
     },
     "execution_count": 8,
     "metadata": {},
     "output_type": "execute_result"
    }
   ],
   "source": [
    "%%time\n",
    "doc.push(\n",
    "data=[\"Hi I'm OX-AI your AI personal database \",\n",
    "\"I can store your documents with vector embaddings and retrive it based on vector search\",\n",
    "\"I'm currently under development\",\n",
    "\"looking forward to do more to increase your productivity!\",\n",
    "\"Hi I'm your AI personal database and I can store your documents with vector embeddings and retrieve them based on vector search. I'm currently under development, looking forward to doing more to increase your productivity!\"],\n",
    "metadata=[{\"res\": \"assistant\"},None,{\"res\": \"assistant\"},{\"res\": \"assistant\"}],\n",
    ")"
   ]
  },
  {
   "cell_type": "code",
   "execution_count": 9,
   "metadata": {},
   "outputs": [
    {
     "name": "stdout",
     "output_type": "stream",
     "text": [
      "CPU times: user 2.62 s, sys: 40.4 ms, total: 2.66 s\n",
      "Wall time: 665 ms\n"
     ]
    },
    {
     "data": {
      "text/plain": [
       "{'entries': 0,\n",
       " 'hid': [],\n",
       " 'data': [],\n",
       " 'description': [],\n",
       " 'sim_score': [],\n",
       " 'index': [],\n",
       " 'embeddings': []}"
      ]
     },
     "execution_count": 9,
     "metadata": {},
     "output_type": "execute_result"
    }
   ],
   "source": [
    "%%time\n",
    "doc.search(\"remember me\",where_data={\"search_string\":\"\"})"
   ]
  },
  {
   "cell_type": "code",
   "execution_count": 10,
   "metadata": {},
   "outputs": [
    {
     "name": "stdout",
     "output_type": "stream",
     "text": [
      "CPU times: user 286 ms, sys: 3.73 ms, total: 290 ms\n",
      "Wall time: 71.9 ms\n"
     ]
    },
    {
     "data": {
      "text/plain": [
       "['42010d63e5c57b0f100b47d99fcebd774c501142e25c8f929d7d0cc968f19113']"
      ]
     },
     "execution_count": 10,
     "metadata": {},
     "output_type": "execute_result"
    }
   ],
   "source": [
    "%%time\n",
    "doc.push(\n",
    "    \"need to : implement rag system that pulls data from the internet and chunk it and store as knowledge for easy retrivel\"\n",
    ")"
   ]
  },
  {
   "cell_type": "code",
   "execution_count": 11,
   "metadata": {},
   "outputs": [
    {
     "name": "stdout",
     "output_type": "stream",
     "text": [
      "CPU times: user 4.81 s, sys: 85.2 ms, total: 4.9 s\n",
      "Wall time: 1.27 s\n"
     ]
    },
    {
     "data": {
      "text/plain": [
       "{'entries': 3,\n",
       " 'hid': ['8b63f7b6f8f5155ca7bfa1a3dfb51c1c00b9cc10de323873c023afdf7a164e56',\n",
       "  '990b06caf81a79bbff7cc564689e4aa1d1f805bd7c392e221fd4284a351b34fb',\n",
       "  '579dd4ac836c6014428d63a8ba80ebe3255d8a690ba659edf485c59823f270dc'],\n",
       " 'data': [\"I'm currently under development\",\n",
       "  \"Hi I'm OX-AI your AI personal database \",\n",
       "  'looking forward to do more to increase your productivity!'],\n",
       " 'description': [None, None, None],\n",
       " 'sim_score': [0.2077658949602213, 0.15335734850877264, 0.12170176329362559],\n",
       " 'index': [{'uid': 'uid',\n",
       "   'doc': 'test-note',\n",
       "   'time': '06:13:51',\n",
       "   'date': '20-08-2024',\n",
       "   'res': 'assistant'},\n",
       "  {'uid': 'uid',\n",
       "   'doc': 'test-note',\n",
       "   'time': '06:13:51',\n",
       "   'date': '20-08-2024',\n",
       "   'res': 'assistant'},\n",
       "  {'uid': 'uid',\n",
       "   'doc': 'test-note',\n",
       "   'time': '06:13:51',\n",
       "   'date': '20-08-2024',\n",
       "   'res': 'assistant'}],\n",
       " 'embeddings': []}"
      ]
     },
     "execution_count": 11,
     "metadata": {},
     "output_type": "execute_result"
    }
   ],
   "source": [
    "%%time\n",
    "doc.search(\"rag system data chunk\",6,where={\"res\":\"assistant\"})"
   ]
  },
  {
   "cell_type": "code",
   "execution_count": 12,
   "metadata": {},
   "outputs": [
    {
     "name": "stdout",
     "output_type": "stream",
     "text": [
      "CPU times: user 37 μs, sys: 0 ns, total: 37 μs\n",
      "Wall time: 40.3 μs\n"
     ]
    },
    {
     "data": {
      "text/plain": [
       "{'990b06caf81a79bbff7cc564689e4aa1d1f805bd7c392e221fd4284a351b34fb': {'uid': 'uid',\n",
       "  'doc': 'test-note',\n",
       "  'time': '06:13:51',\n",
       "  'date': '20-08-2024',\n",
       "  'res': 'assistant'},\n",
       " '8b63f7b6f8f5155ca7bfa1a3dfb51c1c00b9cc10de323873c023afdf7a164e56': {'uid': 'uid',\n",
       "  'doc': 'test-note',\n",
       "  'time': '06:13:51',\n",
       "  'date': '20-08-2024',\n",
       "  'res': 'assistant'},\n",
       " '579dd4ac836c6014428d63a8ba80ebe3255d8a690ba659edf485c59823f270dc': {'uid': 'uid',\n",
       "  'doc': 'test-note',\n",
       "  'time': '06:13:51',\n",
       "  'date': '20-08-2024',\n",
       "  'res': 'assistant'}}"
      ]
     },
     "execution_count": 12,
     "metadata": {},
     "output_type": "execute_result"
    }
   ],
   "source": [
    "%%time\n",
    "doc.pull(time='07', where={\"res\":\"assistant\"}, docfile=\".index\")"
   ]
  },
  {
   "cell_type": "code",
   "execution_count": 13,
   "metadata": {},
   "outputs": [
    {
     "name": "stdout",
     "output_type": "stream",
     "text": [
      "CPU times: user 77 μs, sys: 8 μs, total: 85 μs\n",
      "Wall time: 90.1 μs\n"
     ]
    },
    {
     "data": {
      "text/plain": [
       "{'990b06caf81a79bbff7cc564689e4aa1d1f805bd7c392e221fd4284a351b34fb': {'uid': 'uid',\n",
       "  'doc': 'test-note',\n",
       "  'time': '06:13:51',\n",
       "  'date': '20-08-2024',\n",
       "  'res': 'assistant'},\n",
       " '8b63f7b6f8f5155ca7bfa1a3dfb51c1c00b9cc10de323873c023afdf7a164e56': {'uid': 'uid',\n",
       "  'doc': 'test-note',\n",
       "  'time': '06:13:51',\n",
       "  'date': '20-08-2024',\n",
       "  'res': 'assistant'},\n",
       " '579dd4ac836c6014428d63a8ba80ebe3255d8a690ba659edf485c59823f270dc': {'uid': 'uid',\n",
       "  'doc': 'test-note',\n",
       "  'time': '06:13:51',\n",
       "  'date': '20-08-2024',\n",
       "  'res': 'assistant'}}"
      ]
     },
     "execution_count": 13,
     "metadata": {},
     "output_type": "execute_result"
    }
   ],
   "source": [
    "%%time\n",
    "where = {\"time\":\"06:57\",\"date\":\"17\",\"res\":\"assistant\"}\n",
    "doc.pull(time=\"06:57\",where=where,docfile=\".index\")"
   ]
  },
  {
   "cell_type": "code",
   "execution_count": 14,
   "metadata": {},
   "outputs": [
    {
     "name": "stdout",
     "output_type": "stream",
     "text": [
      "CPU times: user 54 μs, sys: 5 μs, total: 59 μs\n",
      "Wall time: 64.1 μs\n"
     ]
    },
    {
     "data": {
      "text/plain": [
       "{}"
      ]
     },
     "execution_count": 14,
     "metadata": {},
     "output_type": "execute_result"
    }
   ],
   "source": [
    "%%time\n",
    "\n",
    "doc.pull(where=where,search_all_filter=True,docfile=\".index\")"
   ]
  },
  {
   "cell_type": "code",
   "execution_count": 15,
   "metadata": {},
   "outputs": [
    {
     "name": "stdout",
     "output_type": "stream",
     "text": [
      "CPU times: user 46 μs, sys: 0 ns, total: 46 μs\n",
      "Wall time: 49.6 μs\n"
     ]
    },
    {
     "data": {
      "text/plain": [
       "['990b06caf81a79bbff7cc564689e4aa1d1f805bd7c392e221fd4284a351b34fb',\n",
       " '8b63f7b6f8f5155ca7bfa1a3dfb51c1c00b9cc10de323873c023afdf7a164e56',\n",
       " '579dd4ac836c6014428d63a8ba80ebe3255d8a690ba659edf485c59823f270dc']"
      ]
     },
     "execution_count": 15,
     "metadata": {},
     "output_type": "execute_result"
    }
   ],
   "source": [
    "%%time\n",
    "hids = doc.search_hid( where=where)\n",
    "hids"
   ]
  },
  {
   "cell_type": "code",
   "execution_count": 16,
   "metadata": {},
   "outputs": [
    {
     "name": "stdout",
     "output_type": "stream",
     "text": [
      "CPU times: user 31 μs, sys: 3 μs, total: 34 μs\n",
      "Wall time: 39.3 μs\n"
     ]
    },
    {
     "data": {
      "text/plain": [
       "{'990b06caf81a79bbff7cc564689e4aa1d1f805bd7c392e221fd4284a351b34fb': {'uid': 'uid',\n",
       "  'doc': 'test-note',\n",
       "  'time': '06:13:51',\n",
       "  'date': '20-08-2024',\n",
       "  'res': 'assistant'},\n",
       " '8b63f7b6f8f5155ca7bfa1a3dfb51c1c00b9cc10de323873c023afdf7a164e56': {'uid': 'uid',\n",
       "  'doc': 'test-note',\n",
       "  'time': '06:13:51',\n",
       "  'date': '20-08-2024',\n",
       "  'res': 'assistant'},\n",
       " '579dd4ac836c6014428d63a8ba80ebe3255d8a690ba659edf485c59823f270dc': {'uid': 'uid',\n",
       "  'doc': 'test-note',\n",
       "  'time': '06:13:51',\n",
       "  'date': '20-08-2024',\n",
       "  'res': 'assistant'}}"
      ]
     },
     "execution_count": 16,
     "metadata": {},
     "output_type": "execute_result"
    }
   ],
   "source": [
    "%%time\n",
    "doc.pull(hid=hids,docfile=\".index\")"
   ]
  },
  {
   "cell_type": "code",
   "execution_count": 19,
   "metadata": {},
   "outputs": [
    {
     "name": "stdout",
     "output_type": "stream",
     "text": [
      "CPU times: user 3.73 ms, sys: 0 ns, total: 3.73 ms\n",
      "Wall time: 2.46 ms\n"
     ]
    },
    {
     "data": {
      "text/plain": [
       "{'2256a9093b0fb42776034aedb22c742df9dd88d9a650254e32cb3461bc0290a1': {'data': 'implementd ox-studio.ui for ui interface now need to clean up all the stuff',\n",
       "  'description': None},\n",
       " 'bc94d30c63395b6973dc797b130369a59aebfa8fbf9e215b0848afc47724d38d': {'data': 'example data 1',\n",
       "  'description': 'description 1'},\n",
       " '477f174138adfd0ea6cbb7c44137817ff990b7c8cf7216e95b1e8d8a78420d38': {'data': 'example data 2',\n",
       "  'description': 'description 2'},\n",
       " 'e11471c9165b8a76554b6f783e107211646dde31c6c3582175210d2fcca6ffcf': {'data': 'remember me : need to do code implementation for key lang conversation ',\n",
       "  'description': None},\n",
       " '8a69e0d4f4bef9c1665b1b73808d05e15557849476f1a144c2199ae888945ed8': {'data': 'remember me : gym time is morning from today  ',\n",
       "  'description': None},\n",
       " '8c471cf4703cd54ce775c452bb61f40b8aeb89a1389608c322d684abcc5c93a2': {'data': 'remember me : base vector db arcchitecture is done  ',\n",
       "  'description': None},\n",
       " '96c26beefade871da16c73a4e898c0c4c8b81f4d734af5b50be391798d8aed4d': {'data': 'remember me : need to do more research on deep learning  ',\n",
       "  'description': None},\n",
       " 'd8fbb6847fd7d413e2f8a6664528d7fb88e45ede08012d80174e6b2f79e78521': {'data': 'need to do : find efficient data store and retrive method  ',\n",
       "  'description': None},\n",
       " '63289fb104ac62b584a80dec06781188bedff10e94f311b67a6effb9060bbff5': {'data': 'need to do : i need to finesh deamon search asap  ',\n",
       "  'description': None},\n",
       " 'e60da7110568a7ba4172d78e52535a5050055b61a154bb143f58e06b3f5dc7f7': {'data': 'need to do : need to sleep  ',\n",
       "  'description': None},\n",
       " '495f5ad343a32bc3d73211816308027c25dc8061ec59c223a9097fccd85dfcec': {'data': 'need to do : look out for bugs in code base and fix it   ',\n",
       "  'description': None},\n",
       " '990b06caf81a79bbff7cc564689e4aa1d1f805bd7c392e221fd4284a351b34fb': {'data': \"Hi I'm OX-AI your AI personal database \",\n",
       "  'description': None},\n",
       " 'a80e560ea4678fd17486b79125afb4c1722104310c2dd0dd4780d02e2ebcca16': {'data': 'I can store your documents with vector embaddings and retrive it based on vector search',\n",
       "  'description': None},\n",
       " '8b63f7b6f8f5155ca7bfa1a3dfb51c1c00b9cc10de323873c023afdf7a164e56': {'data': \"I'm currently under development\",\n",
       "  'description': None},\n",
       " '579dd4ac836c6014428d63a8ba80ebe3255d8a690ba659edf485c59823f270dc': {'data': 'looking forward to do more to increase your productivity!',\n",
       "  'description': None},\n",
       " '98648c54cd68c0c00b0905f58d73dc9f389be7b5d4b5126311167a9c0eef006a': {'data': \"Hi I'm your AI personal database and I can store your documents with vector embeddings and retrieve them based on vector search. I'm currently under development, looking forward to doing more to increase your productivity!\",\n",
       "  'description': None},\n",
       " '42010d63e5c57b0f100b47d99fcebd774c501142e25c8f929d7d0cc968f19113': {'data': 'need to : implement rag system that pulls data from the internet and chunk it and store as knowledge for easy retrivel',\n",
       "  'description': None}}"
      ]
     },
     "execution_count": 19,
     "metadata": {},
     "output_type": "execute_result"
    }
   ],
   "source": [
    "%%time\n",
    "doc.pull(time=\"06\",docfile=\"data.oxd\")"
   ]
  },
  {
   "cell_type": "code",
   "execution_count": 18,
   "metadata": {},
   "outputs": [
    {
     "name": "stdout",
     "output_type": "stream",
     "text": [
      "CPU times: user 772 μs, sys: 80 μs, total: 852 μs\n",
      "Wall time: 864 μs\n"
     ]
    },
    {
     "data": {
      "text/plain": [
       "{'2256a9093b0fb42776034aedb22c742df9dd88d9a650254e32cb3461bc0290a1': {'data': 'implementd ox-studio.ui for ui interface now need to clean up all the stuff',\n",
       "  'description': None},\n",
       " 'bc94d30c63395b6973dc797b130369a59aebfa8fbf9e215b0848afc47724d38d': {'data': 'example data 1',\n",
       "  'description': 'description 1'},\n",
       " '477f174138adfd0ea6cbb7c44137817ff990b7c8cf7216e95b1e8d8a78420d38': {'data': 'example data 2',\n",
       "  'description': 'description 2'},\n",
       " 'e11471c9165b8a76554b6f783e107211646dde31c6c3582175210d2fcca6ffcf': {'data': 'remember me : need to do code implementation for key lang conversation ',\n",
       "  'description': None},\n",
       " '8a69e0d4f4bef9c1665b1b73808d05e15557849476f1a144c2199ae888945ed8': {'data': 'remember me : gym time is morning from today  ',\n",
       "  'description': None},\n",
       " '8c471cf4703cd54ce775c452bb61f40b8aeb89a1389608c322d684abcc5c93a2': {'data': 'remember me : base vector db arcchitecture is done  ',\n",
       "  'description': None},\n",
       " '96c26beefade871da16c73a4e898c0c4c8b81f4d734af5b50be391798d8aed4d': {'data': 'remember me : need to do more research on deep learning  ',\n",
       "  'description': None},\n",
       " 'd8fbb6847fd7d413e2f8a6664528d7fb88e45ede08012d80174e6b2f79e78521': {'data': 'need to do : find efficient data store and retrive method  ',\n",
       "  'description': None},\n",
       " '63289fb104ac62b584a80dec06781188bedff10e94f311b67a6effb9060bbff5': {'data': 'need to do : i need to finesh deamon search asap  ',\n",
       "  'description': None},\n",
       " 'e60da7110568a7ba4172d78e52535a5050055b61a154bb143f58e06b3f5dc7f7': {'data': 'need to do : need to sleep  ',\n",
       "  'description': None},\n",
       " '495f5ad343a32bc3d73211816308027c25dc8061ec59c223a9097fccd85dfcec': {'data': 'need to do : look out for bugs in code base and fix it   ',\n",
       "  'description': None},\n",
       " '990b06caf81a79bbff7cc564689e4aa1d1f805bd7c392e221fd4284a351b34fb': {'data': \"Hi I'm OX-AI your AI personal database \",\n",
       "  'description': None},\n",
       " 'a80e560ea4678fd17486b79125afb4c1722104310c2dd0dd4780d02e2ebcca16': {'data': 'I can store your documents with vector embaddings and retrive it based on vector search',\n",
       "  'description': None},\n",
       " '8b63f7b6f8f5155ca7bfa1a3dfb51c1c00b9cc10de323873c023afdf7a164e56': {'data': \"I'm currently under development\",\n",
       "  'description': None},\n",
       " '579dd4ac836c6014428d63a8ba80ebe3255d8a690ba659edf485c59823f270dc': {'data': 'looking forward to do more to increase your productivity!',\n",
       "  'description': None},\n",
       " '98648c54cd68c0c00b0905f58d73dc9f389be7b5d4b5126311167a9c0eef006a': {'data': \"Hi I'm your AI personal database and I can store your documents with vector embeddings and retrieve them based on vector search. I'm currently under development, looking forward to doing more to increase your productivity!\",\n",
       "  'description': None},\n",
       " '42010d63e5c57b0f100b47d99fcebd774c501142e25c8f929d7d0cc968f19113': {'data': 'need to : implement rag system that pulls data from the internet and chunk it and store as knowledge for easy retrivel',\n",
       "  'description': None}}"
      ]
     },
     "execution_count": 18,
     "metadata": {},
     "output_type": "execute_result"
    }
   ],
   "source": [
    "%%time\n",
    "doc.pull()"
   ]
  }
 ],
 "metadata": {
  "kernelspec": {
   "display_name": "Python 3",
   "language": "python",
   "name": "python3"
  },
  "language_info": {
   "codemirror_mode": {
    "name": "ipython",
    "version": 3
   },
   "file_extension": ".py",
   "mimetype": "text/x-python",
   "name": "python",
   "nbconvert_exporter": "python",
   "pygments_lexer": "ipython3",
   "version": "3.11.9"
  }
 },
 "nbformat": 4,
 "nbformat_minor": 2
}
