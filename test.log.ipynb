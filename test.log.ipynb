{
 "cells": [
  {
   "cell_type": "code",
   "execution_count": 1,
   "metadata": {},
   "outputs": [
    {
     "name": "stderr",
     "output_type": "stream",
     "text": [
      "/home/lokesh/.local/lib/python3.11/site-packages/sentence_transformers/cross_encoder/CrossEncoder.py:11: TqdmExperimentalWarning: Using `tqdm.autonotebook.tqdm` in notebook mode. Use `tqdm.tqdm` instead to force console mode (e.g. in jupyter console)\n",
      "  from tqdm.autonotebook import tqdm, trange\n",
      "/home/lokesh/.local/lib/python3.11/site-packages/huggingface_hub/file_download.py:1132: FutureWarning: `resume_download` is deprecated and will be removed in version 1.0.0. Downloads always resume when possible. If you want to force a new download, use `force_download=True`.\n",
      "  warnings.warn(\n"
     ]
    }
   ],
   "source": [
    "from ox_db.db.log import Log\n",
    "\n",
    "log=Log(\"test\")\n"
   ]
  },
  {
   "cell_type": "code",
   "execution_count": 2,
   "metadata": {},
   "outputs": [
    {
     "data": {
      "text/plain": [
       "'note'"
      ]
     },
     "execution_count": 2,
     "metadata": {},
     "output_type": "execute_result"
    }
   ],
   "source": [
    "log.set_doc(\"note\")"
   ]
  },
  {
   "cell_type": "code",
   "execution_count": 3,
   "metadata": {},
   "outputs": [
    {
     "name": "stdout",
     "output_type": "stream",
     "text": [
      "ox-db: Logged data: 011e803f-543f-42f4-bc78-5aa5ffc5b8cf in note.index\n",
      "ox-db: Logged data: 0a5f27d1-b4b6-4136-bc56-fec8522efce5 in note.index\n",
      "ox-db: Logged data: 80c0f244-fba7-4a79-9d90-333a9d9323f2 in note.index\n",
      "ox-db: Logged data: dcedbdfc-47e3-47f1-8eb1-c2224a38c794 in note.index\n"
     ]
    },
    {
     "data": {
      "text/plain": [
       "'dcedbdfc-47e3-47f1-8eb1-c2224a38c794'"
      ]
     },
     "execution_count": 3,
     "metadata": {},
     "output_type": "execute_result"
    }
   ],
   "source": [
    "log.push(\"remember me : need to do code implementation for key lang conversation \")\n",
    "log.push(\"remember me : gym time is morning from today  \")\n",
    "log.push(\"remember me : base vector db arcchitecture is done  \")\n",
    "log.push(\"remember me : need to do more research on deep learning  \")"
   ]
  },
  {
   "cell_type": "code",
   "execution_count": 4,
   "metadata": {},
   "outputs": [
    {
     "data": {
      "text/plain": [
       "4"
      ]
     },
     "execution_count": 4,
     "metadata": {},
     "output_type": "execute_result"
    }
   ],
   "source": [
    "log.doc_entry"
   ]
  },
  {
   "cell_type": "code",
   "execution_count": 5,
   "metadata": {},
   "outputs": [
    {
     "name": "stdout",
     "output_type": "stream",
     "text": [
      "ox-db: Logged data: 737d2360-5dc7-4411-8954-566057356844 in note.index\n",
      "ox-db: Logged data: 0569285a-b71b-4c5b-a40b-34e58f0b2be8 in note.index\n",
      "ox-db: Logged data: fd1ad452-0beb-4ba1-899f-584210e57c7d in note.index\n",
      "ox-db: Logged data: 54b39747-93ad-4fc9-b9cd-70aee3b9dafb in note.index\n"
     ]
    },
    {
     "data": {
      "text/plain": [
       "'54b39747-93ad-4fc9-b9cd-70aee3b9dafb'"
      ]
     },
     "execution_count": 5,
     "metadata": {},
     "output_type": "execute_result"
    }
   ],
   "source": [
    "log.push(\"need to do : find efficient data store and retrive method  \")\n",
    "log.push(\"need to do : i need to finesh deamon search asap  \")\n",
    "log.push(\"need to do : need to sleep  \")\n",
    "log.push(\"need to do : look out for bugs in code base and fix it   \")\n"
   ]
  },
  {
   "cell_type": "code",
   "execution_count": 6,
   "metadata": {},
   "outputs": [
    {
     "name": "stdout",
     "output_type": "stream",
     "text": [
      "ox-db: Logged data: 0bd379a7-50b3-4eb8-9a9f-ca744ceac0ad in note.index\n",
      "ox-db: Logged data: 61bb5ad0-e374-4156-ad0f-6de792a41980 in note.index\n",
      "ox-db: Logged data: e3c747d1-79c4-42a0-b004-31699ee45a23 in note.index\n",
      "ox-db: Logged data: 70a2102e-2a3c-4fe7-a642-17369995b400 in note.index\n",
      "ox-db: Logged data: 5c9fb47d-bd52-4e5b-923c-1b5576063b17 in note.index\n"
     ]
    },
    {
     "data": {
      "text/plain": [
       "'5c9fb47d-bd52-4e5b-923c-1b5576063b17'"
      ]
     },
     "execution_count": 6,
     "metadata": {},
     "output_type": "execute_result"
    }
   ],
   "source": [
    "log.push(\"Hi I'm OX-AI your AI personal database \")\n",
    "log.push(\"I can store your documents with vector embaddings and retrive it based on vector search\")\n",
    "log.push(\"I'm currently under development\")\n",
    "log.push(\"looking forward to do more to increase your productivity!\")\n",
    "log.push(\"Hi I'm your AI personal database and I can store your documents with vector embeddings and retrieve them based on vector search. I'm currently under development, looking forward to doing more to increase your productivity!\")"
   ]
  },
  {
   "cell_type": "code",
   "execution_count": 7,
   "metadata": {},
   "outputs": [
    {
     "name": "stdout",
     "output_type": "stream",
     "text": [
      "ox-db: Logged data: af0ac72e-24f5-4d16-9f26-f4b35c2c64de in note.index\n"
     ]
    },
    {
     "data": {
      "text/plain": [
       "'af0ac72e-24f5-4d16-9f26-f4b35c2c64de'"
      ]
     },
     "execution_count": 7,
     "metadata": {},
     "output_type": "execute_result"
    }
   ],
   "source": [
    "log.push(\"hi\",key=\"time\")"
   ]
  },
  {
   "cell_type": "code",
   "execution_count": 8,
   "metadata": {},
   "outputs": [
    {
     "data": {
      "text/plain": [
       "[{'uid': '011e803f-543f-42f4-bc78-5aa5ffc5b8cf',\n",
       "  'data': 'remember me : need to do code implementation for key lang conversation '},\n",
       " {'uid': '0a5f27d1-b4b6-4136-bc56-fec8522efce5',\n",
       "  'data': 'remember me : gym time is morning from today  '},\n",
       " {'uid': '80c0f244-fba7-4a79-9d90-333a9d9323f2',\n",
       "  'data': 'remember me : base vector db arcchitecture is done  '},\n",
       " {'uid': 'dcedbdfc-47e3-47f1-8eb1-c2224a38c794',\n",
       "  'data': 'remember me : need to do more research on deep learning  '},\n",
       " {'uid': '737d2360-5dc7-4411-8954-566057356844',\n",
       "  'data': 'need to do : find efficient data store and retrive method  '},\n",
       " {'uid': '0569285a-b71b-4c5b-a40b-34e58f0b2be8',\n",
       "  'data': 'need to do : i need to finesh deamon search asap  '},\n",
       " {'uid': 'fd1ad452-0beb-4ba1-899f-584210e57c7d',\n",
       "  'data': 'need to do : need to sleep  '},\n",
       " {'uid': '54b39747-93ad-4fc9-b9cd-70aee3b9dafb',\n",
       "  'data': 'need to do : look out for bugs in code base and fix it   '},\n",
       " {'uid': '0bd379a7-50b3-4eb8-9a9f-ca744ceac0ad',\n",
       "  'data': \"Hi I'm OX-AI your AI personal database \"},\n",
       " {'uid': '61bb5ad0-e374-4156-ad0f-6de792a41980',\n",
       "  'data': 'I can store your documents with vector embaddings and retrive it based on vector search'},\n",
       " {'uid': 'e3c747d1-79c4-42a0-b004-31699ee45a23',\n",
       "  'data': \"I'm currently under development\"},\n",
       " {'uid': '70a2102e-2a3c-4fe7-a642-17369995b400',\n",
       "  'data': 'looking forward to do more to increase your productivity!'},\n",
       " {'uid': '5c9fb47d-bd52-4e5b-923c-1b5576063b17',\n",
       "  'data': \"Hi I'm your AI personal database and I can store your documents with vector embeddings and retrieve them based on vector search. I'm currently under development, looking forward to doing more to increase your productivity!\"},\n",
       " {'uid': 'af0ac72e-24f5-4d16-9f26-f4b35c2c64de', 'data': 'hi'}]"
      ]
     },
     "execution_count": 8,
     "metadata": {},
     "output_type": "execute_result"
    }
   ],
   "source": [
    "log.pull()"
   ]
  },
  {
   "cell_type": "code",
   "execution_count": 9,
   "metadata": {},
   "outputs": [
    {
     "name": "stdout",
     "output_type": "stream",
     "text": [
      "ox-db : Hi I'm OX-AI your AI personal database \n",
      "ox-db : hi\n",
      "ox-db : remember me : gym time is morning from today  \n"
     ]
    },
    {
     "data": {
      "text/plain": [
       "[{'uid': '0bd379a7-50b3-4eb8-9a9f-ca744ceac0ad',\n",
       "  'data': \"Hi I'm OX-AI your AI personal database \"},\n",
       " {'uid': 'af0ac72e-24f5-4d16-9f26-f4b35c2c64de', 'data': 'hi'},\n",
       " {'uid': '0a5f27d1-b4b6-4136-bc56-fec8522efce5',\n",
       "  'data': 'remember me : gym time is morning from today  '}]"
      ]
     },
     "execution_count": 9,
     "metadata": {},
     "output_type": "execute_result"
    }
   ],
   "source": [
    "log.search(\"hi ox-ai\",3)"
   ]
  },
  {
   "cell_type": "code",
   "execution_count": 10,
   "metadata": {},
   "outputs": [
    {
     "data": {
      "text/plain": [
       "'350d2649-a513-4410-9a6a-6275b71ead98'"
      ]
     },
     "execution_count": 10,
     "metadata": {},
     "output_type": "execute_result"
    }
   ],
   "source": [
    "log.gen_uid()"
   ]
  },
  {
   "cell_type": "code",
   "execution_count": 11,
   "metadata": {},
   "outputs": [
    {
     "name": "stdout",
     "output_type": "stream",
     "text": [
      "ox-db: Logged data: 4d49cc96-5222-445b-b4e4-5205db583a6b in note.index\n"
     ]
    },
    {
     "data": {
      "text/plain": [
       "'4d49cc96-5222-445b-b4e4-5205db583a6b'"
      ]
     },
     "execution_count": 11,
     "metadata": {},
     "output_type": "execute_result"
    }
   ],
   "source": [
    "log.push(\"need to : implement rag system that pulls data from the internet and chunk it and store as knowledge for easy retrivel\")"
   ]
  },
  {
   "cell_type": "code",
   "execution_count": 12,
   "metadata": {},
   "outputs": [
    {
     "name": "stdout",
     "output_type": "stream",
     "text": [
      "ox-db : need to : implement rag system that pulls data from the internet and chunk it and store as knowledge for easy retrivel\n",
      "ox-db : hi\n"
     ]
    },
    {
     "data": {
      "text/plain": [
       "[{'uid': '4d49cc96-5222-445b-b4e4-5205db583a6b',\n",
       "  'data': 'need to : implement rag system that pulls data from the internet and chunk it and store as knowledge for easy retrivel'},\n",
       " {'uid': 'af0ac72e-24f5-4d16-9f26-f4b35c2c64de', 'data': 'hi'}]"
      ]
     },
     "execution_count": 12,
     "metadata": {},
     "output_type": "execute_result"
    }
   ],
   "source": [
    "log.search(\"rag\",2)"
   ]
  },
  {
   "cell_type": "code",
   "execution_count": 13,
   "metadata": {},
   "outputs": [
    {
     "data": {
      "text/plain": [
       "[{'uid': '011e803f-543f-42f4-bc78-5aa5ffc5b8cf',\n",
       "  'data': 'remember me : need to do code implementation for key lang conversation '},\n",
       " {'uid': '0a5f27d1-b4b6-4136-bc56-fec8522efce5',\n",
       "  'data': 'remember me : gym time is morning from today  '},\n",
       " {'uid': '80c0f244-fba7-4a79-9d90-333a9d9323f2',\n",
       "  'data': 'remember me : base vector db arcchitecture is done  '},\n",
       " {'uid': 'dcedbdfc-47e3-47f1-8eb1-c2224a38c794',\n",
       "  'data': 'remember me : need to do more research on deep learning  '},\n",
       " {'uid': '737d2360-5dc7-4411-8954-566057356844',\n",
       "  'data': 'need to do : find efficient data store and retrive method  '},\n",
       " {'uid': '0569285a-b71b-4c5b-a40b-34e58f0b2be8',\n",
       "  'data': 'need to do : i need to finesh deamon search asap  '},\n",
       " {'uid': 'fd1ad452-0beb-4ba1-899f-584210e57c7d',\n",
       "  'data': 'need to do : need to sleep  '},\n",
       " {'uid': '54b39747-93ad-4fc9-b9cd-70aee3b9dafb',\n",
       "  'data': 'need to do : look out for bugs in code base and fix it   '},\n",
       " {'uid': '0bd379a7-50b3-4eb8-9a9f-ca744ceac0ad',\n",
       "  'data': \"Hi I'm OX-AI your AI personal database \"},\n",
       " {'uid': '61bb5ad0-e374-4156-ad0f-6de792a41980',\n",
       "  'data': 'I can store your documents with vector embaddings and retrive it based on vector search'},\n",
       " {'uid': 'e3c747d1-79c4-42a0-b004-31699ee45a23',\n",
       "  'data': \"I'm currently under development\"},\n",
       " {'uid': '70a2102e-2a3c-4fe7-a642-17369995b400',\n",
       "  'data': 'looking forward to do more to increase your productivity!'},\n",
       " {'uid': '5c9fb47d-bd52-4e5b-923c-1b5576063b17',\n",
       "  'data': \"Hi I'm your AI personal database and I can store your documents with vector embeddings and retrieve them based on vector search. I'm currently under development, looking forward to doing more to increase your productivity!\"},\n",
       " {'uid': 'af0ac72e-24f5-4d16-9f26-f4b35c2c64de', 'data': 'hi'},\n",
       " {'uid': '4d49cc96-5222-445b-b4e4-5205db583a6b',\n",
       "  'data': 'need to : implement rag system that pulls data from the internet and chunk it and store as knowledge for easy retrivel'}]"
      ]
     },
     "execution_count": 13,
     "metadata": {},
     "output_type": "execute_result"
    }
   ],
   "source": [
    "log.pull()"
   ]
  },
  {
   "cell_type": "code",
   "execution_count": 14,
   "metadata": {},
   "outputs": [
    {
     "name": "stdout",
     "output_type": "stream",
     "text": [
      "ox-db : remember me : need to do code implementation for key lang conversation \n",
      "ox-db : remember me : gym time is morning from today  \n",
      "ox-db : remember me : base vector db arcchitecture is done  \n",
      "ox-db : remember me : need to do more research on deep learning  \n",
      "ox-db : need to do : find efficient data store and retrive method  \n",
      "ox-db : need to do : i need to finesh deamon search asap  \n",
      "ox-db : need to do : need to sleep  \n",
      "ox-db : need to do : look out for bugs in code base and fix it   \n",
      "ox-db : Hi I'm OX-AI your AI personal database \n",
      "ox-db : I can store your documents with vector embaddings and retrive it based on vector search\n",
      "ox-db : I'm currently under development\n",
      "ox-db : looking forward to do more to increase your productivity!\n",
      "ox-db : Hi I'm your AI personal database and I can store your documents with vector embeddings and retrieve them based on vector search. I'm currently under development, looking forward to doing more to increase your productivity!\n",
      "ox-db : hi\n",
      "ox-db : need to : implement rag system that pulls data from the internet and chunk it and store as knowledge for easy retrivel\n"
     ]
    },
    {
     "data": {
      "text/plain": [
       "[{'uid': '011e803f-543f-42f4-bc78-5aa5ffc5b8cf',\n",
       "  'data': 'remember me : need to do code implementation for key lang conversation '},\n",
       " {'uid': '0a5f27d1-b4b6-4136-bc56-fec8522efce5',\n",
       "  'data': 'remember me : gym time is morning from today  '},\n",
       " {'uid': '80c0f244-fba7-4a79-9d90-333a9d9323f2',\n",
       "  'data': 'remember me : base vector db arcchitecture is done  '},\n",
       " {'uid': 'dcedbdfc-47e3-47f1-8eb1-c2224a38c794',\n",
       "  'data': 'remember me : need to do more research on deep learning  '},\n",
       " {'uid': '737d2360-5dc7-4411-8954-566057356844',\n",
       "  'data': 'need to do : find efficient data store and retrive method  '},\n",
       " {'uid': '0569285a-b71b-4c5b-a40b-34e58f0b2be8',\n",
       "  'data': 'need to do : i need to finesh deamon search asap  '},\n",
       " {'uid': 'fd1ad452-0beb-4ba1-899f-584210e57c7d',\n",
       "  'data': 'need to do : need to sleep  '},\n",
       " {'uid': '54b39747-93ad-4fc9-b9cd-70aee3b9dafb',\n",
       "  'data': 'need to do : look out for bugs in code base and fix it   '},\n",
       " {'uid': '0bd379a7-50b3-4eb8-9a9f-ca744ceac0ad',\n",
       "  'data': \"Hi I'm OX-AI your AI personal database \"},\n",
       " {'uid': '61bb5ad0-e374-4156-ad0f-6de792a41980',\n",
       "  'data': 'I can store your documents with vector embaddings and retrive it based on vector search'},\n",
       " {'uid': 'e3c747d1-79c4-42a0-b004-31699ee45a23',\n",
       "  'data': \"I'm currently under development\"},\n",
       " {'uid': '70a2102e-2a3c-4fe7-a642-17369995b400',\n",
       "  'data': 'looking forward to do more to increase your productivity!'},\n",
       " {'uid': '5c9fb47d-bd52-4e5b-923c-1b5576063b17',\n",
       "  'data': \"Hi I'm your AI personal database and I can store your documents with vector embeddings and retrieve them based on vector search. I'm currently under development, looking forward to doing more to increase your productivity!\"},\n",
       " {'uid': 'af0ac72e-24f5-4d16-9f26-f4b35c2c64de', 'data': 'hi'},\n",
       " {'uid': '4d49cc96-5222-445b-b4e4-5205db583a6b',\n",
       "  'data': 'need to : implement rag system that pulls data from the internet and chunk it and store as knowledge for easy retrivel'}]"
      ]
     },
     "execution_count": 14,
     "metadata": {},
     "output_type": "execute_result"
    }
   ],
   "source": [
    "log.pull(time=\"04\")"
   ]
  },
  {
   "cell_type": "code",
   "execution_count": 15,
   "metadata": {},
   "outputs": [
    {
     "name": "stdout",
     "output_type": "stream",
     "text": [
      "ox-db : remember me : need to do code implementation for key lang conversation \n",
      "ox-db : remember me : gym time is morning from today  \n",
      "ox-db : remember me : base vector db arcchitecture is done  \n",
      "ox-db : remember me : need to do more research on deep learning  \n",
      "ox-db : need to do : find efficient data store and retrive method  \n",
      "ox-db : need to do : i need to finesh deamon search asap  \n",
      "ox-db : need to do : need to sleep  \n",
      "ox-db : need to do : look out for bugs in code base and fix it   \n",
      "ox-db : Hi I'm OX-AI your AI personal database \n",
      "ox-db : I can store your documents with vector embaddings and retrive it based on vector search\n",
      "ox-db : I'm currently under development\n",
      "ox-db : looking forward to do more to increase your productivity!\n",
      "ox-db : Hi I'm your AI personal database and I can store your documents with vector embeddings and retrieve them based on vector search. I'm currently under development, looking forward to doing more to increase your productivity!\n",
      "ox-db : hi\n",
      "ox-db : need to : implement rag system that pulls data from the internet and chunk it and store as knowledge for easy retrivel\n"
     ]
    },
    {
     "data": {
      "text/plain": [
       "[{'uid': '011e803f-543f-42f4-bc78-5aa5ffc5b8cf',\n",
       "  'data': 'remember me : need to do code implementation for key lang conversation '},\n",
       " {'uid': '0a5f27d1-b4b6-4136-bc56-fec8522efce5',\n",
       "  'data': 'remember me : gym time is morning from today  '},\n",
       " {'uid': '80c0f244-fba7-4a79-9d90-333a9d9323f2',\n",
       "  'data': 'remember me : base vector db arcchitecture is done  '},\n",
       " {'uid': 'dcedbdfc-47e3-47f1-8eb1-c2224a38c794',\n",
       "  'data': 'remember me : need to do more research on deep learning  '},\n",
       " {'uid': '737d2360-5dc7-4411-8954-566057356844',\n",
       "  'data': 'need to do : find efficient data store and retrive method  '},\n",
       " {'uid': '0569285a-b71b-4c5b-a40b-34e58f0b2be8',\n",
       "  'data': 'need to do : i need to finesh deamon search asap  '},\n",
       " {'uid': 'fd1ad452-0beb-4ba1-899f-584210e57c7d',\n",
       "  'data': 'need to do : need to sleep  '},\n",
       " {'uid': '54b39747-93ad-4fc9-b9cd-70aee3b9dafb',\n",
       "  'data': 'need to do : look out for bugs in code base and fix it   '},\n",
       " {'uid': '0bd379a7-50b3-4eb8-9a9f-ca744ceac0ad',\n",
       "  'data': \"Hi I'm OX-AI your AI personal database \"},\n",
       " {'uid': '61bb5ad0-e374-4156-ad0f-6de792a41980',\n",
       "  'data': 'I can store your documents with vector embaddings and retrive it based on vector search'},\n",
       " {'uid': 'e3c747d1-79c4-42a0-b004-31699ee45a23',\n",
       "  'data': \"I'm currently under development\"},\n",
       " {'uid': '70a2102e-2a3c-4fe7-a642-17369995b400',\n",
       "  'data': 'looking forward to do more to increase your productivity!'},\n",
       " {'uid': '5c9fb47d-bd52-4e5b-923c-1b5576063b17',\n",
       "  'data': \"Hi I'm your AI personal database and I can store your documents with vector embeddings and retrieve them based on vector search. I'm currently under development, looking forward to doing more to increase your productivity!\"},\n",
       " {'uid': 'af0ac72e-24f5-4d16-9f26-f4b35c2c64de', 'data': 'hi'},\n",
       " {'uid': '4d49cc96-5222-445b-b4e4-5205db583a6b',\n",
       "  'data': 'need to : implement rag system that pulls data from the internet and chunk it and store as knowledge for easy retrivel'}]"
      ]
     },
     "execution_count": 15,
     "metadata": {},
     "output_type": "execute_result"
    }
   ],
   "source": [
    "log.pull(date=\"29_06\")"
   ]
  },
  {
   "cell_type": "code",
   "execution_count": 16,
   "metadata": {},
   "outputs": [
    {
     "data": {
      "text/plain": [
       "['af0ac72e-24f5-4d16-9f26-f4b35c2c64de']"
      ]
     },
     "execution_count": 16,
     "metadata": {},
     "output_type": "execute_result"
    }
   ],
   "source": [
    "log.search_uid(key=\"time\")"
   ]
  },
  {
   "cell_type": "code",
   "execution_count": 17,
   "metadata": {},
   "outputs": [
    {
     "data": {
      "text/plain": [
       "[{'uid': '011e803f-543f-42f4-bc78-5aa5ffc5b8cf',\n",
       "  'data': {'uid': '011e803f-543f-42f4-bc78-5aa5ffc5b8cf',\n",
       "   'key': 'key',\n",
       "   'doc': 'note',\n",
       "   'time': '04:02:47_AM',\n",
       "   'date': '29_06_2024',\n",
       "   'vec_model': 'sentence-transformers/all-MiniLM-L6-v2',\n",
       "   'description': None,\n",
       "   'data_type': 'data.str'}},\n",
       " {'uid': '0a5f27d1-b4b6-4136-bc56-fec8522efce5',\n",
       "  'data': {'uid': '0a5f27d1-b4b6-4136-bc56-fec8522efce5',\n",
       "   'key': 'key',\n",
       "   'doc': 'note',\n",
       "   'time': '04:02:47_AM',\n",
       "   'date': '29_06_2024',\n",
       "   'vec_model': 'sentence-transformers/all-MiniLM-L6-v2',\n",
       "   'description': None,\n",
       "   'data_type': 'data.str'}},\n",
       " {'uid': '80c0f244-fba7-4a79-9d90-333a9d9323f2',\n",
       "  'data': {'uid': '80c0f244-fba7-4a79-9d90-333a9d9323f2',\n",
       "   'key': 'key',\n",
       "   'doc': 'note',\n",
       "   'time': '04:02:47_AM',\n",
       "   'date': '29_06_2024',\n",
       "   'vec_model': 'sentence-transformers/all-MiniLM-L6-v2',\n",
       "   'description': None,\n",
       "   'data_type': 'data.str'}},\n",
       " {'uid': 'dcedbdfc-47e3-47f1-8eb1-c2224a38c794',\n",
       "  'data': {'uid': 'dcedbdfc-47e3-47f1-8eb1-c2224a38c794',\n",
       "   'key': 'key',\n",
       "   'doc': 'note',\n",
       "   'time': '04:02:47_AM',\n",
       "   'date': '29_06_2024',\n",
       "   'vec_model': 'sentence-transformers/all-MiniLM-L6-v2',\n",
       "   'description': None,\n",
       "   'data_type': 'data.str'}},\n",
       " {'uid': '737d2360-5dc7-4411-8954-566057356844',\n",
       "  'data': {'uid': '737d2360-5dc7-4411-8954-566057356844',\n",
       "   'key': 'key',\n",
       "   'doc': 'note',\n",
       "   'time': '04:02:47_AM',\n",
       "   'date': '29_06_2024',\n",
       "   'vec_model': 'sentence-transformers/all-MiniLM-L6-v2',\n",
       "   'description': None,\n",
       "   'data_type': 'data.str'}},\n",
       " {'uid': '0569285a-b71b-4c5b-a40b-34e58f0b2be8',\n",
       "  'data': {'uid': '0569285a-b71b-4c5b-a40b-34e58f0b2be8',\n",
       "   'key': 'key',\n",
       "   'doc': 'note',\n",
       "   'time': '04:02:47_AM',\n",
       "   'date': '29_06_2024',\n",
       "   'vec_model': 'sentence-transformers/all-MiniLM-L6-v2',\n",
       "   'description': None,\n",
       "   'data_type': 'data.str'}},\n",
       " {'uid': 'fd1ad452-0beb-4ba1-899f-584210e57c7d',\n",
       "  'data': {'uid': 'fd1ad452-0beb-4ba1-899f-584210e57c7d',\n",
       "   'key': 'key',\n",
       "   'doc': 'note',\n",
       "   'time': '04:02:47_AM',\n",
       "   'date': '29_06_2024',\n",
       "   'vec_model': 'sentence-transformers/all-MiniLM-L6-v2',\n",
       "   'description': None,\n",
       "   'data_type': 'data.str'}},\n",
       " {'uid': '54b39747-93ad-4fc9-b9cd-70aee3b9dafb',\n",
       "  'data': {'uid': '54b39747-93ad-4fc9-b9cd-70aee3b9dafb',\n",
       "   'key': 'key',\n",
       "   'doc': 'note',\n",
       "   'time': '04:02:47_AM',\n",
       "   'date': '29_06_2024',\n",
       "   'vec_model': 'sentence-transformers/all-MiniLM-L6-v2',\n",
       "   'description': None,\n",
       "   'data_type': 'data.str'}},\n",
       " {'uid': '0bd379a7-50b3-4eb8-9a9f-ca744ceac0ad',\n",
       "  'data': {'uid': '0bd379a7-50b3-4eb8-9a9f-ca744ceac0ad',\n",
       "   'key': 'key',\n",
       "   'doc': 'note',\n",
       "   'time': '04:02:47_AM',\n",
       "   'date': '29_06_2024',\n",
       "   'vec_model': 'sentence-transformers/all-MiniLM-L6-v2',\n",
       "   'description': None,\n",
       "   'data_type': 'data.str'}},\n",
       " {'uid': '61bb5ad0-e374-4156-ad0f-6de792a41980',\n",
       "  'data': {'uid': '61bb5ad0-e374-4156-ad0f-6de792a41980',\n",
       "   'key': 'key',\n",
       "   'doc': 'note',\n",
       "   'time': '04:02:48_AM',\n",
       "   'date': '29_06_2024',\n",
       "   'vec_model': 'sentence-transformers/all-MiniLM-L6-v2',\n",
       "   'description': None,\n",
       "   'data_type': 'data.str'}},\n",
       " {'uid': 'e3c747d1-79c4-42a0-b004-31699ee45a23',\n",
       "  'data': {'uid': 'e3c747d1-79c4-42a0-b004-31699ee45a23',\n",
       "   'key': 'key',\n",
       "   'doc': 'note',\n",
       "   'time': '04:02:48_AM',\n",
       "   'date': '29_06_2024',\n",
       "   'vec_model': 'sentence-transformers/all-MiniLM-L6-v2',\n",
       "   'description': None,\n",
       "   'data_type': 'data.str'}},\n",
       " {'uid': '70a2102e-2a3c-4fe7-a642-17369995b400',\n",
       "  'data': {'uid': '70a2102e-2a3c-4fe7-a642-17369995b400',\n",
       "   'key': 'key',\n",
       "   'doc': 'note',\n",
       "   'time': '04:02:48_AM',\n",
       "   'date': '29_06_2024',\n",
       "   'vec_model': 'sentence-transformers/all-MiniLM-L6-v2',\n",
       "   'description': None,\n",
       "   'data_type': 'data.str'}},\n",
       " {'uid': '5c9fb47d-bd52-4e5b-923c-1b5576063b17',\n",
       "  'data': {'uid': '5c9fb47d-bd52-4e5b-923c-1b5576063b17',\n",
       "   'key': 'key',\n",
       "   'doc': 'note',\n",
       "   'time': '04:02:48_AM',\n",
       "   'date': '29_06_2024',\n",
       "   'vec_model': 'sentence-transformers/all-MiniLM-L6-v2',\n",
       "   'description': None,\n",
       "   'data_type': 'data.str'}},\n",
       " {'uid': 'af0ac72e-24f5-4d16-9f26-f4b35c2c64de',\n",
       "  'data': {'uid': 'af0ac72e-24f5-4d16-9f26-f4b35c2c64de',\n",
       "   'key': 'time',\n",
       "   'doc': 'note',\n",
       "   'time': '04:02:48_AM',\n",
       "   'date': '29_06_2024',\n",
       "   'vec_model': 'sentence-transformers/all-MiniLM-L6-v2',\n",
       "   'description': None,\n",
       "   'data_type': 'data.str'}},\n",
       " {'uid': '4d49cc96-5222-445b-b4e4-5205db583a6b',\n",
       "  'data': {'uid': '4d49cc96-5222-445b-b4e4-5205db583a6b',\n",
       "   'key': 'key',\n",
       "   'doc': 'note',\n",
       "   'time': '04:02:48_AM',\n",
       "   'date': '29_06_2024',\n",
       "   'vec_model': 'sentence-transformers/all-MiniLM-L6-v2',\n",
       "   'description': None,\n",
       "   'data_type': 'data.str'}}]"
      ]
     },
     "execution_count": 17,
     "metadata": {},
     "output_type": "execute_result"
    }
   ],
   "source": [
    "log.pull(time=\"04\",docfile=\".index\")"
   ]
  },
  {
   "cell_type": "code",
   "execution_count": null,
   "metadata": {},
   "outputs": [],
   "source": []
  }
 ],
 "metadata": {
  "kernelspec": {
   "display_name": "Python 3",
   "language": "python",
   "name": "python3"
  },
  "language_info": {
   "codemirror_mode": {
    "name": "ipython",
    "version": 3
   },
   "file_extension": ".py",
   "mimetype": "text/x-python",
   "name": "python",
   "nbconvert_exporter": "python",
   "pygments_lexer": "ipython3",
   "version": "3.11.9"
  }
 },
 "nbformat": 4,
 "nbformat_minor": 2
}
