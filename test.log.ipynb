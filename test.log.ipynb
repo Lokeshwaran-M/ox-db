{
 "cells": [
  {
   "cell_type": "code",
   "execution_count": 1,
   "metadata": {},
   "outputs": [
    {
     "name": "stderr",
     "output_type": "stream",
     "text": [
      "/home/lokesh/.local/lib/python3.11/site-packages/sentence_transformers/cross_encoder/CrossEncoder.py:11: TqdmExperimentalWarning: Using `tqdm.autonotebook.tqdm` in notebook mode. Use `tqdm.tqdm` instead to force console mode (e.g. in jupyter console)\n",
      "  from tqdm.autonotebook import tqdm, trange\n",
      "/home/lokesh/.local/lib/python3.11/site-packages/huggingface_hub/file_download.py:1132: FutureWarning: `resume_download` is deprecated and will be removed in version 1.0.0. Downloads always resume when possible. If you want to force a new download, use `force_download=True`.\n",
      "  warnings.warn(\n"
     ]
    },
    {
     "name": "stdout",
     "output_type": "stream",
     "text": [
      "CPU times: user 4.04 s, sys: 1.58 s, total: 5.62 s\n",
      "Wall time: 6.33 s\n"
     ]
    }
   ],
   "source": [
    "%%time\n",
    "from ox_db.db.log import Oxdb\n",
    "\n",
    "db = Oxdb(\"test-lg1\")"
   ]
  },
  {
   "cell_type": "code",
   "execution_count": 2,
   "metadata": {},
   "outputs": [
    {
     "name": "stdout",
     "output_type": "stream",
     "text": [
      "CPU times: user 0 ns, sys: 3.03 ms, total: 3.03 ms\n",
      "Wall time: 2.47 ms\n"
     ]
    }
   ],
   "source": [
    "%%time\n",
    "doc = db.get_doc(\"test-note\")"
   ]
  },
  {
   "cell_type": "code",
   "execution_count": 3,
   "metadata": {},
   "outputs": [
    {
     "name": "stdout",
     "output_type": "stream",
     "text": [
      "CPU times: user 25 µs, sys: 9 µs, total: 34 µs\n",
      "Wall time: 38.1 µs\n"
     ]
    },
    {
     "data": {
      "text/plain": [
       "'2256a9093b0fb42776034aedb22c742df9dd88d9a650254e32cb3461bc0290a1'"
      ]
     },
     "execution_count": 3,
     "metadata": {},
     "output_type": "execute_result"
    }
   ],
   "source": [
    "%%time\n",
    "doc.push(\"implementd ox-studio.ui for ui interface now need to clean up all the stuff\")"
   ]
  },
  {
   "cell_type": "code",
   "execution_count": 4,
   "metadata": {},
   "outputs": [
    {
     "name": "stdout",
     "output_type": "stream",
     "text": [
      "CPU times: user 53 µs, sys: 0 ns, total: 53 µs\n",
      "Wall time: 57.2 µs\n"
     ]
    },
    {
     "data": {
      "text/plain": [
       "'96c26beefade871da16c73a4e898c0c4c8b81f4d734af5b50be391798d8aed4d'"
      ]
     },
     "execution_count": 4,
     "metadata": {},
     "output_type": "execute_result"
    }
   ],
   "source": [
    "%%time\n",
    "doc.push(\"remember me : need to do code implementation for key lang conversation \")\n",
    "doc.push(\"remember me : gym time is morning from today  \")\n",
    "doc.push(\"remember me : base vector db arcchitecture is done  \")\n",
    "doc.push(\"remember me : need to do more research on deep learning  \")"
   ]
  },
  {
   "cell_type": "code",
   "execution_count": 18,
   "metadata": {},
   "outputs": [
    {
     "name": "stdout",
     "output_type": "stream",
     "text": [
      "CPU times: user 6 µs, sys: 1e+03 ns, total: 7 µs\n",
      "Wall time: 8.34 µs\n"
     ]
    },
    {
     "data": {
      "text/plain": [
       "{'db': 'test-lg1.oxdb',\n",
       " 'db_path': '/home/lokesh/ox-db/test-lg1.oxdb',\n",
       " 'doc_name': 'test-note',\n",
       " 'doc_path': '/home/lokesh/ox-db/test-lg1.oxdb/test-note',\n",
       " 'doc_reg': {'entry': 14,\n",
       "  'vec_model': 'sentence-transformers/all-MiniLM-L6-v2'}}"
      ]
     },
     "execution_count": 18,
     "metadata": {},
     "output_type": "execute_result"
    }
   ],
   "source": [
    "%%time\n",
    "doc.info()"
   ]
  },
  {
   "cell_type": "code",
   "execution_count": 6,
   "metadata": {},
   "outputs": [
    {
     "name": "stdout",
     "output_type": "stream",
     "text": [
      "CPU times: user 37 µs, sys: 14 µs, total: 51 µs\n",
      "Wall time: 53.2 µs\n"
     ]
    },
    {
     "data": {
      "text/plain": [
       "'495f5ad343a32bc3d73211816308027c25dc8061ec59c223a9097fccd85dfcec'"
      ]
     },
     "execution_count": 6,
     "metadata": {},
     "output_type": "execute_result"
    }
   ],
   "source": [
    "%%time\n",
    "doc.push(\"need to do : find efficient data store and retrive method  \")\n",
    "doc.push(\"need to do : i need to finesh deamon search asap  \")\n",
    "doc.push(\"need to do : need to sleep  \")\n",
    "doc.push(\"need to do : look out for bugs in code base and fix it   \")"
   ]
  },
  {
   "cell_type": "code",
   "execution_count": 7,
   "metadata": {},
   "outputs": [
    {
     "name": "stderr",
     "output_type": "stream",
     "text": [
      "UsageError: Line magic function `%%time` not found.\n"
     ]
    }
   ],
   "source": [
    "%%time\n",
    "doc.push(\"Hi I'm OX-AI your AI personal database \", metadata={\"res\": \"assistant\"})\n",
    "doc.push(\n",
    "    \"I can store your documents with vector embaddings and retrive it based on vector search\",\n",
    "    metadata={\"res\": \"assistant\"},\n",
    ")\n",
    "doc.push(\"I'm currently under development\", metadata={\"res\": \"assistant\"})\n",
    "doc.push(\n",
    "    \"looking forward to do more to increase your productivity!\",\n",
    "    metadata={\"res\": \"assistant\"},\n",
    ")\n",
    "%%time\n",
    "doc.push(\n",
    "    \"Hi I'm your AI personal database and I can store your documents with vector embeddings and retrieve them based on vector search. I'm currently under development, looking forward to doing more to increase your productivity!\",\n",
    "    metadata={\"res\": \"assistant\"},\n",
    ")"
   ]
  },
  {
   "cell_type": "code",
   "execution_count": 8,
   "metadata": {},
   "outputs": [
    {
     "name": "stdout",
     "output_type": "stream",
     "text": [
      "CPU times: user 363 ms, sys: 27.9 ms, total: 390 ms\n",
      "Wall time: 367 ms\n"
     ]
    },
    {
     "data": {
      "text/plain": [
       "{'entries': 0,\n",
       " 'hid': [],\n",
       " 'data': [],\n",
       " 'description': [],\n",
       " 'sim_score': [],\n",
       " 'index': [],\n",
       " 'embeddings': []}"
      ]
     },
     "execution_count": 8,
     "metadata": {},
     "output_type": "execute_result"
    }
   ],
   "source": [
    "%%time\n",
    "doc.search(\"remember me\",where_data={\"search_string\":\"\"})"
   ]
  },
  {
   "cell_type": "code",
   "execution_count": 9,
   "metadata": {},
   "outputs": [
    {
     "name": "stdout",
     "output_type": "stream",
     "text": [
      "CPU times: user 12 µs, sys: 4 µs, total: 16 µs\n",
      "Wall time: 17.9 µs\n"
     ]
    },
    {
     "data": {
      "text/plain": [
       "'42010d63e5c57b0f100b47d99fcebd774c501142e25c8f929d7d0cc968f19113'"
      ]
     },
     "execution_count": 9,
     "metadata": {},
     "output_type": "execute_result"
    }
   ],
   "source": [
    "%%time\n",
    "doc.push(\n",
    "    \"need to : implement rag system that pulls data from the internet and chunk it and store as knowledge for easy retrivel\"\n",
    ")"
   ]
  },
  {
   "cell_type": "code",
   "execution_count": 10,
   "metadata": {},
   "outputs": [
    {
     "name": "stdout",
     "output_type": "stream",
     "text": [
      "CPU times: user 36.3 ms, sys: 171 µs, total: 36.5 ms\n",
      "Wall time: 15.1 ms\n"
     ]
    },
    {
     "data": {
      "text/plain": [
       "{'entries': 4,\n",
       " 'hid': ['a80e560ea4678fd17486b79125afb4c1722104310c2dd0dd4780d02e2ebcca16',\n",
       "  '990b06caf81a79bbff7cc564689e4aa1d1f805bd7c392e221fd4284a351b34fb',\n",
       "  '579dd4ac836c6014428d63a8ba80ebe3255d8a690ba659edf485c59823f270dc',\n",
       "  '8b63f7b6f8f5155ca7bfa1a3dfb51c1c00b9cc10de323873c023afdf7a164e56'],\n",
       " 'data': ['I can store your documents with vector embaddings and retrive it based on vector search',\n",
       "  \"Hi I'm OX-AI your AI personal database \",\n",
       "  'looking forward to do more to increase your productivity!',\n",
       "  \"I'm currently under development\"],\n",
       " 'description': [None, None, None, None],\n",
       " 'sim_score': [0.1741099773074389,\n",
       "  0.08422725521204152,\n",
       "  0.035051292141074976,\n",
       "  -0.0408421610207783],\n",
       " 'index': [{'hid': 'a80e560ea4678fd17486b79125afb4c1722104310c2dd0dd4780d02e2ebcca16',\n",
       "   'uid': 'uid',\n",
       "   'doc': 'test-note',\n",
       "   'time': '18:57:56',\n",
       "   'date': '17-08-2024',\n",
       "   'res': 'assistant'},\n",
       "  {'hid': '990b06caf81a79bbff7cc564689e4aa1d1f805bd7c392e221fd4284a351b34fb',\n",
       "   'uid': 'uid',\n",
       "   'doc': 'test-note',\n",
       "   'time': '18:57:56',\n",
       "   'date': '17-08-2024',\n",
       "   'res': 'assistant'},\n",
       "  {'hid': '579dd4ac836c6014428d63a8ba80ebe3255d8a690ba659edf485c59823f270dc',\n",
       "   'uid': 'uid',\n",
       "   'doc': 'test-note',\n",
       "   'time': '18:57:56',\n",
       "   'date': '17-08-2024',\n",
       "   'res': 'assistant'},\n",
       "  {'hid': '8b63f7b6f8f5155ca7bfa1a3dfb51c1c00b9cc10de323873c023afdf7a164e56',\n",
       "   'uid': 'uid',\n",
       "   'doc': 'test-note',\n",
       "   'time': '18:57:56',\n",
       "   'date': '17-08-2024',\n",
       "   'res': 'assistant'}],\n",
       " 'embeddings': []}"
      ]
     },
     "execution_count": 10,
     "metadata": {},
     "output_type": "execute_result"
    }
   ],
   "source": [
    "%%time\n",
    "doc.search(\"rag system data chunk\",6,where={\"res\":\"assistant\"})"
   ]
  },
  {
   "cell_type": "code",
   "execution_count": 11,
   "metadata": {},
   "outputs": [
    {
     "name": "stdout",
     "output_type": "stream",
     "text": [
      "CPU times: user 52 µs, sys: 18 µs, total: 70 µs\n",
      "Wall time: 74.1 µs\n"
     ]
    },
    {
     "data": {
      "text/plain": [
       "{'990b06caf81a79bbff7cc564689e4aa1d1f805bd7c392e221fd4284a351b34fb': {'hid': '990b06caf81a79bbff7cc564689e4aa1d1f805bd7c392e221fd4284a351b34fb',\n",
       "  'uid': 'uid',\n",
       "  'doc': 'test-note',\n",
       "  'time': '18:57:56',\n",
       "  'date': '17-08-2024',\n",
       "  'res': 'assistant'},\n",
       " 'a80e560ea4678fd17486b79125afb4c1722104310c2dd0dd4780d02e2ebcca16': {'hid': 'a80e560ea4678fd17486b79125afb4c1722104310c2dd0dd4780d02e2ebcca16',\n",
       "  'uid': 'uid',\n",
       "  'doc': 'test-note',\n",
       "  'time': '18:57:56',\n",
       "  'date': '17-08-2024',\n",
       "  'res': 'assistant'},\n",
       " '8b63f7b6f8f5155ca7bfa1a3dfb51c1c00b9cc10de323873c023afdf7a164e56': {'hid': '8b63f7b6f8f5155ca7bfa1a3dfb51c1c00b9cc10de323873c023afdf7a164e56',\n",
       "  'uid': 'uid',\n",
       "  'doc': 'test-note',\n",
       "  'time': '18:57:56',\n",
       "  'date': '17-08-2024',\n",
       "  'res': 'assistant'},\n",
       " '579dd4ac836c6014428d63a8ba80ebe3255d8a690ba659edf485c59823f270dc': {'hid': '579dd4ac836c6014428d63a8ba80ebe3255d8a690ba659edf485c59823f270dc',\n",
       "  'uid': 'uid',\n",
       "  'doc': 'test-note',\n",
       "  'time': '18:57:56',\n",
       "  'date': '17-08-2024',\n",
       "  'res': 'assistant'}}"
      ]
     },
     "execution_count": 11,
     "metadata": {},
     "output_type": "execute_result"
    }
   ],
   "source": [
    "%%time\n",
    "doc.pull(time='07', where={\"res\":\"assistant\"}, docfile=\".index\")"
   ]
  },
  {
   "cell_type": "code",
   "execution_count": 12,
   "metadata": {},
   "outputs": [
    {
     "name": "stdout",
     "output_type": "stream",
     "text": [
      "CPU times: user 69 µs, sys: 23 µs, total: 92 µs\n",
      "Wall time: 95.1 µs\n"
     ]
    },
    {
     "data": {
      "text/plain": [
       "{'2256a9093b0fb42776034aedb22c742df9dd88d9a650254e32cb3461bc0290a1': {'hid': '2256a9093b0fb42776034aedb22c742df9dd88d9a650254e32cb3461bc0290a1',\n",
       "  'uid': 'uid',\n",
       "  'doc': 'test-note',\n",
       "  'time': '18:57:55',\n",
       "  'date': '17-08-2024'},\n",
       " 'e11471c9165b8a76554b6f783e107211646dde31c6c3582175210d2fcca6ffcf': {'hid': 'e11471c9165b8a76554b6f783e107211646dde31c6c3582175210d2fcca6ffcf',\n",
       "  'uid': 'uid',\n",
       "  'doc': 'test-note',\n",
       "  'time': '18:57:55',\n",
       "  'date': '17-08-2024'},\n",
       " '8a69e0d4f4bef9c1665b1b73808d05e15557849476f1a144c2199ae888945ed8': {'hid': '8a69e0d4f4bef9c1665b1b73808d05e15557849476f1a144c2199ae888945ed8',\n",
       "  'uid': 'uid',\n",
       "  'doc': 'test-note',\n",
       "  'time': '18:57:55',\n",
       "  'date': '17-08-2024'},\n",
       " '8c471cf4703cd54ce775c452bb61f40b8aeb89a1389608c322d684abcc5c93a2': {'hid': '8c471cf4703cd54ce775c452bb61f40b8aeb89a1389608c322d684abcc5c93a2',\n",
       "  'uid': 'uid',\n",
       "  'doc': 'test-note',\n",
       "  'time': '18:57:55',\n",
       "  'date': '17-08-2024'},\n",
       " '96c26beefade871da16c73a4e898c0c4c8b81f4d734af5b50be391798d8aed4d': {'hid': '96c26beefade871da16c73a4e898c0c4c8b81f4d734af5b50be391798d8aed4d',\n",
       "  'uid': 'uid',\n",
       "  'doc': 'test-note',\n",
       "  'time': '18:57:55',\n",
       "  'date': '17-08-2024'},\n",
       " 'd8fbb6847fd7d413e2f8a6664528d7fb88e45ede08012d80174e6b2f79e78521': {'hid': 'd8fbb6847fd7d413e2f8a6664528d7fb88e45ede08012d80174e6b2f79e78521',\n",
       "  'uid': 'uid',\n",
       "  'doc': 'test-note',\n",
       "  'time': '18:57:55',\n",
       "  'date': '17-08-2024'},\n",
       " '63289fb104ac62b584a80dec06781188bedff10e94f311b67a6effb9060bbff5': {'hid': '63289fb104ac62b584a80dec06781188bedff10e94f311b67a6effb9060bbff5',\n",
       "  'uid': 'uid',\n",
       "  'doc': 'test-note',\n",
       "  'time': '18:57:55',\n",
       "  'date': '17-08-2024'},\n",
       " 'e60da7110568a7ba4172d78e52535a5050055b61a154bb143f58e06b3f5dc7f7': {'hid': 'e60da7110568a7ba4172d78e52535a5050055b61a154bb143f58e06b3f5dc7f7',\n",
       "  'uid': 'uid',\n",
       "  'doc': 'test-note',\n",
       "  'time': '18:57:55',\n",
       "  'date': '17-08-2024'},\n",
       " '495f5ad343a32bc3d73211816308027c25dc8061ec59c223a9097fccd85dfcec': {'hid': '495f5ad343a32bc3d73211816308027c25dc8061ec59c223a9097fccd85dfcec',\n",
       "  'uid': 'uid',\n",
       "  'doc': 'test-note',\n",
       "  'time': '18:57:55',\n",
       "  'date': '17-08-2024'},\n",
       " '990b06caf81a79bbff7cc564689e4aa1d1f805bd7c392e221fd4284a351b34fb': {'hid': '990b06caf81a79bbff7cc564689e4aa1d1f805bd7c392e221fd4284a351b34fb',\n",
       "  'uid': 'uid',\n",
       "  'doc': 'test-note',\n",
       "  'time': '18:57:56',\n",
       "  'date': '17-08-2024',\n",
       "  'res': 'assistant'},\n",
       " 'a80e560ea4678fd17486b79125afb4c1722104310c2dd0dd4780d02e2ebcca16': {'hid': 'a80e560ea4678fd17486b79125afb4c1722104310c2dd0dd4780d02e2ebcca16',\n",
       "  'uid': 'uid',\n",
       "  'doc': 'test-note',\n",
       "  'time': '18:57:56',\n",
       "  'date': '17-08-2024',\n",
       "  'res': 'assistant'},\n",
       " '8b63f7b6f8f5155ca7bfa1a3dfb51c1c00b9cc10de323873c023afdf7a164e56': {'hid': '8b63f7b6f8f5155ca7bfa1a3dfb51c1c00b9cc10de323873c023afdf7a164e56',\n",
       "  'uid': 'uid',\n",
       "  'doc': 'test-note',\n",
       "  'time': '18:57:56',\n",
       "  'date': '17-08-2024',\n",
       "  'res': 'assistant'},\n",
       " '579dd4ac836c6014428d63a8ba80ebe3255d8a690ba659edf485c59823f270dc': {'hid': '579dd4ac836c6014428d63a8ba80ebe3255d8a690ba659edf485c59823f270dc',\n",
       "  'uid': 'uid',\n",
       "  'doc': 'test-note',\n",
       "  'time': '18:57:56',\n",
       "  'date': '17-08-2024',\n",
       "  'res': 'assistant'},\n",
       " '42010d63e5c57b0f100b47d99fcebd774c501142e25c8f929d7d0cc968f19113': {'hid': '42010d63e5c57b0f100b47d99fcebd774c501142e25c8f929d7d0cc968f19113',\n",
       "  'uid': 'uid',\n",
       "  'doc': 'test-note',\n",
       "  'time': '18:57:56',\n",
       "  'date': '17-08-2024'}}"
      ]
     },
     "execution_count": 12,
     "metadata": {},
     "output_type": "execute_result"
    }
   ],
   "source": [
    "%%time\n",
    "where = {\"time\":\"06:57\",\"date\":\"17\",\"res\":\"assistant\"}\n",
    "doc.pull(time=\"06:57\",where=where,docfile=\".index\")"
   ]
  },
  {
   "cell_type": "code",
   "execution_count": 13,
   "metadata": {},
   "outputs": [
    {
     "name": "stdout",
     "output_type": "stream",
     "text": [
      "CPU times: user 27 µs, sys: 0 ns, total: 27 µs\n",
      "Wall time: 29.1 µs\n"
     ]
    },
    {
     "data": {
      "text/plain": [
       "{}"
      ]
     },
     "execution_count": 13,
     "metadata": {},
     "output_type": "execute_result"
    }
   ],
   "source": [
    "%%time\n",
    "\n",
    "doc.pull(where=where,search_all_filter=True,docfile=\".index\")"
   ]
  },
  {
   "cell_type": "code",
   "execution_count": 14,
   "metadata": {},
   "outputs": [
    {
     "name": "stdout",
     "output_type": "stream",
     "text": [
      "CPU times: user 51 µs, sys: 17 µs, total: 68 µs\n",
      "Wall time: 70.8 µs\n"
     ]
    },
    {
     "data": {
      "text/plain": [
       "['2256a9093b0fb42776034aedb22c742df9dd88d9a650254e32cb3461bc0290a1',\n",
       " 'e11471c9165b8a76554b6f783e107211646dde31c6c3582175210d2fcca6ffcf',\n",
       " '8a69e0d4f4bef9c1665b1b73808d05e15557849476f1a144c2199ae888945ed8',\n",
       " '8c471cf4703cd54ce775c452bb61f40b8aeb89a1389608c322d684abcc5c93a2',\n",
       " '96c26beefade871da16c73a4e898c0c4c8b81f4d734af5b50be391798d8aed4d',\n",
       " 'd8fbb6847fd7d413e2f8a6664528d7fb88e45ede08012d80174e6b2f79e78521',\n",
       " '63289fb104ac62b584a80dec06781188bedff10e94f311b67a6effb9060bbff5',\n",
       " 'e60da7110568a7ba4172d78e52535a5050055b61a154bb143f58e06b3f5dc7f7',\n",
       " '495f5ad343a32bc3d73211816308027c25dc8061ec59c223a9097fccd85dfcec',\n",
       " '990b06caf81a79bbff7cc564689e4aa1d1f805bd7c392e221fd4284a351b34fb',\n",
       " 'a80e560ea4678fd17486b79125afb4c1722104310c2dd0dd4780d02e2ebcca16',\n",
       " '8b63f7b6f8f5155ca7bfa1a3dfb51c1c00b9cc10de323873c023afdf7a164e56',\n",
       " '579dd4ac836c6014428d63a8ba80ebe3255d8a690ba659edf485c59823f270dc',\n",
       " '42010d63e5c57b0f100b47d99fcebd774c501142e25c8f929d7d0cc968f19113']"
      ]
     },
     "execution_count": 14,
     "metadata": {},
     "output_type": "execute_result"
    }
   ],
   "source": [
    "%%time\n",
    "hids = doc.search_hid( where=where)\n",
    "hids"
   ]
  },
  {
   "cell_type": "code",
   "execution_count": 15,
   "metadata": {},
   "outputs": [
    {
     "name": "stdout",
     "output_type": "stream",
     "text": [
      "CPU times: user 29 µs, sys: 9 µs, total: 38 µs\n",
      "Wall time: 42.4 µs\n"
     ]
    },
    {
     "data": {
      "text/plain": [
       "{'2256a9093b0fb42776034aedb22c742df9dd88d9a650254e32cb3461bc0290a1': {'hid': '2256a9093b0fb42776034aedb22c742df9dd88d9a650254e32cb3461bc0290a1',\n",
       "  'uid': 'uid',\n",
       "  'doc': 'test-note',\n",
       "  'time': '18:57:55',\n",
       "  'date': '17-08-2024'},\n",
       " 'e11471c9165b8a76554b6f783e107211646dde31c6c3582175210d2fcca6ffcf': {'hid': 'e11471c9165b8a76554b6f783e107211646dde31c6c3582175210d2fcca6ffcf',\n",
       "  'uid': 'uid',\n",
       "  'doc': 'test-note',\n",
       "  'time': '18:57:55',\n",
       "  'date': '17-08-2024'},\n",
       " '8a69e0d4f4bef9c1665b1b73808d05e15557849476f1a144c2199ae888945ed8': {'hid': '8a69e0d4f4bef9c1665b1b73808d05e15557849476f1a144c2199ae888945ed8',\n",
       "  'uid': 'uid',\n",
       "  'doc': 'test-note',\n",
       "  'time': '18:57:55',\n",
       "  'date': '17-08-2024'},\n",
       " '8c471cf4703cd54ce775c452bb61f40b8aeb89a1389608c322d684abcc5c93a2': {'hid': '8c471cf4703cd54ce775c452bb61f40b8aeb89a1389608c322d684abcc5c93a2',\n",
       "  'uid': 'uid',\n",
       "  'doc': 'test-note',\n",
       "  'time': '18:57:55',\n",
       "  'date': '17-08-2024'},\n",
       " '96c26beefade871da16c73a4e898c0c4c8b81f4d734af5b50be391798d8aed4d': {'hid': '96c26beefade871da16c73a4e898c0c4c8b81f4d734af5b50be391798d8aed4d',\n",
       "  'uid': 'uid',\n",
       "  'doc': 'test-note',\n",
       "  'time': '18:57:55',\n",
       "  'date': '17-08-2024'},\n",
       " 'd8fbb6847fd7d413e2f8a6664528d7fb88e45ede08012d80174e6b2f79e78521': {'hid': 'd8fbb6847fd7d413e2f8a6664528d7fb88e45ede08012d80174e6b2f79e78521',\n",
       "  'uid': 'uid',\n",
       "  'doc': 'test-note',\n",
       "  'time': '18:57:55',\n",
       "  'date': '17-08-2024'},\n",
       " '63289fb104ac62b584a80dec06781188bedff10e94f311b67a6effb9060bbff5': {'hid': '63289fb104ac62b584a80dec06781188bedff10e94f311b67a6effb9060bbff5',\n",
       "  'uid': 'uid',\n",
       "  'doc': 'test-note',\n",
       "  'time': '18:57:55',\n",
       "  'date': '17-08-2024'},\n",
       " 'e60da7110568a7ba4172d78e52535a5050055b61a154bb143f58e06b3f5dc7f7': {'hid': 'e60da7110568a7ba4172d78e52535a5050055b61a154bb143f58e06b3f5dc7f7',\n",
       "  'uid': 'uid',\n",
       "  'doc': 'test-note',\n",
       "  'time': '18:57:55',\n",
       "  'date': '17-08-2024'},\n",
       " '495f5ad343a32bc3d73211816308027c25dc8061ec59c223a9097fccd85dfcec': {'hid': '495f5ad343a32bc3d73211816308027c25dc8061ec59c223a9097fccd85dfcec',\n",
       "  'uid': 'uid',\n",
       "  'doc': 'test-note',\n",
       "  'time': '18:57:55',\n",
       "  'date': '17-08-2024'},\n",
       " '990b06caf81a79bbff7cc564689e4aa1d1f805bd7c392e221fd4284a351b34fb': {'hid': '990b06caf81a79bbff7cc564689e4aa1d1f805bd7c392e221fd4284a351b34fb',\n",
       "  'uid': 'uid',\n",
       "  'doc': 'test-note',\n",
       "  'time': '18:57:56',\n",
       "  'date': '17-08-2024',\n",
       "  'res': 'assistant'},\n",
       " 'a80e560ea4678fd17486b79125afb4c1722104310c2dd0dd4780d02e2ebcca16': {'hid': 'a80e560ea4678fd17486b79125afb4c1722104310c2dd0dd4780d02e2ebcca16',\n",
       "  'uid': 'uid',\n",
       "  'doc': 'test-note',\n",
       "  'time': '18:57:56',\n",
       "  'date': '17-08-2024',\n",
       "  'res': 'assistant'},\n",
       " '8b63f7b6f8f5155ca7bfa1a3dfb51c1c00b9cc10de323873c023afdf7a164e56': {'hid': '8b63f7b6f8f5155ca7bfa1a3dfb51c1c00b9cc10de323873c023afdf7a164e56',\n",
       "  'uid': 'uid',\n",
       "  'doc': 'test-note',\n",
       "  'time': '18:57:56',\n",
       "  'date': '17-08-2024',\n",
       "  'res': 'assistant'},\n",
       " '579dd4ac836c6014428d63a8ba80ebe3255d8a690ba659edf485c59823f270dc': {'hid': '579dd4ac836c6014428d63a8ba80ebe3255d8a690ba659edf485c59823f270dc',\n",
       "  'uid': 'uid',\n",
       "  'doc': 'test-note',\n",
       "  'time': '18:57:56',\n",
       "  'date': '17-08-2024',\n",
       "  'res': 'assistant'},\n",
       " '42010d63e5c57b0f100b47d99fcebd774c501142e25c8f929d7d0cc968f19113': {'hid': '42010d63e5c57b0f100b47d99fcebd774c501142e25c8f929d7d0cc968f19113',\n",
       "  'uid': 'uid',\n",
       "  'doc': 'test-note',\n",
       "  'time': '18:57:56',\n",
       "  'date': '17-08-2024'}}"
      ]
     },
     "execution_count": 15,
     "metadata": {},
     "output_type": "execute_result"
    }
   ],
   "source": [
    "%%time\n",
    "doc.pull(hid=hids,docfile=\".index\")"
   ]
  },
  {
   "cell_type": "code",
   "execution_count": 16,
   "metadata": {},
   "outputs": [
    {
     "name": "stdout",
     "output_type": "stream",
     "text": [
      "CPU times: user 859 µs, sys: 283 µs, total: 1.14 ms\n",
      "Wall time: 816 µs\n"
     ]
    },
    {
     "data": {
      "text/plain": [
       "{'2256a9093b0fb42776034aedb22c742df9dd88d9a650254e32cb3461bc0290a1': {'data': 'implementd ox-studio.ui for ui interface now need to clean up all the stuff',\n",
       "  'description': None},\n",
       " 'e11471c9165b8a76554b6f783e107211646dde31c6c3582175210d2fcca6ffcf': {'data': 'remember me : need to do code implementation for key lang conversation ',\n",
       "  'description': None},\n",
       " '8a69e0d4f4bef9c1665b1b73808d05e15557849476f1a144c2199ae888945ed8': {'data': 'remember me : gym time is morning from today  ',\n",
       "  'description': None},\n",
       " '8c471cf4703cd54ce775c452bb61f40b8aeb89a1389608c322d684abcc5c93a2': {'data': 'remember me : base vector db arcchitecture is done  ',\n",
       "  'description': None},\n",
       " '96c26beefade871da16c73a4e898c0c4c8b81f4d734af5b50be391798d8aed4d': {'data': 'remember me : need to do more research on deep learning  ',\n",
       "  'description': None},\n",
       " 'd8fbb6847fd7d413e2f8a6664528d7fb88e45ede08012d80174e6b2f79e78521': {'data': 'need to do : find efficient data store and retrive method  ',\n",
       "  'description': None},\n",
       " '63289fb104ac62b584a80dec06781188bedff10e94f311b67a6effb9060bbff5': {'data': 'need to do : i need to finesh deamon search asap  ',\n",
       "  'description': None},\n",
       " 'e60da7110568a7ba4172d78e52535a5050055b61a154bb143f58e06b3f5dc7f7': {'data': 'need to do : need to sleep  ',\n",
       "  'description': None},\n",
       " '495f5ad343a32bc3d73211816308027c25dc8061ec59c223a9097fccd85dfcec': {'data': 'need to do : look out for bugs in code base and fix it   ',\n",
       "  'description': None},\n",
       " '990b06caf81a79bbff7cc564689e4aa1d1f805bd7c392e221fd4284a351b34fb': {'data': \"Hi I'm OX-AI your AI personal database \",\n",
       "  'description': None},\n",
       " 'a80e560ea4678fd17486b79125afb4c1722104310c2dd0dd4780d02e2ebcca16': {'data': 'I can store your documents with vector embaddings and retrive it based on vector search',\n",
       "  'description': None},\n",
       " '8b63f7b6f8f5155ca7bfa1a3dfb51c1c00b9cc10de323873c023afdf7a164e56': {'data': \"I'm currently under development\",\n",
       "  'description': None},\n",
       " '579dd4ac836c6014428d63a8ba80ebe3255d8a690ba659edf485c59823f270dc': {'data': 'looking forward to do more to increase your productivity!',\n",
       "  'description': None},\n",
       " '42010d63e5c57b0f100b47d99fcebd774c501142e25c8f929d7d0cc968f19113': {'data': 'need to : implement rag system that pulls data from the internet and chunk it and store as knowledge for easy retrivel',\n",
       "  'description': None}}"
      ]
     },
     "execution_count": 16,
     "metadata": {},
     "output_type": "execute_result"
    }
   ],
   "source": [
    "%%time\n",
    "doc.pull(time=\"18\",docfile=\"data.oxd\")\n"
   ]
  },
  {
   "cell_type": "code",
   "execution_count": 17,
   "metadata": {},
   "outputs": [
    {
     "name": "stdout",
     "output_type": "stream",
     "text": [
      "CPU times: user 1.09 ms, sys: 358 µs, total: 1.45 ms\n",
      "Wall time: 1.01 ms\n"
     ]
    },
    {
     "data": {
      "text/plain": [
       "{'2256a9093b0fb42776034aedb22c742df9dd88d9a650254e32cb3461bc0290a1': {'data': 'implementd ox-studio.ui for ui interface now need to clean up all the stuff',\n",
       "  'description': None},\n",
       " 'e11471c9165b8a76554b6f783e107211646dde31c6c3582175210d2fcca6ffcf': {'data': 'remember me : need to do code implementation for key lang conversation ',\n",
       "  'description': None},\n",
       " '8a69e0d4f4bef9c1665b1b73808d05e15557849476f1a144c2199ae888945ed8': {'data': 'remember me : gym time is morning from today  ',\n",
       "  'description': None},\n",
       " '8c471cf4703cd54ce775c452bb61f40b8aeb89a1389608c322d684abcc5c93a2': {'data': 'remember me : base vector db arcchitecture is done  ',\n",
       "  'description': None},\n",
       " '96c26beefade871da16c73a4e898c0c4c8b81f4d734af5b50be391798d8aed4d': {'data': 'remember me : need to do more research on deep learning  ',\n",
       "  'description': None},\n",
       " 'd8fbb6847fd7d413e2f8a6664528d7fb88e45ede08012d80174e6b2f79e78521': {'data': 'need to do : find efficient data store and retrive method  ',\n",
       "  'description': None},\n",
       " '63289fb104ac62b584a80dec06781188bedff10e94f311b67a6effb9060bbff5': {'data': 'need to do : i need to finesh deamon search asap  ',\n",
       "  'description': None},\n",
       " 'e60da7110568a7ba4172d78e52535a5050055b61a154bb143f58e06b3f5dc7f7': {'data': 'need to do : need to sleep  ',\n",
       "  'description': None},\n",
       " '495f5ad343a32bc3d73211816308027c25dc8061ec59c223a9097fccd85dfcec': {'data': 'need to do : look out for bugs in code base and fix it   ',\n",
       "  'description': None},\n",
       " '990b06caf81a79bbff7cc564689e4aa1d1f805bd7c392e221fd4284a351b34fb': {'data': \"Hi I'm OX-AI your AI personal database \",\n",
       "  'description': None},\n",
       " 'a80e560ea4678fd17486b79125afb4c1722104310c2dd0dd4780d02e2ebcca16': {'data': 'I can store your documents with vector embaddings and retrive it based on vector search',\n",
       "  'description': None},\n",
       " '8b63f7b6f8f5155ca7bfa1a3dfb51c1c00b9cc10de323873c023afdf7a164e56': {'data': \"I'm currently under development\",\n",
       "  'description': None},\n",
       " '579dd4ac836c6014428d63a8ba80ebe3255d8a690ba659edf485c59823f270dc': {'data': 'looking forward to do more to increase your productivity!',\n",
       "  'description': None},\n",
       " '42010d63e5c57b0f100b47d99fcebd774c501142e25c8f929d7d0cc968f19113': {'data': 'need to : implement rag system that pulls data from the internet and chunk it and store as knowledge for easy retrivel',\n",
       "  'description': None}}"
      ]
     },
     "execution_count": 17,
     "metadata": {},
     "output_type": "execute_result"
    }
   ],
   "source": [
    "%%time\n",
    "doc.pull()"
   ]
  }
 ],
 "metadata": {
  "kernelspec": {
   "display_name": "Python 3",
   "language": "python",
   "name": "python3"
  },
  "language_info": {
   "codemirror_mode": {
    "name": "ipython",
    "version": 3
   },
   "file_extension": ".py",
   "mimetype": "text/x-python",
   "name": "python",
   "nbconvert_exporter": "python",
   "pygments_lexer": "ipython3",
   "version": "3.11.9"
  }
 },
 "nbformat": 4,
 "nbformat_minor": 2
}
