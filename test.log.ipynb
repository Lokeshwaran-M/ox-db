{
 "cells": [
  {
   "cell_type": "code",
   "execution_count": 1,
   "metadata": {},
   "outputs": [
    {
     "name": "stderr",
     "output_type": "stream",
     "text": [
      "/home/lokesh/.local/lib/python3.11/site-packages/sentence_transformers/cross_encoder/CrossEncoder.py:11: TqdmExperimentalWarning: Using `tqdm.autonotebook.tqdm` in notebook mode. Use `tqdm.tqdm` instead to force console mode (e.g. in jupyter console)\n",
      "  from tqdm.autonotebook import tqdm, trange\n",
      "/home/lokesh/.local/lib/python3.11/site-packages/huggingface_hub/file_download.py:1132: FutureWarning: `resume_download` is deprecated and will be removed in version 1.0.0. Downloads always resume when possible. If you want to force a new download, use `force_download=True`.\n",
      "  warnings.warn(\n"
     ]
    }
   ],
   "source": [
    "from ox_db.db.log import Log\n",
    "\n",
    "log=Log(\"test\")\n"
   ]
  },
  {
   "cell_type": "code",
   "execution_count": 2,
   "metadata": {},
   "outputs": [
    {
     "data": {
      "text/plain": [
       "'note'"
      ]
     },
     "execution_count": 2,
     "metadata": {},
     "output_type": "execute_result"
    }
   ],
   "source": [
    "log.set_doc(\"note\")"
   ]
  },
  {
   "cell_type": "code",
   "execution_count": 3,
   "metadata": {},
   "outputs": [
    {
     "name": "stdout",
     "output_type": "stream",
     "text": [
      "ox-db: Logged data: 131ef1fe-3916-4a07-a746-3b8d1aceec25 in note.index\n",
      "ox-db: Logged data: a683555f-6f10-4545-87dd-2b49d99a07f3 in note.index\n",
      "ox-db: Logged data: 3b6d5e59-2a0c-46d0-93ed-ea92cdb4e3e9 in note.index\n",
      "ox-db: Logged data: 58c3b2f5-99da-4e8b-b781-663eb6554529 in note.index\n"
     ]
    },
    {
     "data": {
      "text/plain": [
       "'58c3b2f5-99da-4e8b-b781-663eb6554529'"
      ]
     },
     "execution_count": 3,
     "metadata": {},
     "output_type": "execute_result"
    }
   ],
   "source": [
    "log.push(\"remember me : need to do code implementation for key lang conversation \")\n",
    "log.push(\"remember me : gym time is morning from today  \")\n",
    "log.push(\"remember me : base vector db arcchitecture is done  \")\n",
    "log.push(\"remember me : need to do more research on deep learning  \")"
   ]
  },
  {
   "cell_type": "code",
   "execution_count": 4,
   "metadata": {},
   "outputs": [
    {
     "data": {
      "text/plain": [
       "4"
      ]
     },
     "execution_count": 4,
     "metadata": {},
     "output_type": "execute_result"
    }
   ],
   "source": [
    "log.doc_entry"
   ]
  },
  {
   "cell_type": "code",
   "execution_count": 5,
   "metadata": {},
   "outputs": [
    {
     "name": "stdout",
     "output_type": "stream",
     "text": [
      "ox-db: Logged data: 5957a85c-3a6d-4bfd-bdaf-f326c9980d68 in note.index\n",
      "ox-db: Logged data: 5b58c33d-6ae5-4e04-b2f7-78e17f79c299 in note.index\n",
      "ox-db: Logged data: d1919118-5ed1-4996-836b-040263a02d5d in note.index\n",
      "ox-db: Logged data: e68c6779-1aff-4727-af39-59cac51a01b5 in note.index\n"
     ]
    },
    {
     "data": {
      "text/plain": [
       "'e68c6779-1aff-4727-af39-59cac51a01b5'"
      ]
     },
     "execution_count": 5,
     "metadata": {},
     "output_type": "execute_result"
    }
   ],
   "source": [
    "log.push(\"need to do : find efficient data store and retrive method  \")\n",
    "log.push(\"need to do : i need to finesh deamon search asap  \")\n",
    "log.push(\"need to do : need to sleep  \")\n",
    "log.push(\"need to do : look out for bugs in code base and fix it   \")\n"
   ]
  },
  {
   "cell_type": "code",
   "execution_count": 6,
   "metadata": {},
   "outputs": [
    {
     "name": "stdout",
     "output_type": "stream",
     "text": [
      "ox-db: Logged data: 8d0fa9b2-6374-47a5-94a7-8ca85e69de46 in note.index\n",
      "ox-db: Logged data: c97076b0-de99-4456-94da-93c69e5731ad in note.index\n",
      "ox-db: Logged data: 73f81f68-2cdd-4360-a173-fd16b98195ca in note.index\n",
      "ox-db: Logged data: 431b1431-d4bc-4997-9502-662ab16e95ae in note.index\n",
      "ox-db: Logged data: f917ef90-cb8d-4137-99ab-0b5996cac017 in note.index\n"
     ]
    },
    {
     "data": {
      "text/plain": [
       "'f917ef90-cb8d-4137-99ab-0b5996cac017'"
      ]
     },
     "execution_count": 6,
     "metadata": {},
     "output_type": "execute_result"
    }
   ],
   "source": [
    "log.push(\"Hi I'm OX-AI your AI personal database \")\n",
    "log.push(\"I can store your documents with vector embaddings and retrive it based on vector search\")\n",
    "log.push(\"I'm currently under development\")\n",
    "log.push(\"looking forward to do more to increase your productivity!\")\n",
    "log.push(\"Hi I'm your AI personal database and I can store your documents with vector embeddings and retrieve them based on vector search. I'm currently under development, looking forward to doing more to increase your productivity!\")"
   ]
  },
  {
   "cell_type": "code",
   "execution_count": 7,
   "metadata": {},
   "outputs": [
    {
     "name": "stdout",
     "output_type": "stream",
     "text": [
      "ox-db: Logged data: 0dc32086-77ad-457b-9110-8310d372fc00 in note.index\n"
     ]
    },
    {
     "data": {
      "text/plain": [
       "'0dc32086-77ad-457b-9110-8310d372fc00'"
      ]
     },
     "execution_count": 7,
     "metadata": {},
     "output_type": "execute_result"
    }
   ],
   "source": [
    "log.push(\"hi\",key=\"time\")"
   ]
  },
  {
   "cell_type": "code",
   "execution_count": 8,
   "metadata": {},
   "outputs": [
    {
     "data": {
      "text/plain": [
       "[{'uid': '131ef1fe-3916-4a07-a746-3b8d1aceec25',\n",
       "  'data': 'remember me : need to do code implementation for key lang conversation '},\n",
       " {'uid': 'a683555f-6f10-4545-87dd-2b49d99a07f3',\n",
       "  'data': 'remember me : gym time is morning from today  '},\n",
       " {'uid': '3b6d5e59-2a0c-46d0-93ed-ea92cdb4e3e9',\n",
       "  'data': 'remember me : base vector db arcchitecture is done  '},\n",
       " {'uid': '58c3b2f5-99da-4e8b-b781-663eb6554529',\n",
       "  'data': 'remember me : need to do more research on deep learning  '},\n",
       " {'uid': '5957a85c-3a6d-4bfd-bdaf-f326c9980d68',\n",
       "  'data': 'need to do : find efficient data store and retrive method  '},\n",
       " {'uid': '5b58c33d-6ae5-4e04-b2f7-78e17f79c299',\n",
       "  'data': 'need to do : i need to finesh deamon search asap  '},\n",
       " {'uid': 'd1919118-5ed1-4996-836b-040263a02d5d',\n",
       "  'data': 'need to do : need to sleep  '},\n",
       " {'uid': 'e68c6779-1aff-4727-af39-59cac51a01b5',\n",
       "  'data': 'need to do : look out for bugs in code base and fix it   '},\n",
       " {'uid': '8d0fa9b2-6374-47a5-94a7-8ca85e69de46',\n",
       "  'data': \"Hi I'm OX-AI your AI personal database \"},\n",
       " {'uid': 'c97076b0-de99-4456-94da-93c69e5731ad',\n",
       "  'data': 'I can store your documents with vector embaddings and retrive it based on vector search'},\n",
       " {'uid': '73f81f68-2cdd-4360-a173-fd16b98195ca',\n",
       "  'data': \"I'm currently under development\"},\n",
       " {'uid': '431b1431-d4bc-4997-9502-662ab16e95ae',\n",
       "  'data': 'looking forward to do more to increase your productivity!'},\n",
       " {'uid': 'f917ef90-cb8d-4137-99ab-0b5996cac017',\n",
       "  'data': \"Hi I'm your AI personal database and I can store your documents with vector embeddings and retrieve them based on vector search. I'm currently under development, looking forward to doing more to increase your productivity!\"},\n",
       " {'uid': '0dc32086-77ad-457b-9110-8310d372fc00', 'data': 'hi'}]"
      ]
     },
     "execution_count": 8,
     "metadata": {},
     "output_type": "execute_result"
    }
   ],
   "source": [
    "log.pull()"
   ]
  },
  {
   "cell_type": "code",
   "execution_count": 9,
   "metadata": {},
   "outputs": [
    {
     "name": "stdout",
     "output_type": "stream",
     "text": [
      "ox-db : Hi I'm OX-AI your AI personal database \n",
      "ox-db : hi\n",
      "ox-db : remember me : gym time is morning from today  \n"
     ]
    },
    {
     "data": {
      "text/plain": [
       "[{'uid': '8d0fa9b2-6374-47a5-94a7-8ca85e69de46',\n",
       "  'data': \"Hi I'm OX-AI your AI personal database \"},\n",
       " {'uid': '0dc32086-77ad-457b-9110-8310d372fc00', 'data': 'hi'},\n",
       " {'uid': 'a683555f-6f10-4545-87dd-2b49d99a07f3',\n",
       "  'data': 'remember me : gym time is morning from today  '}]"
      ]
     },
     "execution_count": 9,
     "metadata": {},
     "output_type": "execute_result"
    }
   ],
   "source": [
    "log.search(\"hi ox-ai\",3)"
   ]
  },
  {
   "cell_type": "code",
   "execution_count": 10,
   "metadata": {},
   "outputs": [
    {
     "data": {
      "text/plain": [
       "'b86dc76b-a5f3-40a3-8be3-552a3fae6a07'"
      ]
     },
     "execution_count": 10,
     "metadata": {},
     "output_type": "execute_result"
    }
   ],
   "source": [
    "log.gen_uid()"
   ]
  },
  {
   "cell_type": "code",
   "execution_count": 11,
   "metadata": {},
   "outputs": [
    {
     "name": "stdout",
     "output_type": "stream",
     "text": [
      "ox-db: Logged data: 372750e8-8953-4d60-9a5a-1a5ae15d0a8a in note.index\n"
     ]
    },
    {
     "data": {
      "text/plain": [
       "'372750e8-8953-4d60-9a5a-1a5ae15d0a8a'"
      ]
     },
     "execution_count": 11,
     "metadata": {},
     "output_type": "execute_result"
    }
   ],
   "source": [
    "log.push(\"need to : implement rag system that pulls data from the internet and chunk it and store as knowledge for easy retrivel\")"
   ]
  },
  {
   "cell_type": "code",
   "execution_count": 12,
   "metadata": {},
   "outputs": [
    {
     "name": "stdout",
     "output_type": "stream",
     "text": [
      "ox-db : need to : implement rag system that pulls data from the internet and chunk it and store as knowledge for easy retrivel\n",
      "ox-db : hi\n"
     ]
    },
    {
     "data": {
      "text/plain": [
       "[{'uid': '372750e8-8953-4d60-9a5a-1a5ae15d0a8a',\n",
       "  'data': 'need to : implement rag system that pulls data from the internet and chunk it and store as knowledge for easy retrivel'},\n",
       " {'uid': '0dc32086-77ad-457b-9110-8310d372fc00', 'data': 'hi'}]"
      ]
     },
     "execution_count": 12,
     "metadata": {},
     "output_type": "execute_result"
    }
   ],
   "source": [
    "log.search(\"rag\",2)"
   ]
  },
  {
   "cell_type": "code",
   "execution_count": 13,
   "metadata": {},
   "outputs": [
    {
     "data": {
      "text/plain": [
       "[{'uid': '131ef1fe-3916-4a07-a746-3b8d1aceec25',\n",
       "  'data': 'remember me : need to do code implementation for key lang conversation '},\n",
       " {'uid': 'a683555f-6f10-4545-87dd-2b49d99a07f3',\n",
       "  'data': 'remember me : gym time is morning from today  '},\n",
       " {'uid': '3b6d5e59-2a0c-46d0-93ed-ea92cdb4e3e9',\n",
       "  'data': 'remember me : base vector db arcchitecture is done  '},\n",
       " {'uid': '58c3b2f5-99da-4e8b-b781-663eb6554529',\n",
       "  'data': 'remember me : need to do more research on deep learning  '},\n",
       " {'uid': '5957a85c-3a6d-4bfd-bdaf-f326c9980d68',\n",
       "  'data': 'need to do : find efficient data store and retrive method  '},\n",
       " {'uid': '5b58c33d-6ae5-4e04-b2f7-78e17f79c299',\n",
       "  'data': 'need to do : i need to finesh deamon search asap  '},\n",
       " {'uid': 'd1919118-5ed1-4996-836b-040263a02d5d',\n",
       "  'data': 'need to do : need to sleep  '},\n",
       " {'uid': 'e68c6779-1aff-4727-af39-59cac51a01b5',\n",
       "  'data': 'need to do : look out for bugs in code base and fix it   '},\n",
       " {'uid': '8d0fa9b2-6374-47a5-94a7-8ca85e69de46',\n",
       "  'data': \"Hi I'm OX-AI your AI personal database \"},\n",
       " {'uid': 'c97076b0-de99-4456-94da-93c69e5731ad',\n",
       "  'data': 'I can store your documents with vector embaddings and retrive it based on vector search'},\n",
       " {'uid': '73f81f68-2cdd-4360-a173-fd16b98195ca',\n",
       "  'data': \"I'm currently under development\"},\n",
       " {'uid': '431b1431-d4bc-4997-9502-662ab16e95ae',\n",
       "  'data': 'looking forward to do more to increase your productivity!'},\n",
       " {'uid': 'f917ef90-cb8d-4137-99ab-0b5996cac017',\n",
       "  'data': \"Hi I'm your AI personal database and I can store your documents with vector embeddings and retrieve them based on vector search. I'm currently under development, looking forward to doing more to increase your productivity!\"},\n",
       " {'uid': '0dc32086-77ad-457b-9110-8310d372fc00', 'data': 'hi'},\n",
       " {'uid': '372750e8-8953-4d60-9a5a-1a5ae15d0a8a',\n",
       "  'data': 'need to : implement rag system that pulls data from the internet and chunk it and store as knowledge for easy retrivel'}]"
      ]
     },
     "execution_count": 13,
     "metadata": {},
     "output_type": "execute_result"
    }
   ],
   "source": [
    "log.pull()"
   ]
  },
  {
   "cell_type": "code",
   "execution_count": 18,
   "metadata": {},
   "outputs": [
    {
     "name": "stdout",
     "output_type": "stream",
     "text": [
      "ox-db : remember me : need to do code implementation for key lang conversation \n",
      "ox-db : remember me : gym time is morning from today  \n",
      "ox-db : remember me : base vector db arcchitecture is done  \n",
      "ox-db : remember me : need to do more research on deep learning  \n",
      "ox-db : need to do : find efficient data store and retrive method  \n",
      "ox-db : need to do : i need to finesh deamon search asap  \n",
      "ox-db : need to do : need to sleep  \n",
      "ox-db : need to do : look out for bugs in code base and fix it   \n",
      "ox-db : Hi I'm OX-AI your AI personal database \n",
      "ox-db : I can store your documents with vector embaddings and retrive it based on vector search\n",
      "ox-db : I'm currently under development\n",
      "ox-db : looking forward to do more to increase your productivity!\n",
      "ox-db : Hi I'm your AI personal database and I can store your documents with vector embeddings and retrieve them based on vector search. I'm currently under development, looking forward to doing more to increase your productivity!\n",
      "ox-db : hi\n",
      "ox-db : need to : implement rag system that pulls data from the internet and chunk it and store as knowledge for easy retrivel\n"
     ]
    },
    {
     "data": {
      "text/plain": [
       "[{'uid': '131ef1fe-3916-4a07-a746-3b8d1aceec25',\n",
       "  'data': 'remember me : need to do code implementation for key lang conversation '},\n",
       " {'uid': 'a683555f-6f10-4545-87dd-2b49d99a07f3',\n",
       "  'data': 'remember me : gym time is morning from today  '},\n",
       " {'uid': '3b6d5e59-2a0c-46d0-93ed-ea92cdb4e3e9',\n",
       "  'data': 'remember me : base vector db arcchitecture is done  '},\n",
       " {'uid': '58c3b2f5-99da-4e8b-b781-663eb6554529',\n",
       "  'data': 'remember me : need to do more research on deep learning  '},\n",
       " {'uid': '5957a85c-3a6d-4bfd-bdaf-f326c9980d68',\n",
       "  'data': 'need to do : find efficient data store and retrive method  '},\n",
       " {'uid': '5b58c33d-6ae5-4e04-b2f7-78e17f79c299',\n",
       "  'data': 'need to do : i need to finesh deamon search asap  '},\n",
       " {'uid': 'd1919118-5ed1-4996-836b-040263a02d5d',\n",
       "  'data': 'need to do : need to sleep  '},\n",
       " {'uid': 'e68c6779-1aff-4727-af39-59cac51a01b5',\n",
       "  'data': 'need to do : look out for bugs in code base and fix it   '},\n",
       " {'uid': '8d0fa9b2-6374-47a5-94a7-8ca85e69de46',\n",
       "  'data': \"Hi I'm OX-AI your AI personal database \"},\n",
       " {'uid': 'c97076b0-de99-4456-94da-93c69e5731ad',\n",
       "  'data': 'I can store your documents with vector embaddings and retrive it based on vector search'},\n",
       " {'uid': '73f81f68-2cdd-4360-a173-fd16b98195ca',\n",
       "  'data': \"I'm currently under development\"},\n",
       " {'uid': '431b1431-d4bc-4997-9502-662ab16e95ae',\n",
       "  'data': 'looking forward to do more to increase your productivity!'},\n",
       " {'uid': 'f917ef90-cb8d-4137-99ab-0b5996cac017',\n",
       "  'data': \"Hi I'm your AI personal database and I can store your documents with vector embeddings and retrieve them based on vector search. I'm currently under development, looking forward to doing more to increase your productivity!\"},\n",
       " {'uid': '0dc32086-77ad-457b-9110-8310d372fc00', 'data': 'hi'},\n",
       " {'uid': '372750e8-8953-4d60-9a5a-1a5ae15d0a8a',\n",
       "  'data': 'need to : implement rag system that pulls data from the internet and chunk it and store as knowledge for easy retrivel'}]"
      ]
     },
     "execution_count": 18,
     "metadata": {},
     "output_type": "execute_result"
    }
   ],
   "source": [
    "log.pull(time=\"10\")"
   ]
  },
  {
   "cell_type": "code",
   "execution_count": 15,
   "metadata": {},
   "outputs": [
    {
     "name": "stdout",
     "output_type": "stream",
     "text": [
      "ox-db : remember me : need to do code implementation for key lang conversation \n",
      "ox-db : remember me : gym time is morning from today  \n",
      "ox-db : remember me : base vector db arcchitecture is done  \n",
      "ox-db : remember me : need to do more research on deep learning  \n",
      "ox-db : need to do : find efficient data store and retrive method  \n",
      "ox-db : need to do : i need to finesh deamon search asap  \n",
      "ox-db : need to do : need to sleep  \n",
      "ox-db : need to do : look out for bugs in code base and fix it   \n",
      "ox-db : Hi I'm OX-AI your AI personal database \n",
      "ox-db : I can store your documents with vector embaddings and retrive it based on vector search\n",
      "ox-db : I'm currently under development\n",
      "ox-db : looking forward to do more to increase your productivity!\n",
      "ox-db : Hi I'm your AI personal database and I can store your documents with vector embeddings and retrieve them based on vector search. I'm currently under development, looking forward to doing more to increase your productivity!\n",
      "ox-db : hi\n",
      "ox-db : need to : implement rag system that pulls data from the internet and chunk it and store as knowledge for easy retrivel\n"
     ]
    },
    {
     "data": {
      "text/plain": [
       "[{'uid': '131ef1fe-3916-4a07-a746-3b8d1aceec25',\n",
       "  'data': 'remember me : need to do code implementation for key lang conversation '},\n",
       " {'uid': 'a683555f-6f10-4545-87dd-2b49d99a07f3',\n",
       "  'data': 'remember me : gym time is morning from today  '},\n",
       " {'uid': '3b6d5e59-2a0c-46d0-93ed-ea92cdb4e3e9',\n",
       "  'data': 'remember me : base vector db arcchitecture is done  '},\n",
       " {'uid': '58c3b2f5-99da-4e8b-b781-663eb6554529',\n",
       "  'data': 'remember me : need to do more research on deep learning  '},\n",
       " {'uid': '5957a85c-3a6d-4bfd-bdaf-f326c9980d68',\n",
       "  'data': 'need to do : find efficient data store and retrive method  '},\n",
       " {'uid': '5b58c33d-6ae5-4e04-b2f7-78e17f79c299',\n",
       "  'data': 'need to do : i need to finesh deamon search asap  '},\n",
       " {'uid': 'd1919118-5ed1-4996-836b-040263a02d5d',\n",
       "  'data': 'need to do : need to sleep  '},\n",
       " {'uid': 'e68c6779-1aff-4727-af39-59cac51a01b5',\n",
       "  'data': 'need to do : look out for bugs in code base and fix it   '},\n",
       " {'uid': '8d0fa9b2-6374-47a5-94a7-8ca85e69de46',\n",
       "  'data': \"Hi I'm OX-AI your AI personal database \"},\n",
       " {'uid': 'c97076b0-de99-4456-94da-93c69e5731ad',\n",
       "  'data': 'I can store your documents with vector embaddings and retrive it based on vector search'},\n",
       " {'uid': '73f81f68-2cdd-4360-a173-fd16b98195ca',\n",
       "  'data': \"I'm currently under development\"},\n",
       " {'uid': '431b1431-d4bc-4997-9502-662ab16e95ae',\n",
       "  'data': 'looking forward to do more to increase your productivity!'},\n",
       " {'uid': 'f917ef90-cb8d-4137-99ab-0b5996cac017',\n",
       "  'data': \"Hi I'm your AI personal database and I can store your documents with vector embeddings and retrieve them based on vector search. I'm currently under development, looking forward to doing more to increase your productivity!\"},\n",
       " {'uid': '0dc32086-77ad-457b-9110-8310d372fc00', 'data': 'hi'},\n",
       " {'uid': '372750e8-8953-4d60-9a5a-1a5ae15d0a8a',\n",
       "  'data': 'need to : implement rag system that pulls data from the internet and chunk it and store as knowledge for easy retrivel'}]"
      ]
     },
     "execution_count": 15,
     "metadata": {},
     "output_type": "execute_result"
    }
   ],
   "source": [
    "log.pull(date=\"29_06\")"
   ]
  },
  {
   "cell_type": "code",
   "execution_count": 16,
   "metadata": {},
   "outputs": [
    {
     "data": {
      "text/plain": [
       "['0dc32086-77ad-457b-9110-8310d372fc00']"
      ]
     },
     "execution_count": 16,
     "metadata": {},
     "output_type": "execute_result"
    }
   ],
   "source": [
    "log.search_uid(key=\"time\")"
   ]
  },
  {
   "cell_type": "code",
   "execution_count": 19,
   "metadata": {},
   "outputs": [
    {
     "data": {
      "text/plain": [
       "[{'uid': '131ef1fe-3916-4a07-a746-3b8d1aceec25',\n",
       "  'data': {'uid': '131ef1fe-3916-4a07-a746-3b8d1aceec25',\n",
       "   'key': 'key',\n",
       "   'doc': 'note',\n",
       "   'time': '10:15:47_PM',\n",
       "   'date': '29_06_2024',\n",
       "   'vec_model': 'sentence-transformers/all-MiniLM-L6-v2',\n",
       "   'description': None,\n",
       "   'data_type': 'data.str'}},\n",
       " {'uid': 'a683555f-6f10-4545-87dd-2b49d99a07f3',\n",
       "  'data': {'uid': 'a683555f-6f10-4545-87dd-2b49d99a07f3',\n",
       "   'key': 'key',\n",
       "   'doc': 'note',\n",
       "   'time': '10:15:49_PM',\n",
       "   'date': '29_06_2024',\n",
       "   'vec_model': 'sentence-transformers/all-MiniLM-L6-v2',\n",
       "   'description': None,\n",
       "   'data_type': 'data.str'}},\n",
       " {'uid': '3b6d5e59-2a0c-46d0-93ed-ea92cdb4e3e9',\n",
       "  'data': {'uid': '3b6d5e59-2a0c-46d0-93ed-ea92cdb4e3e9',\n",
       "   'key': 'key',\n",
       "   'doc': 'note',\n",
       "   'time': '10:15:49_PM',\n",
       "   'date': '29_06_2024',\n",
       "   'vec_model': 'sentence-transformers/all-MiniLM-L6-v2',\n",
       "   'description': None,\n",
       "   'data_type': 'data.str'}},\n",
       " {'uid': '58c3b2f5-99da-4e8b-b781-663eb6554529',\n",
       "  'data': {'uid': '58c3b2f5-99da-4e8b-b781-663eb6554529',\n",
       "   'key': 'key',\n",
       "   'doc': 'note',\n",
       "   'time': '10:15:49_PM',\n",
       "   'date': '29_06_2024',\n",
       "   'vec_model': 'sentence-transformers/all-MiniLM-L6-v2',\n",
       "   'description': None,\n",
       "   'data_type': 'data.str'}},\n",
       " {'uid': '5957a85c-3a6d-4bfd-bdaf-f326c9980d68',\n",
       "  'data': {'uid': '5957a85c-3a6d-4bfd-bdaf-f326c9980d68',\n",
       "   'key': 'key',\n",
       "   'doc': 'note',\n",
       "   'time': '10:15:50_PM',\n",
       "   'date': '29_06_2024',\n",
       "   'vec_model': 'sentence-transformers/all-MiniLM-L6-v2',\n",
       "   'description': None,\n",
       "   'data_type': 'data.str'}},\n",
       " {'uid': '5b58c33d-6ae5-4e04-b2f7-78e17f79c299',\n",
       "  'data': {'uid': '5b58c33d-6ae5-4e04-b2f7-78e17f79c299',\n",
       "   'key': 'key',\n",
       "   'doc': 'note',\n",
       "   'time': '10:15:50_PM',\n",
       "   'date': '29_06_2024',\n",
       "   'vec_model': 'sentence-transformers/all-MiniLM-L6-v2',\n",
       "   'description': None,\n",
       "   'data_type': 'data.str'}},\n",
       " {'uid': 'd1919118-5ed1-4996-836b-040263a02d5d',\n",
       "  'data': {'uid': 'd1919118-5ed1-4996-836b-040263a02d5d',\n",
       "   'key': 'key',\n",
       "   'doc': 'note',\n",
       "   'time': '10:15:50_PM',\n",
       "   'date': '29_06_2024',\n",
       "   'vec_model': 'sentence-transformers/all-MiniLM-L6-v2',\n",
       "   'description': None,\n",
       "   'data_type': 'data.str'}},\n",
       " {'uid': 'e68c6779-1aff-4727-af39-59cac51a01b5',\n",
       "  'data': {'uid': 'e68c6779-1aff-4727-af39-59cac51a01b5',\n",
       "   'key': 'key',\n",
       "   'doc': 'note',\n",
       "   'time': '10:15:50_PM',\n",
       "   'date': '29_06_2024',\n",
       "   'vec_model': 'sentence-transformers/all-MiniLM-L6-v2',\n",
       "   'description': None,\n",
       "   'data_type': 'data.str'}},\n",
       " {'uid': '8d0fa9b2-6374-47a5-94a7-8ca85e69de46',\n",
       "  'data': {'uid': '8d0fa9b2-6374-47a5-94a7-8ca85e69de46',\n",
       "   'key': 'key',\n",
       "   'doc': 'note',\n",
       "   'time': '10:15:50_PM',\n",
       "   'date': '29_06_2024',\n",
       "   'vec_model': 'sentence-transformers/all-MiniLM-L6-v2',\n",
       "   'description': None,\n",
       "   'data_type': 'data.str'}},\n",
       " {'uid': 'c97076b0-de99-4456-94da-93c69e5731ad',\n",
       "  'data': {'uid': 'c97076b0-de99-4456-94da-93c69e5731ad',\n",
       "   'key': 'key',\n",
       "   'doc': 'note',\n",
       "   'time': '10:15:50_PM',\n",
       "   'date': '29_06_2024',\n",
       "   'vec_model': 'sentence-transformers/all-MiniLM-L6-v2',\n",
       "   'description': None,\n",
       "   'data_type': 'data.str'}},\n",
       " {'uid': '73f81f68-2cdd-4360-a173-fd16b98195ca',\n",
       "  'data': {'uid': '73f81f68-2cdd-4360-a173-fd16b98195ca',\n",
       "   'key': 'key',\n",
       "   'doc': 'note',\n",
       "   'time': '10:15:50_PM',\n",
       "   'date': '29_06_2024',\n",
       "   'vec_model': 'sentence-transformers/all-MiniLM-L6-v2',\n",
       "   'description': None,\n",
       "   'data_type': 'data.str'}},\n",
       " {'uid': '431b1431-d4bc-4997-9502-662ab16e95ae',\n",
       "  'data': {'uid': '431b1431-d4bc-4997-9502-662ab16e95ae',\n",
       "   'key': 'key',\n",
       "   'doc': 'note',\n",
       "   'time': '10:15:50_PM',\n",
       "   'date': '29_06_2024',\n",
       "   'vec_model': 'sentence-transformers/all-MiniLM-L6-v2',\n",
       "   'description': None,\n",
       "   'data_type': 'data.str'}},\n",
       " {'uid': 'f917ef90-cb8d-4137-99ab-0b5996cac017',\n",
       "  'data': {'uid': 'f917ef90-cb8d-4137-99ab-0b5996cac017',\n",
       "   'key': 'key',\n",
       "   'doc': 'note',\n",
       "   'time': '10:15:50_PM',\n",
       "   'date': '29_06_2024',\n",
       "   'vec_model': 'sentence-transformers/all-MiniLM-L6-v2',\n",
       "   'description': None,\n",
       "   'data_type': 'data.str'}},\n",
       " {'uid': '0dc32086-77ad-457b-9110-8310d372fc00',\n",
       "  'data': {'uid': '0dc32086-77ad-457b-9110-8310d372fc00',\n",
       "   'key': 'time',\n",
       "   'doc': 'note',\n",
       "   'time': '10:15:50_PM',\n",
       "   'date': '29_06_2024',\n",
       "   'vec_model': 'sentence-transformers/all-MiniLM-L6-v2',\n",
       "   'description': None,\n",
       "   'data_type': 'data.str'}},\n",
       " {'uid': '372750e8-8953-4d60-9a5a-1a5ae15d0a8a',\n",
       "  'data': {'uid': '372750e8-8953-4d60-9a5a-1a5ae15d0a8a',\n",
       "   'key': 'key',\n",
       "   'doc': 'note',\n",
       "   'time': '10:15:51_PM',\n",
       "   'date': '29_06_2024',\n",
       "   'vec_model': 'sentence-transformers/all-MiniLM-L6-v2',\n",
       "   'description': None,\n",
       "   'data_type': 'data.str'}}]"
      ]
     },
     "execution_count": 19,
     "metadata": {},
     "output_type": "execute_result"
    }
   ],
   "source": [
    "log.pull(time=\"10\",docfile=\".index\")"
   ]
  },
  {
   "cell_type": "code",
   "execution_count": null,
   "metadata": {},
   "outputs": [],
   "source": []
  }
 ],
 "metadata": {
  "kernelspec": {
   "display_name": "Python 3",
   "language": "python",
   "name": "python3"
  },
  "language_info": {
   "codemirror_mode": {
    "name": "ipython",
    "version": 3
   },
   "file_extension": ".py",
   "mimetype": "text/x-python",
   "name": "python",
   "nbconvert_exporter": "python",
   "pygments_lexer": "ipython3",
   "version": "3.11.9"
  }
 },
 "nbformat": 4,
 "nbformat_minor": 2
}
