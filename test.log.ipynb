{
 "cells": [
  {
   "cell_type": "code",
   "execution_count": 1,
   "metadata": {},
   "outputs": [
    {
     "name": "stderr",
     "output_type": "stream",
     "text": [
      "/home/lokesh/.local/lib/python3.11/site-packages/sentence_transformers/cross_encoder/CrossEncoder.py:11: TqdmExperimentalWarning: Using `tqdm.autonotebook.tqdm` in notebook mode. Use `tqdm.tqdm` instead to force console mode (e.g. in jupyter console)\n",
      "  from tqdm.autonotebook import tqdm, trange\n",
      "/home/lokesh/.local/lib/python3.11/site-packages/huggingface_hub/file_download.py:1132: FutureWarning: `resume_download` is deprecated and will be removed in version 1.0.0. Downloads always resume when possible. If you want to force a new download, use `force_download=True`.\n",
      "  warnings.warn(\n"
     ]
    }
   ],
   "source": [
    "from ox_db.db.log import Log\n",
    "\n",
    "log=Log(\"test-db\")\n"
   ]
  },
  {
   "cell_type": "code",
   "execution_count": 2,
   "metadata": {},
   "outputs": [],
   "source": [
    "# log.set_doc(\"note\")"
   ]
  },
  {
   "cell_type": "code",
   "execution_count": 3,
   "metadata": {},
   "outputs": [
    {
     "name": "stdout",
     "output_type": "stream",
     "text": [
      "ox-db: Logged data: 0-key-fff29ede-5666-4d8a-baa5-d0a47b09ed77 in log-[28_06_2024].index\n",
      "ox-db: Logged data: 0-key-fff29ede-5666-4d8a-baa5-d0a47b09ed77 in log-[28_06_2024]\n",
      "ox-db: Logged data: 0-key-fff29ede-5666-4d8a-baa5-d0a47b09ed77 in log-[28_06_2024].ox-vec\n",
      "ox-db: Logged data: 1-key-edf99c27-4156-4587-93ac-33ab000c3cd3 in log-[28_06_2024].index\n",
      "ox-db: Logged data: 1-key-edf99c27-4156-4587-93ac-33ab000c3cd3 in log-[28_06_2024]\n",
      "ox-db: Logged data: 1-key-edf99c27-4156-4587-93ac-33ab000c3cd3 in log-[28_06_2024].ox-vec\n",
      "ox-db: Logged data: 2-key-f1c6c2db-b17b-44cf-a22d-1089ef131b92 in log-[28_06_2024].index\n",
      "ox-db: Logged data: 2-key-f1c6c2db-b17b-44cf-a22d-1089ef131b92 in log-[28_06_2024]\n",
      "ox-db: Logged data: 2-key-f1c6c2db-b17b-44cf-a22d-1089ef131b92 in log-[28_06_2024].ox-vec\n",
      "ox-db: Logged data: 3-key-478412e3-1cb6-4b12-8f0d-59bdf357dfd4 in log-[28_06_2024].index\n",
      "ox-db: Logged data: 3-key-478412e3-1cb6-4b12-8f0d-59bdf357dfd4 in log-[28_06_2024]\n",
      "ox-db: Logged data: 3-key-478412e3-1cb6-4b12-8f0d-59bdf357dfd4 in log-[28_06_2024].ox-vec\n"
     ]
    },
    {
     "data": {
      "text/plain": [
       "'3-key-478412e3-1cb6-4b12-8f0d-59bdf357dfd4'"
      ]
     },
     "execution_count": 3,
     "metadata": {},
     "output_type": "execute_result"
    }
   ],
   "source": [
    "log.push(\"remember me : need to do code implementation for key lang conversation \")\n",
    "log.push(\"remember me : gym time is morning from today  \")\n",
    "log.push(\"remember me : base vector db arcchitecture is done  \")\n",
    "log.push(\"remember me : need to do more research on deep learning  \")"
   ]
  },
  {
   "cell_type": "code",
   "execution_count": 4,
   "metadata": {},
   "outputs": [
    {
     "data": {
      "text/plain": [
       "4"
      ]
     },
     "execution_count": 4,
     "metadata": {},
     "output_type": "execute_result"
    }
   ],
   "source": [
    "log.doc_entry"
   ]
  },
  {
   "cell_type": "code",
   "execution_count": 5,
   "metadata": {},
   "outputs": [
    {
     "name": "stdout",
     "output_type": "stream",
     "text": [
      "ox-db: Logged data: 4-key-3be11f0a-554f-44e8-ae33-0f96a077a54a in log-[28_06_2024].index\n",
      "ox-db: Logged data: 4-key-3be11f0a-554f-44e8-ae33-0f96a077a54a in log-[28_06_2024]\n",
      "ox-db: Logged data: 4-key-3be11f0a-554f-44e8-ae33-0f96a077a54a in log-[28_06_2024].ox-vec\n",
      "ox-db: Logged data: 5-key-97b37594-53a7-4258-865f-8c18ff415c30 in log-[28_06_2024].index\n",
      "ox-db: Logged data: 5-key-97b37594-53a7-4258-865f-8c18ff415c30 in log-[28_06_2024]\n",
      "ox-db: Logged data: 5-key-97b37594-53a7-4258-865f-8c18ff415c30 in log-[28_06_2024].ox-vec\n",
      "ox-db: Logged data: 6-key-e5fa4663-bad9-4b01-8fb4-745eeac05b25 in log-[28_06_2024].index\n",
      "ox-db: Logged data: 6-key-e5fa4663-bad9-4b01-8fb4-745eeac05b25 in log-[28_06_2024]\n",
      "ox-db: Logged data: 6-key-e5fa4663-bad9-4b01-8fb4-745eeac05b25 in log-[28_06_2024].ox-vec\n",
      "ox-db: Logged data: 7-key-12e8a08b-6367-4b25-8255-2a786c27f5b2 in log-[28_06_2024].index\n",
      "ox-db: Logged data: 7-key-12e8a08b-6367-4b25-8255-2a786c27f5b2 in log-[28_06_2024]\n",
      "ox-db: Logged data: 7-key-12e8a08b-6367-4b25-8255-2a786c27f5b2 in log-[28_06_2024].ox-vec\n"
     ]
    },
    {
     "data": {
      "text/plain": [
       "'7-key-12e8a08b-6367-4b25-8255-2a786c27f5b2'"
      ]
     },
     "execution_count": 5,
     "metadata": {},
     "output_type": "execute_result"
    }
   ],
   "source": [
    "log.push(\"need to do : find efficient data store and retrive method  \")\n",
    "log.push(\"need to do : i need to finesh deamon search asap  \")\n",
    "log.push(\"need to do : need to sleep  \")\n",
    "log.push(\"need to do : look out for bugs in code base and fix it   \")\n"
   ]
  },
  {
   "cell_type": "code",
   "execution_count": 6,
   "metadata": {},
   "outputs": [
    {
     "name": "stdout",
     "output_type": "stream",
     "text": [
      "ox-db: Logged data: 8-key-2cb0728a-6c8a-44e6-891d-38f1f509f7f7 in log-[28_06_2024].index\n",
      "ox-db: Logged data: 8-key-2cb0728a-6c8a-44e6-891d-38f1f509f7f7 in log-[28_06_2024]\n",
      "ox-db: Logged data: 8-key-2cb0728a-6c8a-44e6-891d-38f1f509f7f7 in log-[28_06_2024].ox-vec\n",
      "ox-db: Logged data: 9-key-504417a3-dcd1-47d0-a365-fd36e680604e in log-[28_06_2024].index\n",
      "ox-db: Logged data: 9-key-504417a3-dcd1-47d0-a365-fd36e680604e in log-[28_06_2024]\n",
      "ox-db: Logged data: 9-key-504417a3-dcd1-47d0-a365-fd36e680604e in log-[28_06_2024].ox-vec\n",
      "ox-db: Logged data: 10-key-6d620c70-78a6-42e2-bbe3-b8ce6bbe70e4 in log-[28_06_2024].index\n",
      "ox-db: Logged data: 10-key-6d620c70-78a6-42e2-bbe3-b8ce6bbe70e4 in log-[28_06_2024]\n",
      "ox-db: Logged data: 10-key-6d620c70-78a6-42e2-bbe3-b8ce6bbe70e4 in log-[28_06_2024].ox-vec\n",
      "ox-db: Logged data: 11-key-9ba50543-c629-4704-8b98-8f5b0a1189e9 in log-[28_06_2024].index\n",
      "ox-db: Logged data: 11-key-9ba50543-c629-4704-8b98-8f5b0a1189e9 in log-[28_06_2024]\n",
      "ox-db: Logged data: 11-key-9ba50543-c629-4704-8b98-8f5b0a1189e9 in log-[28_06_2024].ox-vec\n",
      "ox-db: Logged data: 12-key-543d0123-a16a-4eaf-b8a7-a0bf6067667d in log-[28_06_2024].index\n",
      "ox-db: Logged data: 12-key-543d0123-a16a-4eaf-b8a7-a0bf6067667d in log-[28_06_2024]\n",
      "ox-db: Logged data: 12-key-543d0123-a16a-4eaf-b8a7-a0bf6067667d in log-[28_06_2024].ox-vec\n"
     ]
    },
    {
     "data": {
      "text/plain": [
       "'12-key-543d0123-a16a-4eaf-b8a7-a0bf6067667d'"
      ]
     },
     "execution_count": 6,
     "metadata": {},
     "output_type": "execute_result"
    }
   ],
   "source": [
    "log.push(\"Hi I'm OX-AI your AI personal database \")\n",
    "log.push(\"I can store your documents with vector embaddings and retrive it based on vector search\")\n",
    "log.push(\"I'm currently under development\")\n",
    "log.push(\"looking forward to do more to increase your productivity!\")\n",
    "log.push(\"Hi I'm your AI personal database and I can store your documents with vector embeddings and retrieve them based on vector search. I'm currently under development, looking forward to doing more to increase your productivity!\")"
   ]
  },
  {
   "cell_type": "code",
   "execution_count": 7,
   "metadata": {},
   "outputs": [
    {
     "name": "stdout",
     "output_type": "stream",
     "text": [
      "ox-db: Logged data: 13-time-62bd74ec-85f1-4881-bb82-25712b061be8 in log-[28_06_2024].index\n",
      "ox-db: Logged data: 13-time-62bd74ec-85f1-4881-bb82-25712b061be8 in log-[28_06_2024]\n",
      "ox-db: Logged data: 13-time-62bd74ec-85f1-4881-bb82-25712b061be8 in log-[28_06_2024].ox-vec\n"
     ]
    },
    {
     "data": {
      "text/plain": [
       "'13-time-62bd74ec-85f1-4881-bb82-25712b061be8'"
      ]
     },
     "execution_count": 7,
     "metadata": {},
     "output_type": "execute_result"
    }
   ],
   "source": [
    "log.push(\"hi\",key=\"time\")"
   ]
  },
  {
   "cell_type": "code",
   "execution_count": 8,
   "metadata": {},
   "outputs": [
    {
     "data": {
      "text/plain": [
       "[{'uid': '0-key-fff29ede-5666-4d8a-baa5-d0a47b09ed77',\n",
       "  'data': 'remember me : need to do code implementation for key lang conversation '},\n",
       " {'uid': '1-key-edf99c27-4156-4587-93ac-33ab000c3cd3',\n",
       "  'data': 'remember me : gym time is morning from today  '},\n",
       " {'uid': '2-key-f1c6c2db-b17b-44cf-a22d-1089ef131b92',\n",
       "  'data': 'remember me : base vector db arcchitecture is done  '},\n",
       " {'uid': '3-key-478412e3-1cb6-4b12-8f0d-59bdf357dfd4',\n",
       "  'data': 'remember me : need to do more research on deep learning  '},\n",
       " {'uid': '4-key-3be11f0a-554f-44e8-ae33-0f96a077a54a',\n",
       "  'data': 'need to do : find efficient data store and retrive method  '},\n",
       " {'uid': '5-key-97b37594-53a7-4258-865f-8c18ff415c30',\n",
       "  'data': 'need to do : i need to finesh deamon search asap  '},\n",
       " {'uid': '6-key-e5fa4663-bad9-4b01-8fb4-745eeac05b25',\n",
       "  'data': 'need to do : need to sleep  '},\n",
       " {'uid': '7-key-12e8a08b-6367-4b25-8255-2a786c27f5b2',\n",
       "  'data': 'need to do : look out for bugs in code base and fix it   '},\n",
       " {'uid': '8-key-2cb0728a-6c8a-44e6-891d-38f1f509f7f7',\n",
       "  'data': \"Hi I'm OX-AI your AI personal database \"},\n",
       " {'uid': '9-key-504417a3-dcd1-47d0-a365-fd36e680604e',\n",
       "  'data': 'I can store your documents with vector embaddings and retrive it based on vector search'},\n",
       " {'uid': '10-key-6d620c70-78a6-42e2-bbe3-b8ce6bbe70e4',\n",
       "  'data': \"I'm currently under development\"},\n",
       " {'uid': '11-key-9ba50543-c629-4704-8b98-8f5b0a1189e9',\n",
       "  'data': 'looking forward to do more to increase your productivity!'},\n",
       " {'uid': '12-key-543d0123-a16a-4eaf-b8a7-a0bf6067667d',\n",
       "  'data': \"Hi I'm your AI personal database and I can store your documents with vector embeddings and retrieve them based on vector search. I'm currently under development, looking forward to doing more to increase your productivity!\"},\n",
       " {'uid': '13-time-62bd74ec-85f1-4881-bb82-25712b061be8', 'data': 'hi'}]"
      ]
     },
     "execution_count": 8,
     "metadata": {},
     "output_type": "execute_result"
    }
   ],
   "source": [
    "log.pull()"
   ]
  },
  {
   "cell_type": "code",
   "execution_count": 9,
   "metadata": {},
   "outputs": [
    {
     "data": {
      "text/plain": [
       "[{'uid': '8-key-2cb0728a-6c8a-44e6-891d-38f1f509f7f7',\n",
       "  'data': \"Hi I'm OX-AI your AI personal database \"},\n",
       " {'uid': '13-time-62bd74ec-85f1-4881-bb82-25712b061be8', 'data': 'hi'},\n",
       " {'uid': '1-key-edf99c27-4156-4587-93ac-33ab000c3cd3',\n",
       "  'data': 'remember me : gym time is morning from today  '}]"
      ]
     },
     "execution_count": 9,
     "metadata": {},
     "output_type": "execute_result"
    }
   ],
   "source": [
    "log.search(\"hi ox-ai\",3)"
   ]
  },
  {
   "cell_type": "code",
   "execution_count": 10,
   "metadata": {},
   "outputs": [
    {
     "data": {
      "text/plain": [
       "'14-key-2634b9ae-b06d-4f1e-9d07-4625bf96f662'"
      ]
     },
     "execution_count": 10,
     "metadata": {},
     "output_type": "execute_result"
    }
   ],
   "source": [
    "log.gen_uid()"
   ]
  },
  {
   "cell_type": "code",
   "execution_count": 11,
   "metadata": {},
   "outputs": [
    {
     "name": "stdout",
     "output_type": "stream",
     "text": [
      "ox-db: Logged data: 14-key-54228a55-a71c-47f9-a0ce-b6465fc712d9 in log-[28_06_2024].index\n",
      "ox-db: Logged data: 14-key-54228a55-a71c-47f9-a0ce-b6465fc712d9 in log-[28_06_2024]\n",
      "ox-db: Logged data: 14-key-54228a55-a71c-47f9-a0ce-b6465fc712d9 in log-[28_06_2024].ox-vec\n"
     ]
    },
    {
     "data": {
      "text/plain": [
       "'14-key-54228a55-a71c-47f9-a0ce-b6465fc712d9'"
      ]
     },
     "execution_count": 11,
     "metadata": {},
     "output_type": "execute_result"
    }
   ],
   "source": [
    "log.push(\"need to : implement rag system that pulls data from the internet and chunk it and store as knowledge for easy retrivel\")"
   ]
  },
  {
   "cell_type": "code",
   "execution_count": 12,
   "metadata": {},
   "outputs": [
    {
     "data": {
      "text/plain": [
       "[{'uid': '14-key-54228a55-a71c-47f9-a0ce-b6465fc712d9',\n",
       "  'data': 'need to : implement rag system that pulls data from the internet and chunk it and store as knowledge for easy retrivel'},\n",
       " {'uid': '13-time-62bd74ec-85f1-4881-bb82-25712b061be8', 'data': 'hi'}]"
      ]
     },
     "execution_count": 12,
     "metadata": {},
     "output_type": "execute_result"
    }
   ],
   "source": [
    "log.search(\"rag\",2)"
   ]
  },
  {
   "cell_type": "code",
   "execution_count": 13,
   "metadata": {},
   "outputs": [
    {
     "data": {
      "text/plain": [
       "[{'uid': '0-key-fff29ede-5666-4d8a-baa5-d0a47b09ed77',\n",
       "  'data': 'remember me : need to do code implementation for key lang conversation '},\n",
       " {'uid': '1-key-edf99c27-4156-4587-93ac-33ab000c3cd3',\n",
       "  'data': 'remember me : gym time is morning from today  '},\n",
       " {'uid': '2-key-f1c6c2db-b17b-44cf-a22d-1089ef131b92',\n",
       "  'data': 'remember me : base vector db arcchitecture is done  '},\n",
       " {'uid': '3-key-478412e3-1cb6-4b12-8f0d-59bdf357dfd4',\n",
       "  'data': 'remember me : need to do more research on deep learning  '},\n",
       " {'uid': '4-key-3be11f0a-554f-44e8-ae33-0f96a077a54a',\n",
       "  'data': 'need to do : find efficient data store and retrive method  '},\n",
       " {'uid': '5-key-97b37594-53a7-4258-865f-8c18ff415c30',\n",
       "  'data': 'need to do : i need to finesh deamon search asap  '},\n",
       " {'uid': '6-key-e5fa4663-bad9-4b01-8fb4-745eeac05b25',\n",
       "  'data': 'need to do : need to sleep  '},\n",
       " {'uid': '7-key-12e8a08b-6367-4b25-8255-2a786c27f5b2',\n",
       "  'data': 'need to do : look out for bugs in code base and fix it   '},\n",
       " {'uid': '8-key-2cb0728a-6c8a-44e6-891d-38f1f509f7f7',\n",
       "  'data': \"Hi I'm OX-AI your AI personal database \"},\n",
       " {'uid': '9-key-504417a3-dcd1-47d0-a365-fd36e680604e',\n",
       "  'data': 'I can store your documents with vector embaddings and retrive it based on vector search'},\n",
       " {'uid': '10-key-6d620c70-78a6-42e2-bbe3-b8ce6bbe70e4',\n",
       "  'data': \"I'm currently under development\"},\n",
       " {'uid': '11-key-9ba50543-c629-4704-8b98-8f5b0a1189e9',\n",
       "  'data': 'looking forward to do more to increase your productivity!'},\n",
       " {'uid': '12-key-543d0123-a16a-4eaf-b8a7-a0bf6067667d',\n",
       "  'data': \"Hi I'm your AI personal database and I can store your documents with vector embeddings and retrieve them based on vector search. I'm currently under development, looking forward to doing more to increase your productivity!\"},\n",
       " {'uid': '13-time-62bd74ec-85f1-4881-bb82-25712b061be8', 'data': 'hi'},\n",
       " {'uid': '14-key-54228a55-a71c-47f9-a0ce-b6465fc712d9',\n",
       "  'data': 'need to : implement rag system that pulls data from the internet and chunk it and store as knowledge for easy retrivel'}]"
      ]
     },
     "execution_count": 13,
     "metadata": {},
     "output_type": "execute_result"
    }
   ],
   "source": [
    "log.pull()"
   ]
  },
  {
   "cell_type": "code",
   "execution_count": 18,
   "metadata": {},
   "outputs": [
    {
     "data": {
      "text/plain": [
       "[{'uid': '0-key-fff29ede-5666-4d8a-baa5-d0a47b09ed77',\n",
       "  'data': 'remember me : need to do code implementation for key lang conversation '},\n",
       " {'uid': '1-key-edf99c27-4156-4587-93ac-33ab000c3cd3',\n",
       "  'data': 'remember me : gym time is morning from today  '},\n",
       " {'uid': '2-key-f1c6c2db-b17b-44cf-a22d-1089ef131b92',\n",
       "  'data': 'remember me : base vector db arcchitecture is done  '},\n",
       " {'uid': '3-key-478412e3-1cb6-4b12-8f0d-59bdf357dfd4',\n",
       "  'data': 'remember me : need to do more research on deep learning  '},\n",
       " {'uid': '4-key-3be11f0a-554f-44e8-ae33-0f96a077a54a',\n",
       "  'data': 'need to do : find efficient data store and retrive method  '},\n",
       " {'uid': '5-key-97b37594-53a7-4258-865f-8c18ff415c30',\n",
       "  'data': 'need to do : i need to finesh deamon search asap  '},\n",
       " {'uid': '6-key-e5fa4663-bad9-4b01-8fb4-745eeac05b25',\n",
       "  'data': 'need to do : need to sleep  '},\n",
       " {'uid': '7-key-12e8a08b-6367-4b25-8255-2a786c27f5b2',\n",
       "  'data': 'need to do : look out for bugs in code base and fix it   '},\n",
       " {'uid': '8-key-2cb0728a-6c8a-44e6-891d-38f1f509f7f7',\n",
       "  'data': \"Hi I'm OX-AI your AI personal database \"},\n",
       " {'uid': '9-key-504417a3-dcd1-47d0-a365-fd36e680604e',\n",
       "  'data': 'I can store your documents with vector embaddings and retrive it based on vector search'},\n",
       " {'uid': '10-key-6d620c70-78a6-42e2-bbe3-b8ce6bbe70e4',\n",
       "  'data': \"I'm currently under development\"},\n",
       " {'uid': '11-key-9ba50543-c629-4704-8b98-8f5b0a1189e9',\n",
       "  'data': 'looking forward to do more to increase your productivity!'},\n",
       " {'uid': '12-key-543d0123-a16a-4eaf-b8a7-a0bf6067667d',\n",
       "  'data': \"Hi I'm your AI personal database and I can store your documents with vector embeddings and retrieve them based on vector search. I'm currently under development, looking forward to doing more to increase your productivity!\"},\n",
       " {'uid': '13-time-62bd74ec-85f1-4881-bb82-25712b061be8', 'data': 'hi'},\n",
       " {'uid': '14-key-54228a55-a71c-47f9-a0ce-b6465fc712d9',\n",
       "  'data': 'need to : implement rag system that pulls data from the internet and chunk it and store as knowledge for easy retrivel'}]"
      ]
     },
     "execution_count": 18,
     "metadata": {},
     "output_type": "execute_result"
    }
   ],
   "source": [
    "log.pull(time=\"05\")"
   ]
  },
  {
   "cell_type": "code",
   "execution_count": 19,
   "metadata": {},
   "outputs": [
    {
     "data": {
      "text/plain": [
       "[{'uid': '0-key-fff29ede-5666-4d8a-baa5-d0a47b09ed77',\n",
       "  'data': 'remember me : need to do code implementation for key lang conversation '},\n",
       " {'uid': '1-key-edf99c27-4156-4587-93ac-33ab000c3cd3',\n",
       "  'data': 'remember me : gym time is morning from today  '},\n",
       " {'uid': '2-key-f1c6c2db-b17b-44cf-a22d-1089ef131b92',\n",
       "  'data': 'remember me : base vector db arcchitecture is done  '},\n",
       " {'uid': '3-key-478412e3-1cb6-4b12-8f0d-59bdf357dfd4',\n",
       "  'data': 'remember me : need to do more research on deep learning  '},\n",
       " {'uid': '4-key-3be11f0a-554f-44e8-ae33-0f96a077a54a',\n",
       "  'data': 'need to do : find efficient data store and retrive method  '},\n",
       " {'uid': '5-key-97b37594-53a7-4258-865f-8c18ff415c30',\n",
       "  'data': 'need to do : i need to finesh deamon search asap  '},\n",
       " {'uid': '6-key-e5fa4663-bad9-4b01-8fb4-745eeac05b25',\n",
       "  'data': 'need to do : need to sleep  '},\n",
       " {'uid': '7-key-12e8a08b-6367-4b25-8255-2a786c27f5b2',\n",
       "  'data': 'need to do : look out for bugs in code base and fix it   '},\n",
       " {'uid': '8-key-2cb0728a-6c8a-44e6-891d-38f1f509f7f7',\n",
       "  'data': \"Hi I'm OX-AI your AI personal database \"},\n",
       " {'uid': '9-key-504417a3-dcd1-47d0-a365-fd36e680604e',\n",
       "  'data': 'I can store your documents with vector embaddings and retrive it based on vector search'},\n",
       " {'uid': '10-key-6d620c70-78a6-42e2-bbe3-b8ce6bbe70e4',\n",
       "  'data': \"I'm currently under development\"},\n",
       " {'uid': '11-key-9ba50543-c629-4704-8b98-8f5b0a1189e9',\n",
       "  'data': 'looking forward to do more to increase your productivity!'},\n",
       " {'uid': '12-key-543d0123-a16a-4eaf-b8a7-a0bf6067667d',\n",
       "  'data': \"Hi I'm your AI personal database and I can store your documents with vector embeddings and retrieve them based on vector search. I'm currently under development, looking forward to doing more to increase your productivity!\"},\n",
       " {'uid': '13-time-62bd74ec-85f1-4881-bb82-25712b061be8', 'data': 'hi'},\n",
       " {'uid': '14-key-54228a55-a71c-47f9-a0ce-b6465fc712d9',\n",
       "  'data': 'need to : implement rag system that pulls data from the internet and chunk it and store as knowledge for easy retrivel'}]"
      ]
     },
     "execution_count": 19,
     "metadata": {},
     "output_type": "execute_result"
    }
   ],
   "source": [
    "log.pull(date=\"28_06\")"
   ]
  },
  {
   "cell_type": "code",
   "execution_count": 20,
   "metadata": {},
   "outputs": [
    {
     "data": {
      "text/plain": [
       "['13-time-62bd74ec-85f1-4881-bb82-25712b061be8']"
      ]
     },
     "execution_count": 20,
     "metadata": {},
     "output_type": "execute_result"
    }
   ],
   "source": [
    "log.search_uid(key=\"time\")"
   ]
  },
  {
   "cell_type": "code",
   "execution_count": 21,
   "metadata": {},
   "outputs": [
    {
     "data": {
      "text/plain": [
       "[{'uid': '0-key-fff29ede-5666-4d8a-baa5-d0a47b09ed77',\n",
       "  'data': {'uid': '0-key-fff29ede-5666-4d8a-baa5-d0a47b09ed77',\n",
       "   'key': 'key',\n",
       "   'doc': 'log-[28_06_2024]',\n",
       "   'time': '05:17:35_AM',\n",
       "   'date': '28_06_2024',\n",
       "   'vec_model': 'sentence-transformers/all-MiniLM-L6-v2',\n",
       "   'description': None,\n",
       "   'data_type': 'data.str'}},\n",
       " {'uid': '1-key-edf99c27-4156-4587-93ac-33ab000c3cd3',\n",
       "  'data': {'uid': '1-key-edf99c27-4156-4587-93ac-33ab000c3cd3',\n",
       "   'key': 'key',\n",
       "   'doc': 'log-[28_06_2024]',\n",
       "   'time': '05:17:36_AM',\n",
       "   'date': '28_06_2024',\n",
       "   'vec_model': 'sentence-transformers/all-MiniLM-L6-v2',\n",
       "   'description': None,\n",
       "   'data_type': 'data.str'}},\n",
       " {'uid': '2-key-f1c6c2db-b17b-44cf-a22d-1089ef131b92',\n",
       "  'data': {'uid': '2-key-f1c6c2db-b17b-44cf-a22d-1089ef131b92',\n",
       "   'key': 'key',\n",
       "   'doc': 'log-[28_06_2024]',\n",
       "   'time': '05:17:36_AM',\n",
       "   'date': '28_06_2024',\n",
       "   'vec_model': 'sentence-transformers/all-MiniLM-L6-v2',\n",
       "   'description': None,\n",
       "   'data_type': 'data.str'}},\n",
       " {'uid': '3-key-478412e3-1cb6-4b12-8f0d-59bdf357dfd4',\n",
       "  'data': {'uid': '3-key-478412e3-1cb6-4b12-8f0d-59bdf357dfd4',\n",
       "   'key': 'key',\n",
       "   'doc': 'log-[28_06_2024]',\n",
       "   'time': '05:17:36_AM',\n",
       "   'date': '28_06_2024',\n",
       "   'vec_model': 'sentence-transformers/all-MiniLM-L6-v2',\n",
       "   'description': None,\n",
       "   'data_type': 'data.str'}},\n",
       " {'uid': '4-key-3be11f0a-554f-44e8-ae33-0f96a077a54a',\n",
       "  'data': {'uid': '4-key-3be11f0a-554f-44e8-ae33-0f96a077a54a',\n",
       "   'key': 'key',\n",
       "   'doc': 'log-[28_06_2024]',\n",
       "   'time': '05:17:36_AM',\n",
       "   'date': '28_06_2024',\n",
       "   'vec_model': 'sentence-transformers/all-MiniLM-L6-v2',\n",
       "   'description': None,\n",
       "   'data_type': 'data.str'}},\n",
       " {'uid': '5-key-97b37594-53a7-4258-865f-8c18ff415c30',\n",
       "  'data': {'uid': '5-key-97b37594-53a7-4258-865f-8c18ff415c30',\n",
       "   'key': 'key',\n",
       "   'doc': 'log-[28_06_2024]',\n",
       "   'time': '05:17:36_AM',\n",
       "   'date': '28_06_2024',\n",
       "   'vec_model': 'sentence-transformers/all-MiniLM-L6-v2',\n",
       "   'description': None,\n",
       "   'data_type': 'data.str'}},\n",
       " {'uid': '6-key-e5fa4663-bad9-4b01-8fb4-745eeac05b25',\n",
       "  'data': {'uid': '6-key-e5fa4663-bad9-4b01-8fb4-745eeac05b25',\n",
       "   'key': 'key',\n",
       "   'doc': 'log-[28_06_2024]',\n",
       "   'time': '05:17:36_AM',\n",
       "   'date': '28_06_2024',\n",
       "   'vec_model': 'sentence-transformers/all-MiniLM-L6-v2',\n",
       "   'description': None,\n",
       "   'data_type': 'data.str'}},\n",
       " {'uid': '7-key-12e8a08b-6367-4b25-8255-2a786c27f5b2',\n",
       "  'data': {'uid': '7-key-12e8a08b-6367-4b25-8255-2a786c27f5b2',\n",
       "   'key': 'key',\n",
       "   'doc': 'log-[28_06_2024]',\n",
       "   'time': '05:17:36_AM',\n",
       "   'date': '28_06_2024',\n",
       "   'vec_model': 'sentence-transformers/all-MiniLM-L6-v2',\n",
       "   'description': None,\n",
       "   'data_type': 'data.str'}},\n",
       " {'uid': '8-key-2cb0728a-6c8a-44e6-891d-38f1f509f7f7',\n",
       "  'data': {'uid': '8-key-2cb0728a-6c8a-44e6-891d-38f1f509f7f7',\n",
       "   'key': 'key',\n",
       "   'doc': 'log-[28_06_2024]',\n",
       "   'time': '05:17:36_AM',\n",
       "   'date': '28_06_2024',\n",
       "   'vec_model': 'sentence-transformers/all-MiniLM-L6-v2',\n",
       "   'description': None,\n",
       "   'data_type': 'data.str'}},\n",
       " {'uid': '9-key-504417a3-dcd1-47d0-a365-fd36e680604e',\n",
       "  'data': {'uid': '9-key-504417a3-dcd1-47d0-a365-fd36e680604e',\n",
       "   'key': 'key',\n",
       "   'doc': 'log-[28_06_2024]',\n",
       "   'time': '05:17:36_AM',\n",
       "   'date': '28_06_2024',\n",
       "   'vec_model': 'sentence-transformers/all-MiniLM-L6-v2',\n",
       "   'description': None,\n",
       "   'data_type': 'data.str'}},\n",
       " {'uid': '10-key-6d620c70-78a6-42e2-bbe3-b8ce6bbe70e4',\n",
       "  'data': {'uid': '10-key-6d620c70-78a6-42e2-bbe3-b8ce6bbe70e4',\n",
       "   'key': 'key',\n",
       "   'doc': 'log-[28_06_2024]',\n",
       "   'time': '05:17:36_AM',\n",
       "   'date': '28_06_2024',\n",
       "   'vec_model': 'sentence-transformers/all-MiniLM-L6-v2',\n",
       "   'description': None,\n",
       "   'data_type': 'data.str'}},\n",
       " {'uid': '11-key-9ba50543-c629-4704-8b98-8f5b0a1189e9',\n",
       "  'data': {'uid': '11-key-9ba50543-c629-4704-8b98-8f5b0a1189e9',\n",
       "   'key': 'key',\n",
       "   'doc': 'log-[28_06_2024]',\n",
       "   'time': '05:17:36_AM',\n",
       "   'date': '28_06_2024',\n",
       "   'vec_model': 'sentence-transformers/all-MiniLM-L6-v2',\n",
       "   'description': None,\n",
       "   'data_type': 'data.str'}},\n",
       " {'uid': '12-key-543d0123-a16a-4eaf-b8a7-a0bf6067667d',\n",
       "  'data': {'uid': '12-key-543d0123-a16a-4eaf-b8a7-a0bf6067667d',\n",
       "   'key': 'key',\n",
       "   'doc': 'log-[28_06_2024]',\n",
       "   'time': '05:17:36_AM',\n",
       "   'date': '28_06_2024',\n",
       "   'vec_model': 'sentence-transformers/all-MiniLM-L6-v2',\n",
       "   'description': None,\n",
       "   'data_type': 'data.str'}},\n",
       " {'uid': '13-time-62bd74ec-85f1-4881-bb82-25712b061be8',\n",
       "  'data': {'uid': '13-time-62bd74ec-85f1-4881-bb82-25712b061be8',\n",
       "   'key': 'time',\n",
       "   'doc': 'log-[28_06_2024]',\n",
       "   'time': '05:17:36_AM',\n",
       "   'date': '28_06_2024',\n",
       "   'vec_model': 'sentence-transformers/all-MiniLM-L6-v2',\n",
       "   'description': None,\n",
       "   'data_type': 'data.str'}},\n",
       " {'uid': '14-key-54228a55-a71c-47f9-a0ce-b6465fc712d9',\n",
       "  'data': {'uid': '14-key-54228a55-a71c-47f9-a0ce-b6465fc712d9',\n",
       "   'key': 'key',\n",
       "   'doc': 'log-[28_06_2024]',\n",
       "   'time': '05:17:37_AM',\n",
       "   'date': '28_06_2024',\n",
       "   'vec_model': 'sentence-transformers/all-MiniLM-L6-v2',\n",
       "   'description': None,\n",
       "   'data_type': 'data.str'}}]"
      ]
     },
     "execution_count": 21,
     "metadata": {},
     "output_type": "execute_result"
    }
   ],
   "source": [
    "log.pull(time=\"05\",docfile=log.doc+\".index\")"
   ]
  },
  {
   "cell_type": "code",
   "execution_count": null,
   "metadata": {},
   "outputs": [],
   "source": []
  }
 ],
 "metadata": {
  "kernelspec": {
   "display_name": "Python 3",
   "language": "python",
   "name": "python3"
  },
  "language_info": {
   "codemirror_mode": {
    "name": "ipython",
    "version": 3
   },
   "file_extension": ".py",
   "mimetype": "text/x-python",
   "name": "python",
   "nbconvert_exporter": "python",
   "pygments_lexer": "ipython3",
   "version": "3.11.9"
  }
 },
 "nbformat": 4,
 "nbformat_minor": 2
}
