{
 "cells": [
  {
   "cell_type": "code",
   "execution_count": 1,
   "metadata": {},
   "outputs": [
    {
     "name": "stderr",
     "output_type": "stream",
     "text": [
      "/home/lokesh/.local/lib/python3.11/site-packages/sentence_transformers/cross_encoder/CrossEncoder.py:11: TqdmExperimentalWarning: Using `tqdm.autonotebook.tqdm` in notebook mode. Use `tqdm.tqdm` instead to force console mode (e.g. in jupyter console)\n",
      "  from tqdm.autonotebook import tqdm, trange\n",
      "/home/lokesh/.local/lib/python3.11/site-packages/huggingface_hub/file_download.py:1132: FutureWarning: `resume_download` is deprecated and will be removed in version 1.0.0. Downloads always resume when possible. If you want to force a new download, use `force_download=True`.\n",
      "  warnings.warn(\n"
     ]
    }
   ],
   "source": [
    "from ox_db.db.log import Oxdb\n",
    "\n",
    "db = Oxdb(db=\"test-lg1\")"
   ]
  },
  {
   "cell_type": "code",
   "execution_count": 2,
   "metadata": {},
   "outputs": [],
   "source": [
    "doc = db.get_doc(\"note\")"
   ]
  },
  {
   "cell_type": "code",
   "execution_count": 3,
   "metadata": {},
   "outputs": [
    {
     "data": {
      "text/plain": [
       "'33775ae6-336d-41f4-8128-2fa9fe02e729'"
      ]
     },
     "execution_count": 3,
     "metadata": {},
     "output_type": "execute_result"
    }
   ],
   "source": [
    "doc.push(\"implementd ox-studio.ui for ui interface now need to clean up all the stuff\")"
   ]
  },
  {
   "cell_type": "code",
   "execution_count": 4,
   "metadata": {},
   "outputs": [
    {
     "data": {
      "text/plain": [
       "'e647e66d-31db-4eb3-8d7e-13ca6697c306'"
      ]
     },
     "execution_count": 4,
     "metadata": {},
     "output_type": "execute_result"
    }
   ],
   "source": [
    "doc.push(\"remember me : need to do code implementation for key lang conversation \")\n",
    "doc.push(\"remember me : gym time is morning from today  \")\n",
    "doc.push(\"remember me : base vector db arcchitecture is done  \")\n",
    "doc.push(\"remember me : need to do more research on deep learning  \")"
   ]
  },
  {
   "cell_type": "code",
   "execution_count": 5,
   "metadata": {},
   "outputs": [
    {
     "data": {
      "text/plain": [
       "{'entry': 37, 'vec_model': 'sentence-transformers/all-MiniLM-L6-v2'}"
      ]
     },
     "execution_count": 5,
     "metadata": {},
     "output_type": "execute_result"
    }
   ],
   "source": [
    "doc.doc_reg"
   ]
  },
  {
   "cell_type": "code",
   "execution_count": 6,
   "metadata": {},
   "outputs": [
    {
     "data": {
      "text/plain": [
       "'5b04daa1-14a3-4f48-b461-09c4fa2cf754'"
      ]
     },
     "execution_count": 6,
     "metadata": {},
     "output_type": "execute_result"
    }
   ],
   "source": [
    "doc.push(\"need to do : find efficient data store and retrive method  \")\n",
    "doc.push(\"need to do : i need to finesh deamon search asap  \")\n",
    "doc.push(\"need to do : need to sleep  \")\n",
    "doc.push(\"need to do : look out for bugs in code base and fix it   \")"
   ]
  },
  {
   "cell_type": "code",
   "execution_count": 7,
   "metadata": {},
   "outputs": [
    {
     "data": {
      "text/plain": [
       "'5b595d48-6d16-4b4d-8e4d-71d12543271b'"
      ]
     },
     "execution_count": 7,
     "metadata": {},
     "output_type": "execute_result"
    }
   ],
   "source": [
    "doc.push(\"Hi I'm OX-AI your AI personal database \", metadata={\"res\": \"assistant\"})\n",
    "doc.push(\n",
    "    \"I can store your documents with vector embaddings and retrive it based on vector search\",\n",
    "    metadata={\"res\": \"assistant\"},\n",
    ")\n",
    "doc.push(\"I'm currently under development\", metadata={\"res\": \"assistant\"})\n",
    "doc.push(\n",
    "    \"looking forward to do more to increase your productivity!\",\n",
    "    metadata={\"res\": \"assistant\"},\n",
    ")\n",
    "doc.push(\n",
    "    \"Hi I'm your AI personal database and I can store your documents with vector embeddings and retrieve them based on vector search. I'm currently under development, looking forward to doing more to increase your productivity!\",\n",
    "    metadata={\"res\": \"assistant\"},\n",
    ")"
   ]
  },
  {
   "cell_type": "code",
   "execution_count": 8,
   "metadata": {},
   "outputs": [
    {
     "data": {
      "text/plain": [
       "'affed30c-7771-4994-964d-dc5342278e35'"
      ]
     },
     "execution_count": 8,
     "metadata": {},
     "output_type": "execute_result"
    }
   ],
   "source": [
    "doc.push(\"hi\", key=\"time\")\n"
   ]
  },
  {
   "cell_type": "code",
   "execution_count": 9,
   "metadata": {},
   "outputs": [
    {
     "data": {
      "text/plain": [
       "{'0958a3fb-bb4a-415b-907b-54a61ca70115': {'uid': '0958a3fb-bb4a-415b-907b-54a61ca70115',\n",
       "  'key': 'key',\n",
       "  'doc': 'note',\n",
       "  'time': '06:57:07',\n",
       "  'date': '17-08-2024'},\n",
       " '3ce2abf8-442d-4511-be7a-fd08e461098e': {'uid': '3ce2abf8-442d-4511-be7a-fd08e461098e',\n",
       "  'key': 'key',\n",
       "  'doc': 'note',\n",
       "  'time': '06:57:08',\n",
       "  'date': '17-08-2024'},\n",
       " '6e2b905e-49a2-41e6-b344-99251447eebf': {'uid': '6e2b905e-49a2-41e6-b344-99251447eebf',\n",
       "  'key': 'key',\n",
       "  'doc': 'note',\n",
       "  'time': '06:57:08',\n",
       "  'date': '17-08-2024'},\n",
       " '82bb6274-fabf-4e05-8b80-bb9e459b0cea': {'uid': '82bb6274-fabf-4e05-8b80-bb9e459b0cea',\n",
       "  'key': 'key',\n",
       "  'doc': 'note',\n",
       "  'time': '06:57:08',\n",
       "  'date': '17-08-2024'},\n",
       " '76bb7132-030b-4874-8cbe-558e1d7a5090': {'uid': '76bb7132-030b-4874-8cbe-558e1d7a5090',\n",
       "  'key': 'key',\n",
       "  'doc': 'note',\n",
       "  'time': '06:57:08',\n",
       "  'date': '17-08-2024'},\n",
       " '92f5c845-6354-45a1-bad6-430296eed102': {'uid': '92f5c845-6354-45a1-bad6-430296eed102',\n",
       "  'key': 'key',\n",
       "  'doc': 'note',\n",
       "  'time': '06:57:08',\n",
       "  'date': '17-08-2024'},\n",
       " '207c271c-ab17-485e-bab8-94371622029d': {'uid': '207c271c-ab17-485e-bab8-94371622029d',\n",
       "  'key': 'key',\n",
       "  'doc': 'note',\n",
       "  'time': '06:57:08',\n",
       "  'date': '17-08-2024'},\n",
       " '03ed185f-3bce-443b-92b5-ddcb30686e89': {'uid': '03ed185f-3bce-443b-92b5-ddcb30686e89',\n",
       "  'key': 'key',\n",
       "  'doc': 'note',\n",
       "  'time': '06:57:08',\n",
       "  'date': '17-08-2024'},\n",
       " '20342483-8745-4a18-a532-227c74c41c3f': {'uid': '20342483-8745-4a18-a532-227c74c41c3f',\n",
       "  'key': 'key',\n",
       "  'doc': 'note',\n",
       "  'time': '06:57:08',\n",
       "  'date': '17-08-2024'},\n",
       " '49add163-4f10-498e-aadc-e5d35cfa885e': {'uid': '49add163-4f10-498e-aadc-e5d35cfa885e',\n",
       "  'key': 'key',\n",
       "  'doc': 'note',\n",
       "  'time': '06:57:08',\n",
       "  'date': '17-08-2024',\n",
       "  'res': 'assistant'},\n",
       " '463eeacd-46e1-4083-a7a9-e4ce86f4c14d': {'uid': '463eeacd-46e1-4083-a7a9-e4ce86f4c14d',\n",
       "  'key': 'key',\n",
       "  'doc': 'note',\n",
       "  'time': '06:57:08',\n",
       "  'date': '17-08-2024',\n",
       "  'res': 'assistant'},\n",
       " '1fd2d112-8625-45b2-a322-f3ec9bcd535b': {'uid': '1fd2d112-8625-45b2-a322-f3ec9bcd535b',\n",
       "  'key': 'key',\n",
       "  'doc': 'note',\n",
       "  'time': '06:57:08',\n",
       "  'date': '17-08-2024',\n",
       "  'res': 'assistant'},\n",
       " '95876c76-189f-48b5-a662-ff8e5e04f431': {'uid': '95876c76-189f-48b5-a662-ff8e5e04f431',\n",
       "  'key': 'key',\n",
       "  'doc': 'note',\n",
       "  'time': '06:57:08',\n",
       "  'date': '17-08-2024',\n",
       "  'res': 'assistant'},\n",
       " 'afb45564-734b-4041-b960-0e5f5c29f020': {'uid': 'afb45564-734b-4041-b960-0e5f5c29f020',\n",
       "  'key': 'key',\n",
       "  'doc': 'note',\n",
       "  'time': '06:57:09',\n",
       "  'date': '17-08-2024',\n",
       "  'res': 'assistant'},\n",
       " '847077d8-e29b-435e-8158-2c2578fe83e0': {'uid': '847077d8-e29b-435e-8158-2c2578fe83e0',\n",
       "  'key': 'time',\n",
       "  'doc': 'note',\n",
       "  'time': '06:57:09',\n",
       "  'date': '17-08-2024'},\n",
       " 'e4a343b4-a773-4d74-a77a-b7a99f0582d4': {'uid': 'e4a343b4-a773-4d74-a77a-b7a99f0582d4',\n",
       "  'key': 'key',\n",
       "  'doc': 'note',\n",
       "  'time': '06:57:09',\n",
       "  'date': '17-08-2024'},\n",
       " 'a8196f4d-86d6-424c-94fb-35f38977c712': {'uid': 'a8196f4d-86d6-424c-94fb-35f38977c712',\n",
       "  'key': 'key',\n",
       "  'doc': 'note',\n",
       "  'time': '07:44:46',\n",
       "  'date': '17-08-2024'},\n",
       " '04d0637f-e7f3-438d-a304-cf5b6b60537f': {'uid': '04d0637f-e7f3-438d-a304-cf5b6b60537f',\n",
       "  'key': 'key',\n",
       "  'doc': 'note',\n",
       "  'time': '07:44:46',\n",
       "  'date': '17-08-2024'},\n",
       " '49ace27c-d5b9-4e6d-9b3d-918c95f567b0': {'uid': '49ace27c-d5b9-4e6d-9b3d-918c95f567b0',\n",
       "  'key': 'key',\n",
       "  'doc': 'note',\n",
       "  'time': '07:44:46',\n",
       "  'date': '17-08-2024'},\n",
       " '63128ace-6566-4287-9ae2-0b0a8ef0357a': {'uid': '63128ace-6566-4287-9ae2-0b0a8ef0357a',\n",
       "  'key': 'key',\n",
       "  'doc': 'note',\n",
       "  'time': '07:44:46',\n",
       "  'date': '17-08-2024'},\n",
       " '6617ca14-e924-4d5a-aeec-57006f14c03c': {'uid': '6617ca14-e924-4d5a-aeec-57006f14c03c',\n",
       "  'key': 'key',\n",
       "  'doc': 'note',\n",
       "  'time': '07:44:46',\n",
       "  'date': '17-08-2024'},\n",
       " '4e9b2d85-d5e6-4e1d-a310-135304da4653': {'uid': '4e9b2d85-d5e6-4e1d-a310-135304da4653',\n",
       "  'key': 'key',\n",
       "  'doc': 'note',\n",
       "  'time': '07:44:47',\n",
       "  'date': '17-08-2024'},\n",
       " '5a905233-d99e-4abd-be80-98dfca517a42': {'uid': '5a905233-d99e-4abd-be80-98dfca517a42',\n",
       "  'key': 'key',\n",
       "  'doc': 'note',\n",
       "  'time': '07:44:47',\n",
       "  'date': '17-08-2024'},\n",
       " '17b4cb6a-be77-4700-8124-3a70d39ef9ca': {'uid': '17b4cb6a-be77-4700-8124-3a70d39ef9ca',\n",
       "  'key': 'key',\n",
       "  'doc': 'note',\n",
       "  'time': '07:44:47',\n",
       "  'date': '17-08-2024'},\n",
       " 'e2e7bb17-67a3-49c8-8074-4fb79f3ea2ca': {'uid': 'e2e7bb17-67a3-49c8-8074-4fb79f3ea2ca',\n",
       "  'key': 'key',\n",
       "  'doc': 'note',\n",
       "  'time': '07:44:47',\n",
       "  'date': '17-08-2024'},\n",
       " '6401677c-94a0-447c-be71-470d87f898b4': {'uid': '6401677c-94a0-447c-be71-470d87f898b4',\n",
       "  'key': 'key',\n",
       "  'doc': 'note',\n",
       "  'time': '07:44:47',\n",
       "  'date': '17-08-2024',\n",
       "  'res': 'assistant'},\n",
       " '8e10324e-8e23-465c-bbc1-af992b9168ec': {'uid': '8e10324e-8e23-465c-bbc1-af992b9168ec',\n",
       "  'key': 'key',\n",
       "  'doc': 'note',\n",
       "  'time': '07:44:47',\n",
       "  'date': '17-08-2024',\n",
       "  'res': 'assistant'},\n",
       " 'be2ce9b4-d61f-4efd-86ce-0aa0b90b9aeb': {'uid': 'be2ce9b4-d61f-4efd-86ce-0aa0b90b9aeb',\n",
       "  'key': 'key',\n",
       "  'doc': 'note',\n",
       "  'time': '07:44:47',\n",
       "  'date': '17-08-2024',\n",
       "  'res': 'assistant'},\n",
       " '34af962e-7368-4a2e-aacf-9c1520a81604': {'uid': '34af962e-7368-4a2e-aacf-9c1520a81604',\n",
       "  'key': 'key',\n",
       "  'doc': 'note',\n",
       "  'time': '07:44:47',\n",
       "  'date': '17-08-2024',\n",
       "  'res': 'assistant'},\n",
       " '0432a9a0-e3ac-4588-8870-9ec319efd5e3': {'uid': '0432a9a0-e3ac-4588-8870-9ec319efd5e3',\n",
       "  'key': 'key',\n",
       "  'doc': 'note',\n",
       "  'time': '07:44:47',\n",
       "  'date': '17-08-2024',\n",
       "  'res': 'assistant'},\n",
       " '89d5d182-bbff-4880-bed2-874f55c30058': {'uid': '89d5d182-bbff-4880-bed2-874f55c30058',\n",
       "  'key': 'time',\n",
       "  'doc': 'note',\n",
       "  'time': '07:44:47',\n",
       "  'date': '17-08-2024'},\n",
       " '32def6e5-0e97-479f-95cf-5856827b7972': {'uid': '32def6e5-0e97-479f-95cf-5856827b7972',\n",
       "  'key': 'key',\n",
       "  'doc': 'note',\n",
       "  'time': '07:44:47',\n",
       "  'date': '17-08-2024'},\n",
       " '33775ae6-336d-41f4-8128-2fa9fe02e729': {'uid': '33775ae6-336d-41f4-8128-2fa9fe02e729',\n",
       "  'key': 'key',\n",
       "  'doc': 'note',\n",
       "  'time': '08:53:30',\n",
       "  'date': '17-08-2024'},\n",
       " 'aaf2b374-2a7d-4e57-aa29-8f6b65a3005a': {'uid': 'aaf2b374-2a7d-4e57-aa29-8f6b65a3005a',\n",
       "  'key': 'key',\n",
       "  'doc': 'note',\n",
       "  'time': '08:53:31',\n",
       "  'date': '17-08-2024'},\n",
       " 'e2eb48cd-ee65-4b00-8eb9-7b09bd5f03c9': {'uid': 'e2eb48cd-ee65-4b00-8eb9-7b09bd5f03c9',\n",
       "  'key': 'key',\n",
       "  'doc': 'note',\n",
       "  'time': '08:53:31',\n",
       "  'date': '17-08-2024'},\n",
       " 'c0d6dea0-b4bc-459f-b10d-df9881e60068': {'uid': 'c0d6dea0-b4bc-459f-b10d-df9881e60068',\n",
       "  'key': 'key',\n",
       "  'doc': 'note',\n",
       "  'time': '08:53:31',\n",
       "  'date': '17-08-2024'},\n",
       " 'e647e66d-31db-4eb3-8d7e-13ca6697c306': {'uid': 'e647e66d-31db-4eb3-8d7e-13ca6697c306',\n",
       "  'key': 'key',\n",
       "  'doc': 'note',\n",
       "  'time': '08:53:31',\n",
       "  'date': '17-08-2024'},\n",
       " 'b88a8577-06ec-4e98-bf6e-018ddac6fa57': {'uid': 'b88a8577-06ec-4e98-bf6e-018ddac6fa57',\n",
       "  'key': 'key',\n",
       "  'doc': 'note',\n",
       "  'time': '08:53:31',\n",
       "  'date': '17-08-2024'},\n",
       " '07876db3-25ef-473d-a5c4-c925d099bf28': {'uid': '07876db3-25ef-473d-a5c4-c925d099bf28',\n",
       "  'key': 'key',\n",
       "  'doc': 'note',\n",
       "  'time': '08:53:31',\n",
       "  'date': '17-08-2024'},\n",
       " '8fdca65d-0115-49eb-bfa8-47fe1791a0a4': {'uid': '8fdca65d-0115-49eb-bfa8-47fe1791a0a4',\n",
       "  'key': 'key',\n",
       "  'doc': 'note',\n",
       "  'time': '08:53:31',\n",
       "  'date': '17-08-2024'},\n",
       " '5b04daa1-14a3-4f48-b461-09c4fa2cf754': {'uid': '5b04daa1-14a3-4f48-b461-09c4fa2cf754',\n",
       "  'key': 'key',\n",
       "  'doc': 'note',\n",
       "  'time': '08:53:31',\n",
       "  'date': '17-08-2024'},\n",
       " 'ae7b8672-c184-45ad-88de-a6567c521593': {'uid': 'ae7b8672-c184-45ad-88de-a6567c521593',\n",
       "  'key': 'key',\n",
       "  'doc': 'note',\n",
       "  'time': '08:53:31',\n",
       "  'date': '17-08-2024',\n",
       "  'res': 'assistant'},\n",
       " '0751dece-d15c-4784-bd7d-38b92107509b': {'uid': '0751dece-d15c-4784-bd7d-38b92107509b',\n",
       "  'key': 'key',\n",
       "  'doc': 'note',\n",
       "  'time': '08:53:31',\n",
       "  'date': '17-08-2024',\n",
       "  'res': 'assistant'},\n",
       " 'b1d110c3-941e-4b0b-a381-088d28922c4e': {'uid': 'b1d110c3-941e-4b0b-a381-088d28922c4e',\n",
       "  'key': 'key',\n",
       "  'doc': 'note',\n",
       "  'time': '08:53:31',\n",
       "  'date': '17-08-2024',\n",
       "  'res': 'assistant'},\n",
       " '19cded84-ce20-4e37-89c2-9c44860bbe5e': {'uid': '19cded84-ce20-4e37-89c2-9c44860bbe5e',\n",
       "  'key': 'key',\n",
       "  'doc': 'note',\n",
       "  'time': '08:53:31',\n",
       "  'date': '17-08-2024',\n",
       "  'res': 'assistant'},\n",
       " '5b595d48-6d16-4b4d-8e4d-71d12543271b': {'uid': '5b595d48-6d16-4b4d-8e4d-71d12543271b',\n",
       "  'key': 'key',\n",
       "  'doc': 'note',\n",
       "  'time': '08:53:31',\n",
       "  'date': '17-08-2024',\n",
       "  'res': 'assistant'},\n",
       " 'affed30c-7771-4994-964d-dc5342278e35': {'uid': 'affed30c-7771-4994-964d-dc5342278e35',\n",
       "  'key': 'time',\n",
       "  'doc': 'note',\n",
       "  'time': '08:53:31',\n",
       "  'date': '17-08-2024'}}"
      ]
     },
     "execution_count": 9,
     "metadata": {},
     "output_type": "execute_result"
    }
   ],
   "source": [
    "doc.pull(docfile=\".index\")"
   ]
  },
  {
   "cell_type": "code",
   "execution_count": 10,
   "metadata": {},
   "outputs": [
    {
     "data": {
      "text/plain": [
       "{'entries': 0,\n",
       " 'uid': [],\n",
       " 'data': [],\n",
       " 'description': [],\n",
       " 'sim_score': [],\n",
       " 'index': [],\n",
       " 'embeddings': []}"
      ]
     },
     "execution_count": 10,
     "metadata": {},
     "output_type": "execute_result"
    }
   ],
   "source": [
    "doc.search(\"remember me\",where_data={\"search_string\":\"url\"})"
   ]
  },
  {
   "cell_type": "code",
   "execution_count": 11,
   "metadata": {},
   "outputs": [
    {
     "data": {
      "text/plain": [
       "'7f41a50f-b81c-4c7d-b3c4-2fd6cc14adb9'"
      ]
     },
     "execution_count": 11,
     "metadata": {},
     "output_type": "execute_result"
    }
   ],
   "source": [
    "doc.push(\n",
    "    \"need to : implement rag system that pulls data from the internet and chunk it and store as knowledge for easy retrivel\"\n",
    ")"
   ]
  },
  {
   "cell_type": "code",
   "execution_count": 12,
   "metadata": {},
   "outputs": [
    {
     "name": "stdout",
     "output_type": "stream",
     "text": [
      "CPU times: user 59.1 ms, sys: 1.46 ms, total: 60.5 ms\n",
      "Wall time: 15.4 ms\n"
     ]
    },
    {
     "data": {
      "text/plain": [
       "{'entries': 6,\n",
       " 'uid': ['0751dece-d15c-4784-bd7d-38b92107509b',\n",
       "  '8e10324e-8e23-465c-bbc1-af992b9168ec',\n",
       "  '463eeacd-46e1-4083-a7a9-e4ce86f4c14d',\n",
       "  'ae7b8672-c184-45ad-88de-a6567c521593',\n",
       "  '6401677c-94a0-447c-be71-470d87f898b4',\n",
       "  '49add163-4f10-498e-aadc-e5d35cfa885e'],\n",
       " 'data': ['I can store your documents with vector embaddings and retrive it based on vector search',\n",
       "  'I can store your documents with vector embaddings and retrive it based on vector search',\n",
       "  'I can store your documents with vector embaddings and retrive it based on vector search',\n",
       "  \"Hi I'm OX-AI your AI personal database \",\n",
       "  \"Hi I'm OX-AI your AI personal database \",\n",
       "  \"Hi I'm OX-AI your AI personal database \"],\n",
       " 'description': [None, None, None, None, None, None],\n",
       " 'sim_score': [0.1741099773074389,\n",
       "  0.1741099773074389,\n",
       "  0.1741099773074389,\n",
       "  0.08422725521204152,\n",
       "  0.08422725521204152,\n",
       "  0.08422725521204152],\n",
       " 'index': [{'uid': '0751dece-d15c-4784-bd7d-38b92107509b',\n",
       "   'key': 'key',\n",
       "   'doc': 'note',\n",
       "   'time': '08:53:31',\n",
       "   'date': '17-08-2024',\n",
       "   'res': 'assistant'},\n",
       "  {'uid': '8e10324e-8e23-465c-bbc1-af992b9168ec',\n",
       "   'key': 'key',\n",
       "   'doc': 'note',\n",
       "   'time': '07:44:47',\n",
       "   'date': '17-08-2024',\n",
       "   'res': 'assistant'},\n",
       "  {'uid': '463eeacd-46e1-4083-a7a9-e4ce86f4c14d',\n",
       "   'key': 'key',\n",
       "   'doc': 'note',\n",
       "   'time': '06:57:08',\n",
       "   'date': '17-08-2024',\n",
       "   'res': 'assistant'},\n",
       "  {'uid': 'ae7b8672-c184-45ad-88de-a6567c521593',\n",
       "   'key': 'key',\n",
       "   'doc': 'note',\n",
       "   'time': '08:53:31',\n",
       "   'date': '17-08-2024',\n",
       "   'res': 'assistant'},\n",
       "  {'uid': '6401677c-94a0-447c-be71-470d87f898b4',\n",
       "   'key': 'key',\n",
       "   'doc': 'note',\n",
       "   'time': '07:44:47',\n",
       "   'date': '17-08-2024',\n",
       "   'res': 'assistant'},\n",
       "  {'uid': '49add163-4f10-498e-aadc-e5d35cfa885e',\n",
       "   'key': 'key',\n",
       "   'doc': 'note',\n",
       "   'time': '06:57:08',\n",
       "   'date': '17-08-2024',\n",
       "   'res': 'assistant'}],\n",
       " 'embeddings': []}"
      ]
     },
     "execution_count": 12,
     "metadata": {},
     "output_type": "execute_result"
    }
   ],
   "source": [
    "%%time\n",
    "\n",
    "doc.search(\"rag system data chunk\",6,where={\"res\":\"assistant\"})"
   ]
  },
  {
   "cell_type": "code",
   "execution_count": 13,
   "metadata": {},
   "outputs": [
    {
     "name": "stdout",
     "output_type": "stream",
     "text": [
      "CPU times: user 89 µs, sys: 36 µs, total: 125 µs\n",
      "Wall time: 133 µs\n"
     ]
    },
    {
     "data": {
      "text/plain": [
       "{'49add163-4f10-498e-aadc-e5d35cfa885e': {'uid': '49add163-4f10-498e-aadc-e5d35cfa885e',\n",
       "  'key': 'key',\n",
       "  'doc': 'note',\n",
       "  'time': '06:57:08',\n",
       "  'date': '17-08-2024',\n",
       "  'res': 'assistant'},\n",
       " '463eeacd-46e1-4083-a7a9-e4ce86f4c14d': {'uid': '463eeacd-46e1-4083-a7a9-e4ce86f4c14d',\n",
       "  'key': 'key',\n",
       "  'doc': 'note',\n",
       "  'time': '06:57:08',\n",
       "  'date': '17-08-2024',\n",
       "  'res': 'assistant'},\n",
       " '1fd2d112-8625-45b2-a322-f3ec9bcd535b': {'uid': '1fd2d112-8625-45b2-a322-f3ec9bcd535b',\n",
       "  'key': 'key',\n",
       "  'doc': 'note',\n",
       "  'time': '06:57:08',\n",
       "  'date': '17-08-2024',\n",
       "  'res': 'assistant'},\n",
       " '95876c76-189f-48b5-a662-ff8e5e04f431': {'uid': '95876c76-189f-48b5-a662-ff8e5e04f431',\n",
       "  'key': 'key',\n",
       "  'doc': 'note',\n",
       "  'time': '06:57:08',\n",
       "  'date': '17-08-2024',\n",
       "  'res': 'assistant'},\n",
       " 'afb45564-734b-4041-b960-0e5f5c29f020': {'uid': 'afb45564-734b-4041-b960-0e5f5c29f020',\n",
       "  'key': 'key',\n",
       "  'doc': 'note',\n",
       "  'time': '06:57:09',\n",
       "  'date': '17-08-2024',\n",
       "  'res': 'assistant'},\n",
       " '6401677c-94a0-447c-be71-470d87f898b4': {'uid': '6401677c-94a0-447c-be71-470d87f898b4',\n",
       "  'key': 'key',\n",
       "  'doc': 'note',\n",
       "  'time': '07:44:47',\n",
       "  'date': '17-08-2024',\n",
       "  'res': 'assistant'},\n",
       " '8e10324e-8e23-465c-bbc1-af992b9168ec': {'uid': '8e10324e-8e23-465c-bbc1-af992b9168ec',\n",
       "  'key': 'key',\n",
       "  'doc': 'note',\n",
       "  'time': '07:44:47',\n",
       "  'date': '17-08-2024',\n",
       "  'res': 'assistant'},\n",
       " 'be2ce9b4-d61f-4efd-86ce-0aa0b90b9aeb': {'uid': 'be2ce9b4-d61f-4efd-86ce-0aa0b90b9aeb',\n",
       "  'key': 'key',\n",
       "  'doc': 'note',\n",
       "  'time': '07:44:47',\n",
       "  'date': '17-08-2024',\n",
       "  'res': 'assistant'},\n",
       " '34af962e-7368-4a2e-aacf-9c1520a81604': {'uid': '34af962e-7368-4a2e-aacf-9c1520a81604',\n",
       "  'key': 'key',\n",
       "  'doc': 'note',\n",
       "  'time': '07:44:47',\n",
       "  'date': '17-08-2024',\n",
       "  'res': 'assistant'},\n",
       " '0432a9a0-e3ac-4588-8870-9ec319efd5e3': {'uid': '0432a9a0-e3ac-4588-8870-9ec319efd5e3',\n",
       "  'key': 'key',\n",
       "  'doc': 'note',\n",
       "  'time': '07:44:47',\n",
       "  'date': '17-08-2024',\n",
       "  'res': 'assistant'},\n",
       " 'ae7b8672-c184-45ad-88de-a6567c521593': {'uid': 'ae7b8672-c184-45ad-88de-a6567c521593',\n",
       "  'key': 'key',\n",
       "  'doc': 'note',\n",
       "  'time': '08:53:31',\n",
       "  'date': '17-08-2024',\n",
       "  'res': 'assistant'},\n",
       " '0751dece-d15c-4784-bd7d-38b92107509b': {'uid': '0751dece-d15c-4784-bd7d-38b92107509b',\n",
       "  'key': 'key',\n",
       "  'doc': 'note',\n",
       "  'time': '08:53:31',\n",
       "  'date': '17-08-2024',\n",
       "  'res': 'assistant'},\n",
       " 'b1d110c3-941e-4b0b-a381-088d28922c4e': {'uid': 'b1d110c3-941e-4b0b-a381-088d28922c4e',\n",
       "  'key': 'key',\n",
       "  'doc': 'note',\n",
       "  'time': '08:53:31',\n",
       "  'date': '17-08-2024',\n",
       "  'res': 'assistant'},\n",
       " '19cded84-ce20-4e37-89c2-9c44860bbe5e': {'uid': '19cded84-ce20-4e37-89c2-9c44860bbe5e',\n",
       "  'key': 'key',\n",
       "  'doc': 'note',\n",
       "  'time': '08:53:31',\n",
       "  'date': '17-08-2024',\n",
       "  'res': 'assistant'},\n",
       " '5b595d48-6d16-4b4d-8e4d-71d12543271b': {'uid': '5b595d48-6d16-4b4d-8e4d-71d12543271b',\n",
       "  'key': 'key',\n",
       "  'doc': 'note',\n",
       "  'time': '08:53:31',\n",
       "  'date': '17-08-2024',\n",
       "  'res': 'assistant'}}"
      ]
     },
     "execution_count": 13,
     "metadata": {},
     "output_type": "execute_result"
    }
   ],
   "source": [
    "%%time\n",
    "doc.pull(time='07', where={\"res\":\"assistant\"}, docfile=\".index\")"
   ]
  },
  {
   "cell_type": "code",
   "execution_count": 14,
   "metadata": {},
   "outputs": [
    {
     "data": {
      "text/plain": [
       "{'0958a3fb-bb4a-415b-907b-54a61ca70115': {'uid': '0958a3fb-bb4a-415b-907b-54a61ca70115',\n",
       "  'key': 'key',\n",
       "  'doc': 'note',\n",
       "  'time': '06:57:07',\n",
       "  'date': '17-08-2024'},\n",
       " '3ce2abf8-442d-4511-be7a-fd08e461098e': {'uid': '3ce2abf8-442d-4511-be7a-fd08e461098e',\n",
       "  'key': 'key',\n",
       "  'doc': 'note',\n",
       "  'time': '06:57:08',\n",
       "  'date': '17-08-2024'},\n",
       " '6e2b905e-49a2-41e6-b344-99251447eebf': {'uid': '6e2b905e-49a2-41e6-b344-99251447eebf',\n",
       "  'key': 'key',\n",
       "  'doc': 'note',\n",
       "  'time': '06:57:08',\n",
       "  'date': '17-08-2024'},\n",
       " '82bb6274-fabf-4e05-8b80-bb9e459b0cea': {'uid': '82bb6274-fabf-4e05-8b80-bb9e459b0cea',\n",
       "  'key': 'key',\n",
       "  'doc': 'note',\n",
       "  'time': '06:57:08',\n",
       "  'date': '17-08-2024'},\n",
       " '76bb7132-030b-4874-8cbe-558e1d7a5090': {'uid': '76bb7132-030b-4874-8cbe-558e1d7a5090',\n",
       "  'key': 'key',\n",
       "  'doc': 'note',\n",
       "  'time': '06:57:08',\n",
       "  'date': '17-08-2024'},\n",
       " '92f5c845-6354-45a1-bad6-430296eed102': {'uid': '92f5c845-6354-45a1-bad6-430296eed102',\n",
       "  'key': 'key',\n",
       "  'doc': 'note',\n",
       "  'time': '06:57:08',\n",
       "  'date': '17-08-2024'},\n",
       " '207c271c-ab17-485e-bab8-94371622029d': {'uid': '207c271c-ab17-485e-bab8-94371622029d',\n",
       "  'key': 'key',\n",
       "  'doc': 'note',\n",
       "  'time': '06:57:08',\n",
       "  'date': '17-08-2024'},\n",
       " '03ed185f-3bce-443b-92b5-ddcb30686e89': {'uid': '03ed185f-3bce-443b-92b5-ddcb30686e89',\n",
       "  'key': 'key',\n",
       "  'doc': 'note',\n",
       "  'time': '06:57:08',\n",
       "  'date': '17-08-2024'},\n",
       " '20342483-8745-4a18-a532-227c74c41c3f': {'uid': '20342483-8745-4a18-a532-227c74c41c3f',\n",
       "  'key': 'key',\n",
       "  'doc': 'note',\n",
       "  'time': '06:57:08',\n",
       "  'date': '17-08-2024'},\n",
       " '49add163-4f10-498e-aadc-e5d35cfa885e': {'uid': '49add163-4f10-498e-aadc-e5d35cfa885e',\n",
       "  'key': 'key',\n",
       "  'doc': 'note',\n",
       "  'time': '06:57:08',\n",
       "  'date': '17-08-2024',\n",
       "  'res': 'assistant'},\n",
       " '463eeacd-46e1-4083-a7a9-e4ce86f4c14d': {'uid': '463eeacd-46e1-4083-a7a9-e4ce86f4c14d',\n",
       "  'key': 'key',\n",
       "  'doc': 'note',\n",
       "  'time': '06:57:08',\n",
       "  'date': '17-08-2024',\n",
       "  'res': 'assistant'},\n",
       " '1fd2d112-8625-45b2-a322-f3ec9bcd535b': {'uid': '1fd2d112-8625-45b2-a322-f3ec9bcd535b',\n",
       "  'key': 'key',\n",
       "  'doc': 'note',\n",
       "  'time': '06:57:08',\n",
       "  'date': '17-08-2024',\n",
       "  'res': 'assistant'},\n",
       " '95876c76-189f-48b5-a662-ff8e5e04f431': {'uid': '95876c76-189f-48b5-a662-ff8e5e04f431',\n",
       "  'key': 'key',\n",
       "  'doc': 'note',\n",
       "  'time': '06:57:08',\n",
       "  'date': '17-08-2024',\n",
       "  'res': 'assistant'},\n",
       " 'afb45564-734b-4041-b960-0e5f5c29f020': {'uid': 'afb45564-734b-4041-b960-0e5f5c29f020',\n",
       "  'key': 'key',\n",
       "  'doc': 'note',\n",
       "  'time': '06:57:09',\n",
       "  'date': '17-08-2024',\n",
       "  'res': 'assistant'},\n",
       " '847077d8-e29b-435e-8158-2c2578fe83e0': {'uid': '847077d8-e29b-435e-8158-2c2578fe83e0',\n",
       "  'key': 'time',\n",
       "  'doc': 'note',\n",
       "  'time': '06:57:09',\n",
       "  'date': '17-08-2024'},\n",
       " 'e4a343b4-a773-4d74-a77a-b7a99f0582d4': {'uid': 'e4a343b4-a773-4d74-a77a-b7a99f0582d4',\n",
       "  'key': 'key',\n",
       "  'doc': 'note',\n",
       "  'time': '06:57:09',\n",
       "  'date': '17-08-2024'}}"
      ]
     },
     "execution_count": 14,
     "metadata": {},
     "output_type": "execute_result"
    }
   ],
   "source": [
    "doc.pull(time=\"06:57\",docfile=\".index\")"
   ]
  },
  {
   "cell_type": "code",
   "execution_count": 15,
   "metadata": {},
   "outputs": [
    {
     "data": {
      "text/plain": [
       "{'49add163-4f10-498e-aadc-e5d35cfa885e': {'uid': '49add163-4f10-498e-aadc-e5d35cfa885e',\n",
       "  'key': 'key',\n",
       "  'doc': 'note',\n",
       "  'time': '06:57:08',\n",
       "  'date': '17-08-2024',\n",
       "  'res': 'assistant'},\n",
       " '463eeacd-46e1-4083-a7a9-e4ce86f4c14d': {'uid': '463eeacd-46e1-4083-a7a9-e4ce86f4c14d',\n",
       "  'key': 'key',\n",
       "  'doc': 'note',\n",
       "  'time': '06:57:08',\n",
       "  'date': '17-08-2024',\n",
       "  'res': 'assistant'},\n",
       " '1fd2d112-8625-45b2-a322-f3ec9bcd535b': {'uid': '1fd2d112-8625-45b2-a322-f3ec9bcd535b',\n",
       "  'key': 'key',\n",
       "  'doc': 'note',\n",
       "  'time': '06:57:08',\n",
       "  'date': '17-08-2024',\n",
       "  'res': 'assistant'},\n",
       " '95876c76-189f-48b5-a662-ff8e5e04f431': {'uid': '95876c76-189f-48b5-a662-ff8e5e04f431',\n",
       "  'key': 'key',\n",
       "  'doc': 'note',\n",
       "  'time': '06:57:08',\n",
       "  'date': '17-08-2024',\n",
       "  'res': 'assistant'},\n",
       " 'afb45564-734b-4041-b960-0e5f5c29f020': {'uid': 'afb45564-734b-4041-b960-0e5f5c29f020',\n",
       "  'key': 'key',\n",
       "  'doc': 'note',\n",
       "  'time': '06:57:09',\n",
       "  'date': '17-08-2024',\n",
       "  'res': 'assistant'}}"
      ]
     },
     "execution_count": 15,
     "metadata": {},
     "output_type": "execute_result"
    }
   ],
   "source": [
    "where = {\"time\":\"06:57\",\"date\":\"17\",\"res\":\"assistant\"}\n",
    "doc.pull(where=where,search_all_filter=True,docfile=\".index\")"
   ]
  },
  {
   "cell_type": "code",
   "execution_count": 16,
   "metadata": {},
   "outputs": [
    {
     "data": {
      "text/plain": [
       "['0958a3fb-bb4a-415b-907b-54a61ca70115',\n",
       " '3ce2abf8-442d-4511-be7a-fd08e461098e',\n",
       " '6e2b905e-49a2-41e6-b344-99251447eebf',\n",
       " '82bb6274-fabf-4e05-8b80-bb9e459b0cea',\n",
       " '76bb7132-030b-4874-8cbe-558e1d7a5090',\n",
       " '92f5c845-6354-45a1-bad6-430296eed102',\n",
       " '207c271c-ab17-485e-bab8-94371622029d',\n",
       " '03ed185f-3bce-443b-92b5-ddcb30686e89',\n",
       " '20342483-8745-4a18-a532-227c74c41c3f',\n",
       " '49add163-4f10-498e-aadc-e5d35cfa885e',\n",
       " '463eeacd-46e1-4083-a7a9-e4ce86f4c14d',\n",
       " '1fd2d112-8625-45b2-a322-f3ec9bcd535b',\n",
       " '95876c76-189f-48b5-a662-ff8e5e04f431',\n",
       " 'afb45564-734b-4041-b960-0e5f5c29f020',\n",
       " '847077d8-e29b-435e-8158-2c2578fe83e0',\n",
       " 'e4a343b4-a773-4d74-a77a-b7a99f0582d4',\n",
       " 'a8196f4d-86d6-424c-94fb-35f38977c712',\n",
       " '04d0637f-e7f3-438d-a304-cf5b6b60537f',\n",
       " '49ace27c-d5b9-4e6d-9b3d-918c95f567b0',\n",
       " '63128ace-6566-4287-9ae2-0b0a8ef0357a',\n",
       " '6617ca14-e924-4d5a-aeec-57006f14c03c',\n",
       " '4e9b2d85-d5e6-4e1d-a310-135304da4653',\n",
       " '5a905233-d99e-4abd-be80-98dfca517a42',\n",
       " '17b4cb6a-be77-4700-8124-3a70d39ef9ca',\n",
       " 'e2e7bb17-67a3-49c8-8074-4fb79f3ea2ca',\n",
       " '6401677c-94a0-447c-be71-470d87f898b4',\n",
       " '8e10324e-8e23-465c-bbc1-af992b9168ec',\n",
       " 'be2ce9b4-d61f-4efd-86ce-0aa0b90b9aeb',\n",
       " '34af962e-7368-4a2e-aacf-9c1520a81604',\n",
       " '0432a9a0-e3ac-4588-8870-9ec319efd5e3',\n",
       " '89d5d182-bbff-4880-bed2-874f55c30058',\n",
       " '32def6e5-0e97-479f-95cf-5856827b7972',\n",
       " '33775ae6-336d-41f4-8128-2fa9fe02e729',\n",
       " 'aaf2b374-2a7d-4e57-aa29-8f6b65a3005a',\n",
       " 'e2eb48cd-ee65-4b00-8eb9-7b09bd5f03c9',\n",
       " 'c0d6dea0-b4bc-459f-b10d-df9881e60068',\n",
       " 'e647e66d-31db-4eb3-8d7e-13ca6697c306',\n",
       " 'b88a8577-06ec-4e98-bf6e-018ddac6fa57',\n",
       " '07876db3-25ef-473d-a5c4-c925d099bf28',\n",
       " '8fdca65d-0115-49eb-bfa8-47fe1791a0a4',\n",
       " '5b04daa1-14a3-4f48-b461-09c4fa2cf754',\n",
       " 'ae7b8672-c184-45ad-88de-a6567c521593',\n",
       " '0751dece-d15c-4784-bd7d-38b92107509b',\n",
       " 'b1d110c3-941e-4b0b-a381-088d28922c4e',\n",
       " '19cded84-ce20-4e37-89c2-9c44860bbe5e',\n",
       " '5b595d48-6d16-4b4d-8e4d-71d12543271b',\n",
       " 'affed30c-7771-4994-964d-dc5342278e35',\n",
       " '7f41a50f-b81c-4c7d-b3c4-2fd6cc14adb9']"
      ]
     },
     "execution_count": 16,
     "metadata": {},
     "output_type": "execute_result"
    }
   ],
   "source": [
    "doc.search_uid( where=where)"
   ]
  },
  {
   "cell_type": "code",
   "execution_count": 17,
   "metadata": {},
   "outputs": [],
   "source": [
    "uids = doc.search_uid(key=\"time\")"
   ]
  },
  {
   "cell_type": "code",
   "execution_count": 18,
   "metadata": {},
   "outputs": [
    {
     "name": "stdout",
     "output_type": "stream",
     "text": [
      "CPU times: user 29 µs, sys: 0 ns, total: 29 µs\n",
      "Wall time: 35.3 µs\n"
     ]
    },
    {
     "data": {
      "text/plain": [
       "{'847077d8-e29b-435e-8158-2c2578fe83e0': {'uid': '847077d8-e29b-435e-8158-2c2578fe83e0',\n",
       "  'key': 'time',\n",
       "  'doc': 'note',\n",
       "  'time': '06:57:09',\n",
       "  'date': '17-08-2024'},\n",
       " '89d5d182-bbff-4880-bed2-874f55c30058': {'uid': '89d5d182-bbff-4880-bed2-874f55c30058',\n",
       "  'key': 'time',\n",
       "  'doc': 'note',\n",
       "  'time': '07:44:47',\n",
       "  'date': '17-08-2024'},\n",
       " 'affed30c-7771-4994-964d-dc5342278e35': {'uid': 'affed30c-7771-4994-964d-dc5342278e35',\n",
       "  'key': 'time',\n",
       "  'doc': 'note',\n",
       "  'time': '08:53:31',\n",
       "  'date': '17-08-2024'}}"
      ]
     },
     "execution_count": 18,
     "metadata": {},
     "output_type": "execute_result"
    }
   ],
   "source": [
    "%%time\n",
    "doc.pull(uid=uids,docfile=\".index\")"
   ]
  },
  {
   "cell_type": "code",
   "execution_count": 19,
   "metadata": {},
   "outputs": [
    {
     "data": {
      "text/plain": [
       "{'3ce2abf8-442d-4511-be7a-fd08e461098e': {'data': 'remember me : need to do code implementation for key lang conversation ',\n",
       "  'description': None},\n",
       " '6e2b905e-49a2-41e6-b344-99251447eebf': {'data': 'remember me : gym time is morning from today  ',\n",
       "  'description': None},\n",
       " '82bb6274-fabf-4e05-8b80-bb9e459b0cea': {'data': 'remember me : base vector db arcchitecture is done  ',\n",
       "  'description': None},\n",
       " '76bb7132-030b-4874-8cbe-558e1d7a5090': {'data': 'remember me : need to do more research on deep learning  ',\n",
       "  'description': None},\n",
       " '92f5c845-6354-45a1-bad6-430296eed102': {'data': 'need to do : find efficient data store and retrive method  ',\n",
       "  'description': None},\n",
       " '207c271c-ab17-485e-bab8-94371622029d': {'data': 'need to do : i need to finesh deamon search asap  ',\n",
       "  'description': None},\n",
       " '03ed185f-3bce-443b-92b5-ddcb30686e89': {'data': 'need to do : need to sleep  ',\n",
       "  'description': None},\n",
       " '20342483-8745-4a18-a532-227c74c41c3f': {'data': 'need to do : look out for bugs in code base and fix it   ',\n",
       "  'description': None},\n",
       " '49add163-4f10-498e-aadc-e5d35cfa885e': {'data': \"Hi I'm OX-AI your AI personal database \",\n",
       "  'description': None},\n",
       " '463eeacd-46e1-4083-a7a9-e4ce86f4c14d': {'data': 'I can store your documents with vector embaddings and retrive it based on vector search',\n",
       "  'description': None},\n",
       " '1fd2d112-8625-45b2-a322-f3ec9bcd535b': {'data': \"I'm currently under development\",\n",
       "  'description': None},\n",
       " '95876c76-189f-48b5-a662-ff8e5e04f431': {'data': 'looking forward to do more to increase your productivity!',\n",
       "  'description': None},\n",
       " '33775ae6-336d-41f4-8128-2fa9fe02e729': {'data': 'implementd ox-studio.ui for ui interface now need to clean up all the stuff',\n",
       "  'description': None},\n",
       " 'aaf2b374-2a7d-4e57-aa29-8f6b65a3005a': {'data': 'remember me : need to do code implementation for key lang conversation ',\n",
       "  'description': None},\n",
       " 'e2eb48cd-ee65-4b00-8eb9-7b09bd5f03c9': {'data': 'remember me : gym time is morning from today  ',\n",
       "  'description': None},\n",
       " 'c0d6dea0-b4bc-459f-b10d-df9881e60068': {'data': 'remember me : base vector db arcchitecture is done  ',\n",
       "  'description': None},\n",
       " 'e647e66d-31db-4eb3-8d7e-13ca6697c306': {'data': 'remember me : need to do more research on deep learning  ',\n",
       "  'description': None},\n",
       " 'b88a8577-06ec-4e98-bf6e-018ddac6fa57': {'data': 'need to do : find efficient data store and retrive method  ',\n",
       "  'description': None},\n",
       " '07876db3-25ef-473d-a5c4-c925d099bf28': {'data': 'need to do : i need to finesh deamon search asap  ',\n",
       "  'description': None},\n",
       " '8fdca65d-0115-49eb-bfa8-47fe1791a0a4': {'data': 'need to do : need to sleep  ',\n",
       "  'description': None},\n",
       " '5b04daa1-14a3-4f48-b461-09c4fa2cf754': {'data': 'need to do : look out for bugs in code base and fix it   ',\n",
       "  'description': None},\n",
       " 'ae7b8672-c184-45ad-88de-a6567c521593': {'data': \"Hi I'm OX-AI your AI personal database \",\n",
       "  'description': None},\n",
       " '0751dece-d15c-4784-bd7d-38b92107509b': {'data': 'I can store your documents with vector embaddings and retrive it based on vector search',\n",
       "  'description': None},\n",
       " 'b1d110c3-941e-4b0b-a381-088d28922c4e': {'data': \"I'm currently under development\",\n",
       "  'description': None},\n",
       " '19cded84-ce20-4e37-89c2-9c44860bbe5e': {'data': 'looking forward to do more to increase your productivity!',\n",
       "  'description': None},\n",
       " '5b595d48-6d16-4b4d-8e4d-71d12543271b': {'data': \"Hi I'm your AI personal database and I can store your documents with vector embeddings and retrieve them based on vector search. I'm currently under development, looking forward to doing more to increase your productivity!\",\n",
       "  'description': None},\n",
       " 'affed30c-7771-4994-964d-dc5342278e35': {'data': 'hi', 'description': None},\n",
       " '7f41a50f-b81c-4c7d-b3c4-2fd6cc14adb9': {'data': 'need to : implement rag system that pulls data from the internet and chunk it and store as knowledge for easy retrivel',\n",
       "  'description': None}}"
      ]
     },
     "execution_count": 19,
     "metadata": {},
     "output_type": "execute_result"
    }
   ],
   "source": [
    "doc.pull(time=\"08\",docfile=\"data.oxd\")"
   ]
  },
  {
   "cell_type": "code",
   "execution_count": 20,
   "metadata": {},
   "outputs": [
    {
     "data": {
      "text/plain": [
       "{'0958a3fb-bb4a-415b-907b-54a61ca70115': {'data': 'implementd ox-studio.ui for ui interface now need to clean up all the stuff',\n",
       "  'description': None},\n",
       " '3ce2abf8-442d-4511-be7a-fd08e461098e': {'data': 'remember me : need to do code implementation for key lang conversation ',\n",
       "  'description': None},\n",
       " '6e2b905e-49a2-41e6-b344-99251447eebf': {'data': 'remember me : gym time is morning from today  ',\n",
       "  'description': None},\n",
       " '82bb6274-fabf-4e05-8b80-bb9e459b0cea': {'data': 'remember me : base vector db arcchitecture is done  ',\n",
       "  'description': None},\n",
       " '76bb7132-030b-4874-8cbe-558e1d7a5090': {'data': 'remember me : need to do more research on deep learning  ',\n",
       "  'description': None},\n",
       " '92f5c845-6354-45a1-bad6-430296eed102': {'data': 'need to do : find efficient data store and retrive method  ',\n",
       "  'description': None},\n",
       " '207c271c-ab17-485e-bab8-94371622029d': {'data': 'need to do : i need to finesh deamon search asap  ',\n",
       "  'description': None},\n",
       " '03ed185f-3bce-443b-92b5-ddcb30686e89': {'data': 'need to do : need to sleep  ',\n",
       "  'description': None},\n",
       " '20342483-8745-4a18-a532-227c74c41c3f': {'data': 'need to do : look out for bugs in code base and fix it   ',\n",
       "  'description': None},\n",
       " '49add163-4f10-498e-aadc-e5d35cfa885e': {'data': \"Hi I'm OX-AI your AI personal database \",\n",
       "  'description': None},\n",
       " '463eeacd-46e1-4083-a7a9-e4ce86f4c14d': {'data': 'I can store your documents with vector embaddings and retrive it based on vector search',\n",
       "  'description': None},\n",
       " '1fd2d112-8625-45b2-a322-f3ec9bcd535b': {'data': \"I'm currently under development\",\n",
       "  'description': None},\n",
       " '95876c76-189f-48b5-a662-ff8e5e04f431': {'data': 'looking forward to do more to increase your productivity!',\n",
       "  'description': None},\n",
       " 'afb45564-734b-4041-b960-0e5f5c29f020': {'data': \"Hi I'm your AI personal database and I can store your documents with vector embeddings and retrieve them based on vector search. I'm currently under development, looking forward to doing more to increase your productivity!\",\n",
       "  'description': None},\n",
       " '847077d8-e29b-435e-8158-2c2578fe83e0': {'data': 'hi', 'description': None},\n",
       " 'e4a343b4-a773-4d74-a77a-b7a99f0582d4': {'data': 'need to : implement rag system that pulls data from the internet and chunk it and store as knowledge for easy retrivel',\n",
       "  'description': None},\n",
       " 'a8196f4d-86d6-424c-94fb-35f38977c712': {'data': 'implementd ox-studio.ui for ui interface now need to clean up all the stuff',\n",
       "  'description': None},\n",
       " '04d0637f-e7f3-438d-a304-cf5b6b60537f': {'data': 'remember me : need to do code implementation for key lang conversation ',\n",
       "  'description': None},\n",
       " '49ace27c-d5b9-4e6d-9b3d-918c95f567b0': {'data': 'remember me : gym time is morning from today  ',\n",
       "  'description': None},\n",
       " '63128ace-6566-4287-9ae2-0b0a8ef0357a': {'data': 'remember me : base vector db arcchitecture is done  ',\n",
       "  'description': None},\n",
       " '6617ca14-e924-4d5a-aeec-57006f14c03c': {'data': 'remember me : need to do more research on deep learning  ',\n",
       "  'description': None},\n",
       " '4e9b2d85-d5e6-4e1d-a310-135304da4653': {'data': 'need to do : find efficient data store and retrive method  ',\n",
       "  'description': None},\n",
       " '5a905233-d99e-4abd-be80-98dfca517a42': {'data': 'need to do : i need to finesh deamon search asap  ',\n",
       "  'description': None},\n",
       " '17b4cb6a-be77-4700-8124-3a70d39ef9ca': {'data': 'need to do : need to sleep  ',\n",
       "  'description': None},\n",
       " 'e2e7bb17-67a3-49c8-8074-4fb79f3ea2ca': {'data': 'need to do : look out for bugs in code base and fix it   ',\n",
       "  'description': None},\n",
       " '6401677c-94a0-447c-be71-470d87f898b4': {'data': \"Hi I'm OX-AI your AI personal database \",\n",
       "  'description': None},\n",
       " '8e10324e-8e23-465c-bbc1-af992b9168ec': {'data': 'I can store your documents with vector embaddings and retrive it based on vector search',\n",
       "  'description': None},\n",
       " 'be2ce9b4-d61f-4efd-86ce-0aa0b90b9aeb': {'data': \"I'm currently under development\",\n",
       "  'description': None},\n",
       " '34af962e-7368-4a2e-aacf-9c1520a81604': {'data': 'looking forward to do more to increase your productivity!',\n",
       "  'description': None},\n",
       " '0432a9a0-e3ac-4588-8870-9ec319efd5e3': {'data': \"Hi I'm your AI personal database and I can store your documents with vector embeddings and retrieve them based on vector search. I'm currently under development, looking forward to doing more to increase your productivity!\",\n",
       "  'description': None},\n",
       " '89d5d182-bbff-4880-bed2-874f55c30058': {'data': 'hi', 'description': None},\n",
       " '32def6e5-0e97-479f-95cf-5856827b7972': {'data': 'need to : implement rag system that pulls data from the internet and chunk it and store as knowledge for easy retrivel',\n",
       "  'description': None},\n",
       " '33775ae6-336d-41f4-8128-2fa9fe02e729': {'data': 'implementd ox-studio.ui for ui interface now need to clean up all the stuff',\n",
       "  'description': None},\n",
       " 'aaf2b374-2a7d-4e57-aa29-8f6b65a3005a': {'data': 'remember me : need to do code implementation for key lang conversation ',\n",
       "  'description': None},\n",
       " 'e2eb48cd-ee65-4b00-8eb9-7b09bd5f03c9': {'data': 'remember me : gym time is morning from today  ',\n",
       "  'description': None},\n",
       " 'c0d6dea0-b4bc-459f-b10d-df9881e60068': {'data': 'remember me : base vector db arcchitecture is done  ',\n",
       "  'description': None},\n",
       " 'e647e66d-31db-4eb3-8d7e-13ca6697c306': {'data': 'remember me : need to do more research on deep learning  ',\n",
       "  'description': None},\n",
       " 'b88a8577-06ec-4e98-bf6e-018ddac6fa57': {'data': 'need to do : find efficient data store and retrive method  ',\n",
       "  'description': None},\n",
       " '07876db3-25ef-473d-a5c4-c925d099bf28': {'data': 'need to do : i need to finesh deamon search asap  ',\n",
       "  'description': None},\n",
       " '8fdca65d-0115-49eb-bfa8-47fe1791a0a4': {'data': 'need to do : need to sleep  ',\n",
       "  'description': None},\n",
       " '5b04daa1-14a3-4f48-b461-09c4fa2cf754': {'data': 'need to do : look out for bugs in code base and fix it   ',\n",
       "  'description': None},\n",
       " 'ae7b8672-c184-45ad-88de-a6567c521593': {'data': \"Hi I'm OX-AI your AI personal database \",\n",
       "  'description': None},\n",
       " '0751dece-d15c-4784-bd7d-38b92107509b': {'data': 'I can store your documents with vector embaddings and retrive it based on vector search',\n",
       "  'description': None},\n",
       " 'b1d110c3-941e-4b0b-a381-088d28922c4e': {'data': \"I'm currently under development\",\n",
       "  'description': None},\n",
       " '19cded84-ce20-4e37-89c2-9c44860bbe5e': {'data': 'looking forward to do more to increase your productivity!',\n",
       "  'description': None},\n",
       " '5b595d48-6d16-4b4d-8e4d-71d12543271b': {'data': \"Hi I'm your AI personal database and I can store your documents with vector embeddings and retrieve them based on vector search. I'm currently under development, looking forward to doing more to increase your productivity!\",\n",
       "  'description': None},\n",
       " 'affed30c-7771-4994-964d-dc5342278e35': {'data': 'hi', 'description': None},\n",
       " '7f41a50f-b81c-4c7d-b3c4-2fd6cc14adb9': {'data': 'need to : implement rag system that pulls data from the internet and chunk it and store as knowledge for easy retrivel',\n",
       "  'description': None}}"
      ]
     },
     "execution_count": 20,
     "metadata": {},
     "output_type": "execute_result"
    }
   ],
   "source": [
    "doc.pull()"
   ]
  }
 ],
 "metadata": {
  "kernelspec": {
   "display_name": "Python 3",
   "language": "python",
   "name": "python3"
  },
  "language_info": {
   "codemirror_mode": {
    "name": "ipython",
    "version": 3
   },
   "file_extension": ".py",
   "mimetype": "text/x-python",
   "name": "python",
   "nbconvert_exporter": "python",
   "pygments_lexer": "ipython3",
   "version": "3.11.9"
  }
 },
 "nbformat": 4,
 "nbformat_minor": 2
}
