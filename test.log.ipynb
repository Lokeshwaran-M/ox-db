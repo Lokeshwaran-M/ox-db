{
 "cells": [
  {
   "cell_type": "code",
   "execution_count": 1,
   "metadata": {},
   "outputs": [
    {
     "name": "stderr",
     "output_type": "stream",
     "text": [
      "/home/lokesh/.local/lib/python3.11/site-packages/sentence_transformers/cross_encoder/CrossEncoder.py:11: TqdmExperimentalWarning: Using `tqdm.autonotebook.tqdm` in notebook mode. Use `tqdm.tqdm` instead to force console mode (e.g. in jupyter console)\n",
      "  from tqdm.autonotebook import tqdm, trange\n",
      "/home/lokesh/.local/lib/python3.11/site-packages/huggingface_hub/file_download.py:1132: FutureWarning: `resume_download` is deprecated and will be removed in version 1.0.0. Downloads always resume when possible. If you want to force a new download, use `force_download=True`.\n",
      "  warnings.warn(\n"
     ]
    }
   ],
   "source": [
    "from ox_db.db.log import Log\n",
    "\n",
    "log=Log(\"test\")\n"
   ]
  },
  {
   "cell_type": "code",
   "execution_count": 2,
   "metadata": {},
   "outputs": [],
   "source": [
    "# log.set_doc(\"note\")"
   ]
  },
  {
   "cell_type": "code",
   "execution_count": 3,
   "metadata": {},
   "outputs": [
    {
     "name": "stdout",
     "output_type": "stream",
     "text": [
      "ox-db: Logged data: a645dc86-099b-41e0-83b8-fb9d80bb4c8a in log-[29_06_2024].index\n",
      "ox-db: Logged data: 0f01d01d-514f-4306-b569-de56c27bbc40 in log-[29_06_2024].index\n",
      "ox-db: Logged data: 087d436a-cc76-4a7f-87dd-b8fb3c57824c in log-[29_06_2024].index\n",
      "ox-db: Logged data: 4d2536cd-cab1-48a4-bae7-5350e322e4bf in log-[29_06_2024].index\n"
     ]
    },
    {
     "data": {
      "text/plain": [
       "'4d2536cd-cab1-48a4-bae7-5350e322e4bf'"
      ]
     },
     "execution_count": 3,
     "metadata": {},
     "output_type": "execute_result"
    }
   ],
   "source": [
    "log.push(\"remember me : need to do code implementation for key lang conversation \")\n",
    "log.push(\"remember me : gym time is morning from today  \")\n",
    "log.push(\"remember me : base vector db arcchitecture is done  \")\n",
    "log.push(\"remember me : need to do more research on deep learning  \")"
   ]
  },
  {
   "cell_type": "code",
   "execution_count": 4,
   "metadata": {},
   "outputs": [
    {
     "data": {
      "text/plain": [
       "4"
      ]
     },
     "execution_count": 4,
     "metadata": {},
     "output_type": "execute_result"
    }
   ],
   "source": [
    "log.doc_entry"
   ]
  },
  {
   "cell_type": "code",
   "execution_count": 5,
   "metadata": {},
   "outputs": [
    {
     "name": "stdout",
     "output_type": "stream",
     "text": [
      "ox-db: Logged data: e0d7d3c3-a55a-43b8-afb1-56e0f2684fca in log-[29_06_2024].index\n",
      "ox-db: Logged data: 4bf19ffa-9e1c-4ddb-aee3-3119ac88690c in log-[29_06_2024].index\n",
      "ox-db: Logged data: 396c309f-95d1-4ae9-8058-8dfd32bfc31c in log-[29_06_2024].index\n",
      "ox-db: Logged data: 9c710593-cadc-4cb1-86c2-8b2d906b027d in log-[29_06_2024].index\n"
     ]
    },
    {
     "data": {
      "text/plain": [
       "'9c710593-cadc-4cb1-86c2-8b2d906b027d'"
      ]
     },
     "execution_count": 5,
     "metadata": {},
     "output_type": "execute_result"
    }
   ],
   "source": [
    "log.push(\"need to do : find efficient data store and retrive method  \")\n",
    "log.push(\"need to do : i need to finesh deamon search asap  \")\n",
    "log.push(\"need to do : need to sleep  \")\n",
    "log.push(\"need to do : look out for bugs in code base and fix it   \")\n"
   ]
  },
  {
   "cell_type": "code",
   "execution_count": 6,
   "metadata": {},
   "outputs": [
    {
     "name": "stdout",
     "output_type": "stream",
     "text": [
      "ox-db: Logged data: 6e0deb36-6220-4980-a42c-cfb6597a7a6e in log-[29_06_2024].index\n",
      "ox-db: Logged data: 088b5476-cba9-4e01-b8d1-44ab63900cfe in log-[29_06_2024].index\n",
      "ox-db: Logged data: ae9de27e-5445-4858-a0c2-766fa9f4c0f9 in log-[29_06_2024].index\n",
      "ox-db: Logged data: 7651f53f-e3a5-444c-a994-656cd564a420 in log-[29_06_2024].index\n",
      "ox-db: Logged data: 4f012a5c-1455-4a1d-985d-5b14e01103db in log-[29_06_2024].index\n"
     ]
    },
    {
     "data": {
      "text/plain": [
       "'4f012a5c-1455-4a1d-985d-5b14e01103db'"
      ]
     },
     "execution_count": 6,
     "metadata": {},
     "output_type": "execute_result"
    }
   ],
   "source": [
    "log.push(\"Hi I'm OX-AI your AI personal database \")\n",
    "log.push(\"I can store your documents with vector embaddings and retrive it based on vector search\")\n",
    "log.push(\"I'm currently under development\")\n",
    "log.push(\"looking forward to do more to increase your productivity!\")\n",
    "log.push(\"Hi I'm your AI personal database and I can store your documents with vector embeddings and retrieve them based on vector search. I'm currently under development, looking forward to doing more to increase your productivity!\")"
   ]
  },
  {
   "cell_type": "code",
   "execution_count": 7,
   "metadata": {},
   "outputs": [
    {
     "name": "stdout",
     "output_type": "stream",
     "text": [
      "ox-db: Logged data: 5aa19b7c-5e79-49ce-8b70-d93b947b4f12 in log-[29_06_2024].index\n"
     ]
    },
    {
     "data": {
      "text/plain": [
       "'5aa19b7c-5e79-49ce-8b70-d93b947b4f12'"
      ]
     },
     "execution_count": 7,
     "metadata": {},
     "output_type": "execute_result"
    }
   ],
   "source": [
    "log.push(\"hi\",key=\"time\")"
   ]
  },
  {
   "cell_type": "code",
   "execution_count": 8,
   "metadata": {},
   "outputs": [
    {
     "data": {
      "text/plain": [
       "[{'uid': 'a645dc86-099b-41e0-83b8-fb9d80bb4c8a',\n",
       "  'data': 'remember me : need to do code implementation for key lang conversation '},\n",
       " {'uid': '0f01d01d-514f-4306-b569-de56c27bbc40',\n",
       "  'data': 'remember me : gym time is morning from today  '},\n",
       " {'uid': '087d436a-cc76-4a7f-87dd-b8fb3c57824c',\n",
       "  'data': 'remember me : base vector db arcchitecture is done  '},\n",
       " {'uid': '4d2536cd-cab1-48a4-bae7-5350e322e4bf',\n",
       "  'data': 'remember me : need to do more research on deep learning  '},\n",
       " {'uid': 'e0d7d3c3-a55a-43b8-afb1-56e0f2684fca',\n",
       "  'data': 'need to do : find efficient data store and retrive method  '},\n",
       " {'uid': '4bf19ffa-9e1c-4ddb-aee3-3119ac88690c',\n",
       "  'data': 'need to do : i need to finesh deamon search asap  '},\n",
       " {'uid': '396c309f-95d1-4ae9-8058-8dfd32bfc31c',\n",
       "  'data': 'need to do : need to sleep  '},\n",
       " {'uid': '9c710593-cadc-4cb1-86c2-8b2d906b027d',\n",
       "  'data': 'need to do : look out for bugs in code base and fix it   '},\n",
       " {'uid': '6e0deb36-6220-4980-a42c-cfb6597a7a6e',\n",
       "  'data': \"Hi I'm OX-AI your AI personal database \"},\n",
       " {'uid': '088b5476-cba9-4e01-b8d1-44ab63900cfe',\n",
       "  'data': 'I can store your documents with vector embaddings and retrive it based on vector search'},\n",
       " {'uid': 'ae9de27e-5445-4858-a0c2-766fa9f4c0f9',\n",
       "  'data': \"I'm currently under development\"},\n",
       " {'uid': '7651f53f-e3a5-444c-a994-656cd564a420',\n",
       "  'data': 'looking forward to do more to increase your productivity!'},\n",
       " {'uid': '4f012a5c-1455-4a1d-985d-5b14e01103db',\n",
       "  'data': \"Hi I'm your AI personal database and I can store your documents with vector embeddings and retrieve them based on vector search. I'm currently under development, looking forward to doing more to increase your productivity!\"},\n",
       " {'uid': '5aa19b7c-5e79-49ce-8b70-d93b947b4f12', 'data': 'hi'}]"
      ]
     },
     "execution_count": 8,
     "metadata": {},
     "output_type": "execute_result"
    }
   ],
   "source": [
    "log.pull()"
   ]
  },
  {
   "cell_type": "code",
   "execution_count": 9,
   "metadata": {},
   "outputs": [
    {
     "data": {
      "text/plain": [
       "[{'uid': '6e0deb36-6220-4980-a42c-cfb6597a7a6e',\n",
       "  'data': \"Hi I'm OX-AI your AI personal database \"},\n",
       " {'uid': '5aa19b7c-5e79-49ce-8b70-d93b947b4f12', 'data': 'hi'},\n",
       " {'uid': '0f01d01d-514f-4306-b569-de56c27bbc40',\n",
       "  'data': 'remember me : gym time is morning from today  '}]"
      ]
     },
     "execution_count": 9,
     "metadata": {},
     "output_type": "execute_result"
    }
   ],
   "source": [
    "log.search(\"hi ox-ai\",3)"
   ]
  },
  {
   "cell_type": "code",
   "execution_count": 10,
   "metadata": {},
   "outputs": [
    {
     "data": {
      "text/plain": [
       "'5114f253-13c1-4a3b-b535-a81beac314b8'"
      ]
     },
     "execution_count": 10,
     "metadata": {},
     "output_type": "execute_result"
    }
   ],
   "source": [
    "log.gen_uid()"
   ]
  },
  {
   "cell_type": "code",
   "execution_count": 11,
   "metadata": {},
   "outputs": [
    {
     "name": "stdout",
     "output_type": "stream",
     "text": [
      "ox-db: Logged data: 9bad13a8-2fc6-4d52-98f9-7506c7ebc6ec in log-[29_06_2024].index\n"
     ]
    },
    {
     "data": {
      "text/plain": [
       "'9bad13a8-2fc6-4d52-98f9-7506c7ebc6ec'"
      ]
     },
     "execution_count": 11,
     "metadata": {},
     "output_type": "execute_result"
    }
   ],
   "source": [
    "log.push(\"need to : implement rag system that pulls data from the internet and chunk it and store as knowledge for easy retrivel\")"
   ]
  },
  {
   "cell_type": "code",
   "execution_count": 12,
   "metadata": {},
   "outputs": [
    {
     "data": {
      "text/plain": [
       "[{'uid': '9bad13a8-2fc6-4d52-98f9-7506c7ebc6ec',\n",
       "  'data': 'need to : implement rag system that pulls data from the internet and chunk it and store as knowledge for easy retrivel'},\n",
       " {'uid': '5aa19b7c-5e79-49ce-8b70-d93b947b4f12', 'data': 'hi'}]"
      ]
     },
     "execution_count": 12,
     "metadata": {},
     "output_type": "execute_result"
    }
   ],
   "source": [
    "log.search(\"rag\",2)"
   ]
  },
  {
   "cell_type": "code",
   "execution_count": 13,
   "metadata": {},
   "outputs": [
    {
     "data": {
      "text/plain": [
       "[{'uid': 'a645dc86-099b-41e0-83b8-fb9d80bb4c8a',\n",
       "  'data': 'remember me : need to do code implementation for key lang conversation '},\n",
       " {'uid': '0f01d01d-514f-4306-b569-de56c27bbc40',\n",
       "  'data': 'remember me : gym time is morning from today  '},\n",
       " {'uid': '087d436a-cc76-4a7f-87dd-b8fb3c57824c',\n",
       "  'data': 'remember me : base vector db arcchitecture is done  '},\n",
       " {'uid': '4d2536cd-cab1-48a4-bae7-5350e322e4bf',\n",
       "  'data': 'remember me : need to do more research on deep learning  '},\n",
       " {'uid': 'e0d7d3c3-a55a-43b8-afb1-56e0f2684fca',\n",
       "  'data': 'need to do : find efficient data store and retrive method  '},\n",
       " {'uid': '4bf19ffa-9e1c-4ddb-aee3-3119ac88690c',\n",
       "  'data': 'need to do : i need to finesh deamon search asap  '},\n",
       " {'uid': '396c309f-95d1-4ae9-8058-8dfd32bfc31c',\n",
       "  'data': 'need to do : need to sleep  '},\n",
       " {'uid': '9c710593-cadc-4cb1-86c2-8b2d906b027d',\n",
       "  'data': 'need to do : look out for bugs in code base and fix it   '},\n",
       " {'uid': '6e0deb36-6220-4980-a42c-cfb6597a7a6e',\n",
       "  'data': \"Hi I'm OX-AI your AI personal database \"},\n",
       " {'uid': '088b5476-cba9-4e01-b8d1-44ab63900cfe',\n",
       "  'data': 'I can store your documents with vector embaddings and retrive it based on vector search'},\n",
       " {'uid': 'ae9de27e-5445-4858-a0c2-766fa9f4c0f9',\n",
       "  'data': \"I'm currently under development\"},\n",
       " {'uid': '7651f53f-e3a5-444c-a994-656cd564a420',\n",
       "  'data': 'looking forward to do more to increase your productivity!'},\n",
       " {'uid': '4f012a5c-1455-4a1d-985d-5b14e01103db',\n",
       "  'data': \"Hi I'm your AI personal database and I can store your documents with vector embeddings and retrieve them based on vector search. I'm currently under development, looking forward to doing more to increase your productivity!\"},\n",
       " {'uid': '5aa19b7c-5e79-49ce-8b70-d93b947b4f12', 'data': 'hi'},\n",
       " {'uid': '9bad13a8-2fc6-4d52-98f9-7506c7ebc6ec',\n",
       "  'data': 'need to : implement rag system that pulls data from the internet and chunk it and store as knowledge for easy retrivel'}]"
      ]
     },
     "execution_count": 13,
     "metadata": {},
     "output_type": "execute_result"
    }
   ],
   "source": [
    "log.pull()"
   ]
  },
  {
   "cell_type": "code",
   "execution_count": 18,
   "metadata": {},
   "outputs": [
    {
     "data": {
      "text/plain": [
       "[{'uid': 'a645dc86-099b-41e0-83b8-fb9d80bb4c8a',\n",
       "  'data': 'remember me : need to do code implementation for key lang conversation '},\n",
       " {'uid': '0f01d01d-514f-4306-b569-de56c27bbc40',\n",
       "  'data': 'remember me : gym time is morning from today  '},\n",
       " {'uid': '087d436a-cc76-4a7f-87dd-b8fb3c57824c',\n",
       "  'data': 'remember me : base vector db arcchitecture is done  '},\n",
       " {'uid': '4d2536cd-cab1-48a4-bae7-5350e322e4bf',\n",
       "  'data': 'remember me : need to do more research on deep learning  '},\n",
       " {'uid': 'e0d7d3c3-a55a-43b8-afb1-56e0f2684fca',\n",
       "  'data': 'need to do : find efficient data store and retrive method  '},\n",
       " {'uid': '4bf19ffa-9e1c-4ddb-aee3-3119ac88690c',\n",
       "  'data': 'need to do : i need to finesh deamon search asap  '},\n",
       " {'uid': '396c309f-95d1-4ae9-8058-8dfd32bfc31c',\n",
       "  'data': 'need to do : need to sleep  '},\n",
       " {'uid': '9c710593-cadc-4cb1-86c2-8b2d906b027d',\n",
       "  'data': 'need to do : look out for bugs in code base and fix it   '},\n",
       " {'uid': '6e0deb36-6220-4980-a42c-cfb6597a7a6e',\n",
       "  'data': \"Hi I'm OX-AI your AI personal database \"},\n",
       " {'uid': '088b5476-cba9-4e01-b8d1-44ab63900cfe',\n",
       "  'data': 'I can store your documents with vector embaddings and retrive it based on vector search'},\n",
       " {'uid': 'ae9de27e-5445-4858-a0c2-766fa9f4c0f9',\n",
       "  'data': \"I'm currently under development\"},\n",
       " {'uid': '7651f53f-e3a5-444c-a994-656cd564a420',\n",
       "  'data': 'looking forward to do more to increase your productivity!'},\n",
       " {'uid': '4f012a5c-1455-4a1d-985d-5b14e01103db',\n",
       "  'data': \"Hi I'm your AI personal database and I can store your documents with vector embeddings and retrieve them based on vector search. I'm currently under development, looking forward to doing more to increase your productivity!\"},\n",
       " {'uid': '5aa19b7c-5e79-49ce-8b70-d93b947b4f12', 'data': 'hi'},\n",
       " {'uid': '9bad13a8-2fc6-4d52-98f9-7506c7ebc6ec',\n",
       "  'data': 'need to : implement rag system that pulls data from the internet and chunk it and store as knowledge for easy retrivel'}]"
      ]
     },
     "execution_count": 18,
     "metadata": {},
     "output_type": "execute_result"
    }
   ],
   "source": [
    "log.pull(time=\"03\")"
   ]
  },
  {
   "cell_type": "code",
   "execution_count": 19,
   "metadata": {},
   "outputs": [
    {
     "data": {
      "text/plain": [
       "[{'uid': 'a645dc86-099b-41e0-83b8-fb9d80bb4c8a',\n",
       "  'data': 'remember me : need to do code implementation for key lang conversation '},\n",
       " {'uid': '0f01d01d-514f-4306-b569-de56c27bbc40',\n",
       "  'data': 'remember me : gym time is morning from today  '},\n",
       " {'uid': '087d436a-cc76-4a7f-87dd-b8fb3c57824c',\n",
       "  'data': 'remember me : base vector db arcchitecture is done  '},\n",
       " {'uid': '4d2536cd-cab1-48a4-bae7-5350e322e4bf',\n",
       "  'data': 'remember me : need to do more research on deep learning  '},\n",
       " {'uid': 'e0d7d3c3-a55a-43b8-afb1-56e0f2684fca',\n",
       "  'data': 'need to do : find efficient data store and retrive method  '},\n",
       " {'uid': '4bf19ffa-9e1c-4ddb-aee3-3119ac88690c',\n",
       "  'data': 'need to do : i need to finesh deamon search asap  '},\n",
       " {'uid': '396c309f-95d1-4ae9-8058-8dfd32bfc31c',\n",
       "  'data': 'need to do : need to sleep  '},\n",
       " {'uid': '9c710593-cadc-4cb1-86c2-8b2d906b027d',\n",
       "  'data': 'need to do : look out for bugs in code base and fix it   '},\n",
       " {'uid': '6e0deb36-6220-4980-a42c-cfb6597a7a6e',\n",
       "  'data': \"Hi I'm OX-AI your AI personal database \"},\n",
       " {'uid': '088b5476-cba9-4e01-b8d1-44ab63900cfe',\n",
       "  'data': 'I can store your documents with vector embaddings and retrive it based on vector search'},\n",
       " {'uid': 'ae9de27e-5445-4858-a0c2-766fa9f4c0f9',\n",
       "  'data': \"I'm currently under development\"},\n",
       " {'uid': '7651f53f-e3a5-444c-a994-656cd564a420',\n",
       "  'data': 'looking forward to do more to increase your productivity!'},\n",
       " {'uid': '4f012a5c-1455-4a1d-985d-5b14e01103db',\n",
       "  'data': \"Hi I'm your AI personal database and I can store your documents with vector embeddings and retrieve them based on vector search. I'm currently under development, looking forward to doing more to increase your productivity!\"},\n",
       " {'uid': '5aa19b7c-5e79-49ce-8b70-d93b947b4f12', 'data': 'hi'},\n",
       " {'uid': '9bad13a8-2fc6-4d52-98f9-7506c7ebc6ec',\n",
       "  'data': 'need to : implement rag system that pulls data from the internet and chunk it and store as knowledge for easy retrivel'}]"
      ]
     },
     "execution_count": 19,
     "metadata": {},
     "output_type": "execute_result"
    }
   ],
   "source": [
    "log.pull(date=\"29_06\")"
   ]
  },
  {
   "cell_type": "code",
   "execution_count": 20,
   "metadata": {},
   "outputs": [
    {
     "data": {
      "text/plain": [
       "['5aa19b7c-5e79-49ce-8b70-d93b947b4f12']"
      ]
     },
     "execution_count": 20,
     "metadata": {},
     "output_type": "execute_result"
    }
   ],
   "source": [
    "log.search_uid(key=\"time\")"
   ]
  },
  {
   "cell_type": "code",
   "execution_count": 21,
   "metadata": {},
   "outputs": [
    {
     "data": {
      "text/plain": [
       "[{'uid': 'a645dc86-099b-41e0-83b8-fb9d80bb4c8a',\n",
       "  'data': 'remember me : need to do code implementation for key lang conversation '},\n",
       " {'uid': '0f01d01d-514f-4306-b569-de56c27bbc40',\n",
       "  'data': 'remember me : gym time is morning from today  '},\n",
       " {'uid': '087d436a-cc76-4a7f-87dd-b8fb3c57824c',\n",
       "  'data': 'remember me : base vector db arcchitecture is done  '},\n",
       " {'uid': '4d2536cd-cab1-48a4-bae7-5350e322e4bf',\n",
       "  'data': 'remember me : need to do more research on deep learning  '},\n",
       " {'uid': 'e0d7d3c3-a55a-43b8-afb1-56e0f2684fca',\n",
       "  'data': 'need to do : find efficient data store and retrive method  '},\n",
       " {'uid': '4bf19ffa-9e1c-4ddb-aee3-3119ac88690c',\n",
       "  'data': 'need to do : i need to finesh deamon search asap  '},\n",
       " {'uid': '396c309f-95d1-4ae9-8058-8dfd32bfc31c',\n",
       "  'data': 'need to do : need to sleep  '},\n",
       " {'uid': '9c710593-cadc-4cb1-86c2-8b2d906b027d',\n",
       "  'data': 'need to do : look out for bugs in code base and fix it   '},\n",
       " {'uid': '6e0deb36-6220-4980-a42c-cfb6597a7a6e',\n",
       "  'data': \"Hi I'm OX-AI your AI personal database \"},\n",
       " {'uid': '088b5476-cba9-4e01-b8d1-44ab63900cfe',\n",
       "  'data': 'I can store your documents with vector embaddings and retrive it based on vector search'},\n",
       " {'uid': 'ae9de27e-5445-4858-a0c2-766fa9f4c0f9',\n",
       "  'data': \"I'm currently under development\"},\n",
       " {'uid': '7651f53f-e3a5-444c-a994-656cd564a420',\n",
       "  'data': 'looking forward to do more to increase your productivity!'},\n",
       " {'uid': '4f012a5c-1455-4a1d-985d-5b14e01103db',\n",
       "  'data': \"Hi I'm your AI personal database and I can store your documents with vector embeddings and retrieve them based on vector search. I'm currently under development, looking forward to doing more to increase your productivity!\"},\n",
       " {'uid': '5aa19b7c-5e79-49ce-8b70-d93b947b4f12', 'data': 'hi'},\n",
       " {'uid': '9bad13a8-2fc6-4d52-98f9-7506c7ebc6ec',\n",
       "  'data': 'need to : implement rag system that pulls data from the internet and chunk it and store as knowledge for easy retrivel'}]"
      ]
     },
     "execution_count": 21,
     "metadata": {},
     "output_type": "execute_result"
    }
   ],
   "source": [
    "log.pull(time=\"03\",docfile=log.doc+\".index\")"
   ]
  },
  {
   "cell_type": "code",
   "execution_count": null,
   "metadata": {},
   "outputs": [],
   "source": []
  }
 ],
 "metadata": {
  "kernelspec": {
   "display_name": "Python 3",
   "language": "python",
   "name": "python3"
  },
  "language_info": {
   "codemirror_mode": {
    "name": "ipython",
    "version": 3
   },
   "file_extension": ".py",
   "mimetype": "text/x-python",
   "name": "python",
   "nbconvert_exporter": "python",
   "pygments_lexer": "ipython3",
   "version": "3.11.9"
  }
 },
 "nbformat": 4,
 "nbformat_minor": 2
}
