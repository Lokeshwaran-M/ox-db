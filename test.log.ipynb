{
 "cells": [
  {
   "cell_type": "code",
   "execution_count": 3,
   "metadata": {},
   "outputs": [],
   "source": [
    "from ox_db.db.log import Log\n",
    "\n",
    "log=Log(\"test\")\n"
   ]
  },
  {
   "cell_type": "code",
   "execution_count": 4,
   "metadata": {},
   "outputs": [
    {
     "data": {
      "text/plain": [
       "'note'"
      ]
     },
     "execution_count": 4,
     "metadata": {},
     "output_type": "execute_result"
    }
   ],
   "source": [
    "log.set_doc(\"note\")"
   ]
  },
  {
   "cell_type": "code",
   "execution_count": 5,
   "metadata": {},
   "outputs": [
    {
     "name": "stdout",
     "output_type": "stream",
     "text": [
      "ox-db: Logged data: af3ad8af-87bb-415c-a6b5-767dd0507def in note.index\n",
      "ox-db: Logged data: 6465c90d-6d70-4058-9bbd-2473fef4fd9f in note.index\n",
      "ox-db: Logged data: 6bdcb13f-c282-4af7-8561-159b4750b827 in note.index\n",
      "ox-db: Logged data: f3563c13-3773-44cd-bf22-022c16d7ba06 in note.index\n"
     ]
    },
    {
     "data": {
      "text/plain": [
       "'f3563c13-3773-44cd-bf22-022c16d7ba06'"
      ]
     },
     "execution_count": 5,
     "metadata": {},
     "output_type": "execute_result"
    }
   ],
   "source": [
    "log.push(\"remember me : need to do code implementation for key lang conversation \")\n",
    "log.push(\"remember me : gym time is morning from today  \")\n",
    "log.push(\"remember me : base vector db arcchitecture is done  \")\n",
    "log.push(\"remember me : need to do more research on deep learning  \")"
   ]
  },
  {
   "cell_type": "code",
   "execution_count": 7,
   "metadata": {},
   "outputs": [
    {
     "data": {
      "text/plain": [
       "{'entry': 4, 'vec_model': 'sentence-transformers/all-MiniLM-L6-v2'}"
      ]
     },
     "execution_count": 7,
     "metadata": {},
     "output_type": "execute_result"
    }
   ],
   "source": [
    "log.doc_reg"
   ]
  },
  {
   "cell_type": "code",
   "execution_count": 8,
   "metadata": {},
   "outputs": [
    {
     "name": "stdout",
     "output_type": "stream",
     "text": [
      "ox-db: Logged data: bdc12160-a2d4-4ad9-85b1-ca6e0be3a084 in note.index\n",
      "ox-db: Logged data: 31edfeb3-8c3f-4a19-ac0a-48648a73c23f in note.index\n",
      "ox-db: Logged data: b9f1fe01-9b93-4282-ba84-8b0819578595 in note.index\n",
      "ox-db: Logged data: 788627ca-5421-4d96-9c49-a40def64a772 in note.index\n"
     ]
    },
    {
     "data": {
      "text/plain": [
       "'788627ca-5421-4d96-9c49-a40def64a772'"
      ]
     },
     "execution_count": 8,
     "metadata": {},
     "output_type": "execute_result"
    }
   ],
   "source": [
    "log.push(\"need to do : find efficient data store and retrive method  \")\n",
    "log.push(\"need to do : i need to finesh deamon search asap  \")\n",
    "log.push(\"need to do : need to sleep  \")\n",
    "log.push(\"need to do : look out for bugs in code base and fix it   \")"
   ]
  },
  {
   "cell_type": "code",
   "execution_count": 9,
   "metadata": {},
   "outputs": [
    {
     "name": "stdout",
     "output_type": "stream",
     "text": [
      "ox-db: Logged data: 9858b3d3-d652-4b4b-87a0-7911bb5f7837 in note.index\n",
      "ox-db: Logged data: 70636d7c-23c5-42db-8cf5-0a61d383b481 in note.index\n",
      "ox-db: Logged data: 3ae091cd-d926-4d3a-8f01-a3151564c77e in note.index\n",
      "ox-db: Logged data: 818fbb3d-c231-4fad-9ba7-5585322c792d in note.index\n",
      "ox-db: Logged data: 00294985-3eb0-4abf-be67-26e0a4cf9133 in note.index\n"
     ]
    },
    {
     "data": {
      "text/plain": [
       "'00294985-3eb0-4abf-be67-26e0a4cf9133'"
      ]
     },
     "execution_count": 9,
     "metadata": {},
     "output_type": "execute_result"
    }
   ],
   "source": [
    "log.push(\"Hi I'm OX-AI your AI personal database \")\n",
    "log.push(\"I can store your documents with vector embaddings and retrive it based on vector search\")\n",
    "log.push(\"I'm currently under development\")\n",
    "log.push(\"looking forward to do more to increase your productivity!\")\n",
    "log.push(\"Hi I'm your AI personal database and I can store your documents with vector embeddings and retrieve them based on vector search. I'm currently under development, looking forward to doing more to increase your productivity!\")"
   ]
  },
  {
   "cell_type": "code",
   "execution_count": 10,
   "metadata": {},
   "outputs": [
    {
     "name": "stdout",
     "output_type": "stream",
     "text": [
      "ox-db: Logged data: 429aa261-8a2f-45d8-ae14-baa6e1c18dc9 in note.index\n"
     ]
    },
    {
     "data": {
      "text/plain": [
       "'429aa261-8a2f-45d8-ae14-baa6e1c18dc9'"
      ]
     },
     "execution_count": 10,
     "metadata": {},
     "output_type": "execute_result"
    }
   ],
   "source": [
    "log.push(\"hi\",key=\"time\")"
   ]
  },
  {
   "cell_type": "code",
   "execution_count": 11,
   "metadata": {},
   "outputs": [
    {
     "data": {
      "text/plain": [
       "[{'uid': 'af3ad8af-87bb-415c-a6b5-767dd0507def',\n",
       "  'unit': {'data': 'remember me : need to do code implementation for key lang conversation ',\n",
       "   'description': None}},\n",
       " {'uid': '6465c90d-6d70-4058-9bbd-2473fef4fd9f',\n",
       "  'unit': {'data': 'remember me : gym time is morning from today  ',\n",
       "   'description': None}},\n",
       " {'uid': '6bdcb13f-c282-4af7-8561-159b4750b827',\n",
       "  'unit': {'data': 'remember me : base vector db arcchitecture is done  ',\n",
       "   'description': None}},\n",
       " {'uid': 'f3563c13-3773-44cd-bf22-022c16d7ba06',\n",
       "  'unit': {'data': 'remember me : need to do more research on deep learning  ',\n",
       "   'description': None}},\n",
       " {'uid': 'bdc12160-a2d4-4ad9-85b1-ca6e0be3a084',\n",
       "  'unit': {'data': 'need to do : find efficient data store and retrive method  ',\n",
       "   'description': None}},\n",
       " {'uid': '31edfeb3-8c3f-4a19-ac0a-48648a73c23f',\n",
       "  'unit': {'data': 'need to do : i need to finesh deamon search asap  ',\n",
       "   'description': None}},\n",
       " {'uid': 'b9f1fe01-9b93-4282-ba84-8b0819578595',\n",
       "  'unit': {'data': 'need to do : need to sleep  ', 'description': None}},\n",
       " {'uid': '788627ca-5421-4d96-9c49-a40def64a772',\n",
       "  'unit': {'data': 'need to do : look out for bugs in code base and fix it   ',\n",
       "   'description': None}},\n",
       " {'uid': '9858b3d3-d652-4b4b-87a0-7911bb5f7837',\n",
       "  'unit': {'data': \"Hi I'm OX-AI your AI personal database \",\n",
       "   'description': None}},\n",
       " {'uid': '70636d7c-23c5-42db-8cf5-0a61d383b481',\n",
       "  'unit': {'data': 'I can store your documents with vector embaddings and retrive it based on vector search',\n",
       "   'description': None}},\n",
       " {'uid': '3ae091cd-d926-4d3a-8f01-a3151564c77e',\n",
       "  'unit': {'data': \"I'm currently under development\", 'description': None}},\n",
       " {'uid': '818fbb3d-c231-4fad-9ba7-5585322c792d',\n",
       "  'unit': {'data': 'looking forward to do more to increase your productivity!',\n",
       "   'description': None}},\n",
       " {'uid': '00294985-3eb0-4abf-be67-26e0a4cf9133',\n",
       "  'unit': {'data': \"Hi I'm your AI personal database and I can store your documents with vector embeddings and retrieve them based on vector search. I'm currently under development, looking forward to doing more to increase your productivity!\",\n",
       "   'description': None}},\n",
       " {'uid': '429aa261-8a2f-45d8-ae14-baa6e1c18dc9',\n",
       "  'unit': {'data': 'hi', 'description': None}}]"
      ]
     },
     "execution_count": 11,
     "metadata": {},
     "output_type": "execute_result"
    }
   ],
   "source": [
    "log.pull()"
   ]
  },
  {
   "cell_type": "code",
   "execution_count": 12,
   "metadata": {},
   "outputs": [
    {
     "name": "stdout",
     "output_type": "stream",
     "text": [
      "ox-db : {'data': \"Hi I'm OX-AI your AI personal database \", 'description': None}\n",
      "ox-db : {'data': 'hi', 'description': None}\n",
      "ox-db : {'data': 'remember me : gym time is morning from today  ', 'description': None}\n"
     ]
    },
    {
     "data": {
      "text/plain": [
       "[{'uid': '9858b3d3-d652-4b4b-87a0-7911bb5f7837',\n",
       "  'unit': {'data': \"Hi I'm OX-AI your AI personal database \",\n",
       "   'description': None}},\n",
       " {'uid': '429aa261-8a2f-45d8-ae14-baa6e1c18dc9',\n",
       "  'unit': {'data': 'hi', 'description': None}},\n",
       " {'uid': '6465c90d-6d70-4058-9bbd-2473fef4fd9f',\n",
       "  'unit': {'data': 'remember me : gym time is morning from today  ',\n",
       "   'description': None}}]"
      ]
     },
     "execution_count": 12,
     "metadata": {},
     "output_type": "execute_result"
    }
   ],
   "source": [
    "log.search(\"hi ox-ai\",3)"
   ]
  },
  {
   "cell_type": "code",
   "execution_count": 13,
   "metadata": {},
   "outputs": [
    {
     "data": {
      "text/plain": [
       "'12c86485-3ae5-4a7b-ab42-9cc4bd59da84'"
      ]
     },
     "execution_count": 13,
     "metadata": {},
     "output_type": "execute_result"
    }
   ],
   "source": [
    "log.gen_uid()"
   ]
  },
  {
   "cell_type": "code",
   "execution_count": 14,
   "metadata": {},
   "outputs": [
    {
     "name": "stdout",
     "output_type": "stream",
     "text": [
      "ox-db: Logged data: eaf9630d-8a35-40a3-a539-e42bbb9ca55b in note.index\n"
     ]
    },
    {
     "data": {
      "text/plain": [
       "'eaf9630d-8a35-40a3-a539-e42bbb9ca55b'"
      ]
     },
     "execution_count": 14,
     "metadata": {},
     "output_type": "execute_result"
    }
   ],
   "source": [
    "log.push(\"need to : implement rag system that pulls data from the internet and chunk it and store as knowledge for easy retrivel\")"
   ]
  },
  {
   "cell_type": "code",
   "execution_count": 15,
   "metadata": {},
   "outputs": [
    {
     "name": "stdout",
     "output_type": "stream",
     "text": [
      "ox-db : {'data': 'need to : implement rag system that pulls data from the internet and chunk it and store as knowledge for easy retrivel', 'description': None}\n",
      "ox-db : {'data': 'hi', 'description': None}\n",
      "CPU times: user 46.3 ms, sys: 0 ns, total: 46.3 ms\n",
      "Wall time: 14.9 ms\n"
     ]
    },
    {
     "data": {
      "text/plain": [
       "[{'uid': 'eaf9630d-8a35-40a3-a539-e42bbb9ca55b',\n",
       "  'unit': {'data': 'need to : implement rag system that pulls data from the internet and chunk it and store as knowledge for easy retrivel',\n",
       "   'description': None}},\n",
       " {'uid': '429aa261-8a2f-45d8-ae14-baa6e1c18dc9',\n",
       "  'unit': {'data': 'hi', 'description': None}}]"
      ]
     },
     "execution_count": 15,
     "metadata": {},
     "output_type": "execute_result"
    }
   ],
   "source": [
    "%%time\n",
    "log.search(\"rag\",2)"
   ]
  },
  {
   "cell_type": "code",
   "execution_count": 16,
   "metadata": {},
   "outputs": [
    {
     "name": "stdout",
     "output_type": "stream",
     "text": [
      "CPU times: user 0 ns, sys: 1.38 ms, total: 1.38 ms\n",
      "Wall time: 1.29 ms\n"
     ]
    }
   ],
   "source": [
    "%%time\n",
    "_=log.pull()"
   ]
  },
  {
   "cell_type": "code",
   "execution_count": 17,
   "metadata": {},
   "outputs": [
    {
     "name": "stdout",
     "output_type": "stream",
     "text": [
      "CPU times: user 1.66 ms, sys: 0 ns, total: 1.66 ms\n",
      "Wall time: 1.52 ms\n"
     ]
    },
    {
     "data": {
      "text/plain": [
       "[{'uid': 'af3ad8af-87bb-415c-a6b5-767dd0507def',\n",
       "  'unit': {'data': 'remember me : need to do code implementation for key lang conversation ',\n",
       "   'description': None}},\n",
       " {'uid': '6465c90d-6d70-4058-9bbd-2473fef4fd9f',\n",
       "  'unit': {'data': 'remember me : gym time is morning from today  ',\n",
       "   'description': None}},\n",
       " {'uid': '6bdcb13f-c282-4af7-8561-159b4750b827',\n",
       "  'unit': {'data': 'remember me : base vector db arcchitecture is done  ',\n",
       "   'description': None}},\n",
       " {'uid': 'f3563c13-3773-44cd-bf22-022c16d7ba06',\n",
       "  'unit': {'data': 'remember me : need to do more research on deep learning  ',\n",
       "   'description': None}},\n",
       " {'uid': 'bdc12160-a2d4-4ad9-85b1-ca6e0be3a084',\n",
       "  'unit': {'data': 'need to do : find efficient data store and retrive method  ',\n",
       "   'description': None}},\n",
       " {'uid': '31edfeb3-8c3f-4a19-ac0a-48648a73c23f',\n",
       "  'unit': {'data': 'need to do : i need to finesh deamon search asap  ',\n",
       "   'description': None}},\n",
       " {'uid': 'b9f1fe01-9b93-4282-ba84-8b0819578595',\n",
       "  'unit': {'data': 'need to do : need to sleep  ', 'description': None}},\n",
       " {'uid': '788627ca-5421-4d96-9c49-a40def64a772',\n",
       "  'unit': {'data': 'need to do : look out for bugs in code base and fix it   ',\n",
       "   'description': None}},\n",
       " {'uid': '9858b3d3-d652-4b4b-87a0-7911bb5f7837',\n",
       "  'unit': {'data': \"Hi I'm OX-AI your AI personal database \",\n",
       "   'description': None}},\n",
       " {'uid': '70636d7c-23c5-42db-8cf5-0a61d383b481',\n",
       "  'unit': {'data': 'I can store your documents with vector embaddings and retrive it based on vector search',\n",
       "   'description': None}},\n",
       " {'uid': '3ae091cd-d926-4d3a-8f01-a3151564c77e',\n",
       "  'unit': {'data': \"I'm currently under development\", 'description': None}},\n",
       " {'uid': '818fbb3d-c231-4fad-9ba7-5585322c792d',\n",
       "  'unit': {'data': 'looking forward to do more to increase your productivity!',\n",
       "   'description': None}},\n",
       " {'uid': '00294985-3eb0-4abf-be67-26e0a4cf9133',\n",
       "  'unit': {'data': \"Hi I'm your AI personal database and I can store your documents with vector embeddings and retrieve them based on vector search. I'm currently under development, looking forward to doing more to increase your productivity!\",\n",
       "   'description': None}},\n",
       " {'uid': '429aa261-8a2f-45d8-ae14-baa6e1c18dc9',\n",
       "  'unit': {'data': 'hi', 'description': None}},\n",
       " {'uid': 'eaf9630d-8a35-40a3-a539-e42bbb9ca55b',\n",
       "  'unit': {'data': 'need to : implement rag system that pulls data from the internet and chunk it and store as knowledge for easy retrivel',\n",
       "   'description': None}}]"
      ]
     },
     "execution_count": 17,
     "metadata": {},
     "output_type": "execute_result"
    }
   ],
   "source": [
    "%%time\n",
    "log.pull()"
   ]
  },
  {
   "cell_type": "code",
   "execution_count": 18,
   "metadata": {},
   "outputs": [
    {
     "name": "stdout",
     "output_type": "stream",
     "text": [
      "ox-db : {'data': 'remember me : need to do code implementation for key lang conversation ', 'description': None}\n",
      "ox-db : {'data': 'remember me : gym time is morning from today  ', 'description': None}\n",
      "ox-db : {'data': 'remember me : base vector db arcchitecture is done  ', 'description': None}\n",
      "ox-db : {'data': 'remember me : need to do more research on deep learning  ', 'description': None}\n",
      "ox-db : {'data': 'need to do : find efficient data store and retrive method  ', 'description': None}\n",
      "ox-db : {'data': 'need to do : i need to finesh deamon search asap  ', 'description': None}\n",
      "ox-db : {'data': 'need to do : need to sleep  ', 'description': None}\n",
      "ox-db : {'data': 'need to do : look out for bugs in code base and fix it   ', 'description': None}\n",
      "ox-db : {'data': \"Hi I'm OX-AI your AI personal database \", 'description': None}\n",
      "ox-db : {'data': 'I can store your documents with vector embaddings and retrive it based on vector search', 'description': None}\n",
      "ox-db : {'data': \"I'm currently under development\", 'description': None}\n",
      "ox-db : {'data': 'looking forward to do more to increase your productivity!', 'description': None}\n",
      "ox-db : {'data': \"Hi I'm your AI personal database and I can store your documents with vector embeddings and retrieve them based on vector search. I'm currently under development, looking forward to doing more to increase your productivity!\", 'description': None}\n",
      "ox-db : {'data': 'hi', 'description': None}\n",
      "ox-db : {'data': 'need to : implement rag system that pulls data from the internet and chunk it and store as knowledge for easy retrivel', 'description': None}\n"
     ]
    },
    {
     "data": {
      "text/plain": [
       "[{'uid': 'af3ad8af-87bb-415c-a6b5-767dd0507def',\n",
       "  'unit': {'data': 'remember me : need to do code implementation for key lang conversation ',\n",
       "   'description': None}},\n",
       " {'uid': '6465c90d-6d70-4058-9bbd-2473fef4fd9f',\n",
       "  'unit': {'data': 'remember me : gym time is morning from today  ',\n",
       "   'description': None}},\n",
       " {'uid': '6bdcb13f-c282-4af7-8561-159b4750b827',\n",
       "  'unit': {'data': 'remember me : base vector db arcchitecture is done  ',\n",
       "   'description': None}},\n",
       " {'uid': 'f3563c13-3773-44cd-bf22-022c16d7ba06',\n",
       "  'unit': {'data': 'remember me : need to do more research on deep learning  ',\n",
       "   'description': None}},\n",
       " {'uid': 'bdc12160-a2d4-4ad9-85b1-ca6e0be3a084',\n",
       "  'unit': {'data': 'need to do : find efficient data store and retrive method  ',\n",
       "   'description': None}},\n",
       " {'uid': '31edfeb3-8c3f-4a19-ac0a-48648a73c23f',\n",
       "  'unit': {'data': 'need to do : i need to finesh deamon search asap  ',\n",
       "   'description': None}},\n",
       " {'uid': 'b9f1fe01-9b93-4282-ba84-8b0819578595',\n",
       "  'unit': {'data': 'need to do : need to sleep  ', 'description': None}},\n",
       " {'uid': '788627ca-5421-4d96-9c49-a40def64a772',\n",
       "  'unit': {'data': 'need to do : look out for bugs in code base and fix it   ',\n",
       "   'description': None}},\n",
       " {'uid': '9858b3d3-d652-4b4b-87a0-7911bb5f7837',\n",
       "  'unit': {'data': \"Hi I'm OX-AI your AI personal database \",\n",
       "   'description': None}},\n",
       " {'uid': '70636d7c-23c5-42db-8cf5-0a61d383b481',\n",
       "  'unit': {'data': 'I can store your documents with vector embaddings and retrive it based on vector search',\n",
       "   'description': None}},\n",
       " {'uid': '3ae091cd-d926-4d3a-8f01-a3151564c77e',\n",
       "  'unit': {'data': \"I'm currently under development\", 'description': None}},\n",
       " {'uid': '818fbb3d-c231-4fad-9ba7-5585322c792d',\n",
       "  'unit': {'data': 'looking forward to do more to increase your productivity!',\n",
       "   'description': None}},\n",
       " {'uid': '00294985-3eb0-4abf-be67-26e0a4cf9133',\n",
       "  'unit': {'data': \"Hi I'm your AI personal database and I can store your documents with vector embeddings and retrieve them based on vector search. I'm currently under development, looking forward to doing more to increase your productivity!\",\n",
       "   'description': None}},\n",
       " {'uid': '429aa261-8a2f-45d8-ae14-baa6e1c18dc9',\n",
       "  'unit': {'data': 'hi', 'description': None}},\n",
       " {'uid': 'eaf9630d-8a35-40a3-a539-e42bbb9ca55b',\n",
       "  'unit': {'data': 'need to : implement rag system that pulls data from the internet and chunk it and store as knowledge for easy retrivel',\n",
       "   'description': None}}]"
      ]
     },
     "execution_count": 18,
     "metadata": {},
     "output_type": "execute_result"
    }
   ],
   "source": [
    "log.pull(time=\"12\")"
   ]
  },
  {
   "cell_type": "code",
   "execution_count": 19,
   "metadata": {},
   "outputs": [
    {
     "data": {
      "text/plain": [
       "[]"
      ]
     },
     "execution_count": 19,
     "metadata": {},
     "output_type": "execute_result"
    }
   ],
   "source": [
    "log.pull(date=\"30_06\")"
   ]
  },
  {
   "cell_type": "code",
   "execution_count": 20,
   "metadata": {},
   "outputs": [
    {
     "data": {
      "text/plain": [
       "['429aa261-8a2f-45d8-ae14-baa6e1c18dc9']"
      ]
     },
     "execution_count": 20,
     "metadata": {},
     "output_type": "execute_result"
    }
   ],
   "source": [
    "log.search_uid(key=\"time\")"
   ]
  },
  {
   "cell_type": "code",
   "execution_count": 21,
   "metadata": {},
   "outputs": [],
   "source": [
    "uids = log.search_uid(time=\"12\")"
   ]
  },
  {
   "cell_type": "code",
   "execution_count": 22,
   "metadata": {},
   "outputs": [
    {
     "name": "stdout",
     "output_type": "stream",
     "text": [
      "CPU times: user 49 µs, sys: 9 µs, total: 58 µs\n",
      "Wall time: 68.9 µs\n"
     ]
    },
    {
     "data": {
      "text/plain": [
       "[{'uid': 'af3ad8af-87bb-415c-a6b5-767dd0507def',\n",
       "  'unit': {'uid': 'af3ad8af-87bb-415c-a6b5-767dd0507def',\n",
       "   'key': 'key',\n",
       "   'doc': 'note',\n",
       "   'time': '12:01:47_AM',\n",
       "   'date': '02_07_2024',\n",
       "   'metadata': None,\n",
       "   'data_type': 'str'}},\n",
       " {'uid': '6465c90d-6d70-4058-9bbd-2473fef4fd9f',\n",
       "  'unit': {'uid': '6465c90d-6d70-4058-9bbd-2473fef4fd9f',\n",
       "   'key': 'key',\n",
       "   'doc': 'note',\n",
       "   'time': '12:01:49_AM',\n",
       "   'date': '02_07_2024',\n",
       "   'metadata': None,\n",
       "   'data_type': 'str'}},\n",
       " {'uid': '6bdcb13f-c282-4af7-8561-159b4750b827',\n",
       "  'unit': {'uid': '6bdcb13f-c282-4af7-8561-159b4750b827',\n",
       "   'key': 'key',\n",
       "   'doc': 'note',\n",
       "   'time': '12:01:49_AM',\n",
       "   'date': '02_07_2024',\n",
       "   'metadata': None,\n",
       "   'data_type': 'str'}},\n",
       " {'uid': 'f3563c13-3773-44cd-bf22-022c16d7ba06',\n",
       "  'unit': {'uid': 'f3563c13-3773-44cd-bf22-022c16d7ba06',\n",
       "   'key': 'key',\n",
       "   'doc': 'note',\n",
       "   'time': '12:01:49_AM',\n",
       "   'date': '02_07_2024',\n",
       "   'metadata': None,\n",
       "   'data_type': 'str'}},\n",
       " {'uid': 'bdc12160-a2d4-4ad9-85b1-ca6e0be3a084',\n",
       "  'unit': {'uid': 'bdc12160-a2d4-4ad9-85b1-ca6e0be3a084',\n",
       "   'key': 'key',\n",
       "   'doc': 'note',\n",
       "   'time': '12:02:20_AM',\n",
       "   'date': '02_07_2024',\n",
       "   'metadata': None,\n",
       "   'data_type': 'str'}},\n",
       " {'uid': '31edfeb3-8c3f-4a19-ac0a-48648a73c23f',\n",
       "  'unit': {'uid': '31edfeb3-8c3f-4a19-ac0a-48648a73c23f',\n",
       "   'key': 'key',\n",
       "   'doc': 'note',\n",
       "   'time': '12:02:20_AM',\n",
       "   'date': '02_07_2024',\n",
       "   'metadata': None,\n",
       "   'data_type': 'str'}},\n",
       " {'uid': 'b9f1fe01-9b93-4282-ba84-8b0819578595',\n",
       "  'unit': {'uid': 'b9f1fe01-9b93-4282-ba84-8b0819578595',\n",
       "   'key': 'key',\n",
       "   'doc': 'note',\n",
       "   'time': '12:02:20_AM',\n",
       "   'date': '02_07_2024',\n",
       "   'metadata': None,\n",
       "   'data_type': 'str'}},\n",
       " {'uid': '788627ca-5421-4d96-9c49-a40def64a772',\n",
       "  'unit': {'uid': '788627ca-5421-4d96-9c49-a40def64a772',\n",
       "   'key': 'key',\n",
       "   'doc': 'note',\n",
       "   'time': '12:02:20_AM',\n",
       "   'date': '02_07_2024',\n",
       "   'metadata': None,\n",
       "   'data_type': 'str'}},\n",
       " {'uid': '9858b3d3-d652-4b4b-87a0-7911bb5f7837',\n",
       "  'unit': {'uid': '9858b3d3-d652-4b4b-87a0-7911bb5f7837',\n",
       "   'key': 'key',\n",
       "   'doc': 'note',\n",
       "   'time': '12:02:20_AM',\n",
       "   'date': '02_07_2024',\n",
       "   'metadata': None,\n",
       "   'data_type': 'str'}},\n",
       " {'uid': '70636d7c-23c5-42db-8cf5-0a61d383b481',\n",
       "  'unit': {'uid': '70636d7c-23c5-42db-8cf5-0a61d383b481',\n",
       "   'key': 'key',\n",
       "   'doc': 'note',\n",
       "   'time': '12:02:20_AM',\n",
       "   'date': '02_07_2024',\n",
       "   'metadata': None,\n",
       "   'data_type': 'str'}},\n",
       " {'uid': '3ae091cd-d926-4d3a-8f01-a3151564c77e',\n",
       "  'unit': {'uid': '3ae091cd-d926-4d3a-8f01-a3151564c77e',\n",
       "   'key': 'key',\n",
       "   'doc': 'note',\n",
       "   'time': '12:02:20_AM',\n",
       "   'date': '02_07_2024',\n",
       "   'metadata': None,\n",
       "   'data_type': 'str'}},\n",
       " {'uid': '818fbb3d-c231-4fad-9ba7-5585322c792d',\n",
       "  'unit': {'uid': '818fbb3d-c231-4fad-9ba7-5585322c792d',\n",
       "   'key': 'key',\n",
       "   'doc': 'note',\n",
       "   'time': '12:02:20_AM',\n",
       "   'date': '02_07_2024',\n",
       "   'metadata': None,\n",
       "   'data_type': 'str'}},\n",
       " {'uid': '00294985-3eb0-4abf-be67-26e0a4cf9133',\n",
       "  'unit': {'uid': '00294985-3eb0-4abf-be67-26e0a4cf9133',\n",
       "   'key': 'key',\n",
       "   'doc': 'note',\n",
       "   'time': '12:02:20_AM',\n",
       "   'date': '02_07_2024',\n",
       "   'metadata': None,\n",
       "   'data_type': 'str'}},\n",
       " {'uid': '429aa261-8a2f-45d8-ae14-baa6e1c18dc9',\n",
       "  'unit': {'uid': '429aa261-8a2f-45d8-ae14-baa6e1c18dc9',\n",
       "   'key': 'time',\n",
       "   'doc': 'note',\n",
       "   'time': '12:02:20_AM',\n",
       "   'date': '02_07_2024',\n",
       "   'metadata': None,\n",
       "   'data_type': 'str'}},\n",
       " {'uid': 'eaf9630d-8a35-40a3-a539-e42bbb9ca55b',\n",
       "  'unit': {'uid': 'eaf9630d-8a35-40a3-a539-e42bbb9ca55b',\n",
       "   'key': 'key',\n",
       "   'doc': 'note',\n",
       "   'time': '12:02:21_AM',\n",
       "   'date': '02_07_2024',\n",
       "   'metadata': None,\n",
       "   'data_type': 'str'}}]"
      ]
     },
     "execution_count": 22,
     "metadata": {},
     "output_type": "execute_result"
    }
   ],
   "source": [
    "%%time\n",
    "log.pull(uid=uids,docfile=\".index\")"
   ]
  },
  {
   "cell_type": "code",
   "execution_count": 23,
   "metadata": {},
   "outputs": [
    {
     "data": {
      "text/plain": [
       "[{'uid': 'af3ad8af-87bb-415c-a6b5-767dd0507def',\n",
       "  'unit': {'uid': 'af3ad8af-87bb-415c-a6b5-767dd0507def',\n",
       "   'key': 'key',\n",
       "   'doc': 'note',\n",
       "   'time': '12:01:47_AM',\n",
       "   'date': '02_07_2024',\n",
       "   'metadata': None,\n",
       "   'data_type': 'str'}},\n",
       " {'uid': '6465c90d-6d70-4058-9bbd-2473fef4fd9f',\n",
       "  'unit': {'uid': '6465c90d-6d70-4058-9bbd-2473fef4fd9f',\n",
       "   'key': 'key',\n",
       "   'doc': 'note',\n",
       "   'time': '12:01:49_AM',\n",
       "   'date': '02_07_2024',\n",
       "   'metadata': None,\n",
       "   'data_type': 'str'}},\n",
       " {'uid': '6bdcb13f-c282-4af7-8561-159b4750b827',\n",
       "  'unit': {'uid': '6bdcb13f-c282-4af7-8561-159b4750b827',\n",
       "   'key': 'key',\n",
       "   'doc': 'note',\n",
       "   'time': '12:01:49_AM',\n",
       "   'date': '02_07_2024',\n",
       "   'metadata': None,\n",
       "   'data_type': 'str'}},\n",
       " {'uid': 'f3563c13-3773-44cd-bf22-022c16d7ba06',\n",
       "  'unit': {'uid': 'f3563c13-3773-44cd-bf22-022c16d7ba06',\n",
       "   'key': 'key',\n",
       "   'doc': 'note',\n",
       "   'time': '12:01:49_AM',\n",
       "   'date': '02_07_2024',\n",
       "   'metadata': None,\n",
       "   'data_type': 'str'}},\n",
       " {'uid': 'bdc12160-a2d4-4ad9-85b1-ca6e0be3a084',\n",
       "  'unit': {'uid': 'bdc12160-a2d4-4ad9-85b1-ca6e0be3a084',\n",
       "   'key': 'key',\n",
       "   'doc': 'note',\n",
       "   'time': '12:02:20_AM',\n",
       "   'date': '02_07_2024',\n",
       "   'metadata': None,\n",
       "   'data_type': 'str'}},\n",
       " {'uid': '31edfeb3-8c3f-4a19-ac0a-48648a73c23f',\n",
       "  'unit': {'uid': '31edfeb3-8c3f-4a19-ac0a-48648a73c23f',\n",
       "   'key': 'key',\n",
       "   'doc': 'note',\n",
       "   'time': '12:02:20_AM',\n",
       "   'date': '02_07_2024',\n",
       "   'metadata': None,\n",
       "   'data_type': 'str'}},\n",
       " {'uid': 'b9f1fe01-9b93-4282-ba84-8b0819578595',\n",
       "  'unit': {'uid': 'b9f1fe01-9b93-4282-ba84-8b0819578595',\n",
       "   'key': 'key',\n",
       "   'doc': 'note',\n",
       "   'time': '12:02:20_AM',\n",
       "   'date': '02_07_2024',\n",
       "   'metadata': None,\n",
       "   'data_type': 'str'}},\n",
       " {'uid': '788627ca-5421-4d96-9c49-a40def64a772',\n",
       "  'unit': {'uid': '788627ca-5421-4d96-9c49-a40def64a772',\n",
       "   'key': 'key',\n",
       "   'doc': 'note',\n",
       "   'time': '12:02:20_AM',\n",
       "   'date': '02_07_2024',\n",
       "   'metadata': None,\n",
       "   'data_type': 'str'}},\n",
       " {'uid': '9858b3d3-d652-4b4b-87a0-7911bb5f7837',\n",
       "  'unit': {'uid': '9858b3d3-d652-4b4b-87a0-7911bb5f7837',\n",
       "   'key': 'key',\n",
       "   'doc': 'note',\n",
       "   'time': '12:02:20_AM',\n",
       "   'date': '02_07_2024',\n",
       "   'metadata': None,\n",
       "   'data_type': 'str'}},\n",
       " {'uid': '70636d7c-23c5-42db-8cf5-0a61d383b481',\n",
       "  'unit': {'uid': '70636d7c-23c5-42db-8cf5-0a61d383b481',\n",
       "   'key': 'key',\n",
       "   'doc': 'note',\n",
       "   'time': '12:02:20_AM',\n",
       "   'date': '02_07_2024',\n",
       "   'metadata': None,\n",
       "   'data_type': 'str'}},\n",
       " {'uid': '3ae091cd-d926-4d3a-8f01-a3151564c77e',\n",
       "  'unit': {'uid': '3ae091cd-d926-4d3a-8f01-a3151564c77e',\n",
       "   'key': 'key',\n",
       "   'doc': 'note',\n",
       "   'time': '12:02:20_AM',\n",
       "   'date': '02_07_2024',\n",
       "   'metadata': None,\n",
       "   'data_type': 'str'}},\n",
       " {'uid': '818fbb3d-c231-4fad-9ba7-5585322c792d',\n",
       "  'unit': {'uid': '818fbb3d-c231-4fad-9ba7-5585322c792d',\n",
       "   'key': 'key',\n",
       "   'doc': 'note',\n",
       "   'time': '12:02:20_AM',\n",
       "   'date': '02_07_2024',\n",
       "   'metadata': None,\n",
       "   'data_type': 'str'}},\n",
       " {'uid': '00294985-3eb0-4abf-be67-26e0a4cf9133',\n",
       "  'unit': {'uid': '00294985-3eb0-4abf-be67-26e0a4cf9133',\n",
       "   'key': 'key',\n",
       "   'doc': 'note',\n",
       "   'time': '12:02:20_AM',\n",
       "   'date': '02_07_2024',\n",
       "   'metadata': None,\n",
       "   'data_type': 'str'}},\n",
       " {'uid': '429aa261-8a2f-45d8-ae14-baa6e1c18dc9',\n",
       "  'unit': {'uid': '429aa261-8a2f-45d8-ae14-baa6e1c18dc9',\n",
       "   'key': 'time',\n",
       "   'doc': 'note',\n",
       "   'time': '12:02:20_AM',\n",
       "   'date': '02_07_2024',\n",
       "   'metadata': None,\n",
       "   'data_type': 'str'}},\n",
       " {'uid': 'eaf9630d-8a35-40a3-a539-e42bbb9ca55b',\n",
       "  'unit': {'uid': 'eaf9630d-8a35-40a3-a539-e42bbb9ca55b',\n",
       "   'key': 'key',\n",
       "   'doc': 'note',\n",
       "   'time': '12:02:21_AM',\n",
       "   'date': '02_07_2024',\n",
       "   'metadata': None,\n",
       "   'data_type': 'str'}}]"
      ]
     },
     "execution_count": 23,
     "metadata": {},
     "output_type": "execute_result"
    }
   ],
   "source": [
    "log.pull(time=\"12\",docfile=\".index\")"
   ]
  }
 ],
 "metadata": {
  "kernelspec": {
   "display_name": "Python 3",
   "language": "python",
   "name": "python3"
  },
  "language_info": {
   "codemirror_mode": {
    "name": "ipython",
    "version": 3
   },
   "file_extension": ".py",
   "mimetype": "text/x-python",
   "name": "python",
   "nbconvert_exporter": "python",
   "pygments_lexer": "ipython3",
   "version": "3.11.9"
  }
 },
 "nbformat": 4,
 "nbformat_minor": 2
}
