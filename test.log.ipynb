{
 "cells": [
  {
   "cell_type": "code",
   "execution_count": 1,
   "metadata": {},
   "outputs": [
    {
     "name": "stderr",
     "output_type": "stream",
     "text": [
      "/home/lokesh/.local/lib/python3.11/site-packages/sentence_transformers/cross_encoder/CrossEncoder.py:11: TqdmExperimentalWarning: Using `tqdm.autonotebook.tqdm` in notebook mode. Use `tqdm.tqdm` instead to force console mode (e.g. in jupyter console)\n",
      "  from tqdm.autonotebook import tqdm, trange\n",
      "/home/lokesh/.local/lib/python3.11/site-packages/huggingface_hub/file_download.py:1132: FutureWarning: `resume_download` is deprecated and will be removed in version 1.0.0. Downloads always resume when possible. If you want to force a new download, use `force_download=True`.\n",
      "  warnings.warn(\n"
     ]
    }
   ],
   "source": [
    "from ox_db.db.log import Oxdb\n",
    "\n",
    "db = Oxdb(\"test-lg1\")"
   ]
  },
  {
   "cell_type": "code",
   "execution_count": 2,
   "metadata": {},
   "outputs": [],
   "source": [
    "doc = db.get_doc(\"note\")"
   ]
  },
  {
   "cell_type": "code",
   "execution_count": 3,
   "metadata": {},
   "outputs": [
    {
     "data": {
      "text/plain": [
       "'f2f10f13-9bc4-4fbf-a14e-cd8458b85e6a'"
      ]
     },
     "execution_count": 3,
     "metadata": {},
     "output_type": "execute_result"
    }
   ],
   "source": [
    "doc.push(\"implementd ox-studio.ui for ui interface now need to clean up all the stuff\")"
   ]
  },
  {
   "cell_type": "code",
   "execution_count": 4,
   "metadata": {},
   "outputs": [
    {
     "data": {
      "text/plain": [
       "'9565984d-3229-48f6-a6c7-36cbce127980'"
      ]
     },
     "execution_count": 4,
     "metadata": {},
     "output_type": "execute_result"
    }
   ],
   "source": [
    "doc.push(\"remember me : need to do code implementation for key lang conversation \")\n",
    "doc.push(\"remember me : gym time is morning from today  \")\n",
    "doc.push(\"remember me : base vector db arcchitecture is done  \")\n",
    "doc.push(\"remember me : need to do more research on deep learning  \")"
   ]
  },
  {
   "cell_type": "code",
   "execution_count": 5,
   "metadata": {},
   "outputs": [
    {
     "data": {
      "text/plain": [
       "{'entry': 5, 'vec_model': 'sentence-transformers/all-MiniLM-L6-v2'}"
      ]
     },
     "execution_count": 5,
     "metadata": {},
     "output_type": "execute_result"
    }
   ],
   "source": [
    "doc.doc_reg"
   ]
  },
  {
   "cell_type": "code",
   "execution_count": 6,
   "metadata": {},
   "outputs": [
    {
     "data": {
      "text/plain": [
       "'3ea0cd73-af49-430d-a06b-10681759eed9'"
      ]
     },
     "execution_count": 6,
     "metadata": {},
     "output_type": "execute_result"
    }
   ],
   "source": [
    "doc.push(\"need to do : find efficient data store and retrive method  \")\n",
    "doc.push(\"need to do : i need to finesh deamon search asap  \")\n",
    "doc.push(\"need to do : need to sleep  \")\n",
    "doc.push(\"need to do : look out for bugs in code base and fix it   \")"
   ]
  },
  {
   "cell_type": "code",
   "execution_count": 7,
   "metadata": {},
   "outputs": [
    {
     "data": {
      "text/plain": [
       "'4c1ca54b-57dd-4707-8094-4e19221e9e6c'"
      ]
     },
     "execution_count": 7,
     "metadata": {},
     "output_type": "execute_result"
    }
   ],
   "source": [
    "doc.push(\"Hi I'm OX-AI your AI personal database \", metadata={\"res\": \"assistant\"})\n",
    "doc.push(\n",
    "    \"I can store your documents with vector embaddings and retrive it based on vector search\",\n",
    "    metadata={\"res\": \"assistant\"},\n",
    ")\n",
    "doc.push(\"I'm currently under development\", metadata={\"res\": \"assistant\"})\n",
    "doc.push(\n",
    "    \"looking forward to do more to increase your productivity!\",\n",
    "    metadata={\"res\": \"assistant\"},\n",
    ")\n",
    "doc.push(\n",
    "    \"Hi I'm your AI personal database and I can store your documents with vector embeddings and retrieve them based on vector search. I'm currently under development, looking forward to doing more to increase your productivity!\",\n",
    "    metadata={\"res\": \"assistant\"},\n",
    ")"
   ]
  },
  {
   "cell_type": "code",
   "execution_count": 8,
   "metadata": {},
   "outputs": [
    {
     "data": {
      "text/plain": [
       "'a9251d6e-a2a1-417b-9cbe-708685d3eeeb'"
      ]
     },
     "execution_count": 8,
     "metadata": {},
     "output_type": "execute_result"
    }
   ],
   "source": [
    "doc.push(\"hi\", key=\"time\")"
   ]
  },
  {
   "cell_type": "code",
   "execution_count": 29,
   "metadata": {},
   "outputs": [
    {
     "data": {
      "text/plain": [
       "{'entries': 10,\n",
       " 'uid': ['f2f10f13-9bc4-4fbf-a14e-cd8458b85e6a',\n",
       "  '5556ec16-f703-49a6-9483-2c5bd240cbaf',\n",
       "  'ca6abfa3-9102-4c53-8bc3-ee6a384cd28b',\n",
       "  'a30e6517-3895-41ba-9a66-3a2e3a02d4b1',\n",
       "  '3ea0cd73-af49-430d-a06b-10681759eed9',\n",
       "  'a9251d6e-a2a1-417b-9cbe-708685d3eeeb',\n",
       "  '4c1ca54b-57dd-4707-8094-4e19221e9e6c',\n",
       "  '87cb4633-657f-4fa0-a604-e76ad6222f9e',\n",
       "  'ce48e545-96d4-413d-b492-8e9eb4c38156',\n",
       "  'b42e4d35-c92b-4259-8aee-a1b314fd7015'],\n",
       " 'data': ['implementd ox-studio.ui for ui interface now need to clean up all the stuff',\n",
       "  \"Hi I'm OX-AI your AI personal database \",\n",
       "  'looking forward to do more to increase your productivity!',\n",
       "  \"I'm currently under development\",\n",
       "  'need to do : look out for bugs in code base and fix it   ',\n",
       "  'hi',\n",
       "  \"Hi I'm your AI personal database and I can store your documents with vector embeddings and retrieve them based on vector search. I'm currently under development, looking forward to doing more to increase your productivity!\",\n",
       "  'remember me : base vector db arcchitecture is done  ',\n",
       "  'need to do : i need to finesh deamon search asap  ',\n",
       "  'remember me : need to do code implementation for key lang conversation '],\n",
       " 'description': [None, None, None, None, None, None, None, None, None, None],\n",
       " 'index': [{'uid': 'f2f10f13-9bc4-4fbf-a14e-cd8458b85e6a',\n",
       "   'key': 'key',\n",
       "   'doc': 'note',\n",
       "   'time': '01:22:20',\n",
       "   'date': '12-08-2024',\n",
       "   'metadata': None,\n",
       "   'data_type': 'str'},\n",
       "  {'uid': '5556ec16-f703-49a6-9483-2c5bd240cbaf',\n",
       "   'key': 'key',\n",
       "   'doc': 'note',\n",
       "   'time': '01:22:21',\n",
       "   'date': '12-08-2024',\n",
       "   'metadata': {'res': 'assistant'},\n",
       "   'data_type': 'str'},\n",
       "  {'uid': 'ca6abfa3-9102-4c53-8bc3-ee6a384cd28b',\n",
       "   'key': 'key',\n",
       "   'doc': 'note',\n",
       "   'time': '01:22:21',\n",
       "   'date': '12-08-2024',\n",
       "   'metadata': {'res': 'assistant'},\n",
       "   'data_type': 'str'},\n",
       "  {'uid': 'a30e6517-3895-41ba-9a66-3a2e3a02d4b1',\n",
       "   'key': 'key',\n",
       "   'doc': 'note',\n",
       "   'time': '01:22:21',\n",
       "   'date': '12-08-2024',\n",
       "   'metadata': {'res': 'assistant'},\n",
       "   'data_type': 'str'},\n",
       "  {'uid': '3ea0cd73-af49-430d-a06b-10681759eed9',\n",
       "   'key': 'key',\n",
       "   'doc': 'note',\n",
       "   'time': '01:22:21',\n",
       "   'date': '12-08-2024',\n",
       "   'metadata': None,\n",
       "   'data_type': 'str'},\n",
       "  {'uid': 'a9251d6e-a2a1-417b-9cbe-708685d3eeeb',\n",
       "   'key': 'time',\n",
       "   'doc': 'note',\n",
       "   'time': '01:22:21',\n",
       "   'date': '12-08-2024',\n",
       "   'metadata': None,\n",
       "   'data_type': 'str'},\n",
       "  {'uid': '4c1ca54b-57dd-4707-8094-4e19221e9e6c',\n",
       "   'key': 'key',\n",
       "   'doc': 'note',\n",
       "   'time': '01:22:21',\n",
       "   'date': '12-08-2024',\n",
       "   'metadata': {'res': 'assistant'},\n",
       "   'data_type': 'str'},\n",
       "  {'uid': '87cb4633-657f-4fa0-a604-e76ad6222f9e',\n",
       "   'key': 'key',\n",
       "   'doc': 'note',\n",
       "   'time': '01:22:20',\n",
       "   'date': '12-08-2024',\n",
       "   'metadata': None,\n",
       "   'data_type': 'str'},\n",
       "  {'uid': 'ce48e545-96d4-413d-b492-8e9eb4c38156',\n",
       "   'key': 'key',\n",
       "   'doc': 'note',\n",
       "   'time': '01:22:20',\n",
       "   'date': '12-08-2024',\n",
       "   'metadata': None,\n",
       "   'data_type': 'str'},\n",
       "  {'uid': 'b42e4d35-c92b-4259-8aee-a1b314fd7015',\n",
       "   'key': 'key',\n",
       "   'doc': 'note',\n",
       "   'time': '01:22:20',\n",
       "   'date': '12-08-2024',\n",
       "   'metadata': None,\n",
       "   'data_type': 'str'}],\n",
       " 'embeddings': []}"
      ]
     },
     "execution_count": 29,
     "metadata": {},
     "output_type": "execute_result"
    }
   ],
   "source": [
    "doc.search(\"ox-studio.ui\", time=\"01\")"
   ]
  },
  {
   "cell_type": "code",
   "execution_count": 10,
   "metadata": {},
   "outputs": [
    {
     "data": {
      "text/plain": [
       "'0d84aa50-cab9-4b2a-8a6d-bf6c9da58ccd'"
      ]
     },
     "execution_count": 10,
     "metadata": {},
     "output_type": "execute_result"
    }
   ],
   "source": [
    "doc.push(\n",
    "    \"need to : implement rag system that pulls data from the internet and chunk it and store as knowledge for easy retrivel\"\n",
    ")"
   ]
  },
  {
   "cell_type": "code",
   "execution_count": 11,
   "metadata": {},
   "outputs": [
    {
     "name": "stdout",
     "output_type": "stream",
     "text": [
      "CPU times: user 39.7 ms, sys: 0 ns, total: 39.7 ms\n",
      "Wall time: 13.6 ms\n"
     ]
    },
    {
     "data": {
      "text/plain": [
       "{'entries': 5,\n",
       " 'uid': ['c500e61a-38ef-4cb3-91b1-c5e1fdc29825',\n",
       "  '5556ec16-f703-49a6-9483-2c5bd240cbaf',\n",
       "  '4c1ca54b-57dd-4707-8094-4e19221e9e6c',\n",
       "  'ca6abfa3-9102-4c53-8bc3-ee6a384cd28b',\n",
       "  'a30e6517-3895-41ba-9a66-3a2e3a02d4b1'],\n",
       " 'data': ['I can store your documents with vector embaddings and retrive it based on vector search',\n",
       "  \"Hi I'm OX-AI your AI personal database \",\n",
       "  \"Hi I'm your AI personal database and I can store your documents with vector embeddings and retrieve them based on vector search. I'm currently under development, looking forward to doing more to increase your productivity!\",\n",
       "  'looking forward to do more to increase your productivity!',\n",
       "  \"I'm currently under development\"],\n",
       " 'description': [None, None, None, None, None],\n",
       " 'index': [{'uid': 'c500e61a-38ef-4cb3-91b1-c5e1fdc29825',\n",
       "   'key': 'key',\n",
       "   'doc': 'note',\n",
       "   'time': '01:22:21',\n",
       "   'date': '12-08-2024',\n",
       "   'metadata': {'res': 'assistant'},\n",
       "   'data_type': 'str'},\n",
       "  {'uid': '5556ec16-f703-49a6-9483-2c5bd240cbaf',\n",
       "   'key': 'key',\n",
       "   'doc': 'note',\n",
       "   'time': '01:22:21',\n",
       "   'date': '12-08-2024',\n",
       "   'metadata': {'res': 'assistant'},\n",
       "   'data_type': 'str'},\n",
       "  {'uid': '4c1ca54b-57dd-4707-8094-4e19221e9e6c',\n",
       "   'key': 'key',\n",
       "   'doc': 'note',\n",
       "   'time': '01:22:21',\n",
       "   'date': '12-08-2024',\n",
       "   'metadata': {'res': 'assistant'},\n",
       "   'data_type': 'str'},\n",
       "  {'uid': 'ca6abfa3-9102-4c53-8bc3-ee6a384cd28b',\n",
       "   'key': 'key',\n",
       "   'doc': 'note',\n",
       "   'time': '01:22:21',\n",
       "   'date': '12-08-2024',\n",
       "   'metadata': {'res': 'assistant'},\n",
       "   'data_type': 'str'},\n",
       "  {'uid': 'a30e6517-3895-41ba-9a66-3a2e3a02d4b1',\n",
       "   'key': 'key',\n",
       "   'doc': 'note',\n",
       "   'time': '01:22:21',\n",
       "   'date': '12-08-2024',\n",
       "   'metadata': {'res': 'assistant'},\n",
       "   'data_type': 'str'}],\n",
       " 'embeddings': []}"
      ]
     },
     "execution_count": 11,
     "metadata": {},
     "output_type": "execute_result"
    }
   ],
   "source": [
    "%%time\n",
    "\n",
    "doc.search(\"rag system data chunk\",6,where={\"res\":\"assistant\"})"
   ]
  },
  {
   "cell_type": "code",
   "execution_count": 22,
   "metadata": {},
   "outputs": [
    {
     "name": "stdout",
     "output_type": "stream",
     "text": [
      "CPU times: user 21 µs, sys: 6 µs, total: 27 µs\n",
      "Wall time: 28.8 µs\n"
     ]
    },
    {
     "data": {
      "text/plain": [
       "{'5556ec16-f703-49a6-9483-2c5bd240cbaf': {'uid': '5556ec16-f703-49a6-9483-2c5bd240cbaf',\n",
       "  'key': 'key',\n",
       "  'doc': 'note',\n",
       "  'time': '01:22:21',\n",
       "  'date': '12-08-2024',\n",
       "  'metadata': {'res': 'assistant'},\n",
       "  'data_type': 'str'},\n",
       " 'c500e61a-38ef-4cb3-91b1-c5e1fdc29825': {'uid': 'c500e61a-38ef-4cb3-91b1-c5e1fdc29825',\n",
       "  'key': 'key',\n",
       "  'doc': 'note',\n",
       "  'time': '01:22:21',\n",
       "  'date': '12-08-2024',\n",
       "  'metadata': {'res': 'assistant'},\n",
       "  'data_type': 'str'},\n",
       " 'a30e6517-3895-41ba-9a66-3a2e3a02d4b1': {'uid': 'a30e6517-3895-41ba-9a66-3a2e3a02d4b1',\n",
       "  'key': 'key',\n",
       "  'doc': 'note',\n",
       "  'time': '01:22:21',\n",
       "  'date': '12-08-2024',\n",
       "  'metadata': {'res': 'assistant'},\n",
       "  'data_type': 'str'},\n",
       " 'ca6abfa3-9102-4c53-8bc3-ee6a384cd28b': {'uid': 'ca6abfa3-9102-4c53-8bc3-ee6a384cd28b',\n",
       "  'key': 'key',\n",
       "  'doc': 'note',\n",
       "  'time': '01:22:21',\n",
       "  'date': '12-08-2024',\n",
       "  'metadata': {'res': 'assistant'},\n",
       "  'data_type': 'str'},\n",
       " '4c1ca54b-57dd-4707-8094-4e19221e9e6c': {'uid': '4c1ca54b-57dd-4707-8094-4e19221e9e6c',\n",
       "  'key': 'key',\n",
       "  'doc': 'note',\n",
       "  'time': '01:22:21',\n",
       "  'date': '12-08-2024',\n",
       "  'metadata': {'res': 'assistant'},\n",
       "  'data_type': 'str'}}"
      ]
     },
     "execution_count": 22,
     "metadata": {},
     "output_type": "execute_result"
    }
   ],
   "source": [
    "%%time\n",
    "doc.pull(time='01', where={\"res\":\"assistant\"}, docfile=\".index\")"
   ]
  },
  {
   "cell_type": "code",
   "execution_count": 23,
   "metadata": {},
   "outputs": [
    {
     "data": {
      "text/plain": [
       "{'f2f10f13-9bc4-4fbf-a14e-cd8458b85e6a': {'uid': 'f2f10f13-9bc4-4fbf-a14e-cd8458b85e6a',\n",
       "  'key': 'key',\n",
       "  'doc': 'note',\n",
       "  'time': '01:22:20',\n",
       "  'date': '12-08-2024',\n",
       "  'metadata': None,\n",
       "  'data_type': 'str'},\n",
       " 'b42e4d35-c92b-4259-8aee-a1b314fd7015': {'uid': 'b42e4d35-c92b-4259-8aee-a1b314fd7015',\n",
       "  'key': 'key',\n",
       "  'doc': 'note',\n",
       "  'time': '01:22:20',\n",
       "  'date': '12-08-2024',\n",
       "  'metadata': None,\n",
       "  'data_type': 'str'},\n",
       " 'facbbaf7-e539-4abf-9f51-567c189dfe19': {'uid': 'facbbaf7-e539-4abf-9f51-567c189dfe19',\n",
       "  'key': 'key',\n",
       "  'doc': 'note',\n",
       "  'time': '01:22:20',\n",
       "  'date': '12-08-2024',\n",
       "  'metadata': None,\n",
       "  'data_type': 'str'},\n",
       " '87cb4633-657f-4fa0-a604-e76ad6222f9e': {'uid': '87cb4633-657f-4fa0-a604-e76ad6222f9e',\n",
       "  'key': 'key',\n",
       "  'doc': 'note',\n",
       "  'time': '01:22:20',\n",
       "  'date': '12-08-2024',\n",
       "  'metadata': None,\n",
       "  'data_type': 'str'},\n",
       " '9565984d-3229-48f6-a6c7-36cbce127980': {'uid': '9565984d-3229-48f6-a6c7-36cbce127980',\n",
       "  'key': 'key',\n",
       "  'doc': 'note',\n",
       "  'time': '01:22:20',\n",
       "  'date': '12-08-2024',\n",
       "  'metadata': None,\n",
       "  'data_type': 'str'},\n",
       " '361641eb-a68d-4722-aac7-6eee84b803bd': {'uid': '361641eb-a68d-4722-aac7-6eee84b803bd',\n",
       "  'key': 'key',\n",
       "  'doc': 'note',\n",
       "  'time': '01:22:20',\n",
       "  'date': '12-08-2024',\n",
       "  'metadata': None,\n",
       "  'data_type': 'str'},\n",
       " 'ce48e545-96d4-413d-b492-8e9eb4c38156': {'uid': 'ce48e545-96d4-413d-b492-8e9eb4c38156',\n",
       "  'key': 'key',\n",
       "  'doc': 'note',\n",
       "  'time': '01:22:20',\n",
       "  'date': '12-08-2024',\n",
       "  'metadata': None,\n",
       "  'data_type': 'str'},\n",
       " 'f79b9b9c-7af1-416a-8bdd-2ba057791fc4': {'uid': 'f79b9b9c-7af1-416a-8bdd-2ba057791fc4',\n",
       "  'key': 'key',\n",
       "  'doc': 'note',\n",
       "  'time': '01:22:21',\n",
       "  'date': '12-08-2024',\n",
       "  'metadata': None,\n",
       "  'data_type': 'str'},\n",
       " '3ea0cd73-af49-430d-a06b-10681759eed9': {'uid': '3ea0cd73-af49-430d-a06b-10681759eed9',\n",
       "  'key': 'key',\n",
       "  'doc': 'note',\n",
       "  'time': '01:22:21',\n",
       "  'date': '12-08-2024',\n",
       "  'metadata': None,\n",
       "  'data_type': 'str'},\n",
       " '5556ec16-f703-49a6-9483-2c5bd240cbaf': {'uid': '5556ec16-f703-49a6-9483-2c5bd240cbaf',\n",
       "  'key': 'key',\n",
       "  'doc': 'note',\n",
       "  'time': '01:22:21',\n",
       "  'date': '12-08-2024',\n",
       "  'metadata': {'res': 'assistant'},\n",
       "  'data_type': 'str'},\n",
       " 'c500e61a-38ef-4cb3-91b1-c5e1fdc29825': {'uid': 'c500e61a-38ef-4cb3-91b1-c5e1fdc29825',\n",
       "  'key': 'key',\n",
       "  'doc': 'note',\n",
       "  'time': '01:22:21',\n",
       "  'date': '12-08-2024',\n",
       "  'metadata': {'res': 'assistant'},\n",
       "  'data_type': 'str'},\n",
       " 'a30e6517-3895-41ba-9a66-3a2e3a02d4b1': {'uid': 'a30e6517-3895-41ba-9a66-3a2e3a02d4b1',\n",
       "  'key': 'key',\n",
       "  'doc': 'note',\n",
       "  'time': '01:22:21',\n",
       "  'date': '12-08-2024',\n",
       "  'metadata': {'res': 'assistant'},\n",
       "  'data_type': 'str'},\n",
       " 'ca6abfa3-9102-4c53-8bc3-ee6a384cd28b': {'uid': 'ca6abfa3-9102-4c53-8bc3-ee6a384cd28b',\n",
       "  'key': 'key',\n",
       "  'doc': 'note',\n",
       "  'time': '01:22:21',\n",
       "  'date': '12-08-2024',\n",
       "  'metadata': {'res': 'assistant'},\n",
       "  'data_type': 'str'},\n",
       " '4c1ca54b-57dd-4707-8094-4e19221e9e6c': {'uid': '4c1ca54b-57dd-4707-8094-4e19221e9e6c',\n",
       "  'key': 'key',\n",
       "  'doc': 'note',\n",
       "  'time': '01:22:21',\n",
       "  'date': '12-08-2024',\n",
       "  'metadata': {'res': 'assistant'},\n",
       "  'data_type': 'str'},\n",
       " 'a9251d6e-a2a1-417b-9cbe-708685d3eeeb': {'uid': 'a9251d6e-a2a1-417b-9cbe-708685d3eeeb',\n",
       "  'key': 'time',\n",
       "  'doc': 'note',\n",
       "  'time': '01:22:21',\n",
       "  'date': '12-08-2024',\n",
       "  'metadata': None,\n",
       "  'data_type': 'str'},\n",
       " '0d84aa50-cab9-4b2a-8a6d-bf6c9da58ccd': {'uid': '0d84aa50-cab9-4b2a-8a6d-bf6c9da58ccd',\n",
       "  'key': 'key',\n",
       "  'doc': 'note',\n",
       "  'time': '01:22:21',\n",
       "  'date': '12-08-2024',\n",
       "  'metadata': None,\n",
       "  'data_type': 'str'}}"
      ]
     },
     "execution_count": 23,
     "metadata": {},
     "output_type": "execute_result"
    }
   ],
   "source": [
    "doc.pull(time=\"01\",docfile=\".index\")"
   ]
  },
  {
   "cell_type": "code",
   "execution_count": 26,
   "metadata": {},
   "outputs": [
    {
     "data": {
      "text/plain": [
       "{'f2f10f13-9bc4-4fbf-a14e-cd8458b85e6a': {'data': 'implementd ox-studio.ui for ui interface now need to clean up all the stuff',\n",
       "  'description': None},\n",
       " 'b42e4d35-c92b-4259-8aee-a1b314fd7015': {'data': 'remember me : need to do code implementation for key lang conversation ',\n",
       "  'description': None},\n",
       " 'facbbaf7-e539-4abf-9f51-567c189dfe19': {'data': 'remember me : gym time is morning from today  ',\n",
       "  'description': None},\n",
       " '87cb4633-657f-4fa0-a604-e76ad6222f9e': {'data': 'remember me : base vector db arcchitecture is done  ',\n",
       "  'description': None},\n",
       " '9565984d-3229-48f6-a6c7-36cbce127980': {'data': 'remember me : need to do more research on deep learning  ',\n",
       "  'description': None},\n",
       " '361641eb-a68d-4722-aac7-6eee84b803bd': {'data': 'need to do : find efficient data store and retrive method  ',\n",
       "  'description': None},\n",
       " 'ce48e545-96d4-413d-b492-8e9eb4c38156': {'data': 'need to do : i need to finesh deamon search asap  ',\n",
       "  'description': None},\n",
       " 'f79b9b9c-7af1-416a-8bdd-2ba057791fc4': {'data': 'need to do : need to sleep  ',\n",
       "  'description': None},\n",
       " '3ea0cd73-af49-430d-a06b-10681759eed9': {'data': 'need to do : look out for bugs in code base and fix it   ',\n",
       "  'description': None},\n",
       " '5556ec16-f703-49a6-9483-2c5bd240cbaf': {'data': \"Hi I'm OX-AI your AI personal database \",\n",
       "  'description': None},\n",
       " 'c500e61a-38ef-4cb3-91b1-c5e1fdc29825': {'data': 'I can store your documents with vector embaddings and retrive it based on vector search',\n",
       "  'description': None},\n",
       " 'a30e6517-3895-41ba-9a66-3a2e3a02d4b1': {'data': \"I'm currently under development\",\n",
       "  'description': None},\n",
       " 'ca6abfa3-9102-4c53-8bc3-ee6a384cd28b': {'data': 'looking forward to do more to increase your productivity!',\n",
       "  'description': None},\n",
       " '4c1ca54b-57dd-4707-8094-4e19221e9e6c': {'data': \"Hi I'm your AI personal database and I can store your documents with vector embeddings and retrieve them based on vector search. I'm currently under development, looking forward to doing more to increase your productivity!\",\n",
       "  'description': None},\n",
       " 'a9251d6e-a2a1-417b-9cbe-708685d3eeeb': {'data': 'hi', 'description': None},\n",
       " '0d84aa50-cab9-4b2a-8a6d-bf6c9da58ccd': {'data': 'need to : implement rag system that pulls data from the internet and chunk it and store as knowledge for easy retrivel',\n",
       "  'description': None}}"
      ]
     },
     "execution_count": 26,
     "metadata": {},
     "output_type": "execute_result"
    }
   ],
   "source": [
    "doc.pull(date=\"12-08\")"
   ]
  },
  {
   "cell_type": "code",
   "execution_count": 15,
   "metadata": {},
   "outputs": [],
   "source": [
    "uids = doc.search_uid(key=\"time\")"
   ]
  },
  {
   "cell_type": "code",
   "execution_count": 16,
   "metadata": {},
   "outputs": [
    {
     "name": "stdout",
     "output_type": "stream",
     "text": [
      "CPU times: user 9 µs, sys: 2 µs, total: 11 µs\n",
      "Wall time: 13.6 µs\n"
     ]
    },
    {
     "data": {
      "text/plain": [
       "{'a9251d6e-a2a1-417b-9cbe-708685d3eeeb': {'uid': 'a9251d6e-a2a1-417b-9cbe-708685d3eeeb',\n",
       "  'key': 'time',\n",
       "  'doc': 'note',\n",
       "  'time': '01:22:21',\n",
       "  'date': '12-08-2024',\n",
       "  'metadata': None,\n",
       "  'data_type': 'str'}}"
      ]
     },
     "execution_count": 16,
     "metadata": {},
     "output_type": "execute_result"
    }
   ],
   "source": [
    "%%time\n",
    "doc.pull(uid=uids,docfile=\".index\")"
   ]
  },
  {
   "cell_type": "code",
   "execution_count": 27,
   "metadata": {},
   "outputs": [
    {
     "data": {
      "text/plain": [
       "{'f2f10f13-9bc4-4fbf-a14e-cd8458b85e6a': {'data': 'implementd ox-studio.ui for ui interface now need to clean up all the stuff',\n",
       "  'description': None},\n",
       " 'b42e4d35-c92b-4259-8aee-a1b314fd7015': {'data': 'remember me : need to do code implementation for key lang conversation ',\n",
       "  'description': None},\n",
       " 'facbbaf7-e539-4abf-9f51-567c189dfe19': {'data': 'remember me : gym time is morning from today  ',\n",
       "  'description': None},\n",
       " '87cb4633-657f-4fa0-a604-e76ad6222f9e': {'data': 'remember me : base vector db arcchitecture is done  ',\n",
       "  'description': None},\n",
       " '9565984d-3229-48f6-a6c7-36cbce127980': {'data': 'remember me : need to do more research on deep learning  ',\n",
       "  'description': None},\n",
       " '361641eb-a68d-4722-aac7-6eee84b803bd': {'data': 'need to do : find efficient data store and retrive method  ',\n",
       "  'description': None},\n",
       " 'ce48e545-96d4-413d-b492-8e9eb4c38156': {'data': 'need to do : i need to finesh deamon search asap  ',\n",
       "  'description': None},\n",
       " 'f79b9b9c-7af1-416a-8bdd-2ba057791fc4': {'data': 'need to do : need to sleep  ',\n",
       "  'description': None},\n",
       " '3ea0cd73-af49-430d-a06b-10681759eed9': {'data': 'need to do : look out for bugs in code base and fix it   ',\n",
       "  'description': None},\n",
       " '5556ec16-f703-49a6-9483-2c5bd240cbaf': {'data': \"Hi I'm OX-AI your AI personal database \",\n",
       "  'description': None},\n",
       " 'c500e61a-38ef-4cb3-91b1-c5e1fdc29825': {'data': 'I can store your documents with vector embaddings and retrive it based on vector search',\n",
       "  'description': None},\n",
       " 'a30e6517-3895-41ba-9a66-3a2e3a02d4b1': {'data': \"I'm currently under development\",\n",
       "  'description': None},\n",
       " 'ca6abfa3-9102-4c53-8bc3-ee6a384cd28b': {'data': 'looking forward to do more to increase your productivity!',\n",
       "  'description': None},\n",
       " '4c1ca54b-57dd-4707-8094-4e19221e9e6c': {'data': \"Hi I'm your AI personal database and I can store your documents with vector embeddings and retrieve them based on vector search. I'm currently under development, looking forward to doing more to increase your productivity!\",\n",
       "  'description': None},\n",
       " 'a9251d6e-a2a1-417b-9cbe-708685d3eeeb': {'data': 'hi', 'description': None},\n",
       " '0d84aa50-cab9-4b2a-8a6d-bf6c9da58ccd': {'data': 'need to : implement rag system that pulls data from the internet and chunk it and store as knowledge for easy retrivel',\n",
       "  'description': None}}"
      ]
     },
     "execution_count": 27,
     "metadata": {},
     "output_type": "execute_result"
    }
   ],
   "source": [
    "doc.pull(time=\"01\",docfile=\"data.oxd\")"
   ]
  },
  {
   "cell_type": "code",
   "execution_count": 18,
   "metadata": {},
   "outputs": [
    {
     "data": {
      "text/plain": [
       "{'f2f10f13-9bc4-4fbf-a14e-cd8458b85e6a': {'data': 'implementd ox-studio.ui for ui interface now need to clean up all the stuff',\n",
       "  'description': None},\n",
       " 'b42e4d35-c92b-4259-8aee-a1b314fd7015': {'data': 'remember me : need to do code implementation for key lang conversation ',\n",
       "  'description': None},\n",
       " 'facbbaf7-e539-4abf-9f51-567c189dfe19': {'data': 'remember me : gym time is morning from today  ',\n",
       "  'description': None},\n",
       " '87cb4633-657f-4fa0-a604-e76ad6222f9e': {'data': 'remember me : base vector db arcchitecture is done  ',\n",
       "  'description': None},\n",
       " '9565984d-3229-48f6-a6c7-36cbce127980': {'data': 'remember me : need to do more research on deep learning  ',\n",
       "  'description': None},\n",
       " '361641eb-a68d-4722-aac7-6eee84b803bd': {'data': 'need to do : find efficient data store and retrive method  ',\n",
       "  'description': None},\n",
       " 'ce48e545-96d4-413d-b492-8e9eb4c38156': {'data': 'need to do : i need to finesh deamon search asap  ',\n",
       "  'description': None},\n",
       " 'f79b9b9c-7af1-416a-8bdd-2ba057791fc4': {'data': 'need to do : need to sleep  ',\n",
       "  'description': None},\n",
       " '3ea0cd73-af49-430d-a06b-10681759eed9': {'data': 'need to do : look out for bugs in code base and fix it   ',\n",
       "  'description': None},\n",
       " '5556ec16-f703-49a6-9483-2c5bd240cbaf': {'data': \"Hi I'm OX-AI your AI personal database \",\n",
       "  'description': None},\n",
       " 'c500e61a-38ef-4cb3-91b1-c5e1fdc29825': {'data': 'I can store your documents with vector embaddings and retrive it based on vector search',\n",
       "  'description': None},\n",
       " 'a30e6517-3895-41ba-9a66-3a2e3a02d4b1': {'data': \"I'm currently under development\",\n",
       "  'description': None},\n",
       " 'ca6abfa3-9102-4c53-8bc3-ee6a384cd28b': {'data': 'looking forward to do more to increase your productivity!',\n",
       "  'description': None},\n",
       " '4c1ca54b-57dd-4707-8094-4e19221e9e6c': {'data': \"Hi I'm your AI personal database and I can store your documents with vector embeddings and retrieve them based on vector search. I'm currently under development, looking forward to doing more to increase your productivity!\",\n",
       "  'description': None},\n",
       " 'a9251d6e-a2a1-417b-9cbe-708685d3eeeb': {'data': 'hi', 'description': None},\n",
       " '0d84aa50-cab9-4b2a-8a6d-bf6c9da58ccd': {'data': 'need to : implement rag system that pulls data from the internet and chunk it and store as knowledge for easy retrivel',\n",
       "  'description': None}}"
      ]
     },
     "execution_count": 18,
     "metadata": {},
     "output_type": "execute_result"
    }
   ],
   "source": [
    "doc.pull()"
   ]
  }
 ],
 "metadata": {
  "kernelspec": {
   "display_name": "Python 3",
   "language": "python",
   "name": "python3"
  },
  "language_info": {
   "codemirror_mode": {
    "name": "ipython",
    "version": 3
   },
   "file_extension": ".py",
   "mimetype": "text/x-python",
   "name": "python",
   "nbconvert_exporter": "python",
   "pygments_lexer": "ipython3",
   "version": "3.11.9"
  }
 },
 "nbformat": 4,
 "nbformat_minor": 2
}
