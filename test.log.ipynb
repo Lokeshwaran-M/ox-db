{
 "cells": [
  {
   "cell_type": "code",
   "execution_count": 1,
   "metadata": {},
   "outputs": [
    {
     "name": "stdout",
     "output_type": "stream",
     "text": [
      "CPU times: user 2.93 s, sys: 1.35 s, total: 4.27 s\n",
      "Wall time: 3.01 s\n"
     ]
    }
   ],
   "source": [
    "%%time\n",
    "from oxdb.core import Oxdb\n",
    "\n",
    "db = Oxdb(\"test-lg\")"
   ]
  },
  {
   "cell_type": "code",
   "execution_count": 2,
   "metadata": {},
   "outputs": [
    {
     "data": {
      "text/plain": [
       "['test-lg.oxdb']"
      ]
     },
     "execution_count": 2,
     "metadata": {},
     "output_type": "execute_result"
    }
   ],
   "source": [
    "db.get_dbs()"
   ]
  },
  {
   "cell_type": "code",
   "execution_count": 3,
   "metadata": {},
   "outputs": [
    {
     "data": {
      "text/plain": [
       "['log-doc']"
      ]
     },
     "execution_count": 3,
     "metadata": {},
     "output_type": "execute_result"
    }
   ],
   "source": [
    "db.get_docs()"
   ]
  },
  {
   "cell_type": "code",
   "execution_count": 4,
   "metadata": {},
   "outputs": [
    {
     "name": "stdout",
     "output_type": "stream",
     "text": [
      "CPU times: user 4 μs, sys: 2 μs, total: 6 μs\n",
      "Wall time: 10 μs\n"
     ]
    }
   ],
   "source": [
    "%time\n",
    "doc = db.get_doc(\"test-note\")"
   ]
  },
  {
   "cell_type": "code",
   "execution_count": 5,
   "metadata": {},
   "outputs": [
    {
     "name": "stdout",
     "output_type": "stream",
     "text": [
      "CPU times: user 481 ms, sys: 61.4 ms, total: 542 ms\n",
      "Wall time: 201 ms\n"
     ]
    },
    {
     "data": {
      "text/plain": [
       "['2256a9093b0fb42776034aedb22c742df9dd88d9a650254e32cb3461bc0290a1']"
      ]
     },
     "execution_count": 5,
     "metadata": {},
     "output_type": "execute_result"
    }
   ],
   "source": [
    "%%time\n",
    "doc.push(\"implementd ox-studio.ui for ui interface now need to clean up all the stuff\")"
   ]
  },
  {
   "cell_type": "code",
   "execution_count": 6,
   "metadata": {},
   "outputs": [
    {
     "name": "stdout",
     "output_type": "stream",
     "text": [
      "CPU times: user 524 ms, sys: 0 ns, total: 524 ms\n",
      "Wall time: 134 ms\n"
     ]
    },
    {
     "data": {
      "text/plain": [
       "['bc94d30c63395b6973dc797b130369a59aebfa8fbf9e215b0848afc47724d38d',\n",
       " '477f174138adfd0ea6cbb7c44137817ff990b7c8cf7216e95b1e8d8a78420d38']"
      ]
     },
     "execution_count": 6,
     "metadata": {},
     "output_type": "execute_result"
    }
   ],
   "source": [
    "%%time\n",
    "data_dict={                \n",
    "            \"data\": [\"example data 1\", \"example data 2\"],\n",
    "            \"datax\": None,\n",
    "            \"embeddings\": True,\n",
    "            \"description\": [\"description 1\", \"description 2\"],\n",
    "            \"metadata\": [{\"key1\": \"value1\"}, {\"key2\": \"value2\"}],\n",
    "            \"uid\": [\"uid1\", \"uid2\"]}\n",
    "doc.push(**data_dict)"
   ]
  },
  {
   "cell_type": "code",
   "execution_count": 7,
   "metadata": {},
   "outputs": [
    {
     "name": "stdout",
     "output_type": "stream",
     "text": [
      "CPU times: user 863 ms, sys: 886 μs, total: 863 ms\n",
      "Wall time: 214 ms\n"
     ]
    },
    {
     "data": {
      "text/plain": [
       "['e11471c9165b8a76554b6f783e107211646dde31c6c3582175210d2fcca6ffcf',\n",
       " '8a69e0d4f4bef9c1665b1b73808d05e15557849476f1a144c2199ae888945ed8',\n",
       " '8c471cf4703cd54ce775c452bb61f40b8aeb89a1389608c322d684abcc5c93a2',\n",
       " '96c26beefade871da16c73a4e898c0c4c8b81f4d734af5b50be391798d8aed4d']"
      ]
     },
     "execution_count": 7,
     "metadata": {},
     "output_type": "execute_result"
    }
   ],
   "source": [
    "%%time\n",
    "doc.push([\"remember me : need to do code implementation for key lang conversation \",\n",
    "\"remember me : gym time is morning from today  \",\n",
    "\"remember me : base vector db arcchitecture is done  \",\n",
    "\"remember me : need to do more research on deep learning  \"])"
   ]
  },
  {
   "cell_type": "code",
   "execution_count": 8,
   "metadata": {},
   "outputs": [
    {
     "name": "stdout",
     "output_type": "stream",
     "text": [
      "CPU times: user 6 μs, sys: 2 μs, total: 8 μs\n",
      "Wall time: 10.7 μs\n"
     ]
    },
    {
     "data": {
      "text/plain": [
       "{'db': 'test-lg.oxdb',\n",
       " 'db_path': '/home/lokesh/ox-db/test-lg.oxdb',\n",
       " 'doc_name': 'test-note',\n",
       " 'doc_path': '/home/lokesh/ox-db/test-lg.oxdb/test-note',\n",
       " 'doc_reg': {'entry': 7,\n",
       "  'vec_model': 'sentence-transformers/all-MiniLM-L6-v2'}}"
      ]
     },
     "execution_count": 8,
     "metadata": {},
     "output_type": "execute_result"
    }
   ],
   "source": [
    "%%time\n",
    "doc.info()"
   ]
  },
  {
   "cell_type": "code",
   "execution_count": 9,
   "metadata": {},
   "outputs": [
    {
     "name": "stdout",
     "output_type": "stream",
     "text": [
      "CPU times: user 952 ms, sys: 2.35 ms, total: 954 ms\n",
      "Wall time: 239 ms\n"
     ]
    },
    {
     "data": {
      "text/plain": [
       "['495f5ad343a32bc3d73211816308027c25dc8061ec59c223a9097fccd85dfcec']"
      ]
     },
     "execution_count": 9,
     "metadata": {},
     "output_type": "execute_result"
    }
   ],
   "source": [
    "%%time\n",
    "doc.push(\"need to do : find efficient data store and retrive method  \")\n",
    "doc.push(\"need to do : i need to finesh deamon search asap  \")\n",
    "doc.push(\"need to do : need to sleep  \")\n",
    "doc.push(\"need to do : look out for bugs in code base and fix it   \")"
   ]
  },
  {
   "cell_type": "code",
   "execution_count": 10,
   "metadata": {},
   "outputs": [
    {
     "name": "stdout",
     "output_type": "stream",
     "text": [
      "CPU times: user 1.12 s, sys: 2.65 ms, total: 1.12 s\n",
      "Wall time: 278 ms\n"
     ]
    },
    {
     "data": {
      "text/plain": [
       "['990b06caf81a79bbff7cc564689e4aa1d1f805bd7c392e221fd4284a351b34fb',\n",
       " 'a80e560ea4678fd17486b79125afb4c1722104310c2dd0dd4780d02e2ebcca16',\n",
       " '8b63f7b6f8f5155ca7bfa1a3dfb51c1c00b9cc10de323873c023afdf7a164e56',\n",
       " '579dd4ac836c6014428d63a8ba80ebe3255d8a690ba659edf485c59823f270dc',\n",
       " '98648c54cd68c0c00b0905f58d73dc9f389be7b5d4b5126311167a9c0eef006a']"
      ]
     },
     "execution_count": 10,
     "metadata": {},
     "output_type": "execute_result"
    }
   ],
   "source": [
    "%%time\n",
    "doc.push(\n",
    "data=[\"Hi I'm OX-AI your AI personal database \",\n",
    "\"I can store your documents with vector embaddings and retrive it based on vector search\",\n",
    "\"I'm currently under development\",\n",
    "\"looking forward to do more to increase your productivity!\",\n",
    "\"Hi I'm your AI personal database and I can store your documents with vector embeddings and retrieve them based on vector search. I'm currently under development, looking forward to doing more to increase your productivity!\"],\n",
    "metadata=[{\"res\": \"assistant\"},None,{\"res\": \"assistant\"},{\"res\": \"assistant\"}],\n",
    "log_time=True,\n",
    ")"
   ]
  },
  {
   "cell_type": "code",
   "execution_count": 11,
   "metadata": {},
   "outputs": [
    {
     "name": "stdout",
     "output_type": "stream",
     "text": [
      "CPU times: user 219 ms, sys: 3.8 ms, total: 223 ms\n",
      "Wall time: 55.7 ms\n"
     ]
    },
    {
     "data": {
      "text/plain": [
       "['6f004323c55f10712604ba58b6eb807f124e1e923fafad6a782faadef1afe386']"
      ]
     },
     "execution_count": 11,
     "metadata": {},
     "output_type": "execute_result"
    }
   ],
   "source": [
    "%%time\n",
    "doc.push(\"null-data\")"
   ]
  },
  {
   "cell_type": "code",
   "execution_count": 12,
   "metadata": {},
   "outputs": [
    {
     "data": {
      "text/plain": [
       "['6f004323c55f10712604ba58b6eb807f124e1e923fafad6a782faadef1afe386']"
      ]
     },
     "execution_count": 12,
     "metadata": {},
     "output_type": "execute_result"
    }
   ],
   "source": [
    "doc.delete('6f004323c55f10712604ba58b6eb807f124e1e923fafad6a782faadef1afe386')"
   ]
  },
  {
   "cell_type": "code",
   "execution_count": 13,
   "metadata": {},
   "outputs": [
    {
     "name": "stdout",
     "output_type": "stream",
     "text": [
      "CPU times: user 288 ms, sys: 0 ns, total: 288 ms\n",
      "Wall time: 100 ms\n"
     ]
    },
    {
     "data": {
      "text/plain": [
       "{'entries': 1,\n",
       " 'hid': ['8a69e0d4f4bef9c1665b1b73808d05e15557849476f1a144c2199ae888945ed8'],\n",
       " 'data': ['remember me : gym time is morning from today  '],\n",
       " 'description': [None],\n",
       " 'sim_score': [0.4463955084872185],\n",
       " 'index': [{'doc': 'test-note'}],\n",
       " 'embeddings': []}"
      ]
     },
     "execution_count": 13,
     "metadata": {},
     "output_type": "execute_result"
    }
   ],
   "source": [
    "%%time\n",
    "doc.search(\"remember me\",where_data={\"search_string\":\"gym\"})"
   ]
  },
  {
   "cell_type": "code",
   "execution_count": 14,
   "metadata": {},
   "outputs": [
    {
     "name": "stdout",
     "output_type": "stream",
     "text": [
      "CPU times: user 176 ms, sys: 27 μs, total: 176 ms\n",
      "Wall time: 44.1 ms\n"
     ]
    },
    {
     "data": {
      "text/plain": [
       "['42010d63e5c57b0f100b47d99fcebd774c501142e25c8f929d7d0cc968f19113']"
      ]
     },
     "execution_count": 14,
     "metadata": {},
     "output_type": "execute_result"
    }
   ],
   "source": [
    "%%time\n",
    "doc.push(\n",
    "    \"need to : implement rag system that pulls data from the internet and chunk it and store as knowledge for easy retrivel\"\n",
    ")"
   ]
  },
  {
   "cell_type": "code",
   "execution_count": 15,
   "metadata": {},
   "outputs": [
    {
     "name": "stdout",
     "output_type": "stream",
     "text": [
      "CPU times: user 298 ms, sys: 0 ns, total: 298 ms\n",
      "Wall time: 77.6 ms\n"
     ]
    },
    {
     "data": {
      "text/plain": [
       "{'entries': 3,\n",
       " 'hid': ['990b06caf81a79bbff7cc564689e4aa1d1f805bd7c392e221fd4284a351b34fb',\n",
       "  '579dd4ac836c6014428d63a8ba80ebe3255d8a690ba659edf485c59823f270dc',\n",
       "  '8b63f7b6f8f5155ca7bfa1a3dfb51c1c00b9cc10de323873c023afdf7a164e56'],\n",
       " 'data': [\"Hi I'm OX-AI your AI personal database \",\n",
       "  'looking forward to do more to increase your productivity!',\n",
       "  \"I'm currently under development\"],\n",
       " 'description': [None, None, None],\n",
       " 'sim_score': [0.08422736709013229,\n",
       "  0.035051350484307256,\n",
       "  -0.04084236056612295],\n",
       " 'index': [{'doc': 'test-note',\n",
       "   'time': '22:11:06',\n",
       "   'date': '12-09-2024',\n",
       "   'res': 'assistant'},\n",
       "  {'doc': 'test-note',\n",
       "   'time': '22:11:06',\n",
       "   'date': '12-09-2024',\n",
       "   'res': 'assistant'},\n",
       "  {'doc': 'test-note',\n",
       "   'time': '22:11:06',\n",
       "   'date': '12-09-2024',\n",
       "   'res': 'assistant'}],\n",
       " 'embeddings': []}"
      ]
     },
     "execution_count": 15,
     "metadata": {},
     "output_type": "execute_result"
    }
   ],
   "source": [
    "%%time\n",
    "doc.search(\"rag system data chunk\",6,where={\"res\":\"assistant\"})"
   ]
  },
  {
   "cell_type": "code",
   "execution_count": 16,
   "metadata": {},
   "outputs": [
    {
     "name": "stdout",
     "output_type": "stream",
     "text": [
      "CPU times: user 35 μs, sys: 0 ns, total: 35 μs\n",
      "Wall time: 37.9 μs\n"
     ]
    },
    {
     "data": {
      "text/plain": [
       "{'990b06caf81a79bbff7cc564689e4aa1d1f805bd7c392e221fd4284a351b34fb': {'doc': 'test-note',\n",
       "  'time': '22:11:06',\n",
       "  'date': '12-09-2024',\n",
       "  'res': 'assistant'},\n",
       " '8b63f7b6f8f5155ca7bfa1a3dfb51c1c00b9cc10de323873c023afdf7a164e56': {'doc': 'test-note',\n",
       "  'time': '22:11:06',\n",
       "  'date': '12-09-2024',\n",
       "  'res': 'assistant'},\n",
       " '579dd4ac836c6014428d63a8ba80ebe3255d8a690ba659edf485c59823f270dc': {'doc': 'test-note',\n",
       "  'time': '22:11:06',\n",
       "  'date': '12-09-2024',\n",
       "  'res': 'assistant'}}"
      ]
     },
     "execution_count": 16,
     "metadata": {},
     "output_type": "execute_result"
    }
   ],
   "source": [
    "%%time\n",
    "doc.pull(time='07', where={\"res\":\"assistant\"}, docfile=\".index\")"
   ]
  },
  {
   "cell_type": "code",
   "execution_count": 17,
   "metadata": {},
   "outputs": [
    {
     "name": "stdout",
     "output_type": "stream",
     "text": [
      "CPU times: user 92 μs, sys: 14 μs, total: 106 μs\n",
      "Wall time: 112 μs\n"
     ]
    },
    {
     "data": {
      "text/plain": [
       "{'990b06caf81a79bbff7cc564689e4aa1d1f805bd7c392e221fd4284a351b34fb': {'doc': 'test-note',\n",
       "  'time': '22:11:06',\n",
       "  'date': '12-09-2024',\n",
       "  'res': 'assistant'},\n",
       " '8b63f7b6f8f5155ca7bfa1a3dfb51c1c00b9cc10de323873c023afdf7a164e56': {'doc': 'test-note',\n",
       "  'time': '22:11:06',\n",
       "  'date': '12-09-2024',\n",
       "  'res': 'assistant'},\n",
       " '579dd4ac836c6014428d63a8ba80ebe3255d8a690ba659edf485c59823f270dc': {'doc': 'test-note',\n",
       "  'time': '22:11:06',\n",
       "  'date': '12-09-2024',\n",
       "  'res': 'assistant'}}"
      ]
     },
     "execution_count": 17,
     "metadata": {},
     "output_type": "execute_result"
    }
   ],
   "source": [
    "%%time\n",
    "where = {\"time\":\"20\",\"date\":\"31\",\"res\":\"assistant\"}\n",
    "doc.pull(time=\"06:57\",where=where,docfile=\".index\")"
   ]
  },
  {
   "cell_type": "code",
   "execution_count": 18,
   "metadata": {},
   "outputs": [
    {
     "name": "stdout",
     "output_type": "stream",
     "text": [
      "CPU times: user 53 μs, sys: 8 μs, total: 61 μs\n",
      "Wall time: 66.8 μs\n"
     ]
    },
    {
     "data": {
      "text/plain": [
       "{}"
      ]
     },
     "execution_count": 18,
     "metadata": {},
     "output_type": "execute_result"
    }
   ],
   "source": [
    "%%time\n",
    "\n",
    "doc.pull(where=where,search_all_filter=True,docfile=\".index\")"
   ]
  },
  {
   "cell_type": "code",
   "execution_count": 19,
   "metadata": {},
   "outputs": [
    {
     "name": "stdout",
     "output_type": "stream",
     "text": [
      "CPU times: user 55 μs, sys: 9 μs, total: 64 μs\n",
      "Wall time: 67.2 μs\n"
     ]
    },
    {
     "data": {
      "text/plain": [
       "['990b06caf81a79bbff7cc564689e4aa1d1f805bd7c392e221fd4284a351b34fb',\n",
       " '8b63f7b6f8f5155ca7bfa1a3dfb51c1c00b9cc10de323873c023afdf7a164e56',\n",
       " '579dd4ac836c6014428d63a8ba80ebe3255d8a690ba659edf485c59823f270dc']"
      ]
     },
     "execution_count": 19,
     "metadata": {},
     "output_type": "execute_result"
    }
   ],
   "source": [
    "%%time\n",
    "hids = doc.search_hid( where=where)\n",
    "hids"
   ]
  },
  {
   "cell_type": "code",
   "execution_count": 20,
   "metadata": {},
   "outputs": [
    {
     "name": "stdout",
     "output_type": "stream",
     "text": [
      "CPU times: user 31 μs, sys: 5 μs, total: 36 μs\n",
      "Wall time: 42.2 μs\n"
     ]
    },
    {
     "data": {
      "text/plain": [
       "{'990b06caf81a79bbff7cc564689e4aa1d1f805bd7c392e221fd4284a351b34fb': {'doc': 'test-note',\n",
       "  'time': '22:11:06',\n",
       "  'date': '12-09-2024',\n",
       "  'res': 'assistant'},\n",
       " '8b63f7b6f8f5155ca7bfa1a3dfb51c1c00b9cc10de323873c023afdf7a164e56': {'doc': 'test-note',\n",
       "  'time': '22:11:06',\n",
       "  'date': '12-09-2024',\n",
       "  'res': 'assistant'},\n",
       " '579dd4ac836c6014428d63a8ba80ebe3255d8a690ba659edf485c59823f270dc': {'doc': 'test-note',\n",
       "  'time': '22:11:06',\n",
       "  'date': '12-09-2024',\n",
       "  'res': 'assistant'}}"
      ]
     },
     "execution_count": 20,
     "metadata": {},
     "output_type": "execute_result"
    }
   ],
   "source": [
    "%%time\n",
    "doc.pull(hid=hids,docfile=\".index\")"
   ]
  },
  {
   "cell_type": "code",
   "execution_count": 26,
   "metadata": {},
   "outputs": [
    {
     "name": "stdout",
     "output_type": "stream",
     "text": [
      "CPU times: user 1.22 ms, sys: 193 μs, total: 1.42 ms\n",
      "Wall time: 941 μs\n"
     ]
    },
    {
     "data": {
      "text/plain": [
       "{'990b06caf81a79bbff7cc564689e4aa1d1f805bd7c392e221fd4284a351b34fb': {'data': \"Hi I'm OX-AI your AI personal database \",\n",
       "  'description': None},\n",
       " 'a80e560ea4678fd17486b79125afb4c1722104310c2dd0dd4780d02e2ebcca16': {'data': 'I can store your documents with vector embaddings and retrive it based on vector search',\n",
       "  'description': None},\n",
       " '8b63f7b6f8f5155ca7bfa1a3dfb51c1c00b9cc10de323873c023afdf7a164e56': {'data': \"I'm currently under development\",\n",
       "  'description': None},\n",
       " '579dd4ac836c6014428d63a8ba80ebe3255d8a690ba659edf485c59823f270dc': {'data': 'looking forward to do more to increase your productivity!',\n",
       "  'description': None},\n",
       " '98648c54cd68c0c00b0905f58d73dc9f389be7b5d4b5126311167a9c0eef006a': {'data': \"Hi I'm your AI personal database and I can store your documents with vector embeddings and retrieve them based on vector search. I'm currently under development, looking forward to doing more to increase your productivity!\",\n",
       "  'description': None}}"
      ]
     },
     "execution_count": 26,
     "metadata": {},
     "output_type": "execute_result"
    }
   ],
   "source": [
    "%%time\n",
    "doc.pull(time=\"22\",docfile=\"data.oxd\")"
   ]
  },
  {
   "cell_type": "code",
   "execution_count": 22,
   "metadata": {},
   "outputs": [
    {
     "name": "stdout",
     "output_type": "stream",
     "text": [
      "CPU times: user 0 ns, sys: 757 μs, total: 757 μs\n",
      "Wall time: 569 μs\n"
     ]
    },
    {
     "data": {
      "text/plain": [
       "{'2256a9093b0fb42776034aedb22c742df9dd88d9a650254e32cb3461bc0290a1': {'data': 'implementd ox-studio.ui for ui interface now need to clean up all the stuff',\n",
       "  'description': None},\n",
       " 'bc94d30c63395b6973dc797b130369a59aebfa8fbf9e215b0848afc47724d38d': {'data': 'example data 1',\n",
       "  'description': 'description 1'},\n",
       " '477f174138adfd0ea6cbb7c44137817ff990b7c8cf7216e95b1e8d8a78420d38': {'data': 'example data 2',\n",
       "  'description': 'description 2'},\n",
       " 'e11471c9165b8a76554b6f783e107211646dde31c6c3582175210d2fcca6ffcf': {'data': 'remember me : need to do code implementation for key lang conversation ',\n",
       "  'description': None},\n",
       " '8a69e0d4f4bef9c1665b1b73808d05e15557849476f1a144c2199ae888945ed8': {'data': 'remember me : gym time is morning from today  ',\n",
       "  'description': None},\n",
       " '8c471cf4703cd54ce775c452bb61f40b8aeb89a1389608c322d684abcc5c93a2': {'data': 'remember me : base vector db arcchitecture is done  ',\n",
       "  'description': None},\n",
       " '96c26beefade871da16c73a4e898c0c4c8b81f4d734af5b50be391798d8aed4d': {'data': 'remember me : need to do more research on deep learning  ',\n",
       "  'description': None},\n",
       " 'd8fbb6847fd7d413e2f8a6664528d7fb88e45ede08012d80174e6b2f79e78521': {'data': 'need to do : find efficient data store and retrive method  ',\n",
       "  'description': None},\n",
       " '63289fb104ac62b584a80dec06781188bedff10e94f311b67a6effb9060bbff5': {'data': 'need to do : i need to finesh deamon search asap  ',\n",
       "  'description': None},\n",
       " 'e60da7110568a7ba4172d78e52535a5050055b61a154bb143f58e06b3f5dc7f7': {'data': 'need to do : need to sleep  ',\n",
       "  'description': None},\n",
       " '495f5ad343a32bc3d73211816308027c25dc8061ec59c223a9097fccd85dfcec': {'data': 'need to do : look out for bugs in code base and fix it   ',\n",
       "  'description': None},\n",
       " '990b06caf81a79bbff7cc564689e4aa1d1f805bd7c392e221fd4284a351b34fb': {'data': \"Hi I'm OX-AI your AI personal database \",\n",
       "  'description': None},\n",
       " 'a80e560ea4678fd17486b79125afb4c1722104310c2dd0dd4780d02e2ebcca16': {'data': 'I can store your documents with vector embaddings and retrive it based on vector search',\n",
       "  'description': None},\n",
       " '8b63f7b6f8f5155ca7bfa1a3dfb51c1c00b9cc10de323873c023afdf7a164e56': {'data': \"I'm currently under development\",\n",
       "  'description': None},\n",
       " '579dd4ac836c6014428d63a8ba80ebe3255d8a690ba659edf485c59823f270dc': {'data': 'looking forward to do more to increase your productivity!',\n",
       "  'description': None},\n",
       " '98648c54cd68c0c00b0905f58d73dc9f389be7b5d4b5126311167a9c0eef006a': {'data': \"Hi I'm your AI personal database and I can store your documents with vector embeddings and retrieve them based on vector search. I'm currently under development, looking forward to doing more to increase your productivity!\",\n",
       "  'description': None},\n",
       " '42010d63e5c57b0f100b47d99fcebd774c501142e25c8f929d7d0cc968f19113': {'data': 'need to : implement rag system that pulls data from the internet and chunk it and store as knowledge for easy retrivel',\n",
       "  'description': None}}"
      ]
     },
     "execution_count": 22,
     "metadata": {},
     "output_type": "execute_result"
    }
   ],
   "source": [
    "%%time\n",
    "doc.pull()"
   ]
  },
  {
   "cell_type": "code",
   "execution_count": 23,
   "metadata": {},
   "outputs": [
    {
     "data": {
      "text/plain": [
       "<oxdb.core.log.dbDoc at 0x7f28719ed250>"
      ]
     },
     "execution_count": 23,
     "metadata": {},
     "output_type": "execute_result"
    }
   ],
   "source": [
    "db.get_db(\"test_getdb\")\n",
    "db.get_doc(\"test_getdoc\")"
   ]
  },
  {
   "cell_type": "code",
   "execution_count": 24,
   "metadata": {},
   "outputs": [
    {
     "data": {
      "text/plain": [
       "True"
      ]
     },
     "execution_count": 24,
     "metadata": {},
     "output_type": "execute_result"
    }
   ],
   "source": [
    "db.del_db(\"test_getdb\")\n",
    "db.del_doc(\"test_getdoc\")"
   ]
  },
  {
   "cell_type": "code",
   "execution_count": 25,
   "metadata": {},
   "outputs": [
    {
     "data": {
      "text/plain": [
       "True"
      ]
     },
     "execution_count": 25,
     "metadata": {},
     "output_type": "execute_result"
    }
   ],
   "source": [
    "db.clean_up()"
   ]
  }
 ],
 "metadata": {
  "kernelspec": {
   "display_name": "Python 3",
   "language": "python",
   "name": "python3"
  },
  "language_info": {
   "codemirror_mode": {
    "name": "ipython",
    "version": 3
   },
   "file_extension": ".py",
   "mimetype": "text/x-python",
   "name": "python",
   "nbconvert_exporter": "python",
   "pygments_lexer": "ipython3",
   "version": "3.11.9"
  }
 },
 "nbformat": 4,
 "nbformat_minor": 2
}
