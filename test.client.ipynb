{
 "cells": [
  {
   "cell_type": "markdown",
   "metadata": {},
   "source": [
    "## db client-server mode\n",
    "\n",
    "strart server with the command in terminal \n",
    "\n",
    "```bash\n",
    "oxdb.server --apikey \"ox-db-101\" --port 8008 --host\n",
    "```\n",
    "or \n",
    "```bash\n",
    "python -m oxdb.server --apikey \"ox-db-101\" --port 8008 --host\n",
    "```"
   ]
  },
  {
   "cell_type": "code",
   "execution_count": 1,
   "metadata": {},
   "outputs": [],
   "source": [
    "from oxdb.client import OxdbClient\n",
    "\n",
    "# Initialize the Oxdb client\n",
    "client = OxdbClient(base_url=\"http://192.168.29.151:8008/\", db_name=\"note-DB\", api_key=\"ox-db-101\")\n"
   ]
  },
  {
   "cell_type": "code",
   "execution_count": 2,
   "metadata": {},
   "outputs": [
    {
     "data": {
      "text/plain": [
       "{'oxdb.server': 'health.good', 'oxdb.alive': True}"
      ]
     },
     "execution_count": 2,
     "metadata": {},
     "output_type": "execute_result"
    }
   ],
   "source": [
    "client.alive()"
   ]
  },
  {
   "cell_type": "code",
   "execution_count": 3,
   "metadata": {},
   "outputs": [],
   "source": [
    "# Get the document interface\n",
    "log = client.get_doc(\"note-doc\")"
   ]
  },
  {
   "cell_type": "code",
   "execution_count": 4,
   "metadata": {},
   "outputs": [
    {
     "data": {
      "text/plain": [
       "[3]"
      ]
     },
     "execution_count": 4,
     "metadata": {},
     "output_type": "execute_result"
    }
   ],
   "source": [
    "# Push data to the document\n",
    "log.push(\"data-1\")\n",
    "log.push(data=\"need to implement pdfsearch db with ui lib\", uid=\"projects\", metadata={\"note-type\": \"project-note\"})\n",
    "log.push(datax={\"datas\": [\"project-queue\", \"priority is db ui\"]})\n"
   ]
  },
  {
   "cell_type": "code",
   "execution_count": 5,
   "metadata": {},
   "outputs": [
    {
     "data": {
      "text/plain": [
       "[4, 5]"
      ]
     },
     "execution_count": 5,
     "metadata": {},
     "output_type": "execute_result"
    }
   ],
   "source": [
    "data_dict={                \n",
    "            \"data\": [\"example data 1\", \"example data 2\"],\n",
    "            \"datax\": None,\n",
    "            \"embeddings\": True,\n",
    "            \"description\": [\"description 1\", \"description 2\"],\n",
    "            \"metadata\": [{\"key1\": \"value1\"}, {\"key2\": \"value2\"}],\n",
    "            \"uid\": [\"uid1\", \"uid2\"]}\n",
    "log.push(**data_dict)"
   ]
  },
  {
   "cell_type": "code",
   "execution_count": 6,
   "metadata": {},
   "outputs": [
    {
     "name": "stdout",
     "output_type": "stream",
     "text": [
      "Pulled Data: {'2': 'need to implement pdfsearch db with ui lib'}\n"
     ]
    }
   ],
   "source": [
    "\n",
    "# Pull data from the document\n",
    "pulled_data = log.pull(uid=\"projects\")\n",
    "print(\"Pulled Data:\", pulled_data)"
   ]
  },
  {
   "cell_type": "code",
   "execution_count": 7,
   "metadata": {},
   "outputs": [
    {
     "name": "stdout",
     "output_type": "stream",
     "text": [
      "{'data': ['example data 1', 'example data 2'],\n",
      " 'embeddings': [],\n",
      " 'entries': 2,\n",
      " 'idx': ['4', '5'],\n",
      " 'index': [{'doc': 'log-doc',\n",
      "            'hid': 'bc94d30c63395b6973dc797b130369a59aebfa8fbf9e215b0848afc47724d38d',\n",
      "            'key1': 'value1',\n",
      "            'uid': 'uid1'},\n",
      "           {'doc': 'log-doc',\n",
      "            'hid': '477f174138adfd0ea6cbb7c44137817ff990b7c8cf7216e95b1e8d8a78420d38',\n",
      "            'key2': 'value2',\n",
      "            'uid': 'uid2'}],\n",
      " 'sim_score': [0.76863465710604, 0.7681320594900575]}\n"
     ]
    }
   ],
   "source": [
    "# Search data in the document\n",
    "from pprint import pprint\n",
    "\n",
    "\n",
    "search_results = log.search(query=\"data\", topn=2)\n",
    "pprint(search_results)\n"
   ]
  },
  {
   "cell_type": "code",
   "execution_count": 8,
   "metadata": {},
   "outputs": [
    {
     "name": "stdout",
     "output_type": "stream",
     "text": [
      "{'data': ['need to implement pdfsearch db with ui lib'],\n",
      " 'embeddings': [],\n",
      " 'entries': 1,\n",
      " 'idx': ['2'],\n",
      " 'index': [{'doc': 'log-doc',\n",
      "            'hid': '035babdc194a1259f863e56bee637fb75a784a08a2c5930f944a67f7811e4945',\n",
      "            'note-type': 'project-note',\n",
      "            'uid': 'projects'}],\n",
      " 'sim_score': [1.3629871486277483]}\n"
     ]
    }
   ],
   "source": [
    "\n",
    "# Perform a more vector search\n",
    "advanced_search_results = log.search(\n",
    "    query=\"implementation plan\", \n",
    "    topn=2, \n",
    "    by=\"ed\", \n",
    "    where={\"note-type\": \"project-note\"}, \n",
    "    where_data={\"search_string\": \"pdfsearch\"},\n",
    ")\n",
    "pprint(advanced_search_results)\n"
   ]
  },
  {
   "cell_type": "code",
   "execution_count": 9,
   "metadata": {},
   "outputs": [
    {
     "data": {
      "text/plain": [
       "{'vec_model': 'sentence-transformers/all-MiniLM-L6-v2',\n",
       " '1': {'doc': 'log-doc',\n",
       "  'hid': '51bbfa74f8660493f40fd72068f63af436ee13c283ca84c373d9690ff2f1f83c'},\n",
       " '2': {'doc': 'log-doc',\n",
       "  'hid': '035babdc194a1259f863e56bee637fb75a784a08a2c5930f944a67f7811e4945',\n",
       "  'uid': 'projects',\n",
       "  'note-type': 'project-note'},\n",
       " '3': {'doc': 'log-doc',\n",
       "  'hid': '2cf7556283a3cc98d472c78328fb3cdff0ea3473b1fbbbdc967308d1e40f6a41'},\n",
       " '4': {'doc': 'log-doc',\n",
       "  'hid': 'bc94d30c63395b6973dc797b130369a59aebfa8fbf9e215b0848afc47724d38d',\n",
       "  'uid': 'uid1',\n",
       "  'key1': 'value1'},\n",
       " '5': {'doc': 'log-doc',\n",
       "  'hid': '477f174138adfd0ea6cbb7c44137817ff990b7c8cf7216e95b1e8d8a78420d38',\n",
       "  'uid': 'uid2',\n",
       "  'key2': 'value2'}}"
      ]
     },
     "execution_count": 9,
     "metadata": {},
     "output_type": "execute_result"
    }
   ],
   "source": [
    "log.pull(docfile=\".index\")"
   ]
  },
  {
   "cell_type": "code",
   "execution_count": 10,
   "metadata": {},
   "outputs": [
    {
     "data": {
      "text/plain": [
       "{'1': 'data-1',\n",
       " '2': 'need to implement pdfsearch db with ui lib',\n",
       " '3': '{\"datas\": [\"project-queue\", \"priority is db ui\"]}',\n",
       " '4': 'example data 1',\n",
       " '5': 'example data 2'}"
      ]
     },
     "execution_count": 10,
     "metadata": {},
     "output_type": "execute_result"
    }
   ],
   "source": [
    "log.pull()"
   ]
  },
  {
   "cell_type": "code",
   "execution_count": 11,
   "metadata": {},
   "outputs": [
    {
     "data": {
      "text/plain": [
       "{'db': 'note-DB',\n",
       " 'db_path': '/home/lokesh/ox-db/note-DB.oxdb',\n",
       " 'doc_name': 'temp-note',\n",
       " 'doc_path': '/home/lokesh/ox-db/note-DB.oxdb/temp-note',\n",
       " 'doc_list': ['temp-note', 'log-doc'],\n",
       " 'vec_model': 'sentence-transformers/all-MiniLM-L6-v2'}"
      ]
     },
     "execution_count": 11,
     "metadata": {},
     "output_type": "execute_result"
    }
   ],
   "source": [
    "log.get_doc(\"temp-note\")"
   ]
  },
  {
   "cell_type": "code",
   "execution_count": 12,
   "metadata": {},
   "outputs": [
    {
     "data": {
      "text/plain": [
       "[1]"
      ]
     },
     "execution_count": 12,
     "metadata": {},
     "output_type": "execute_result"
    }
   ],
   "source": [
    "log.push(\"temp test\")"
   ]
  },
  {
   "cell_type": "code",
   "execution_count": 13,
   "metadata": {},
   "outputs": [
    {
     "data": {
      "text/plain": [
       "{'entries': 1,\n",
       " 'idx': ['1'],\n",
       " 'data': ['temp test'],\n",
       " 'sim_score': [0.4969650596503279],\n",
       " 'index': [{'doc': 'temp-note',\n",
       "   'hid': 'ecd62e8fb688ebe0df03448b83effe3fff870afbbb7fbbb76a95281ce6aef64f'}],\n",
       " 'embeddings': []}"
      ]
     },
     "execution_count": 13,
     "metadata": {},
     "output_type": "execute_result"
    }
   ],
   "source": [
    "log.search(\"test\")"
   ]
  },
  {
   "cell_type": "code",
   "execution_count": 14,
   "metadata": {},
   "outputs": [
    {
     "data": {
      "text/plain": [
       "{'1': 'temp test'}"
      ]
     },
     "execution_count": 14,
     "metadata": {},
     "output_type": "execute_result"
    }
   ],
   "source": [
    "log.pull()"
   ]
  }
 ],
 "metadata": {
  "kernelspec": {
   "display_name": "Python 3",
   "language": "python",
   "name": "python3"
  },
  "language_info": {
   "codemirror_mode": {
    "name": "ipython",
    "version": 3
   },
   "file_extension": ".py",
   "mimetype": "text/x-python",
   "name": "python",
   "nbconvert_exporter": "python",
   "pygments_lexer": "ipython3",
   "version": "3.11.9"
  }
 },
 "nbformat": 4,
 "nbformat_minor": 2
}
