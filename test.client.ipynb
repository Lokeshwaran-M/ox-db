{
 "cells": [
  {
   "cell_type": "code",
   "execution_count": 1,
   "metadata": {},
   "outputs": [],
   "source": [
    "from ox_db.client.log import Oxdb\n",
    "\n",
    "# Initialize the Oxdb client\n",
    "client = Oxdb(base_url=\"http://192.168.29.151:8008/\", db_name=\"noteDB\", api_key=\"lok\")\n"
   ]
  },
  {
   "cell_type": "code",
   "execution_count": 2,
   "metadata": {},
   "outputs": [],
   "source": [
    "# Get the document interface\n",
    "log = client.get_doc(\"note-doc\")"
   ]
  },
  {
   "cell_type": "code",
   "execution_count": 3,
   "metadata": {},
   "outputs": [
    {
     "data": {
      "text/plain": [
       "'aaacbb93bcad96ad1d1cad71a69ef2c05d128b8f39bbea1034336abde5bd9074'"
      ]
     },
     "execution_count": 3,
     "metadata": {},
     "output_type": "execute_result"
    }
   ],
   "source": [
    "# Push data to the document\n",
    "log.push(\"data-1\")\n",
    "log.push(data=\"need to implement pdfsearch db with ui\", uid=\"projects\", metadata={\"note-type\": \"project-note\"})\n",
    "log.push(data={\"datas\": [\"project-queue\", \"priority is db\"]})\n"
   ]
  },
  {
   "cell_type": "code",
   "execution_count": 4,
   "metadata": {},
   "outputs": [
    {
     "name": "stdout",
     "output_type": "stream",
     "text": [
      "Pulled Data: {'724a97173dfd9cc633fe0deae990d0da8d18f9e1394af61487c1f8c14a6121dc': {'data': 'need to implement pdfsearch db with ui', 'description': None}}\n"
     ]
    }
   ],
   "source": [
    "\n",
    "# Pull data from the document\n",
    "pulled_data = log.pull(uid=\"projects\")\n",
    "print(\"Pulled Data:\", pulled_data)"
   ]
  },
  {
   "cell_type": "code",
   "execution_count": 12,
   "metadata": {},
   "outputs": [
    {
     "name": "stdout",
     "output_type": "stream",
     "text": [
      "{'data': ['data-1', '{\"datas\": [\"project-queue\", \"priority is db\"]}'],\n",
      " 'description': [None, None],\n",
      " 'embeddings': [],\n",
      " 'entries': 2,\n",
      " 'hid': ['51bbfa74f8660493f40fd72068f63af436ee13c283ca84c373d9690ff2f1f83c',\n",
      "         'aaacbb93bcad96ad1d1cad71a69ef2c05d128b8f39bbea1034336abde5bd9074'],\n",
      " 'index': [{'date': '19-08-2024',\n",
      "            'doc': 'log-[19_08_2024]',\n",
      "            'time': '02:38:25',\n",
      "            'uid': 'uid'},\n",
      "           {'date': '19-08-2024',\n",
      "            'doc': 'log-[19_08_2024]',\n",
      "            'time': '02:38:25',\n",
      "            'uid': 'uid'}],\n",
      " 'sim_score': [0.7472119956024779, 0.19456318284422272]}\n"
     ]
    }
   ],
   "source": [
    "# Search data in the document\n",
    "from pprint import pprint\n",
    "\n",
    "\n",
    "search_results = log.search(query=\"data\", topn=2)\n",
    "pprint(search_results)\n"
   ]
  },
  {
   "cell_type": "code",
   "execution_count": 17,
   "metadata": {},
   "outputs": [
    {
     "name": "stdout",
     "output_type": "stream",
     "text": [
      "{'data': ['need to implement pdfsearch db',\n",
      "          'need to implement pdfsearch db with ui'],\n",
      " 'description': [None, None],\n",
      " 'embeddings': [],\n",
      " 'entries': 2,\n",
      " 'hid': ['8bf0b7e3dacd35c29fb3bbf3dd145032bb376f465ceaccdcaecec9c62c83de6f',\n",
      "         '724a97173dfd9cc633fe0deae990d0da8d18f9e1394af61487c1f8c14a6121dc'],\n",
      " 'index': [{'date': '19-08-2024',\n",
      "            'doc': 'log-[19_08_2024]',\n",
      "            'note-type': 'project-note',\n",
      "            'time': '02:38:25',\n",
      "            'uid': 'uid'},\n",
      "           {'date': '19-08-2024',\n",
      "            'doc': 'log-[19_08_2024]',\n",
      "            'note-type': 'project-note',\n",
      "            'time': '05:15:56',\n",
      "            'uid': 'projects'}],\n",
      " 'sim_score': [1.343401897402224, 1.3484805614337063]}\n"
     ]
    }
   ],
   "source": [
    "\n",
    "# Perform a more vector search\n",
    "advanced_search_results = log.search(\n",
    "    query=\"implementation plan\", \n",
    "    topn=2, \n",
    "    by=\"ed\", \n",
    "    where={\"note-type\": \"project-note\"}, \n",
    "    where_data={\"search_string\": \"pdfsearch\"}\n",
    ")\n",
    "pprint(advanced_search_results)\n"
   ]
  },
  {
   "cell_type": "code",
   "execution_count": 15,
   "metadata": {},
   "outputs": [
    {
     "data": {
      "text/plain": [
       "{'51bbfa74f8660493f40fd72068f63af436ee13c283ca84c373d9690ff2f1f83c': {'uid': 'uid',\n",
       "  'doc': 'log-[19_08_2024]',\n",
       "  'time': '02:38:25',\n",
       "  'date': '19-08-2024'},\n",
       " '8bf0b7e3dacd35c29fb3bbf3dd145032bb376f465ceaccdcaecec9c62c83de6f': {'uid': 'uid',\n",
       "  'doc': 'log-[19_08_2024]',\n",
       "  'time': '02:38:25',\n",
       "  'date': '19-08-2024',\n",
       "  'note-type': 'project-note'},\n",
       " 'aaacbb93bcad96ad1d1cad71a69ef2c05d128b8f39bbea1034336abde5bd9074': {'uid': 'uid',\n",
       "  'doc': 'log-[19_08_2024]',\n",
       "  'time': '02:38:25',\n",
       "  'date': '19-08-2024'},\n",
       " '724a97173dfd9cc633fe0deae990d0da8d18f9e1394af61487c1f8c14a6121dc': {'uid': 'projects',\n",
       "  'doc': 'log-[19_08_2024]',\n",
       "  'time': '05:15:56',\n",
       "  'date': '19-08-2024',\n",
       "  'note-type': 'project-note'}}"
      ]
     },
     "execution_count": 15,
     "metadata": {},
     "output_type": "execute_result"
    }
   ],
   "source": [
    "log.pull(docfile=\".index\")"
   ]
  },
  {
   "cell_type": "code",
   "execution_count": null,
   "metadata": {},
   "outputs": [],
   "source": []
  },
  {
   "cell_type": "code",
   "execution_count": null,
   "metadata": {},
   "outputs": [],
   "source": []
  }
 ],
 "metadata": {
  "kernelspec": {
   "display_name": "Python 3",
   "language": "python",
   "name": "python3"
  },
  "language_info": {
   "codemirror_mode": {
    "name": "ipython",
    "version": 3
   },
   "file_extension": ".py",
   "mimetype": "text/x-python",
   "name": "python",
   "nbconvert_exporter": "python",
   "pygments_lexer": "ipython3",
   "version": "3.11.9"
  }
 },
 "nbformat": 4,
 "nbformat_minor": 2
}
