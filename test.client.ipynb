{
 "cells": [
  {
   "cell_type": "code",
   "execution_count": 1,
   "metadata": {},
   "outputs": [],
   "source": [
    "from ox_db.client.log import Oxdb\n",
    "\n",
    "# Initialize the Oxdb client\n",
    "client = Oxdb(base_url=\"http://192.168.29.151:8008/\", db_name=\"note-DB\", api_key=\"lok\")\n"
   ]
  },
  {
   "cell_type": "code",
   "execution_count": 2,
   "metadata": {},
   "outputs": [],
   "source": [
    "# Get the document interface\n",
    "log = client.get_doc(\"note-doc\")"
   ]
  },
  {
   "cell_type": "code",
   "execution_count": 12,
   "metadata": {},
   "outputs": [
    {
     "data": {
      "text/plain": [
       "['2cf7556283a3cc98d472c78328fb3cdff0ea3473b1fbbbdc967308d1e40f6a41']"
      ]
     },
     "execution_count": 12,
     "metadata": {},
     "output_type": "execute_result"
    }
   ],
   "source": [
    "# Push data to the document\n",
    "log.push(\"data-1\")\n",
    "log.push(data=\"need to implement pdfsearch db with ui lib\", uid=\"projects\", metadata={\"note-type\": \"project-note\"})\n",
    "log.push(datax={\"datas\": [\"project-queue\", \"priority is db ui\"]})\n"
   ]
  },
  {
   "cell_type": "code",
   "execution_count": 4,
   "metadata": {},
   "outputs": [
    {
     "data": {
      "text/plain": [
       "['bc94d30c63395b6973dc797b130369a59aebfa8fbf9e215b0848afc47724d38d',\n",
       " '477f174138adfd0ea6cbb7c44137817ff990b7c8cf7216e95b1e8d8a78420d38']"
      ]
     },
     "execution_count": 4,
     "metadata": {},
     "output_type": "execute_result"
    }
   ],
   "source": [
    "data_dict={                \n",
    "            \"data\": [\"example data 1\", \"example data 2\"],\n",
    "            \"datax\": None,\n",
    "            \"embeddings\": True,\n",
    "            \"description\": [\"description 1\", \"description 2\"],\n",
    "            \"metadata\": [{\"key1\": \"value1\"}, {\"key2\": \"value2\"}],\n",
    "            \"uid\": [\"uid1\", \"uid2\"]}\n",
    "log.push(**data_dict)"
   ]
  },
  {
   "cell_type": "code",
   "execution_count": 5,
   "metadata": {},
   "outputs": [
    {
     "name": "stdout",
     "output_type": "stream",
     "text": [
      "Pulled Data: {'724a97173dfd9cc633fe0deae990d0da8d18f9e1394af61487c1f8c14a6121dc': {'data': 'need to implement pdfsearch db with ui', 'description': None}}\n"
     ]
    }
   ],
   "source": [
    "\n",
    "# Pull data from the document\n",
    "pulled_data = log.pull(uid=\"projects\")\n",
    "print(\"Pulled Data:\", pulled_data)"
   ]
  },
  {
   "cell_type": "code",
   "execution_count": 6,
   "metadata": {},
   "outputs": [
    {
     "name": "stdout",
     "output_type": "stream",
     "text": [
      "{'data': ['data-1', 'example data 2'],\n",
      " 'description': [None, 'description 2'],\n",
      " 'embeddings': [],\n",
      " 'entries': 2,\n",
      " 'hid': ['51bbfa74f8660493f40fd72068f63af436ee13c283ca84c373d9690ff2f1f83c',\n",
      "         '477f174138adfd0ea6cbb7c44137817ff990b7c8cf7216e95b1e8d8a78420d38'],\n",
      " 'index': [{'date': '20-08-2024',\n",
      "            'doc': 'log-[20_08_2024]',\n",
      "            'time': '06:49:13',\n",
      "            'uid': 'uid'},\n",
      "           {'date': '20-08-2024',\n",
      "            'doc': 'log-[20_08_2024]',\n",
      "            'key2': 'value2',\n",
      "            'time': '06:49:13',\n",
      "            'uid': 'uid2'}],\n",
      " 'sim_score': [0.32911220979737954, 0.1725961017032317]}\n"
     ]
    }
   ],
   "source": [
    "# Search data in the document\n",
    "from pprint import pprint\n",
    "\n",
    "\n",
    "search_results = log.search(query=\"data\", topn=2)\n",
    "pprint(search_results)\n"
   ]
  },
  {
   "cell_type": "code",
   "execution_count": 7,
   "metadata": {},
   "outputs": [
    {
     "name": "stdout",
     "output_type": "stream",
     "text": [
      "{'data': ['need to implement pdfsearch db with ui'],\n",
      " 'description': [None],\n",
      " 'embeddings': [],\n",
      " 'entries': 1,\n",
      " 'hid': ['724a97173dfd9cc633fe0deae990d0da8d18f9e1394af61487c1f8c14a6121dc'],\n",
      " 'index': [{'date': '20-08-2024',\n",
      "            'doc': 'log-[20_08_2024]',\n",
      "            'note-type': 'project-note',\n",
      "            'time': '06:49:13',\n",
      "            'uid': 'projects'}],\n",
      " 'sim_score': [1.4708938834295695]}\n"
     ]
    }
   ],
   "source": [
    "\n",
    "# Perform a more vector search\n",
    "advanced_search_results = log.search(\n",
    "    query=\"implementation plan\", \n",
    "    topn=2, \n",
    "    by=\"ed\", \n",
    "    where={\"note-type\": \"project-note\"}, \n",
    "    where_data={\"search_string\": \"pdfsearch\"}\n",
    ")\n",
    "pprint(advanced_search_results)\n"
   ]
  },
  {
   "cell_type": "code",
   "execution_count": 8,
   "metadata": {},
   "outputs": [
    {
     "data": {
      "text/plain": [
       "{'51bbfa74f8660493f40fd72068f63af436ee13c283ca84c373d9690ff2f1f83c': {'uid': 'uid',\n",
       "  'doc': 'log-[20_08_2024]',\n",
       "  'time': '06:49:13',\n",
       "  'date': '20-08-2024'},\n",
       " '724a97173dfd9cc633fe0deae990d0da8d18f9e1394af61487c1f8c14a6121dc': {'uid': 'projects',\n",
       "  'doc': 'log-[20_08_2024]',\n",
       "  'time': '06:49:13',\n",
       "  'date': '20-08-2024',\n",
       "  'note-type': 'project-note'},\n",
       " 'aaacbb93bcad96ad1d1cad71a69ef2c05d128b8f39bbea1034336abde5bd9074': {'uid': 'uid',\n",
       "  'doc': 'log-[20_08_2024]',\n",
       "  'time': '06:49:13',\n",
       "  'date': '20-08-2024'},\n",
       " 'bc94d30c63395b6973dc797b130369a59aebfa8fbf9e215b0848afc47724d38d': {'uid': 'uid1',\n",
       "  'doc': 'log-[20_08_2024]',\n",
       "  'time': '06:49:13',\n",
       "  'date': '20-08-2024',\n",
       "  'key1': 'value1'},\n",
       " '477f174138adfd0ea6cbb7c44137817ff990b7c8cf7216e95b1e8d8a78420d38': {'uid': 'uid2',\n",
       "  'doc': 'log-[20_08_2024]',\n",
       "  'time': '06:49:13',\n",
       "  'date': '20-08-2024',\n",
       "  'key2': 'value2'}}"
      ]
     },
     "execution_count": 8,
     "metadata": {},
     "output_type": "execute_result"
    }
   ],
   "source": [
    "log.pull(docfile=\".index\")"
   ]
  },
  {
   "cell_type": "code",
   "execution_count": null,
   "metadata": {},
   "outputs": [],
   "source": []
  },
  {
   "cell_type": "code",
   "execution_count": null,
   "metadata": {},
   "outputs": [],
   "source": []
  }
 ],
 "metadata": {
  "kernelspec": {
   "display_name": "Python 3",
   "language": "python",
   "name": "python3"
  },
  "language_info": {
   "codemirror_mode": {
    "name": "ipython",
    "version": 3
   },
   "file_extension": ".py",
   "mimetype": "text/x-python",
   "name": "python",
   "nbconvert_exporter": "python",
   "pygments_lexer": "ipython3",
   "version": "3.11.9"
  }
 },
 "nbformat": 4,
 "nbformat_minor": 2
}
