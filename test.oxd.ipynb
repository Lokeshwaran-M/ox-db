{
 "cells": [
  {
   "cell_type": "code",
   "execution_count": 28,
   "metadata": {},
   "outputs": [],
   "source": [
    "from ox_db.oxd import OxDoc \n"
   ]
  },
  {
   "cell_type": "code",
   "execution_count": 29,
   "metadata": {},
   "outputs": [],
   "source": [
    "doc = OxDoc('data')"
   ]
  },
  {
   "cell_type": "code",
   "execution_count": 30,
   "metadata": {},
   "outputs": [
    {
     "data": {
      "text/plain": [
       "True"
      ]
     },
     "execution_count": 30,
     "metadata": {},
     "output_type": "execute_result"
    }
   ],
   "source": [
    "doc.set(\"k1\",\" dummy data-1\")\n",
    "doc.set(\"k2\",[\" dummy data-1\"])\n",
    "doc.set(\"k3\",{\"data\":\" dummy data-3\"})\n",
    "doc.set(\"null-data\",{\"data\":\"lakajsjnxubebbdiwdiwi\"})"
   ]
  },
  {
   "cell_type": "code",
   "execution_count": 31,
   "metadata": {},
   "outputs": [
    {
     "data": {
      "text/plain": [
       "True"
      ]
     },
     "execution_count": 31,
     "metadata": {},
     "output_type": "execute_result"
    }
   ],
   "source": [
    "doc.set(\"k2\",2)\n",
    "doc.delete(\"null-data\")"
   ]
  },
  {
   "cell_type": "code",
   "execution_count": 32,
   "metadata": {},
   "outputs": [],
   "source": [
    "new_data = {'key4': 'value4', 'key5': 'value5'}\n",
    "doc.add(new_data)"
   ]
  },
  {
   "cell_type": "code",
   "execution_count": 33,
   "metadata": {},
   "outputs": [
    {
     "name": "stdout",
     "output_type": "stream",
     "text": [
      "ox-db :  dummy data-1\n",
      "ox-db : value5\n"
     ]
    },
    {
     "data": {
      "text/plain": [
       "'value5'"
      ]
     },
     "execution_count": 33,
     "metadata": {},
     "output_type": "execute_result"
    }
   ],
   "source": [
    "doc.get(\"k1\")\n",
    "doc.get(\"null-data\")\n",
    "doc.get(\"key5\")"
   ]
  },
  {
   "cell_type": "code",
   "execution_count": 34,
   "metadata": {},
   "outputs": [
    {
     "data": {
      "text/plain": [
       "{'oxd-init': 'data',\n",
       " '33': '55555555555555555555555',\n",
       " 'key2': {'nested': 'value2'},\n",
       " 'dd': 'dddd',\n",
       " 'key4': 'value4',\n",
       " 'key5': 'value5',\n",
       " 'k1': ' dummy data-1',\n",
       " 'k3': {'data': ' dummy data-3'},\n",
       " 'k2': 2}"
      ]
     },
     "execution_count": 34,
     "metadata": {},
     "output_type": "execute_result"
    }
   ],
   "source": [
    "doc.load_data()"
   ]
  },
  {
   "cell_type": "code",
   "execution_count": 35,
   "metadata": {},
   "outputs": [
    {
     "data": {
      "text/plain": [
       "{'oxd-init': 'data',\n",
       " '33': '55555555555555555555555',\n",
       " 'key2': {'nested': 'value2'},\n",
       " 'dd': 'dddd',\n",
       " 'key4': 'value4',\n",
       " 'key5': 'value5',\n",
       " 'k1': ' dummy data-1',\n",
       " 'k3': {'data': ' dummy data-3'},\n",
       " 'k2': 2}"
      ]
     },
     "execution_count": 35,
     "metadata": {},
     "output_type": "execute_result"
    }
   ],
   "source": [
    "doc.compact()"
   ]
  }
 ],
 "metadata": {
  "kernelspec": {
   "display_name": "Python 3",
   "language": "python",
   "name": "python3"
  },
  "language_info": {
   "codemirror_mode": {
    "name": "ipython",
    "version": 3
   },
   "file_extension": ".py",
   "mimetype": "text/x-python",
   "name": "python",
   "nbconvert_exporter": "python",
   "pygments_lexer": "ipython3",
   "version": "3.11.9"
  }
 },
 "nbformat": 4,
 "nbformat_minor": 2
}
