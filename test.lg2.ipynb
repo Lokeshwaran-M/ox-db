{
 "cells": [
  {
   "cell_type": "code",
   "execution_count": 1,
   "metadata": {},
   "outputs": [
    {
     "name": "stderr",
     "output_type": "stream",
     "text": [
      "/home/lokesh/.local/lib/python3.11/site-packages/sentence_transformers/cross_encoder/CrossEncoder.py:11: TqdmExperimentalWarning: Using `tqdm.autonotebook.tqdm` in notebook mode. Use `tqdm.tqdm` instead to force console mode (e.g. in jupyter console)\n",
      "  from tqdm.autonotebook import tqdm, trange\n",
      "/home/lokesh/.local/lib/python3.11/site-packages/huggingface_hub/file_download.py:1132: FutureWarning: `resume_download` is deprecated and will be removed in version 1.0.0. Downloads always resume when possible. If you want to force a new download, use `force_download=True`.\n",
      "  warnings.warn(\n"
     ]
    }
   ],
   "source": [
    "from ox_db.db.lg2 import Oxdb\n",
    "\n",
    "db = Oxdb(\"test\")"
   ]
  },
  {
   "cell_type": "code",
   "execution_count": 2,
   "metadata": {},
   "outputs": [],
   "source": [
    "doc = db.get_record(\"note\")"
   ]
  },
  {
   "cell_type": "code",
   "execution_count": 3,
   "metadata": {},
   "outputs": [
    {
     "data": {
      "text/plain": [
       "'fbdf2d2f-ceda-4e1e-a5e0-cf2d1967a819'"
      ]
     },
     "execution_count": 3,
     "metadata": {},
     "output_type": "execute_result"
    }
   ],
   "source": [
    "doc.push(\"remember me : need to do code implementation for key lang conversation \")\n",
    "doc.push(\"remember me : gym time is morning from today  \")\n",
    "doc.push(\"remember me : base vector db arcchitecture is done  \")\n",
    "doc.push(\"remember me : need to do more research on deep learning  \")"
   ]
  },
  {
   "cell_type": "code",
   "execution_count": 4,
   "metadata": {},
   "outputs": [
    {
     "data": {
      "text/plain": [
       "{'record_name': 'note',\n",
       " 'record_path': '/home/lokesh/ox-db/test.oxdb/note',\n",
       " 'vec_model': 'sentence-transformers/all-MiniLM-L6-v2',\n",
       " 'entry': 4,\n",
       " 'current_vpageid': 'vpage-05-07-2024',\n",
       " 'current_cpageid': 'cpage-102ad355-5f85-455b-a6ea-6b790a3aa313',\n",
       " 'vpage_count': 1,\n",
       " 'cpage_count': 0}"
      ]
     },
     "execution_count": 4,
     "metadata": {},
     "output_type": "execute_result"
    }
   ],
   "source": [
    "doc.info()"
   ]
  },
  {
   "cell_type": "code",
   "execution_count": 5,
   "metadata": {},
   "outputs": [
    {
     "data": {
      "text/plain": [
       "'e196d20f-fca0-4e03-8cf9-89d708b31298'"
      ]
     },
     "execution_count": 5,
     "metadata": {},
     "output_type": "execute_result"
    }
   ],
   "source": [
    "doc.push(\"need to do : find efficient data store and retrive method  \")\n",
    "doc.push(\"need to do : i need to finesh deamon search asap  \")\n",
    "doc.push(\"need to do : need to sleep  \")\n",
    "doc.push(\"need to do : look out for bugs in code base and fix it   \")"
   ]
  },
  {
   "cell_type": "code",
   "execution_count": 6,
   "metadata": {},
   "outputs": [
    {
     "data": {
      "text/plain": [
       "'cf7b393e-89f5-4730-92c1-3300017ad113'"
      ]
     },
     "execution_count": 6,
     "metadata": {},
     "output_type": "execute_result"
    }
   ],
   "source": [
    "doc.push(\"Hi I'm OX-AI your AI personal database \", metadata={\"res\": \"assistant\"})\n",
    "doc.push(\n",
    "    \"I can store your documents with vector embaddings and retrive it based on vector search\",\n",
    "    metadata={\"res\": \"assistant\"},\n",
    ")\n",
    "doc.push(\"I'm currently under development\", metadata={\"res\": \"assistant\"})\n",
    "doc.push(\n",
    "    \"looking forward to do more to increase your productivity!\",\n",
    "    metadata={\"res\": \"assistant\"},\n",
    ")\n",
    "doc.push(\n",
    "    \"Hi I'm your AI personal database and I can store your documents with vector embeddings and retrieve them based on vector search. I'm currently under development, looking forward to doing more to increase your productivity!\",\n",
    "    metadata={\"res\": \"assistant\"},\n",
    ")"
   ]
  },
  {
   "cell_type": "code",
   "execution_count": 7,
   "metadata": {},
   "outputs": [
    {
     "data": {
      "text/plain": [
       "'b08cc0a2-4f1e-4d64-8a23-1726e5f80d95'"
      ]
     },
     "execution_count": 7,
     "metadata": {},
     "output_type": "execute_result"
    }
   ],
   "source": [
    "doc.push(\"hi\", key=\"time\")"
   ]
  },
  {
   "cell_type": "code",
   "execution_count": 8,
   "metadata": {},
   "outputs": [
    {
     "data": {
      "text/plain": [
       "['cpage-841bd6dd-0669-4ddc-9767-aabae01dabc6', 'vpage-05-07-2024']"
      ]
     },
     "execution_count": 8,
     "metadata": {},
     "output_type": "execute_result"
    }
   ],
   "source": [
    "doc.search(\"hi ox-ai\", 3)"
   ]
  },
  {
   "cell_type": "code",
   "execution_count": 9,
   "metadata": {},
   "outputs": [
    {
     "data": {
      "text/plain": [
       "'833f0642-b3fb-4e70-9235-38764daa0ee0'"
      ]
     },
     "execution_count": 9,
     "metadata": {},
     "output_type": "execute_result"
    }
   ],
   "source": [
    "doc.push(\n",
    "    \"need to : implement rag system that pulls data from the internet and chunk it and store as knowledge for easy retrivel\"\n",
    ")"
   ]
  },
  {
   "cell_type": "code",
   "execution_count": 10,
   "metadata": {},
   "outputs": [
    {
     "name": "stdout",
     "output_type": "stream",
     "text": [
      "CPU times: user 78.1 ms, sys: 396 µs, total: 78.5 ms\n",
      "Wall time: 18 ms\n"
     ]
    },
    {
     "data": {
      "text/plain": [
       "['cpage-841bd6dd-0669-4ddc-9767-aabae01dabc6', 'vpage-05-07-2024']"
      ]
     },
     "execution_count": 10,
     "metadata": {},
     "output_type": "execute_result"
    }
   ],
   "source": [
    "%%time\n",
    "\n",
    "doc.search(\"rag\",2)"
   ]
  },
  {
   "cell_type": "code",
   "execution_count": 31,
   "metadata": {},
   "outputs": [
    {
     "data": {
      "text/plain": [
       "{'uid': '7b57d911-63c9-4b57-8caf-6b4991eda8c9',\n",
       " 'data': 'remember me : gym time is morning from today  ',\n",
       " 'key': 'key',\n",
       " 'description': None,\n",
       " 'metadata': None,\n",
       " 'page': None,\n",
       " 'vpageid': 'vpage-05-07-2024',\n",
       " 'cpageid': 'cpage-841bd6dd-0669-4ddc-9767-aabae01dabc6',\n",
       " 'record': 'note',\n",
       " 'time': '02:37:05',\n",
       " 'date': '05-07-2024',\n",
       " 'data_type': 'str'}"
      ]
     },
     "execution_count": 31,
     "metadata": {},
     "output_type": "execute_result"
    }
   ],
   "source": [
    "doc.data_oxd.get('7b57d911-63c9-4b57-8caf-6b4991eda8c9')"
   ]
  },
  {
   "cell_type": "code",
   "execution_count": 46,
   "metadata": {},
   "outputs": [
    {
     "data": {
      "text/plain": [
       "['cpage-841bd6dd-0669-4ddc-9767-aabae01dabc6']"
      ]
     },
     "execution_count": 46,
     "metadata": {},
     "output_type": "execute_result"
    }
   ],
   "source": [
    "doc.cpage_oxd.get(\"all_page\")"
   ]
  },
  {
   "cell_type": "code",
   "execution_count": 49,
   "metadata": {},
   "outputs": [
    {
     "ename": "InvalidBSON",
     "evalue": "not enough data for a BSON document",
     "output_type": "error",
     "traceback": [
      "\u001b[0;31m---------------------------------------------------------------------------\u001b[0m",
      "\u001b[0;31mInvalidBSON\u001b[0m                               Traceback (most recent call last)",
      "Cell \u001b[0;32mIn[49], line 1\u001b[0m\n\u001b[0;32m----> 1\u001b[0m \u001b[43mdoc\u001b[49m\u001b[38;5;241;43m.\u001b[39;49m\u001b[43mcpage_oxd\u001b[49m\u001b[38;5;241;43m.\u001b[39;49m\u001b[43mload_data\u001b[49m\u001b[43m(\u001b[49m\u001b[43m)\u001b[49m\n",
      "File \u001b[0;32m~/.local/lib/python3.11/site-packages/ox_doc/ld.py:162\u001b[0m, in \u001b[0;36mOxDoc.load_data\u001b[0;34m(self)\u001b[0m\n\u001b[1;32m    160\u001b[0m \u001b[38;5;28;01mdef\u001b[39;00m \u001b[38;5;21mload_data\u001b[39m(\u001b[38;5;28mself\u001b[39m):\n\u001b[1;32m    161\u001b[0m \u001b[38;5;250m    \u001b[39m\u001b[38;5;124;03m\"\"\"Load all key-value pairs from the BSON file and return them as a Python dictionary.\"\"\"\u001b[39;00m\n\u001b[0;32m--> 162\u001b[0m     data \u001b[38;5;241m=\u001b[39m \u001b[38;5;28;43mself\u001b[39;49m\u001b[38;5;241;43m.\u001b[39;49m\u001b[43mcompact\u001b[49m\u001b[43m(\u001b[49m\u001b[43m)\u001b[49m\n\u001b[1;32m    163\u001b[0m     \u001b[38;5;28;01mdel\u001b[39;00m data[\u001b[38;5;124m\"\u001b[39m\u001b[38;5;124moxd-init\u001b[39m\u001b[38;5;124m\"\u001b[39m]\n\u001b[1;32m    164\u001b[0m     \u001b[38;5;28;01mreturn\u001b[39;00m data\n",
      "File \u001b[0;32m~/.local/lib/python3.11/site-packages/ox_doc/ld.py:146\u001b[0m, in \u001b[0;36mOxDoc.compact\u001b[0;34m(self)\u001b[0m\n\u001b[1;32m    144\u001b[0m old_file\u001b[38;5;241m.\u001b[39mseek(old_position)\n\u001b[1;32m    145\u001b[0m bson_data \u001b[38;5;241m=\u001b[39m old_file\u001b[38;5;241m.\u001b[39mread(length)\n\u001b[0;32m--> 146\u001b[0m document \u001b[38;5;241m=\u001b[39m \u001b[43mbson\u001b[49m\u001b[38;5;241;43m.\u001b[39;49m\u001b[43mdecode\u001b[49m\u001b[43m(\u001b[49m\u001b[43mbson_data\u001b[49m\u001b[43m)\u001b[49m\n\u001b[1;32m    147\u001b[0m data_dict\u001b[38;5;241m.\u001b[39mupdate(document)\n\u001b[1;32m    148\u001b[0m new_position \u001b[38;5;241m=\u001b[39m new_file\u001b[38;5;241m.\u001b[39mtell()\n",
      "File \u001b[0;32m~/.local/lib/python3.11/site-packages/bson/__init__.py:1078\u001b[0m, in \u001b[0;36mdecode\u001b[0;34m(data, codec_options)\u001b[0m\n\u001b[1;32m   1075\u001b[0m \u001b[38;5;28;01mif\u001b[39;00m \u001b[38;5;129;01mnot\u001b[39;00m \u001b[38;5;28misinstance\u001b[39m(opts, CodecOptions):\n\u001b[1;32m   1076\u001b[0m     \u001b[38;5;28;01mraise\u001b[39;00m _CODEC_OPTIONS_TYPE_ERROR\n\u001b[0;32m-> 1078\u001b[0m \u001b[38;5;28;01mreturn\u001b[39;00m cast(\u001b[38;5;124m\"\u001b[39m\u001b[38;5;124mUnion[dict[str, Any], _DocumentType]\u001b[39m\u001b[38;5;124m\"\u001b[39m, \u001b[43m_bson_to_dict\u001b[49m\u001b[43m(\u001b[49m\u001b[43mdata\u001b[49m\u001b[43m,\u001b[49m\u001b[43m \u001b[49m\u001b[43mopts\u001b[49m\u001b[43m)\u001b[49m)\n",
      "\u001b[0;31mInvalidBSON\u001b[0m: not enough data for a BSON document"
     ]
    }
   ],
   "source": [
    "doc.cpage_oxd.load_data()"
   ]
  },
  {
   "cell_type": "code",
   "execution_count": 30,
   "metadata": {},
   "outputs": [
    {
     "data": {
      "text/plain": [
       "[{'uid': 'cpage-841bd6dd-0669-4ddc-9767-aabae01dabc6',\n",
       "  'unit': {'uid': 'cpage-841bd6dd-0669-4ddc-9767-aabae01dabc6',\n",
       "   'lines': ['cb131af3-e4d3-407d-a532-5d12f3510eaa',\n",
       "    '7b57d911-63c9-4b57-8caf-6b4991eda8c9',\n",
       "    'd9f00231-4770-4648-ad5b-a43deba48b2c',\n",
       "    'fbdf2d2f-ceda-4e1e-a5e0-cf2d1967a819',\n",
       "    'd8197809-a727-4950-8053-ec492a612d00',\n",
       "    '6b0dd854-ddb7-4c3c-8061-1934d2abad85',\n",
       "    'dfddb304-5a9c-4079-8045-b55ce0d623e6',\n",
       "    'e196d20f-fca0-4e03-8cf9-89d708b31298',\n",
       "    'c17e8df8-def0-4aa8-904a-d93c7ab69230',\n",
       "    '38fa9164-5a8e-4352-af43-b27e9de5cae8',\n",
       "    '6826e156-2518-496c-ad26-e84530950d1f',\n",
       "    '3e53ac97-8648-4071-81c6-2a9facacdcd1',\n",
       "    'cf7b393e-89f5-4730-92c1-3300017ad113',\n",
       "    'b08cc0a2-4f1e-4d64-8a23-1726e5f80d95',\n",
       "    '833f0642-b3fb-4e70-9235-38764daa0ee0'],\n",
       "   'full': False,\n",
       "   'page_len': 239}}]"
      ]
     },
     "execution_count": 30,
     "metadata": {},
     "output_type": "execute_result"
    }
   ],
   "source": [
    "doc.pull(uid=\"cpage-841bd6dd-0669-4ddc-9767-aabae01dabc6\",recordfile=\"cpage.oxd\")"
   ]
  },
  {
   "cell_type": "code",
   "execution_count": 23,
   "metadata": {},
   "outputs": [
    {
     "data": {
      "text/plain": [
       "[{'uid': 'all_page', 'unit': ['vpage-05-07-2024']},\n",
       " {'uid': 'vpage-05-07-2024',\n",
       "  'unit': {'uid': 'vpage-05-07-2024',\n",
       "   'lines': ['cb131af3-e4d3-407d-a532-5d12f3510eaa',\n",
       "    '7b57d911-63c9-4b57-8caf-6b4991eda8c9',\n",
       "    'd9f00231-4770-4648-ad5b-a43deba48b2c',\n",
       "    'fbdf2d2f-ceda-4e1e-a5e0-cf2d1967a819',\n",
       "    'd8197809-a727-4950-8053-ec492a612d00',\n",
       "    '6b0dd854-ddb7-4c3c-8061-1934d2abad85',\n",
       "    'dfddb304-5a9c-4079-8045-b55ce0d623e6',\n",
       "    'e196d20f-fca0-4e03-8cf9-89d708b31298',\n",
       "    'c17e8df8-def0-4aa8-904a-d93c7ab69230',\n",
       "    '38fa9164-5a8e-4352-af43-b27e9de5cae8',\n",
       "    '6826e156-2518-496c-ad26-e84530950d1f',\n",
       "    '3e53ac97-8648-4071-81c6-2a9facacdcd1',\n",
       "    'cf7b393e-89f5-4730-92c1-3300017ad113',\n",
       "    'b08cc0a2-4f1e-4d64-8a23-1726e5f80d95',\n",
       "    '833f0642-b3fb-4e70-9235-38764daa0ee0']}}]"
      ]
     },
     "execution_count": 23,
     "metadata": {},
     "output_type": "execute_result"
    }
   ],
   "source": [
    "doc.pull(recordfile=\"vpage.oxd\")"
   ]
  },
  {
   "cell_type": "code",
   "execution_count": 24,
   "metadata": {},
   "outputs": [
    {
     "data": {
      "text/plain": [
       "[{'uid': 'cb131af3-e4d3-407d-a532-5d12f3510eaa',\n",
       "  'unit': {'uid': 'cb131af3-e4d3-407d-a532-5d12f3510eaa',\n",
       "   'data': 'remember me : need to do code implementation for key lang conversation ',\n",
       "   'key': 'key',\n",
       "   'description': None,\n",
       "   'metadata': None,\n",
       "   'page': None,\n",
       "   'vpageid': 'vpage-05-07-2024',\n",
       "   'cpageid': 'cpage-841bd6dd-0669-4ddc-9767-aabae01dabc6',\n",
       "   'record': 'note',\n",
       "   'time': '02:37:05',\n",
       "   'date': '05-07-2024',\n",
       "   'data_type': 'str'}},\n",
       " {'uid': '7b57d911-63c9-4b57-8caf-6b4991eda8c9',\n",
       "  'unit': {'uid': '7b57d911-63c9-4b57-8caf-6b4991eda8c9',\n",
       "   'data': 'remember me : gym time is morning from today  ',\n",
       "   'key': 'key',\n",
       "   'description': None,\n",
       "   'metadata': None,\n",
       "   'page': None,\n",
       "   'vpageid': 'vpage-05-07-2024',\n",
       "   'cpageid': 'cpage-841bd6dd-0669-4ddc-9767-aabae01dabc6',\n",
       "   'record': 'note',\n",
       "   'time': '02:37:05',\n",
       "   'date': '05-07-2024',\n",
       "   'data_type': 'str'}},\n",
       " {'uid': 'd9f00231-4770-4648-ad5b-a43deba48b2c',\n",
       "  'unit': {'uid': 'd9f00231-4770-4648-ad5b-a43deba48b2c',\n",
       "   'data': 'remember me : base vector db arcchitecture is done  ',\n",
       "   'key': 'key',\n",
       "   'description': None,\n",
       "   'metadata': None,\n",
       "   'page': None,\n",
       "   'vpageid': 'vpage-05-07-2024',\n",
       "   'cpageid': 'cpage-841bd6dd-0669-4ddc-9767-aabae01dabc6',\n",
       "   'record': 'note',\n",
       "   'time': '02:37:05',\n",
       "   'date': '05-07-2024',\n",
       "   'data_type': 'str'}},\n",
       " {'uid': 'fbdf2d2f-ceda-4e1e-a5e0-cf2d1967a819',\n",
       "  'unit': {'uid': 'fbdf2d2f-ceda-4e1e-a5e0-cf2d1967a819',\n",
       "   'data': 'remember me : need to do more research on deep learning  ',\n",
       "   'key': 'key',\n",
       "   'description': None,\n",
       "   'metadata': None,\n",
       "   'page': None,\n",
       "   'vpageid': 'vpage-05-07-2024',\n",
       "   'cpageid': 'cpage-841bd6dd-0669-4ddc-9767-aabae01dabc6',\n",
       "   'record': 'note',\n",
       "   'time': '02:37:05',\n",
       "   'date': '05-07-2024',\n",
       "   'data_type': 'str'}},\n",
       " {'uid': 'd8197809-a727-4950-8053-ec492a612d00',\n",
       "  'unit': {'uid': 'd8197809-a727-4950-8053-ec492a612d00',\n",
       "   'data': 'need to do : find efficient data store and retrive method  ',\n",
       "   'key': 'key',\n",
       "   'description': None,\n",
       "   'metadata': None,\n",
       "   'page': None,\n",
       "   'vpageid': 'vpage-05-07-2024',\n",
       "   'cpageid': 'cpage-841bd6dd-0669-4ddc-9767-aabae01dabc6',\n",
       "   'record': 'note',\n",
       "   'time': '02:37:05',\n",
       "   'date': '05-07-2024',\n",
       "   'data_type': 'str'}},\n",
       " {'uid': '6b0dd854-ddb7-4c3c-8061-1934d2abad85',\n",
       "  'unit': {'uid': '6b0dd854-ddb7-4c3c-8061-1934d2abad85',\n",
       "   'data': 'need to do : i need to finesh deamon search asap  ',\n",
       "   'key': 'key',\n",
       "   'description': None,\n",
       "   'metadata': None,\n",
       "   'page': None,\n",
       "   'vpageid': 'vpage-05-07-2024',\n",
       "   'cpageid': 'cpage-841bd6dd-0669-4ddc-9767-aabae01dabc6',\n",
       "   'record': 'note',\n",
       "   'time': '02:37:05',\n",
       "   'date': '05-07-2024',\n",
       "   'data_type': 'str'}},\n",
       " {'uid': 'dfddb304-5a9c-4079-8045-b55ce0d623e6',\n",
       "  'unit': {'uid': 'dfddb304-5a9c-4079-8045-b55ce0d623e6',\n",
       "   'data': 'need to do : need to sleep  ',\n",
       "   'key': 'key',\n",
       "   'description': None,\n",
       "   'metadata': None,\n",
       "   'page': None,\n",
       "   'vpageid': 'vpage-05-07-2024',\n",
       "   'cpageid': 'cpage-841bd6dd-0669-4ddc-9767-aabae01dabc6',\n",
       "   'record': 'note',\n",
       "   'time': '02:37:06',\n",
       "   'date': '05-07-2024',\n",
       "   'data_type': 'str'}},\n",
       " {'uid': 'e196d20f-fca0-4e03-8cf9-89d708b31298',\n",
       "  'unit': {'uid': 'e196d20f-fca0-4e03-8cf9-89d708b31298',\n",
       "   'data': 'need to do : look out for bugs in code base and fix it   ',\n",
       "   'key': 'key',\n",
       "   'description': None,\n",
       "   'metadata': None,\n",
       "   'page': None,\n",
       "   'vpageid': 'vpage-05-07-2024',\n",
       "   'cpageid': 'cpage-841bd6dd-0669-4ddc-9767-aabae01dabc6',\n",
       "   'record': 'note',\n",
       "   'time': '02:37:06',\n",
       "   'date': '05-07-2024',\n",
       "   'data_type': 'str'}},\n",
       " {'uid': 'c17e8df8-def0-4aa8-904a-d93c7ab69230',\n",
       "  'unit': {'uid': 'c17e8df8-def0-4aa8-904a-d93c7ab69230',\n",
       "   'data': \"Hi I'm OX-AI your AI personal database \",\n",
       "   'key': 'key',\n",
       "   'description': None,\n",
       "   'metadata': {'res': 'assistant'},\n",
       "   'page': None,\n",
       "   'vpageid': 'vpage-05-07-2024',\n",
       "   'cpageid': 'cpage-841bd6dd-0669-4ddc-9767-aabae01dabc6',\n",
       "   'record': 'note',\n",
       "   'time': '02:37:06',\n",
       "   'date': '05-07-2024',\n",
       "   'data_type': 'str'}},\n",
       " {'uid': '38fa9164-5a8e-4352-af43-b27e9de5cae8',\n",
       "  'unit': {'uid': '38fa9164-5a8e-4352-af43-b27e9de5cae8',\n",
       "   'data': 'I can store your documents with vector embaddings and retrive it based on vector search',\n",
       "   'key': 'key',\n",
       "   'description': None,\n",
       "   'metadata': {'res': 'assistant'},\n",
       "   'page': None,\n",
       "   'vpageid': 'vpage-05-07-2024',\n",
       "   'cpageid': 'cpage-841bd6dd-0669-4ddc-9767-aabae01dabc6',\n",
       "   'record': 'note',\n",
       "   'time': '02:37:06',\n",
       "   'date': '05-07-2024',\n",
       "   'data_type': 'str'}},\n",
       " {'uid': '6826e156-2518-496c-ad26-e84530950d1f',\n",
       "  'unit': {'uid': '6826e156-2518-496c-ad26-e84530950d1f',\n",
       "   'data': \"I'm currently under development\",\n",
       "   'key': 'key',\n",
       "   'description': None,\n",
       "   'metadata': {'res': 'assistant'},\n",
       "   'page': None,\n",
       "   'vpageid': 'vpage-05-07-2024',\n",
       "   'cpageid': 'cpage-841bd6dd-0669-4ddc-9767-aabae01dabc6',\n",
       "   'record': 'note',\n",
       "   'time': '02:37:06',\n",
       "   'date': '05-07-2024',\n",
       "   'data_type': 'str'}},\n",
       " {'uid': '3e53ac97-8648-4071-81c6-2a9facacdcd1',\n",
       "  'unit': {'uid': '3e53ac97-8648-4071-81c6-2a9facacdcd1',\n",
       "   'data': 'looking forward to do more to increase your productivity!',\n",
       "   'key': 'key',\n",
       "   'description': None,\n",
       "   'metadata': {'res': 'assistant'},\n",
       "   'page': None,\n",
       "   'vpageid': 'vpage-05-07-2024',\n",
       "   'cpageid': 'cpage-841bd6dd-0669-4ddc-9767-aabae01dabc6',\n",
       "   'record': 'note',\n",
       "   'time': '02:37:06',\n",
       "   'date': '05-07-2024',\n",
       "   'data_type': 'str'}},\n",
       " {'uid': 'cf7b393e-89f5-4730-92c1-3300017ad113',\n",
       "  'unit': {'uid': 'cf7b393e-89f5-4730-92c1-3300017ad113',\n",
       "   'data': \"Hi I'm your AI personal database and I can store your documents with vector embeddings and retrieve them based on vector search. I'm currently under development, looking forward to doing more to increase your productivity!\",\n",
       "   'key': 'key',\n",
       "   'description': None,\n",
       "   'metadata': {'res': 'assistant'},\n",
       "   'page': None,\n",
       "   'vpageid': 'vpage-05-07-2024',\n",
       "   'cpageid': 'cpage-841bd6dd-0669-4ddc-9767-aabae01dabc6',\n",
       "   'record': 'note',\n",
       "   'time': '02:37:06',\n",
       "   'date': '05-07-2024',\n",
       "   'data_type': 'str'}},\n",
       " {'uid': 'b08cc0a2-4f1e-4d64-8a23-1726e5f80d95',\n",
       "  'unit': {'uid': 'b08cc0a2-4f1e-4d64-8a23-1726e5f80d95',\n",
       "   'data': 'hi',\n",
       "   'key': 'time',\n",
       "   'description': None,\n",
       "   'metadata': None,\n",
       "   'page': None,\n",
       "   'vpageid': 'vpage-05-07-2024',\n",
       "   'cpageid': 'cpage-841bd6dd-0669-4ddc-9767-aabae01dabc6',\n",
       "   'record': 'note',\n",
       "   'time': '02:37:07',\n",
       "   'date': '05-07-2024',\n",
       "   'data_type': 'str'}},\n",
       " {'uid': '833f0642-b3fb-4e70-9235-38764daa0ee0',\n",
       "  'unit': {'uid': '833f0642-b3fb-4e70-9235-38764daa0ee0',\n",
       "   'data': 'need to : implement rag system that pulls data from the internet and chunk it and store as knowledge for easy retrivel',\n",
       "   'key': 'key',\n",
       "   'description': None,\n",
       "   'metadata': None,\n",
       "   'page': None,\n",
       "   'vpageid': 'vpage-05-07-2024',\n",
       "   'cpageid': 'cpage-841bd6dd-0669-4ddc-9767-aabae01dabc6',\n",
       "   'record': 'note',\n",
       "   'time': '02:37:07',\n",
       "   'date': '05-07-2024',\n",
       "   'data_type': 'str'}}]"
      ]
     },
     "execution_count": 24,
     "metadata": {},
     "output_type": "execute_result"
    }
   ],
   "source": [
    "doc.pull(time=\"02\")"
   ]
  },
  {
   "cell_type": "code",
   "execution_count": 25,
   "metadata": {},
   "outputs": [
    {
     "data": {
      "text/plain": [
       "[{'uid': 'cb131af3-e4d3-407d-a532-5d12f3510eaa',\n",
       "  'unit': {'uid': 'cb131af3-e4d3-407d-a532-5d12f3510eaa',\n",
       "   'data': 'remember me : need to do code implementation for key lang conversation ',\n",
       "   'key': 'key',\n",
       "   'description': None,\n",
       "   'metadata': None,\n",
       "   'page': None,\n",
       "   'vpageid': 'vpage-05-07-2024',\n",
       "   'cpageid': 'cpage-841bd6dd-0669-4ddc-9767-aabae01dabc6',\n",
       "   'record': 'note',\n",
       "   'time': '02:37:05',\n",
       "   'date': '05-07-2024',\n",
       "   'data_type': 'str'}},\n",
       " {'uid': '7b57d911-63c9-4b57-8caf-6b4991eda8c9',\n",
       "  'unit': {'uid': '7b57d911-63c9-4b57-8caf-6b4991eda8c9',\n",
       "   'data': 'remember me : gym time is morning from today  ',\n",
       "   'key': 'key',\n",
       "   'description': None,\n",
       "   'metadata': None,\n",
       "   'page': None,\n",
       "   'vpageid': 'vpage-05-07-2024',\n",
       "   'cpageid': 'cpage-841bd6dd-0669-4ddc-9767-aabae01dabc6',\n",
       "   'record': 'note',\n",
       "   'time': '02:37:05',\n",
       "   'date': '05-07-2024',\n",
       "   'data_type': 'str'}},\n",
       " {'uid': 'd9f00231-4770-4648-ad5b-a43deba48b2c',\n",
       "  'unit': {'uid': 'd9f00231-4770-4648-ad5b-a43deba48b2c',\n",
       "   'data': 'remember me : base vector db arcchitecture is done  ',\n",
       "   'key': 'key',\n",
       "   'description': None,\n",
       "   'metadata': None,\n",
       "   'page': None,\n",
       "   'vpageid': 'vpage-05-07-2024',\n",
       "   'cpageid': 'cpage-841bd6dd-0669-4ddc-9767-aabae01dabc6',\n",
       "   'record': 'note',\n",
       "   'time': '02:37:05',\n",
       "   'date': '05-07-2024',\n",
       "   'data_type': 'str'}},\n",
       " {'uid': 'fbdf2d2f-ceda-4e1e-a5e0-cf2d1967a819',\n",
       "  'unit': {'uid': 'fbdf2d2f-ceda-4e1e-a5e0-cf2d1967a819',\n",
       "   'data': 'remember me : need to do more research on deep learning  ',\n",
       "   'key': 'key',\n",
       "   'description': None,\n",
       "   'metadata': None,\n",
       "   'page': None,\n",
       "   'vpageid': 'vpage-05-07-2024',\n",
       "   'cpageid': 'cpage-841bd6dd-0669-4ddc-9767-aabae01dabc6',\n",
       "   'record': 'note',\n",
       "   'time': '02:37:05',\n",
       "   'date': '05-07-2024',\n",
       "   'data_type': 'str'}},\n",
       " {'uid': 'd8197809-a727-4950-8053-ec492a612d00',\n",
       "  'unit': {'uid': 'd8197809-a727-4950-8053-ec492a612d00',\n",
       "   'data': 'need to do : find efficient data store and retrive method  ',\n",
       "   'key': 'key',\n",
       "   'description': None,\n",
       "   'metadata': None,\n",
       "   'page': None,\n",
       "   'vpageid': 'vpage-05-07-2024',\n",
       "   'cpageid': 'cpage-841bd6dd-0669-4ddc-9767-aabae01dabc6',\n",
       "   'record': 'note',\n",
       "   'time': '02:37:05',\n",
       "   'date': '05-07-2024',\n",
       "   'data_type': 'str'}},\n",
       " {'uid': '6b0dd854-ddb7-4c3c-8061-1934d2abad85',\n",
       "  'unit': {'uid': '6b0dd854-ddb7-4c3c-8061-1934d2abad85',\n",
       "   'data': 'need to do : i need to finesh deamon search asap  ',\n",
       "   'key': 'key',\n",
       "   'description': None,\n",
       "   'metadata': None,\n",
       "   'page': None,\n",
       "   'vpageid': 'vpage-05-07-2024',\n",
       "   'cpageid': 'cpage-841bd6dd-0669-4ddc-9767-aabae01dabc6',\n",
       "   'record': 'note',\n",
       "   'time': '02:37:05',\n",
       "   'date': '05-07-2024',\n",
       "   'data_type': 'str'}},\n",
       " {'uid': 'dfddb304-5a9c-4079-8045-b55ce0d623e6',\n",
       "  'unit': {'uid': 'dfddb304-5a9c-4079-8045-b55ce0d623e6',\n",
       "   'data': 'need to do : need to sleep  ',\n",
       "   'key': 'key',\n",
       "   'description': None,\n",
       "   'metadata': None,\n",
       "   'page': None,\n",
       "   'vpageid': 'vpage-05-07-2024',\n",
       "   'cpageid': 'cpage-841bd6dd-0669-4ddc-9767-aabae01dabc6',\n",
       "   'record': 'note',\n",
       "   'time': '02:37:06',\n",
       "   'date': '05-07-2024',\n",
       "   'data_type': 'str'}},\n",
       " {'uid': 'e196d20f-fca0-4e03-8cf9-89d708b31298',\n",
       "  'unit': {'uid': 'e196d20f-fca0-4e03-8cf9-89d708b31298',\n",
       "   'data': 'need to do : look out for bugs in code base and fix it   ',\n",
       "   'key': 'key',\n",
       "   'description': None,\n",
       "   'metadata': None,\n",
       "   'page': None,\n",
       "   'vpageid': 'vpage-05-07-2024',\n",
       "   'cpageid': 'cpage-841bd6dd-0669-4ddc-9767-aabae01dabc6',\n",
       "   'record': 'note',\n",
       "   'time': '02:37:06',\n",
       "   'date': '05-07-2024',\n",
       "   'data_type': 'str'}},\n",
       " {'uid': 'c17e8df8-def0-4aa8-904a-d93c7ab69230',\n",
       "  'unit': {'uid': 'c17e8df8-def0-4aa8-904a-d93c7ab69230',\n",
       "   'data': \"Hi I'm OX-AI your AI personal database \",\n",
       "   'key': 'key',\n",
       "   'description': None,\n",
       "   'metadata': {'res': 'assistant'},\n",
       "   'page': None,\n",
       "   'vpageid': 'vpage-05-07-2024',\n",
       "   'cpageid': 'cpage-841bd6dd-0669-4ddc-9767-aabae01dabc6',\n",
       "   'record': 'note',\n",
       "   'time': '02:37:06',\n",
       "   'date': '05-07-2024',\n",
       "   'data_type': 'str'}},\n",
       " {'uid': '38fa9164-5a8e-4352-af43-b27e9de5cae8',\n",
       "  'unit': {'uid': '38fa9164-5a8e-4352-af43-b27e9de5cae8',\n",
       "   'data': 'I can store your documents with vector embaddings and retrive it based on vector search',\n",
       "   'key': 'key',\n",
       "   'description': None,\n",
       "   'metadata': {'res': 'assistant'},\n",
       "   'page': None,\n",
       "   'vpageid': 'vpage-05-07-2024',\n",
       "   'cpageid': 'cpage-841bd6dd-0669-4ddc-9767-aabae01dabc6',\n",
       "   'record': 'note',\n",
       "   'time': '02:37:06',\n",
       "   'date': '05-07-2024',\n",
       "   'data_type': 'str'}},\n",
       " {'uid': '6826e156-2518-496c-ad26-e84530950d1f',\n",
       "  'unit': {'uid': '6826e156-2518-496c-ad26-e84530950d1f',\n",
       "   'data': \"I'm currently under development\",\n",
       "   'key': 'key',\n",
       "   'description': None,\n",
       "   'metadata': {'res': 'assistant'},\n",
       "   'page': None,\n",
       "   'vpageid': 'vpage-05-07-2024',\n",
       "   'cpageid': 'cpage-841bd6dd-0669-4ddc-9767-aabae01dabc6',\n",
       "   'record': 'note',\n",
       "   'time': '02:37:06',\n",
       "   'date': '05-07-2024',\n",
       "   'data_type': 'str'}},\n",
       " {'uid': '3e53ac97-8648-4071-81c6-2a9facacdcd1',\n",
       "  'unit': {'uid': '3e53ac97-8648-4071-81c6-2a9facacdcd1',\n",
       "   'data': 'looking forward to do more to increase your productivity!',\n",
       "   'key': 'key',\n",
       "   'description': None,\n",
       "   'metadata': {'res': 'assistant'},\n",
       "   'page': None,\n",
       "   'vpageid': 'vpage-05-07-2024',\n",
       "   'cpageid': 'cpage-841bd6dd-0669-4ddc-9767-aabae01dabc6',\n",
       "   'record': 'note',\n",
       "   'time': '02:37:06',\n",
       "   'date': '05-07-2024',\n",
       "   'data_type': 'str'}},\n",
       " {'uid': 'cf7b393e-89f5-4730-92c1-3300017ad113',\n",
       "  'unit': {'uid': 'cf7b393e-89f5-4730-92c1-3300017ad113',\n",
       "   'data': \"Hi I'm your AI personal database and I can store your documents with vector embeddings and retrieve them based on vector search. I'm currently under development, looking forward to doing more to increase your productivity!\",\n",
       "   'key': 'key',\n",
       "   'description': None,\n",
       "   'metadata': {'res': 'assistant'},\n",
       "   'page': None,\n",
       "   'vpageid': 'vpage-05-07-2024',\n",
       "   'cpageid': 'cpage-841bd6dd-0669-4ddc-9767-aabae01dabc6',\n",
       "   'record': 'note',\n",
       "   'time': '02:37:06',\n",
       "   'date': '05-07-2024',\n",
       "   'data_type': 'str'}},\n",
       " {'uid': 'b08cc0a2-4f1e-4d64-8a23-1726e5f80d95',\n",
       "  'unit': {'uid': 'b08cc0a2-4f1e-4d64-8a23-1726e5f80d95',\n",
       "   'data': 'hi',\n",
       "   'key': 'time',\n",
       "   'description': None,\n",
       "   'metadata': None,\n",
       "   'page': None,\n",
       "   'vpageid': 'vpage-05-07-2024',\n",
       "   'cpageid': 'cpage-841bd6dd-0669-4ddc-9767-aabae01dabc6',\n",
       "   'record': 'note',\n",
       "   'time': '02:37:07',\n",
       "   'date': '05-07-2024',\n",
       "   'data_type': 'str'}},\n",
       " {'uid': '833f0642-b3fb-4e70-9235-38764daa0ee0',\n",
       "  'unit': {'uid': '833f0642-b3fb-4e70-9235-38764daa0ee0',\n",
       "   'data': 'need to : implement rag system that pulls data from the internet and chunk it and store as knowledge for easy retrivel',\n",
       "   'key': 'key',\n",
       "   'description': None,\n",
       "   'metadata': None,\n",
       "   'page': None,\n",
       "   'vpageid': 'vpage-05-07-2024',\n",
       "   'cpageid': 'cpage-841bd6dd-0669-4ddc-9767-aabae01dabc6',\n",
       "   'record': 'note',\n",
       "   'time': '02:37:07',\n",
       "   'date': '05-07-2024',\n",
       "   'data_type': 'str'}}]"
      ]
     },
     "execution_count": 25,
     "metadata": {},
     "output_type": "execute_result"
    }
   ],
   "source": [
    "doc.pull(date=\"02_07\")"
   ]
  },
  {
   "cell_type": "code",
   "execution_count": 26,
   "metadata": {},
   "outputs": [],
   "source": [
    "uids = doc.search_uid(key=\"time\")"
   ]
  },
  {
   "cell_type": "code",
   "execution_count": 27,
   "metadata": {},
   "outputs": [
    {
     "name": "stdout",
     "output_type": "stream",
     "text": [
      "CPU times: user 2.77 ms, sys: 0 ns, total: 2.77 ms\n",
      "Wall time: 34.5 ms\n"
     ]
    },
    {
     "data": {
      "text/plain": [
       "[{'uid': 'all_page', 'unit': ['cpage-841bd6dd-0669-4ddc-9767-aabae01dabc6']},\n",
       " {'uid': 'cpage-841bd6dd-0669-4ddc-9767-aabae01dabc6',\n",
       "  'unit': {'uid': 'cpage-841bd6dd-0669-4ddc-9767-aabae01dabc6',\n",
       "   'lines': ['cb131af3-e4d3-407d-a532-5d12f3510eaa',\n",
       "    '7b57d911-63c9-4b57-8caf-6b4991eda8c9',\n",
       "    'd9f00231-4770-4648-ad5b-a43deba48b2c',\n",
       "    'fbdf2d2f-ceda-4e1e-a5e0-cf2d1967a819',\n",
       "    'd8197809-a727-4950-8053-ec492a612d00',\n",
       "    '6b0dd854-ddb7-4c3c-8061-1934d2abad85',\n",
       "    'dfddb304-5a9c-4079-8045-b55ce0d623e6',\n",
       "    'e196d20f-fca0-4e03-8cf9-89d708b31298',\n",
       "    'c17e8df8-def0-4aa8-904a-d93c7ab69230',\n",
       "    '38fa9164-5a8e-4352-af43-b27e9de5cae8',\n",
       "    '6826e156-2518-496c-ad26-e84530950d1f',\n",
       "    '3e53ac97-8648-4071-81c6-2a9facacdcd1',\n",
       "    'cf7b393e-89f5-4730-92c1-3300017ad113',\n",
       "    'b08cc0a2-4f1e-4d64-8a23-1726e5f80d95',\n",
       "    '833f0642-b3fb-4e70-9235-38764daa0ee0'],\n",
       "   'full': False,\n",
       "   'page_len': 239}}]"
      ]
     },
     "execution_count": 27,
     "metadata": {},
     "output_type": "execute_result"
    }
   ],
   "source": [
    "%%time\n",
    "doc.pull(recordfile=\"cpage.oxd\")"
   ]
  },
  {
   "cell_type": "code",
   "execution_count": 28,
   "metadata": {},
   "outputs": [
    {
     "data": {
      "text/plain": [
       "[{'uid': 'record_reg',\n",
       "  'unit': {'record_name': 'note',\n",
       "   'record_path': '/home/lokesh/ox-db/test.oxdb/note',\n",
       "   'vec_model': 'sentence-transformers/all-MiniLM-L6-v2',\n",
       "   'entry': 15,\n",
       "   'current_vpageid': 'vpage-05-07-2024',\n",
       "   'current_cpageid': 'cpage-102ad355-5f85-455b-a6ea-6b790a3aa313',\n",
       "   'vpage_count': 1,\n",
       "   'cpage_count': 0}},\n",
       " {'uid': 'time', 'unit': ['b08cc0a2-4f1e-4d64-8a23-1726e5f80d95']},\n",
       " {'uid': '05-07-2024',\n",
       "  'unit': ['cb131af3-e4d3-407d-a532-5d12f3510eaa',\n",
       "   '7b57d911-63c9-4b57-8caf-6b4991eda8c9',\n",
       "   'd9f00231-4770-4648-ad5b-a43deba48b2c',\n",
       "   'fbdf2d2f-ceda-4e1e-a5e0-cf2d1967a819',\n",
       "   'd8197809-a727-4950-8053-ec492a612d00',\n",
       "   '6b0dd854-ddb7-4c3c-8061-1934d2abad85',\n",
       "   'dfddb304-5a9c-4079-8045-b55ce0d623e6',\n",
       "   'e196d20f-fca0-4e03-8cf9-89d708b31298',\n",
       "   'c17e8df8-def0-4aa8-904a-d93c7ab69230',\n",
       "   '38fa9164-5a8e-4352-af43-b27e9de5cae8',\n",
       "   '6826e156-2518-496c-ad26-e84530950d1f',\n",
       "   '3e53ac97-8648-4071-81c6-2a9facacdcd1',\n",
       "   'cf7b393e-89f5-4730-92c1-3300017ad113',\n",
       "   'b08cc0a2-4f1e-4d64-8a23-1726e5f80d95',\n",
       "   '833f0642-b3fb-4e70-9235-38764daa0ee0']},\n",
       " {'uid': '05-07-2024_02',\n",
       "  'unit': ['cb131af3-e4d3-407d-a532-5d12f3510eaa',\n",
       "   '7b57d911-63c9-4b57-8caf-6b4991eda8c9',\n",
       "   'd9f00231-4770-4648-ad5b-a43deba48b2c',\n",
       "   'fbdf2d2f-ceda-4e1e-a5e0-cf2d1967a819',\n",
       "   'd8197809-a727-4950-8053-ec492a612d00',\n",
       "   '6b0dd854-ddb7-4c3c-8061-1934d2abad85',\n",
       "   'dfddb304-5a9c-4079-8045-b55ce0d623e6',\n",
       "   'e196d20f-fca0-4e03-8cf9-89d708b31298',\n",
       "   'c17e8df8-def0-4aa8-904a-d93c7ab69230',\n",
       "   '38fa9164-5a8e-4352-af43-b27e9de5cae8',\n",
       "   '6826e156-2518-496c-ad26-e84530950d1f',\n",
       "   '3e53ac97-8648-4071-81c6-2a9facacdcd1',\n",
       "   'cf7b393e-89f5-4730-92c1-3300017ad113',\n",
       "   'b08cc0a2-4f1e-4d64-8a23-1726e5f80d95',\n",
       "   '833f0642-b3fb-4e70-9235-38764daa0ee0']},\n",
       " {'uid': 'key',\n",
       "  'unit': ['cb131af3-e4d3-407d-a532-5d12f3510eaa',\n",
       "   '7b57d911-63c9-4b57-8caf-6b4991eda8c9',\n",
       "   'd9f00231-4770-4648-ad5b-a43deba48b2c',\n",
       "   'fbdf2d2f-ceda-4e1e-a5e0-cf2d1967a819',\n",
       "   'd8197809-a727-4950-8053-ec492a612d00',\n",
       "   '6b0dd854-ddb7-4c3c-8061-1934d2abad85',\n",
       "   'dfddb304-5a9c-4079-8045-b55ce0d623e6',\n",
       "   'e196d20f-fca0-4e03-8cf9-89d708b31298',\n",
       "   'c17e8df8-def0-4aa8-904a-d93c7ab69230',\n",
       "   '38fa9164-5a8e-4352-af43-b27e9de5cae8',\n",
       "   '6826e156-2518-496c-ad26-e84530950d1f',\n",
       "   '3e53ac97-8648-4071-81c6-2a9facacdcd1',\n",
       "   'cf7b393e-89f5-4730-92c1-3300017ad113',\n",
       "   '833f0642-b3fb-4e70-9235-38764daa0ee0']},\n",
       " {'uid': 'note',\n",
       "  'unit': ['cb131af3-e4d3-407d-a532-5d12f3510eaa',\n",
       "   '7b57d911-63c9-4b57-8caf-6b4991eda8c9',\n",
       "   'd9f00231-4770-4648-ad5b-a43deba48b2c',\n",
       "   'fbdf2d2f-ceda-4e1e-a5e0-cf2d1967a819',\n",
       "   'd8197809-a727-4950-8053-ec492a612d00',\n",
       "   '6b0dd854-ddb7-4c3c-8061-1934d2abad85',\n",
       "   'dfddb304-5a9c-4079-8045-b55ce0d623e6',\n",
       "   'e196d20f-fca0-4e03-8cf9-89d708b31298',\n",
       "   'c17e8df8-def0-4aa8-904a-d93c7ab69230',\n",
       "   '38fa9164-5a8e-4352-af43-b27e9de5cae8',\n",
       "   '6826e156-2518-496c-ad26-e84530950d1f',\n",
       "   '3e53ac97-8648-4071-81c6-2a9facacdcd1',\n",
       "   'cf7b393e-89f5-4730-92c1-3300017ad113',\n",
       "   'b08cc0a2-4f1e-4d64-8a23-1726e5f80d95',\n",
       "   '833f0642-b3fb-4e70-9235-38764daa0ee0']}]"
      ]
     },
     "execution_count": 28,
     "metadata": {},
     "output_type": "execute_result"
    }
   ],
   "source": [
    "doc.pull(recordfile=\"index.oxd\")"
   ]
  }
 ],
 "metadata": {
  "kernelspec": {
   "display_name": "Python 3",
   "language": "python",
   "name": "python3"
  },
  "language_info": {
   "codemirror_mode": {
    "name": "ipython",
    "version": 3
   },
   "file_extension": ".py",
   "mimetype": "text/x-python",
   "name": "python",
   "nbconvert_exporter": "python",
   "pygments_lexer": "ipython3",
   "version": "3.11.9"
  }
 },
 "nbformat": 4,
 "nbformat_minor": 2
}
